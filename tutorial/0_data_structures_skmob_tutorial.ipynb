{
 "cells": [
  {
   "cell_type": "markdown",
   "metadata": {
    "slideshow": {
     "slide_type": "slide"
    }
   },
   "source": [
    "# 0 - Introduction to scikit-mobility\n",
    "\n",
    "#### We are presenting the alpha version, any feedback is welcome :)\n",
    "\n",
    "### Contacts\n",
    "\n",
    "- Luca Pappalardo - <lucapappalardo1984@gmail.com>\n",
    "- Gianni Barlacchi - <gianni.barlacchi@gmail.com>\n",
    "- Filippo Simini - <filippo.simini@gmail.com>"
   ]
  },
  {
   "cell_type": "markdown",
   "metadata": {
    "slideshow": {
     "slide_type": "subslide"
    }
   },
   "source": [
    "### What is scikit-mobility?\n",
    "\n",
    "**scikit-mobility** is a Python package that provides easy methods to work with mobility data. The library extends the datatypes used by Pandas to allow working with trajectories and fluxes of mobility. \n",
    "\n",
    "scikit-mobility is well suited for working with:\n",
    "\n",
    "- **trajectories** composed by latitude/longitude points (e.g. GPS data)\n",
    "- **fluxes** of movements between places (e.g. OD matrix)\n"
   ]
  },
  {
   "cell_type": "markdown",
   "metadata": {
    "slideshow": {
     "slide_type": "subslide"
    }
   },
   "source": [
    "We extended Pandas to provide a user-friendly, powerful and stable basic data structures.\n",
    "\n",
    "The two primary data structures of scikit-mobility are:\n",
    "\n",
    "- **TrajDataFrame** - a dataframe designed to deal with mobility trajectories.\n",
    "- **FlowDataFrame** - a dataframe designed to deal with fluxes of movements mapped into a tessellation\n"
   ]
  },
  {
   "cell_type": "markdown",
   "metadata": {
    "slideshow": {
     "slide_type": "subslide"
    }
   },
   "source": [
    "### What to do with scikit-mobility?\n",
    "\n",
    "Here are just a few of the things that scikit-mobility does well:\n",
    "\n",
    "- **Preprocessing** of mobility data such as clustering, compressing, detecting and filtering trajectories. \n",
    "- **Measuring** individual and collective mobility behaviours.\n",
    "- **Modeling** individual trajectories of syntetic agents and collective flows of populations.\n",
    "    "
   ]
  },
  {
   "cell_type": "markdown",
   "metadata": {
    "slideshow": {
     "slide_type": "slide"
    }
   },
   "source": [
    "# TrajDataFrame\n",
    "\n",
    "\n",
    "A `TrajDataFrame` is a Pandas DataFrame where row contains information regarding a point of the trajectory. There is no limit in the number of columns it can contains, but there three of them must always be present:\n",
    "\n",
    "- `lat` - latitude of the point\n",
    "- `lng` - longitude of the point\n",
    "- `datetime` - date and time at which the point was visited"
   ]
  },
  {
   "cell_type": "markdown",
   "metadata": {
    "slideshow": {
     "slide_type": "subslide"
    }
   },
   "source": [
    "Additionaly, for multi-user and multi-trajectory dataset, there are two optional columns:\n",
    "\n",
    "- `uid` - identifier for the user to which the trajectory belongs to\n",
    "- `tid` - identifier for the trajectory"
   ]
  },
  {
   "cell_type": "code",
   "execution_count": 42,
   "metadata": {
    "slideshow": {
     "slide_type": "subslide"
    }
   },
   "outputs": [],
   "source": [
    "# Import the library\n",
    "\n",
    "import skmob\n"
   ]
  },
  {
   "cell_type": "markdown",
   "metadata": {
    "slideshow": {
     "slide_type": "subslide"
    }
   },
   "source": [
    "## Construction of a `TrajDataFrame`\n",
    "\n",
    "The `TrajDataFrame` can be created from:\n",
    "\n",
    "- a python list or a numpy array\n",
    "- a pandas `DataFrame`\n",
    "- a python dictionary"
   ]
  },
  {
   "cell_type": "markdown",
   "metadata": {
    "slideshow": {
     "slide_type": "subslide"
    }
   },
   "source": [
    "### From `list`"
   ]
  },
  {
   "cell_type": "code",
   "execution_count": 43,
   "metadata": {
    "slideshow": {
     "slide_type": "-"
    }
   },
   "outputs": [
    {
     "data": {
      "text/plain": [
       "[[1, 39.984094, 116.319236, '2008-10-23 13:53:05'],\n",
       " [1, 39.984198, 116.319322, '2008-10-23 13:53:06'],\n",
       " [1, 39.984224, 116.319402, '2008-10-23 13:53:11'],\n",
       " [1, 39.984211, 116.319389, '2008-10-23 13:53:16']]"
      ]
     },
     "execution_count": 43,
     "metadata": {},
     "output_type": "execute_result"
    }
   ],
   "source": [
    "# From a list\n",
    "\n",
    "data_list = [[1, 39.984094, 116.319236, '2008-10-23 13:53:05'],\n",
    "             [1, 39.984198, 116.319322, '2008-10-23 13:53:06'],\n",
    "             [1, 39.984224, 116.319402, '2008-10-23 13:53:11'],\n",
    "             [1, 39.984211, 116.319389, '2008-10-23 13:53:16']]\n",
    "data_list"
   ]
  },
  {
   "cell_type": "markdown",
   "metadata": {
    "slideshow": {
     "slide_type": "subslide"
    }
   },
   "source": [
    "The constructor requires to know the indexes of the mandatory columns. We can set them by using the constructor arguments `latitude`, `longitude` and `datetime`."
   ]
  },
  {
   "cell_type": "code",
   "execution_count": 44,
   "metadata": {
    "slideshow": {
     "slide_type": "-"
    }
   },
   "outputs": [
    {
     "data": {
      "text/html": [
       "<div>\n",
       "<style scoped>\n",
       "    .dataframe tbody tr th:only-of-type {\n",
       "        vertical-align: middle;\n",
       "    }\n",
       "\n",
       "    .dataframe tbody tr th {\n",
       "        vertical-align: top;\n",
       "    }\n",
       "\n",
       "    .dataframe thead th {\n",
       "        text-align: right;\n",
       "    }\n",
       "</style>\n",
       "<table border=\"1\" class=\"dataframe\">\n",
       "  <thead>\n",
       "    <tr style=\"text-align: right;\">\n",
       "      <th></th>\n",
       "      <th>0</th>\n",
       "      <th>lat</th>\n",
       "      <th>lng</th>\n",
       "      <th>datetime</th>\n",
       "    </tr>\n",
       "  </thead>\n",
       "  <tbody>\n",
       "    <tr>\n",
       "      <th>0</th>\n",
       "      <td>1</td>\n",
       "      <td>39.984094</td>\n",
       "      <td>116.319236</td>\n",
       "      <td>2008-10-23 13:53:05</td>\n",
       "    </tr>\n",
       "    <tr>\n",
       "      <th>1</th>\n",
       "      <td>1</td>\n",
       "      <td>39.984198</td>\n",
       "      <td>116.319322</td>\n",
       "      <td>2008-10-23 13:53:06</td>\n",
       "    </tr>\n",
       "    <tr>\n",
       "      <th>2</th>\n",
       "      <td>1</td>\n",
       "      <td>39.984224</td>\n",
       "      <td>116.319402</td>\n",
       "      <td>2008-10-23 13:53:11</td>\n",
       "    </tr>\n",
       "    <tr>\n",
       "      <th>3</th>\n",
       "      <td>1</td>\n",
       "      <td>39.984211</td>\n",
       "      <td>116.319389</td>\n",
       "      <td>2008-10-23 13:53:16</td>\n",
       "    </tr>\n",
       "  </tbody>\n",
       "</table>\n",
       "</div>"
      ],
      "text/plain": [
       "   0        lat         lng            datetime\n",
       "0  1  39.984094  116.319236 2008-10-23 13:53:05\n",
       "1  1  39.984198  116.319322 2008-10-23 13:53:06\n",
       "2  1  39.984224  116.319402 2008-10-23 13:53:11\n",
       "3  1  39.984211  116.319389 2008-10-23 13:53:16"
      ]
     },
     "execution_count": 44,
     "metadata": {},
     "output_type": "execute_result"
    }
   ],
   "source": [
    "tdf = skmob.TrajDataFrame(data_list, latitude=1, longitude=2, datetime=3)\n",
    "tdf"
   ]
  },
  {
   "cell_type": "markdown",
   "metadata": {
    "slideshow": {
     "slide_type": "subslide"
    }
   },
   "source": [
    "If present, we can also specify the index of the columns `uid` and `tid` using the contructor arguments `user_id` and `trajectory_id`."
   ]
  },
  {
   "cell_type": "code",
   "execution_count": 45,
   "metadata": {
    "slideshow": {
     "slide_type": "-"
    }
   },
   "outputs": [
    {
     "data": {
      "text/html": [
       "<div>\n",
       "<style scoped>\n",
       "    .dataframe tbody tr th:only-of-type {\n",
       "        vertical-align: middle;\n",
       "    }\n",
       "\n",
       "    .dataframe tbody tr th {\n",
       "        vertical-align: top;\n",
       "    }\n",
       "\n",
       "    .dataframe thead th {\n",
       "        text-align: right;\n",
       "    }\n",
       "</style>\n",
       "<table border=\"1\" class=\"dataframe\">\n",
       "  <thead>\n",
       "    <tr style=\"text-align: right;\">\n",
       "      <th></th>\n",
       "      <th>uid</th>\n",
       "      <th>lat</th>\n",
       "      <th>lng</th>\n",
       "      <th>datetime</th>\n",
       "    </tr>\n",
       "  </thead>\n",
       "  <tbody>\n",
       "    <tr>\n",
       "      <th>0</th>\n",
       "      <td>1</td>\n",
       "      <td>39.984094</td>\n",
       "      <td>116.319236</td>\n",
       "      <td>2008-10-23 13:53:05</td>\n",
       "    </tr>\n",
       "    <tr>\n",
       "      <th>1</th>\n",
       "      <td>1</td>\n",
       "      <td>39.984198</td>\n",
       "      <td>116.319322</td>\n",
       "      <td>2008-10-23 13:53:06</td>\n",
       "    </tr>\n",
       "    <tr>\n",
       "      <th>2</th>\n",
       "      <td>1</td>\n",
       "      <td>39.984224</td>\n",
       "      <td>116.319402</td>\n",
       "      <td>2008-10-23 13:53:11</td>\n",
       "    </tr>\n",
       "    <tr>\n",
       "      <th>3</th>\n",
       "      <td>1</td>\n",
       "      <td>39.984211</td>\n",
       "      <td>116.319389</td>\n",
       "      <td>2008-10-23 13:53:16</td>\n",
       "    </tr>\n",
       "  </tbody>\n",
       "</table>\n",
       "</div>"
      ],
      "text/plain": [
       "   uid        lat         lng            datetime\n",
       "0    1  39.984094  116.319236 2008-10-23 13:53:05\n",
       "1    1  39.984198  116.319322 2008-10-23 13:53:06\n",
       "2    1  39.984224  116.319402 2008-10-23 13:53:11\n",
       "3    1  39.984211  116.319389 2008-10-23 13:53:16"
      ]
     },
     "execution_count": 45,
     "metadata": {},
     "output_type": "execute_result"
    }
   ],
   "source": [
    "tdf = skmob.TrajDataFrame(data_list, latitude=1, longitude=2, datetime=3, \n",
    "                          user_id=0)\n",
    "tdf.head(5)"
   ]
  },
  {
   "cell_type": "markdown",
   "metadata": {
    "slideshow": {
     "slide_type": "subslide"
    }
   },
   "source": [
    "### From `DataFrame`"
   ]
  },
  {
   "cell_type": "code",
   "execution_count": 46,
   "metadata": {
    "slideshow": {
     "slide_type": "-"
    }
   },
   "outputs": [
    {
     "name": "stdout",
     "output_type": "stream",
     "text": [
      "<class 'pandas.core.frame.DataFrame'>\n"
     ]
    },
    {
     "data": {
      "text/html": [
       "<div>\n",
       "<style scoped>\n",
       "    .dataframe tbody tr th:only-of-type {\n",
       "        vertical-align: middle;\n",
       "    }\n",
       "\n",
       "    .dataframe tbody tr th {\n",
       "        vertical-align: top;\n",
       "    }\n",
       "\n",
       "    .dataframe thead th {\n",
       "        text-align: right;\n",
       "    }\n",
       "</style>\n",
       "<table border=\"1\" class=\"dataframe\">\n",
       "  <thead>\n",
       "    <tr style=\"text-align: right;\">\n",
       "      <th></th>\n",
       "      <th>user</th>\n",
       "      <th>latitude</th>\n",
       "      <th>lng</th>\n",
       "      <th>hour</th>\n",
       "    </tr>\n",
       "  </thead>\n",
       "  <tbody>\n",
       "    <tr>\n",
       "      <th>0</th>\n",
       "      <td>1</td>\n",
       "      <td>39.984094</td>\n",
       "      <td>116.319236</td>\n",
       "      <td>2008-10-23 13:53:05</td>\n",
       "    </tr>\n",
       "    <tr>\n",
       "      <th>1</th>\n",
       "      <td>1</td>\n",
       "      <td>39.984198</td>\n",
       "      <td>116.319322</td>\n",
       "      <td>2008-10-23 13:53:06</td>\n",
       "    </tr>\n",
       "    <tr>\n",
       "      <th>2</th>\n",
       "      <td>1</td>\n",
       "      <td>39.984224</td>\n",
       "      <td>116.319402</td>\n",
       "      <td>2008-10-23 13:53:11</td>\n",
       "    </tr>\n",
       "    <tr>\n",
       "      <th>3</th>\n",
       "      <td>1</td>\n",
       "      <td>39.984211</td>\n",
       "      <td>116.319389</td>\n",
       "      <td>2008-10-23 13:53:16</td>\n",
       "    </tr>\n",
       "  </tbody>\n",
       "</table>\n",
       "</div>"
      ],
      "text/plain": [
       "   user   latitude         lng                 hour\n",
       "0     1  39.984094  116.319236  2008-10-23 13:53:05\n",
       "1     1  39.984198  116.319322  2008-10-23 13:53:06\n",
       "2     1  39.984224  116.319402  2008-10-23 13:53:11\n",
       "3     1  39.984211  116.319389  2008-10-23 13:53:16"
      ]
     },
     "execution_count": 46,
     "metadata": {},
     "output_type": "execute_result"
    }
   ],
   "source": [
    "import pandas as pd\n",
    "\n",
    "# Let's build a dataframe from the 2D list\n",
    "data_df = pd.DataFrame(data_list, columns=['user', 'latitude', 'lng', 'hour'])\n",
    "\n",
    "print(type(data_df))\n",
    "data_df"
   ]
  },
  {
   "cell_type": "markdown",
   "metadata": {
    "slideshow": {
     "slide_type": "subslide"
    }
   },
   "source": [
    "The columns name in the dataframe don't match the names required from the TrajDataFrame.\n",
    "We must specify the names of the mandatory columns in the original `DataFrame` using the constructor arguments `latitude`, `longitude` and `datetime`. If present, the columns for the user_id and the trajectory_id must also be specified."
   ]
  },
  {
   "cell_type": "code",
   "execution_count": 47,
   "metadata": {
    "slideshow": {
     "slide_type": "-"
    }
   },
   "outputs": [
    {
     "name": "stdout",
     "output_type": "stream",
     "text": [
      "<class 'skmob.core.trajectorydataframe.TrajDataFrame'>\n"
     ]
    },
    {
     "data": {
      "text/html": [
       "<div>\n",
       "<style scoped>\n",
       "    .dataframe tbody tr th:only-of-type {\n",
       "        vertical-align: middle;\n",
       "    }\n",
       "\n",
       "    .dataframe tbody tr th {\n",
       "        vertical-align: top;\n",
       "    }\n",
       "\n",
       "    .dataframe thead th {\n",
       "        text-align: right;\n",
       "    }\n",
       "</style>\n",
       "<table border=\"1\" class=\"dataframe\">\n",
       "  <thead>\n",
       "    <tr style=\"text-align: right;\">\n",
       "      <th></th>\n",
       "      <th>uid</th>\n",
       "      <th>lat</th>\n",
       "      <th>lng</th>\n",
       "      <th>datetime</th>\n",
       "    </tr>\n",
       "  </thead>\n",
       "  <tbody>\n",
       "    <tr>\n",
       "      <th>0</th>\n",
       "      <td>1</td>\n",
       "      <td>39.984094</td>\n",
       "      <td>116.319236</td>\n",
       "      <td>2008-10-23 13:53:05</td>\n",
       "    </tr>\n",
       "    <tr>\n",
       "      <th>1</th>\n",
       "      <td>1</td>\n",
       "      <td>39.984198</td>\n",
       "      <td>116.319322</td>\n",
       "      <td>2008-10-23 13:53:06</td>\n",
       "    </tr>\n",
       "    <tr>\n",
       "      <th>2</th>\n",
       "      <td>1</td>\n",
       "      <td>39.984224</td>\n",
       "      <td>116.319402</td>\n",
       "      <td>2008-10-23 13:53:11</td>\n",
       "    </tr>\n",
       "    <tr>\n",
       "      <th>3</th>\n",
       "      <td>1</td>\n",
       "      <td>39.984211</td>\n",
       "      <td>116.319389</td>\n",
       "      <td>2008-10-23 13:53:16</td>\n",
       "    </tr>\n",
       "  </tbody>\n",
       "</table>\n",
       "</div>"
      ],
      "text/plain": [
       "   uid        lat         lng            datetime\n",
       "0    1  39.984094  116.319236 2008-10-23 13:53:05\n",
       "1    1  39.984198  116.319322 2008-10-23 13:53:06\n",
       "2    1  39.984224  116.319402 2008-10-23 13:53:11\n",
       "3    1  39.984211  116.319389 2008-10-23 13:53:16"
      ]
     },
     "execution_count": 47,
     "metadata": {},
     "output_type": "execute_result"
    }
   ],
   "source": [
    "tdf = skmob.TrajDataFrame(data_df, latitude='latitude', datetime='hour', \n",
    "                          user_id='user')\n",
    "\n",
    "print(type(tdf))\n",
    "tdf"
   ]
  },
  {
   "cell_type": "markdown",
   "metadata": {
    "slideshow": {
     "slide_type": "subslide"
    }
   },
   "source": [
    "### From `dictionary`"
   ]
  },
  {
   "cell_type": "code",
   "execution_count": 7,
   "metadata": {
    "slideshow": {
     "slide_type": "-"
    }
   },
   "outputs": [
    {
     "data": {
      "text/plain": [
       "{'user': [1, 1, 1, 1],\n",
       " 'latitude': [39.984094, 39.984198, 39.984224, 39.984211],\n",
       " 'lng': [116.319236, 116.319322, 116.319402, 116.319389],\n",
       " 'hour': ['2008-10-23 13:53:05',\n",
       "  '2008-10-23 13:53:06',\n",
       "  '2008-10-23 13:53:11',\n",
       "  '2008-10-23 13:53:16']}"
      ]
     },
     "execution_count": 7,
     "metadata": {},
     "output_type": "execute_result"
    }
   ],
   "source": [
    "# Let's build a dataframe from the 2D list\n",
    "\n",
    "data_dict = data_df.to_dict(orient='list')\n",
    "data_dict"
   ]
  },
  {
   "cell_type": "code",
   "execution_count": 8,
   "metadata": {
    "slideshow": {
     "slide_type": "fragment"
    }
   },
   "outputs": [
    {
     "data": {
      "text/html": [
       "<div>\n",
       "<style scoped>\n",
       "    .dataframe tbody tr th:only-of-type {\n",
       "        vertical-align: middle;\n",
       "    }\n",
       "\n",
       "    .dataframe tbody tr th {\n",
       "        vertical-align: top;\n",
       "    }\n",
       "\n",
       "    .dataframe thead th {\n",
       "        text-align: right;\n",
       "    }\n",
       "</style>\n",
       "<table border=\"1\" class=\"dataframe\">\n",
       "  <thead>\n",
       "    <tr style=\"text-align: right;\">\n",
       "      <th></th>\n",
       "      <th>uid</th>\n",
       "      <th>lat</th>\n",
       "      <th>lng</th>\n",
       "      <th>datetime</th>\n",
       "    </tr>\n",
       "  </thead>\n",
       "  <tbody>\n",
       "    <tr>\n",
       "      <th>0</th>\n",
       "      <td>1</td>\n",
       "      <td>39.984094</td>\n",
       "      <td>116.319236</td>\n",
       "      <td>2008-10-23 13:53:05</td>\n",
       "    </tr>\n",
       "    <tr>\n",
       "      <th>1</th>\n",
       "      <td>1</td>\n",
       "      <td>39.984198</td>\n",
       "      <td>116.319322</td>\n",
       "      <td>2008-10-23 13:53:06</td>\n",
       "    </tr>\n",
       "    <tr>\n",
       "      <th>2</th>\n",
       "      <td>1</td>\n",
       "      <td>39.984224</td>\n",
       "      <td>116.319402</td>\n",
       "      <td>2008-10-23 13:53:11</td>\n",
       "    </tr>\n",
       "    <tr>\n",
       "      <th>3</th>\n",
       "      <td>1</td>\n",
       "      <td>39.984211</td>\n",
       "      <td>116.319389</td>\n",
       "      <td>2008-10-23 13:53:16</td>\n",
       "    </tr>\n",
       "  </tbody>\n",
       "</table>\n",
       "</div>"
      ],
      "text/plain": [
       "   uid        lat         lng            datetime\n",
       "0    1  39.984094  116.319236 2008-10-23 13:53:05\n",
       "1    1  39.984198  116.319322 2008-10-23 13:53:06\n",
       "2    1  39.984224  116.319402 2008-10-23 13:53:11\n",
       "3    1  39.984211  116.319389 2008-10-23 13:53:16"
      ]
     },
     "execution_count": 8,
     "metadata": {},
     "output_type": "execute_result"
    }
   ],
   "source": [
    "tdf = skmob.TrajDataFrame(data_dict, latitude='latitude', datetime='hour', \n",
    "                          user_id='user')\n",
    "tdf"
   ]
  },
  {
   "cell_type": "markdown",
   "metadata": {
    "slideshow": {
     "slide_type": "subslide"
    }
   },
   "source": [
    "### From `file`\n",
    "\n",
    "Most of the times, mobility data are stored in csv files. TrajDataFrame has its own method `from_file` to construct the object from an input file.\n",
    "\n",
    "Let's try with a subsample of the GeoLife trajectories. The whole dataset can be found [here](https://www.microsoft.com/en-us/download/details.aspx?id=52367)"
   ]
  },
  {
   "cell_type": "code",
   "execution_count": 9,
   "metadata": {
    "slideshow": {
     "slide_type": "subslide"
    }
   },
   "outputs": [
    {
     "name": "stdout",
     "output_type": "stream",
     "text": [
      "lat,lng,datetime,uid\r\n",
      "39.984094,116.319236,2008-10-23 05:53:05,001\r\n",
      "39.984198,116.319322,2008-10-23 05:53:06,001\r\n",
      "39.984224,116.319402,2008-10-23 05:53:11,001\r\n",
      "39.984211,116.319389,2008-10-23 05:53:16,001\r\n",
      "39.984217,116.319422,2008-10-23 05:53:21,001\r\n",
      "39.98471,116.319865,2008-10-23 05:53:23,001\r\n",
      "39.984674,116.31981,2008-10-23 05:53:28,001\r\n",
      "39.984623,116.319773,2008-10-23 05:53:33,001\r\n",
      "39.984606,116.319732,2008-10-23 05:53:38,001\r\n",
      "gzcat: error writing to output: Broken pipe\r\n",
      "gzcat: ./data/geolife_sample.txt.gz: uncompress failed\r\n"
     ]
    }
   ],
   "source": [
    "!gzcat ./data/geolife_sample.txt.gz | head"
   ]
  },
  {
   "cell_type": "code",
   "execution_count": 48,
   "metadata": {
    "slideshow": {
     "slide_type": "subslide"
    }
   },
   "outputs": [],
   "source": [
    "# read a dataset containing trajectories (GeoLife subsample, the data)\n",
    "\n",
    "tdf = skmob.TrajDataFrame.from_file('./data/geolife_sample.txt.gz', sep=',')"
   ]
  },
  {
   "cell_type": "code",
   "execution_count": 49,
   "metadata": {
    "slideshow": {
     "slide_type": "-"
    }
   },
   "outputs": [
    {
     "data": {
      "text/html": [
       "<div>\n",
       "<style scoped>\n",
       "    .dataframe tbody tr th:only-of-type {\n",
       "        vertical-align: middle;\n",
       "    }\n",
       "\n",
       "    .dataframe tbody tr th {\n",
       "        vertical-align: top;\n",
       "    }\n",
       "\n",
       "    .dataframe thead th {\n",
       "        text-align: right;\n",
       "    }\n",
       "</style>\n",
       "<table border=\"1\" class=\"dataframe\">\n",
       "  <thead>\n",
       "    <tr style=\"text-align: right;\">\n",
       "      <th></th>\n",
       "      <th>lat</th>\n",
       "      <th>lng</th>\n",
       "      <th>datetime</th>\n",
       "      <th>uid</th>\n",
       "    </tr>\n",
       "  </thead>\n",
       "  <tbody>\n",
       "    <tr>\n",
       "      <th>0</th>\n",
       "      <td>39.984094</td>\n",
       "      <td>116.319236</td>\n",
       "      <td>2008-10-23 05:53:05</td>\n",
       "      <td>1</td>\n",
       "    </tr>\n",
       "    <tr>\n",
       "      <th>1</th>\n",
       "      <td>39.984198</td>\n",
       "      <td>116.319322</td>\n",
       "      <td>2008-10-23 05:53:06</td>\n",
       "      <td>1</td>\n",
       "    </tr>\n",
       "    <tr>\n",
       "      <th>2</th>\n",
       "      <td>39.984224</td>\n",
       "      <td>116.319402</td>\n",
       "      <td>2008-10-23 05:53:11</td>\n",
       "      <td>1</td>\n",
       "    </tr>\n",
       "    <tr>\n",
       "      <th>3</th>\n",
       "      <td>39.984211</td>\n",
       "      <td>116.319389</td>\n",
       "      <td>2008-10-23 05:53:16</td>\n",
       "      <td>1</td>\n",
       "    </tr>\n",
       "    <tr>\n",
       "      <th>4</th>\n",
       "      <td>39.984217</td>\n",
       "      <td>116.319422</td>\n",
       "      <td>2008-10-23 05:53:21</td>\n",
       "      <td>1</td>\n",
       "    </tr>\n",
       "  </tbody>\n",
       "</table>\n",
       "</div>"
      ],
      "text/plain": [
       "         lat         lng            datetime  uid\n",
       "0  39.984094  116.319236 2008-10-23 05:53:05    1\n",
       "1  39.984198  116.319322 2008-10-23 05:53:06    1\n",
       "2  39.984224  116.319402 2008-10-23 05:53:11    1\n",
       "3  39.984211  116.319389 2008-10-23 05:53:16    1\n",
       "4  39.984217  116.319422 2008-10-23 05:53:21    1"
      ]
     },
     "execution_count": 49,
     "metadata": {},
     "output_type": "execute_result"
    }
   ],
   "source": [
    "# Let's explore the dataframe as we would do with Pandas\n",
    "\n",
    "tdf.head()"
   ]
  },
  {
   "cell_type": "markdown",
   "metadata": {
    "slideshow": {
     "slide_type": "subslide"
    }
   },
   "source": [
    "## Properties\n",
    "\n",
    "TrajDataFrame supports the possibility to add properties.\n",
    "\n",
    "- `crs`: it's the coordinate reference system associated to the trajectories. By default epsg:4326 (lat/long)\n",
    "- `parameters`: dictionary to add as many as necessary additional properties."
   ]
  },
  {
   "cell_type": "code",
   "execution_count": 12,
   "metadata": {
    "slideshow": {
     "slide_type": "subslide"
    }
   },
   "outputs": [
    {
     "data": {
      "text/plain": [
       "{'init': 'epsg:4326'}"
      ]
     },
     "execution_count": 12,
     "metadata": {},
     "output_type": "execute_result"
    }
   ],
   "source": [
    "tdf.crs"
   ]
  },
  {
   "cell_type": "code",
   "execution_count": 13,
   "metadata": {
    "scrolled": true,
    "slideshow": {
     "slide_type": "-"
    }
   },
   "outputs": [
    {
     "data": {
      "text/plain": [
       "{'from_file': './data/geolife_sample.txt.gz'}"
      ]
     },
     "execution_count": 13,
     "metadata": {},
     "output_type": "execute_result"
    }
   ],
   "source": [
    "tdf.parameters"
   ]
  },
  {
   "cell_type": "code",
   "execution_count": 14,
   "metadata": {
    "slideshow": {
     "slide_type": "-"
    }
   },
   "outputs": [
    {
     "data": {
      "text/plain": [
       "{'from_file': './data/geolife_sample.txt.gz', 'something': 5}"
      ]
     },
     "execution_count": 14,
     "metadata": {},
     "output_type": "execute_result"
    }
   ],
   "source": [
    "tdf.parameters['something'] = 5\n",
    "tdf.parameters"
   ]
  },
  {
   "cell_type": "markdown",
   "metadata": {
    "slideshow": {
     "slide_type": "subslide"
    }
   },
   "source": [
    "## Column types\n",
    "\n",
    "The mandatory (and optional) columns must have specific types."
   ]
  },
  {
   "cell_type": "code",
   "execution_count": 15,
   "metadata": {
    "slideshow": {
     "slide_type": "-"
    }
   },
   "outputs": [
    {
     "data": {
      "text/plain": [
       "pandas.core.frame.DataFrame"
      ]
     },
     "execution_count": 15,
     "metadata": {},
     "output_type": "execute_result"
    }
   ],
   "source": [
    "# In the DataFrame\n",
    "type(data_df)"
   ]
  },
  {
   "cell_type": "code",
   "execution_count": 16,
   "metadata": {
    "slideshow": {
     "slide_type": "-"
    }
   },
   "outputs": [
    {
     "data": {
      "text/plain": [
       "user          int64\n",
       "latitude    float64\n",
       "lng         float64\n",
       "hour         object\n",
       "dtype: object"
      ]
     },
     "execution_count": 16,
     "metadata": {},
     "output_type": "execute_result"
    }
   ],
   "source": [
    "data_df.dtypes"
   ]
  },
  {
   "cell_type": "code",
   "execution_count": 17,
   "metadata": {
    "slideshow": {
     "slide_type": "subslide"
    }
   },
   "outputs": [
    {
     "data": {
      "text/plain": [
       "skmob.core.trajectorydataframe.TrajDataFrame"
      ]
     },
     "execution_count": 17,
     "metadata": {},
     "output_type": "execute_result"
    }
   ],
   "source": [
    "# In the TrajDataFrame\n",
    "type(tdf)"
   ]
  },
  {
   "cell_type": "code",
   "execution_count": 18,
   "metadata": {
    "slideshow": {
     "slide_type": "-"
    }
   },
   "outputs": [
    {
     "data": {
      "text/plain": [
       "lat                float64\n",
       "lng                float64\n",
       "datetime    datetime64[ns]\n",
       "uid                  int64\n",
       "dtype: object"
      ]
     },
     "execution_count": 18,
     "metadata": {},
     "output_type": "execute_result"
    }
   ],
   "source": [
    "tdf.dtypes"
   ]
  },
  {
   "cell_type": "code",
   "execution_count": 20,
   "metadata": {
    "slideshow": {
     "slide_type": "-"
    }
   },
   "outputs": [
    {
     "data": {
      "text/plain": [
       "0    39.984094\n",
       "1    39.984198\n",
       "2    39.984224\n",
       "3    39.984211\n",
       "4    39.984217\n",
       "Name: lat, dtype: float64"
      ]
     },
     "execution_count": 20,
     "metadata": {},
     "output_type": "execute_result"
    }
   ],
   "source": [
    "# We can access the columns as we would do with pandas\n",
    "\n",
    "tdf.lat.head()"
   ]
  },
  {
   "cell_type": "markdown",
   "metadata": {
    "slideshow": {
     "slide_type": "subslide"
    }
   },
   "source": [
    "## Write and read a `TrajDataFrame`\n",
    "\n",
    "To include all the metadata attached to TrajDataFrame and write/read them into a file, scikit-mobility provides ad-hoc methods."
   ]
  },
  {
   "cell_type": "markdown",
   "metadata": {
    "slideshow": {
     "slide_type": "subslide"
    }
   },
   "source": [
    "### Write a `TrajDataFrame` to file\n",
    "\n",
    "- including the `tdf.parameters` and `tdf.crs`\n",
    "- automatically preserve the dtype of columns with time stamps (time zone info is lost though).\n",
    "\n",
    "**Caveat**: dtypes other than `int`, `float` and `datetime` may not be identical to the original dtype after loading from a json file. \n",
    "\n",
    "Check with `tdf.dtypes` and manually convert each column to the proper dtype, if needed. "
   ]
  },
  {
   "cell_type": "code",
   "execution_count": 21,
   "metadata": {
    "slideshow": {
     "slide_type": "subslide"
    }
   },
   "outputs": [],
   "source": [
    "skmob.write(tdf, './tdf.json')"
   ]
  },
  {
   "cell_type": "code",
   "execution_count": 22,
   "metadata": {
    "slideshow": {
     "slide_type": "-"
    }
   },
   "outputs": [
    {
     "data": {
      "text/plain": [
       "lat                float64\n",
       "lng                float64\n",
       "datetime    datetime64[ns]\n",
       "uid                  int64\n",
       "dtype: object"
      ]
     },
     "execution_count": 22,
     "metadata": {},
     "output_type": "execute_result"
    }
   ],
   "source": [
    "tdf.dtypes"
   ]
  },
  {
   "cell_type": "code",
   "execution_count": 23,
   "metadata": {
    "slideshow": {
     "slide_type": "-"
    }
   },
   "outputs": [
    {
     "data": {
      "text/plain": [
       "{'from_file': './data/geolife_sample.txt.gz', 'something': 5}"
      ]
     },
     "execution_count": 23,
     "metadata": {},
     "output_type": "execute_result"
    }
   ],
   "source": [
    "tdf.parameters"
   ]
  },
  {
   "cell_type": "markdown",
   "metadata": {
    "slideshow": {
     "slide_type": "subslide"
    }
   },
   "source": [
    "### Load a `TrajDataFrame` from file\n",
    "\n",
    "- trajectories data\n",
    "- automatically add `tdf.parameters` and `tdf.crs` stored with the write function.\n"
   ]
  },
  {
   "cell_type": "code",
   "execution_count": 24,
   "metadata": {
    "slideshow": {
     "slide_type": "subslide"
    }
   },
   "outputs": [
    {
     "data": {
      "text/html": [
       "<div>\n",
       "<style scoped>\n",
       "    .dataframe tbody tr th:only-of-type {\n",
       "        vertical-align: middle;\n",
       "    }\n",
       "\n",
       "    .dataframe tbody tr th {\n",
       "        vertical-align: top;\n",
       "    }\n",
       "\n",
       "    .dataframe thead th {\n",
       "        text-align: right;\n",
       "    }\n",
       "</style>\n",
       "<table border=\"1\" class=\"dataframe\">\n",
       "  <thead>\n",
       "    <tr style=\"text-align: right;\">\n",
       "      <th></th>\n",
       "      <th>lat</th>\n",
       "      <th>lng</th>\n",
       "      <th>datetime</th>\n",
       "      <th>uid</th>\n",
       "    </tr>\n",
       "  </thead>\n",
       "  <tbody>\n",
       "    <tr>\n",
       "      <th>0</th>\n",
       "      <td>39.984094</td>\n",
       "      <td>116.319236</td>\n",
       "      <td>2008-10-23 05:53:05</td>\n",
       "      <td>1</td>\n",
       "    </tr>\n",
       "    <tr>\n",
       "      <th>1</th>\n",
       "      <td>39.984198</td>\n",
       "      <td>116.319322</td>\n",
       "      <td>2008-10-23 05:53:06</td>\n",
       "      <td>1</td>\n",
       "    </tr>\n",
       "    <tr>\n",
       "      <th>2</th>\n",
       "      <td>39.984224</td>\n",
       "      <td>116.319402</td>\n",
       "      <td>2008-10-23 05:53:11</td>\n",
       "      <td>1</td>\n",
       "    </tr>\n",
       "    <tr>\n",
       "      <th>3</th>\n",
       "      <td>39.984211</td>\n",
       "      <td>116.319389</td>\n",
       "      <td>2008-10-23 05:53:16</td>\n",
       "      <td>1</td>\n",
       "    </tr>\n",
       "  </tbody>\n",
       "</table>\n",
       "</div>"
      ],
      "text/plain": [
       "         lat         lng            datetime  uid\n",
       "0  39.984094  116.319236 2008-10-23 05:53:05    1\n",
       "1  39.984198  116.319322 2008-10-23 05:53:06    1\n",
       "2  39.984224  116.319402 2008-10-23 05:53:11    1\n",
       "3  39.984211  116.319389 2008-10-23 05:53:16    1"
      ]
     },
     "execution_count": 24,
     "metadata": {},
     "output_type": "execute_result"
    }
   ],
   "source": [
    "tdf2 = skmob.read('./tdf.json')\n",
    "tdf2[:4]"
   ]
  },
  {
   "cell_type": "code",
   "execution_count": 25,
   "metadata": {
    "slideshow": {
     "slide_type": "-"
    }
   },
   "outputs": [
    {
     "data": {
      "text/plain": [
       "lat                float64\n",
       "lng                float64\n",
       "datetime    datetime64[ns]\n",
       "uid                  int64\n",
       "dtype: object"
      ]
     },
     "execution_count": 25,
     "metadata": {},
     "output_type": "execute_result"
    }
   ],
   "source": [
    "tdf2.dtypes"
   ]
  },
  {
   "cell_type": "code",
   "execution_count": 26,
   "metadata": {
    "slideshow": {
     "slide_type": "-"
    }
   },
   "outputs": [
    {
     "data": {
      "text/plain": [
       "{'from_file': './data/geolife_sample.txt.gz', 'something': 5}"
      ]
     },
     "execution_count": 26,
     "metadata": {},
     "output_type": "execute_result"
    }
   ],
   "source": [
    "tdf2.parameters"
   ]
  },
  {
   "cell_type": "markdown",
   "metadata": {
    "slideshow": {
     "slide_type": "subslide"
    }
   },
   "source": [
    "## Plotting\n",
    "\n",
    "A very important aspect when working with mobility data is the possibility to visualize trajectories. The `TrajDataFrame` provides methods to plot trajectories relying on folium."
   ]
  },
  {
   "cell_type": "code",
   "execution_count": 53,
   "metadata": {
    "slideshow": {
     "slide_type": "subslide"
    }
   },
   "outputs": [
    {
     "data": {
      "text/html": [
       "<div style=\"width:100%;\"><div style=\"position:relative;width:100%;height:0;padding-bottom:60%;\"><iframe src=\"data:text/html;charset=utf-8;base64,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\" style=\"position:absolute;width:100%;height:100%;left:0;top:0;border:none !important;\" allowfullscreen webkitallowfullscreen mozallowfullscreen></iframe></div></div>"
      ],
      "text/plain": [
       "<folium.folium.Map at 0x1202e8e48>"
      ]
     },
     "execution_count": 53,
     "metadata": {},
     "output_type": "execute_result"
    }
   ],
   "source": [
    "tdf.plot_trajectory(zoom=12, weight=3, opacity=0.9, tiles='Stamen Toner')"
   ]
  },
  {
   "cell_type": "markdown",
   "metadata": {
    "slideshow": {
     "slide_type": "slide"
    }
   },
   "source": [
    "# FlowDataFrame\n",
    "\n",
    "A `FlowDataFrame` is a Pandas DataFrame that contains information regarding fluxes of mobility between places. There is no limit in the number of columns it can contain. \n",
    "\n",
    "A `FlowDataFrame` must have the following **columns**:\n",
    "\n",
    "- `origin`: ID of tile of origin\n",
    "- `destination`: ID of tile of destination\n",
    "- `flow`: number of people travelling between from the origin to the destination\n",
    "\n",
    "<!-- NOTE: `FlowDataFrame` is a dataframe way of having Origin-Destination Matrix. -->"
   ]
  },
  {
   "cell_type": "markdown",
   "metadata": {
    "slideshow": {
     "slide_type": "subslide"
    }
   },
   "source": [
    "### Tessellation\n",
    "\n",
    "A fundamental attribute of the `FlowDataFrame` object is the `tessellation`, which contains the geometries associated to each origin/destination ID in the dataframe.\n",
    "\n",
    "A tessellation is a geopandas `GeoDataFrame` that defines the tiles or locations in the `FlowDataFrame`. \n",
    "\n",
    "The `FlowDataFrame` constructor requires to specify a tessellation containing the geometry of all the tiles, origins and destinations, in the rows of the `FlowDataFrame`. "
   ]
  },
  {
   "cell_type": "markdown",
   "metadata": {
    "slideshow": {
     "slide_type": "subslide"
    }
   },
   "source": [
    "## Construction of a `tessellation`\n",
    "\n",
    "The `tessellation` can be created from:\n",
    "\n",
    "- the name of the area of interest, e.g. `\"Florence, Italy\"`\n",
    "- a GeoPandas `GeoDataFrame` with Points or Polygons\n",
    "\n",
    "There are two types (at the moment!) of tessellations: voronoi and squared.\n",
    "\n",
    "They are built by the so called `TessellationTiler` object. The object has been designed to allow the possibility to easily add further tessellation tilers (check the code for additional information). "
   ]
  },
  {
   "cell_type": "code",
   "execution_count": 54,
   "metadata": {
    "slideshow": {
     "slide_type": "subslide"
    }
   },
   "outputs": [
    {
     "data": {
      "text/html": [
       "<div>\n",
       "<style scoped>\n",
       "    .dataframe tbody tr th:only-of-type {\n",
       "        vertical-align: middle;\n",
       "    }\n",
       "\n",
       "    .dataframe tbody tr th {\n",
       "        vertical-align: top;\n",
       "    }\n",
       "\n",
       "    .dataframe thead th {\n",
       "        text-align: right;\n",
       "    }\n",
       "</style>\n",
       "<table border=\"1\" class=\"dataframe\">\n",
       "  <thead>\n",
       "    <tr style=\"text-align: right;\">\n",
       "      <th></th>\n",
       "      <th>tile_ID</th>\n",
       "      <th>geometry</th>\n",
       "    </tr>\n",
       "  </thead>\n",
       "  <tbody>\n",
       "    <tr>\n",
       "      <th>0</th>\n",
       "      <td>0</td>\n",
       "      <td>POLYGON ((11.1497598 43.77129641241057, 11.149...</td>\n",
       "    </tr>\n",
       "    <tr>\n",
       "      <th>1</th>\n",
       "      <td>1</td>\n",
       "      <td>POLYGON ((11.1497598 43.77778285711415, 11.149...</td>\n",
       "    </tr>\n",
       "    <tr>\n",
       "      <th>2</th>\n",
       "      <td>2</td>\n",
       "      <td>POLYGON ((11.1497598 43.78426859824404, 11.149...</td>\n",
       "    </tr>\n",
       "    <tr>\n",
       "      <th>3</th>\n",
       "      <td>3</td>\n",
       "      <td>POLYGON ((11.1497598 43.79075363579347, 11.149...</td>\n",
       "    </tr>\n",
       "    <tr>\n",
       "      <th>4</th>\n",
       "      <td>4</td>\n",
       "      <td>POLYGON ((11.1497598 43.7972379697557, 11.1497...</td>\n",
       "    </tr>\n",
       "  </tbody>\n",
       "</table>\n",
       "</div>"
      ],
      "text/plain": [
       "   tile_ID                                           geometry\n",
       "0        0  POLYGON ((11.1497598 43.77129641241057, 11.149...\n",
       "1        1  POLYGON ((11.1497598 43.77778285711415, 11.149...\n",
       "2        2  POLYGON ((11.1497598 43.78426859824404, 11.149...\n",
       "3        3  POLYGON ((11.1497598 43.79075363579347, 11.149...\n",
       "4        4  POLYGON ((11.1497598 43.7972379697557, 11.1497..."
      ]
     },
     "execution_count": 54,
     "metadata": {},
     "output_type": "execute_result"
    }
   ],
   "source": [
    "from skmob.tessellation import tilers\n",
    "\n",
    "# Create tessellation from a base shape\n",
    "\n",
    "tessellation = tilers.tiler.get(\"squared\", meters=1000, \n",
    "                                base_shape=\"Florence, Italy\")\n",
    "tessellation.head(5)"
   ]
  },
  {
   "cell_type": "code",
   "execution_count": 55,
   "metadata": {
    "slideshow": {
     "slide_type": "subslide"
    }
   },
   "outputs": [
    {
     "data": {
      "text/plain": [
       "<matplotlib.axes._subplots.AxesSubplot at 0x128390198>"
      ]
     },
     "execution_count": 55,
     "metadata": {},
     "output_type": "execute_result"
    },
    {
     "data": {
      "image/png": "[encoded data removed]",
      "text/plain": [
       "<Figure size 432x288 with 1 Axes>"
      ]
     },
     "metadata": {
      "needs_background": "light"
     },
     "output_type": "display_data"
    }
   ],
   "source": [
    "tessellation.plot()"
   ]
  },
  {
   "cell_type": "code",
   "execution_count": 31,
   "metadata": {
    "slideshow": {
     "slide_type": "subslide"
    }
   },
   "outputs": [],
   "source": [
    "# From a bounding box that contains all the points present in the dataframe\n",
    "\n",
    "tdf = skmob.TrajDataFrame.from_file('./data/geolife_sample.txt.gz', sep=',')\n",
    "\n",
    "gdf = tdf.to_geodataframe() \n",
    "\n",
    "tessellation = tilers.tiler.get(\"squared\", base_shape=gdf, meters=10000)\n",
    "\n",
    "# NOTE: It accepts also geodataframe with list of polygons"
   ]
  },
  {
   "cell_type": "code",
   "execution_count": 33,
   "metadata": {
    "slideshow": {
     "slide_type": "-"
    }
   },
   "outputs": [
    {
     "data": {
      "text/html": [
       "<div>\n",
       "<style scoped>\n",
       "    .dataframe tbody tr th:only-of-type {\n",
       "        vertical-align: middle;\n",
       "    }\n",
       "\n",
       "    .dataframe tbody tr th {\n",
       "        vertical-align: top;\n",
       "    }\n",
       "\n",
       "    .dataframe thead th {\n",
       "        text-align: right;\n",
       "    }\n",
       "</style>\n",
       "<table border=\"1\" class=\"dataframe\">\n",
       "  <thead>\n",
       "    <tr style=\"text-align: right;\">\n",
       "      <th></th>\n",
       "      <th>lat</th>\n",
       "      <th>lng</th>\n",
       "      <th>datetime</th>\n",
       "      <th>uid</th>\n",
       "      <th>geometry</th>\n",
       "    </tr>\n",
       "  </thead>\n",
       "  <tbody>\n",
       "    <tr>\n",
       "      <th>0</th>\n",
       "      <td>39.984094</td>\n",
       "      <td>116.319236</td>\n",
       "      <td>2008-10-23 05:53:05</td>\n",
       "      <td>1</td>\n",
       "      <td>POINT (116.319236 39.984094)</td>\n",
       "    </tr>\n",
       "    <tr>\n",
       "      <th>1</th>\n",
       "      <td>39.984198</td>\n",
       "      <td>116.319322</td>\n",
       "      <td>2008-10-23 05:53:06</td>\n",
       "      <td>1</td>\n",
       "      <td>POINT (116.319322 39.984198)</td>\n",
       "    </tr>\n",
       "    <tr>\n",
       "      <th>2</th>\n",
       "      <td>39.984224</td>\n",
       "      <td>116.319402</td>\n",
       "      <td>2008-10-23 05:53:11</td>\n",
       "      <td>1</td>\n",
       "      <td>POINT (116.319402 39.984224)</td>\n",
       "    </tr>\n",
       "    <tr>\n",
       "      <th>3</th>\n",
       "      <td>39.984211</td>\n",
       "      <td>116.319389</td>\n",
       "      <td>2008-10-23 05:53:16</td>\n",
       "      <td>1</td>\n",
       "      <td>POINT (116.319389 39.984211)</td>\n",
       "    </tr>\n",
       "    <tr>\n",
       "      <th>4</th>\n",
       "      <td>39.984217</td>\n",
       "      <td>116.319422</td>\n",
       "      <td>2008-10-23 05:53:21</td>\n",
       "      <td>1</td>\n",
       "      <td>POINT (116.319422 39.984217)</td>\n",
       "    </tr>\n",
       "  </tbody>\n",
       "</table>\n",
       "</div>"
      ],
      "text/plain": [
       "         lat         lng            datetime  uid  \\\n",
       "0  39.984094  116.319236 2008-10-23 05:53:05    1   \n",
       "1  39.984198  116.319322 2008-10-23 05:53:06    1   \n",
       "2  39.984224  116.319402 2008-10-23 05:53:11    1   \n",
       "3  39.984211  116.319389 2008-10-23 05:53:16    1   \n",
       "4  39.984217  116.319422 2008-10-23 05:53:21    1   \n",
       "\n",
       "                       geometry  \n",
       "0  POINT (116.319236 39.984094)  \n",
       "1  POINT (116.319322 39.984198)  \n",
       "2  POINT (116.319402 39.984224)  \n",
       "3  POINT (116.319389 39.984211)  \n",
       "4  POINT (116.319422 39.984217)  "
      ]
     },
     "execution_count": 33,
     "metadata": {},
     "output_type": "execute_result"
    }
   ],
   "source": [
    "tdf.head()"
   ]
  },
  {
   "cell_type": "markdown",
   "metadata": {
    "slideshow": {
     "slide_type": "subslide"
    }
   },
   "source": [
    "## Construction of a `FlowDataFrame`\n",
    "\n",
    "The `FlowDataFrame` can be created from:\n",
    "\n",
    "- a python list or a numpy array\n",
    "- a pandas `DataFrame`\n",
    "- a python dictionary\n"
   ]
  },
  {
   "cell_type": "markdown",
   "metadata": {
    "slideshow": {
     "slide_type": "subslide"
    }
   },
   "source": [
    "It supports the input data format:\n",
    "    \n",
    "- `origin`, `destination`, `flow`, `datetime` (optional)\n",
    "\n",
    "NOTE: the field `tessellation` is mandatory. In the case the tessellation doesn't have the field tile_ID, the name of this column must be specified with the argument `tile_id`."
   ]
  },
  {
   "cell_type": "markdown",
   "metadata": {
    "slideshow": {
     "slide_type": "subslide"
    }
   },
   "source": [
    "### From `list`"
   ]
  },
  {
   "cell_type": "code",
   "execution_count": 35,
   "metadata": {
    "slideshow": {
     "slide_type": "-"
    }
   },
   "outputs": [
    {
     "data": {
      "text/html": [
       "<div>\n",
       "<style scoped>\n",
       "    .dataframe tbody tr th:only-of-type {\n",
       "        vertical-align: middle;\n",
       "    }\n",
       "\n",
       "    .dataframe tbody tr th {\n",
       "        vertical-align: top;\n",
       "    }\n",
       "\n",
       "    .dataframe thead th {\n",
       "        text-align: right;\n",
       "    }\n",
       "</style>\n",
       "<table border=\"1\" class=\"dataframe\">\n",
       "  <thead>\n",
       "    <tr style=\"text-align: right;\">\n",
       "      <th></th>\n",
       "      <th>flow_value</th>\n",
       "      <th>origin_id</th>\n",
       "      <th>destination_id</th>\n",
       "      <th>datetime</th>\n",
       "    </tr>\n",
       "  </thead>\n",
       "  <tbody>\n",
       "    <tr>\n",
       "      <th>0</th>\n",
       "      <td>10</td>\n",
       "      <td>1</td>\n",
       "      <td>10</td>\n",
       "      <td>2008-10-23 13:53:05</td>\n",
       "    </tr>\n",
       "    <tr>\n",
       "      <th>1</th>\n",
       "      <td>16</td>\n",
       "      <td>23</td>\n",
       "      <td>45</td>\n",
       "      <td>2008-10-23 13:53:06</td>\n",
       "    </tr>\n",
       "    <tr>\n",
       "      <th>2</th>\n",
       "      <td>1</td>\n",
       "      <td>11</td>\n",
       "      <td>45</td>\n",
       "      <td>2008-10-23 13:53:11</td>\n",
       "    </tr>\n",
       "  </tbody>\n",
       "</table>\n",
       "</div>"
      ],
      "text/plain": [
       "   flow_value  origin_id  destination_id             datetime\n",
       "0          10          1              10  2008-10-23 13:53:05\n",
       "1          16         23              45  2008-10-23 13:53:06\n",
       "2           1         11              45  2008-10-23 13:53:11"
      ]
     },
     "execution_count": 35,
     "metadata": {},
     "output_type": "execute_result"
    }
   ],
   "source": [
    "# From a list\n",
    "\n",
    "data_list = [[10, 1, 10, '2008-10-23 13:53:05'],\n",
    "             [16, 23, 45, '2008-10-23 13:53:06'],\n",
    "             [1, 11, 45, '2008-10-23 13:53:11']]\n",
    "\n",
    "df = pd.DataFrame(data_list, columns=['flow_value', \n",
    "                  'origin_id', 'destination_id', 'datetime'])\n",
    "df"
   ]
  },
  {
   "cell_type": "code",
   "execution_count": 33,
   "metadata": {
    "slideshow": {
     "slide_type": "subslide"
    }
   },
   "outputs": [
    {
     "data": {
      "text/html": [
       "<div>\n",
       "<style scoped>\n",
       "    .dataframe tbody tr th:only-of-type {\n",
       "        vertical-align: middle;\n",
       "    }\n",
       "\n",
       "    .dataframe tbody tr th {\n",
       "        vertical-align: top;\n",
       "    }\n",
       "\n",
       "    .dataframe thead th {\n",
       "        text-align: right;\n",
       "    }\n",
       "</style>\n",
       "<table border=\"1\" class=\"dataframe\">\n",
       "  <thead>\n",
       "    <tr style=\"text-align: right;\">\n",
       "      <th></th>\n",
       "      <th>flow</th>\n",
       "      <th>origin</th>\n",
       "      <th>destination</th>\n",
       "      <th>datetime</th>\n",
       "    </tr>\n",
       "  </thead>\n",
       "  <tbody>\n",
       "    <tr>\n",
       "      <th>0</th>\n",
       "      <td>10</td>\n",
       "      <td>1</td>\n",
       "      <td>10</td>\n",
       "      <td>2008-10-23 13:53:05</td>\n",
       "    </tr>\n",
       "    <tr>\n",
       "      <th>1</th>\n",
       "      <td>16</td>\n",
       "      <td>23</td>\n",
       "      <td>45</td>\n",
       "      <td>2008-10-23 13:53:06</td>\n",
       "    </tr>\n",
       "    <tr>\n",
       "      <th>2</th>\n",
       "      <td>1</td>\n",
       "      <td>11</td>\n",
       "      <td>45</td>\n",
       "      <td>2008-10-23 13:53:11</td>\n",
       "    </tr>\n",
       "  </tbody>\n",
       "</table>\n",
       "</div>"
      ],
      "text/plain": [
       "   flow  origin  destination            datetime\n",
       "0    10       1           10 2008-10-23 13:53:05\n",
       "1    16      23           45 2008-10-23 13:53:06\n",
       "2     1      11           45 2008-10-23 13:53:11"
      ]
     },
     "execution_count": 33,
     "metadata": {},
     "output_type": "execute_result"
    }
   ],
   "source": [
    "fdf = skmob.FlowDataFrame(df, origin='origin_id', destination='destination_id', tessellation=tessellation, \n",
    "                        flow='flow_value')\n",
    "fdf"
   ]
  },
  {
   "cell_type": "code",
   "execution_count": 34,
   "metadata": {
    "slideshow": {
     "slide_type": "subslide"
    }
   },
   "outputs": [
    {
     "data": {
      "text/plain": [
       "10"
      ]
     },
     "execution_count": 34,
     "metadata": {},
     "output_type": "execute_result"
    }
   ],
   "source": [
    "# to access to the single flow\n",
    "fdf.get_flow(1,10)"
   ]
  },
  {
   "cell_type": "code",
   "execution_count": 35,
   "metadata": {
    "slideshow": {
     "slide_type": "-"
    }
   },
   "outputs": [
    {
     "data": {
      "text/plain": [
       "array([[0., 0., 0., ..., 0., 0., 0.],\n",
       "       [0., 0., 0., ..., 0., 0., 0.],\n",
       "       [0., 0., 0., ..., 0., 0., 0.],\n",
       "       ...,\n",
       "       [0., 0., 0., ..., 0., 0., 0.],\n",
       "       [0., 0., 0., ..., 0., 0., 0.],\n",
       "       [0., 0., 0., ..., 0., 0., 0.]])"
      ]
     },
     "execution_count": 35,
     "metadata": {},
     "output_type": "execute_result"
    }
   ],
   "source": [
    "# TrajDataFrame can be converted into a sparse matrix of shape (len(tessellation), len(tessellation))\n",
    "fdf.to_matrix()"
   ]
  },
  {
   "cell_type": "markdown",
   "metadata": {
    "slideshow": {
     "slide_type": "subslide"
    }
   },
   "source": [
    "### From `file`\n",
    "\n",
    "FlowDataFrame  has its own method `from_file` to construct the object from an input csv file.\n",
    "\n",
    "It supports two different data format for the flows:\n",
    "    \n",
    "- `origin`, `destination`, `flow`, `datetime` (optional)\n",
    "- `origin_lat`, `origin_lng`, `destination_lat`, `destination_lng`, `flow`, `datetime` (optional)\n"
   ]
  },
  {
   "cell_type": "code",
   "execution_count": 57,
   "metadata": {},
   "outputs": [
    {
     "data": {
      "text/html": [
       "<div>\n",
       "<style scoped>\n",
       "    .dataframe tbody tr th:only-of-type {\n",
       "        vertical-align: middle;\n",
       "    }\n",
       "\n",
       "    .dataframe tbody tr th {\n",
       "        vertical-align: top;\n",
       "    }\n",
       "\n",
       "    .dataframe thead th {\n",
       "        text-align: right;\n",
       "    }\n",
       "</style>\n",
       "<table border=\"1\" class=\"dataframe\">\n",
       "  <thead>\n",
       "    <tr style=\"text-align: right;\">\n",
       "      <th></th>\n",
       "      <th>tile_id</th>\n",
       "      <th>population</th>\n",
       "      <th>geometry</th>\n",
       "    </tr>\n",
       "  </thead>\n",
       "  <tbody>\n",
       "    <tr>\n",
       "      <th>0</th>\n",
       "      <td>36019</td>\n",
       "      <td>81716</td>\n",
       "      <td>POLYGON ((-74.006668 44.886017, -74.027389 44....</td>\n",
       "    </tr>\n",
       "    <tr>\n",
       "      <th>1</th>\n",
       "      <td>36101</td>\n",
       "      <td>99145</td>\n",
       "      <td>POLYGON ((-77.099754 42.274215, -77.0996569999...</td>\n",
       "    </tr>\n",
       "    <tr>\n",
       "      <th>2</th>\n",
       "      <td>36107</td>\n",
       "      <td>50872</td>\n",
       "      <td>POLYGON ((-76.25014899999999 42.296676, -76.24...</td>\n",
       "    </tr>\n",
       "  </tbody>\n",
       "</table>\n",
       "</div>"
      ],
      "text/plain": [
       "  tile_id  population                                           geometry\n",
       "0   36019       81716  POLYGON ((-74.006668 44.886017, -74.027389 44....\n",
       "1   36101       99145  POLYGON ((-77.099754 42.274215, -77.0996569999...\n",
       "2   36107       50872  POLYGON ((-76.25014899999999 42.296676, -76.24..."
      ]
     },
     "execution_count": 57,
     "metadata": {},
     "output_type": "execute_result"
    }
   ],
   "source": [
    "tessellation[:3]"
   ]
  },
  {
   "cell_type": "code",
   "execution_count": 59,
   "metadata": {
    "slideshow": {
     "slide_type": "subslide"
    }
   },
   "outputs": [
    {
     "data": {
      "text/html": [
       "<div>\n",
       "<style scoped>\n",
       "    .dataframe tbody tr th:only-of-type {\n",
       "        vertical-align: middle;\n",
       "    }\n",
       "\n",
       "    .dataframe tbody tr th {\n",
       "        vertical-align: top;\n",
       "    }\n",
       "\n",
       "    .dataframe thead th {\n",
       "        text-align: right;\n",
       "    }\n",
       "</style>\n",
       "<table border=\"1\" class=\"dataframe\">\n",
       "  <thead>\n",
       "    <tr style=\"text-align: right;\">\n",
       "      <th></th>\n",
       "      <th>flow</th>\n",
       "      <th>origin</th>\n",
       "      <th>destination</th>\n",
       "    </tr>\n",
       "  </thead>\n",
       "  <tbody>\n",
       "    <tr>\n",
       "      <th>0</th>\n",
       "      <td>121606</td>\n",
       "      <td>36001</td>\n",
       "      <td>36001</td>\n",
       "    </tr>\n",
       "    <tr>\n",
       "      <th>1</th>\n",
       "      <td>5</td>\n",
       "      <td>36001</td>\n",
       "      <td>36005</td>\n",
       "    </tr>\n",
       "    <tr>\n",
       "      <th>2</th>\n",
       "      <td>29</td>\n",
       "      <td>36001</td>\n",
       "      <td>36007</td>\n",
       "    </tr>\n",
       "    <tr>\n",
       "      <th>3</th>\n",
       "      <td>11</td>\n",
       "      <td>36001</td>\n",
       "      <td>36017</td>\n",
       "    </tr>\n",
       "    <tr>\n",
       "      <th>4</th>\n",
       "      <td>30</td>\n",
       "      <td>36001</td>\n",
       "      <td>36019</td>\n",
       "    </tr>\n",
       "  </tbody>\n",
       "</table>\n",
       "</div>"
      ],
      "text/plain": [
       "     flow  origin  destination\n",
       "0  121606   36001        36001\n",
       "1       5   36001        36005\n",
       "2      29   36001        36007\n",
       "3      11   36001        36017\n",
       "4      30   36001        36019"
      ]
     },
     "execution_count": 59,
     "metadata": {},
     "output_type": "execute_result"
    }
   ],
   "source": [
    "fdf.head()"
   ]
  },
  {
   "cell_type": "code",
   "execution_count": 60,
   "metadata": {
    "slideshow": {
     "slide_type": "-"
    }
   },
   "outputs": [
    {
     "data": {
      "text/plain": [
       "<matplotlib.axes._subplots.AxesSubplot at 0x126089fd0>"
      ]
     },
     "execution_count": 60,
     "metadata": {},
     "output_type": "execute_result"
    },
    {
     "data": {
      "image/png": "[encoded data removed]",
      "text/plain": [
       "<Figure size 432x288 with 1 Axes>"
      ]
     },
     "metadata": {
      "needs_background": "light"
     },
     "output_type": "display_data"
    }
   ],
   "source": [
    "tessellation.plot()"
   ]
  },
  {
   "cell_type": "code",
   "execution_count": 39,
   "metadata": {
    "slideshow": {
     "slide_type": "subslide"
    }
   },
   "outputs": [
    {
     "data": {
      "text/html": [
       "<div>\n",
       "<style scoped>\n",
       "    .dataframe tbody tr th:only-of-type {\n",
       "        vertical-align: middle;\n",
       "    }\n",
       "\n",
       "    .dataframe tbody tr th {\n",
       "        vertical-align: top;\n",
       "    }\n",
       "\n",
       "    .dataframe thead th {\n",
       "        text-align: right;\n",
       "    }\n",
       "</style>\n",
       "<table border=\"1\" class=\"dataframe\">\n",
       "  <thead>\n",
       "    <tr style=\"text-align: right;\">\n",
       "      <th></th>\n",
       "      <th>origin_lat</th>\n",
       "      <th>origin_lng</th>\n",
       "      <th>destination_lat</th>\n",
       "      <th>destination_lng</th>\n",
       "      <th>flow</th>\n",
       "    </tr>\n",
       "  </thead>\n",
       "  <tbody>\n",
       "    <tr>\n",
       "      <th>0</th>\n",
       "      <td>42.554151</td>\n",
       "      <td>-71.103398</td>\n",
       "      <td>42.553818</td>\n",
       "      <td>-71.102749</td>\n",
       "      <td>1</td>\n",
       "    </tr>\n",
       "    <tr>\n",
       "      <th>1</th>\n",
       "      <td>42.463658</td>\n",
       "      <td>-70.945966</td>\n",
       "      <td>42.463580</td>\n",
       "      <td>-70.945903</td>\n",
       "      <td>1</td>\n",
       "    </tr>\n",
       "    <tr>\n",
       "      <th>2</th>\n",
       "      <td>42.463552</td>\n",
       "      <td>-70.945845</td>\n",
       "      <td>42.463561</td>\n",
       "      <td>-70.945911</td>\n",
       "      <td>1</td>\n",
       "    </tr>\n",
       "    <tr>\n",
       "      <th>3</th>\n",
       "      <td>42.116042</td>\n",
       "      <td>-71.462125</td>\n",
       "      <td>42.116698</td>\n",
       "      <td>-71.461800</td>\n",
       "      <td>1</td>\n",
       "    </tr>\n",
       "    <tr>\n",
       "      <th>4</th>\n",
       "      <td>42.388193</td>\n",
       "      <td>-71.039085</td>\n",
       "      <td>42.388191</td>\n",
       "      <td>-71.039177</td>\n",
       "      <td>1</td>\n",
       "    </tr>\n",
       "  </tbody>\n",
       "</table>\n",
       "</div>"
      ],
      "text/plain": [
       "   origin_lat  origin_lng  destination_lat  destination_lng  flow\n",
       "0   42.554151  -71.103398        42.553818       -71.102749     1\n",
       "1   42.463658  -70.945966        42.463580       -70.945903     1\n",
       "2   42.463552  -70.945845        42.463561       -70.945911     1\n",
       "3   42.116042  -71.462125        42.116698       -71.461800     1\n",
       "4   42.388193  -71.039085        42.388191       -71.039177     1"
      ]
     },
     "execution_count": 39,
     "metadata": {},
     "output_type": "execute_result"
    }
   ],
   "source": [
    "# Flows can be provided also with an expanded format\n",
    "\n",
    "df = pd.read_csv(\"data/expanded_flow.csv\", sep=\",\")\n",
    "df.head()"
   ]
  },
  {
   "cell_type": "markdown",
   "metadata": {
    "slideshow": {
     "slide_type": "subslide"
    }
   },
   "source": [
    "When the arguments `origin_lat`, `origin_lng`, `destination_lat`, `destination_lng` are set, `from_file` loads file with the expanded format and collapse each row into a format `origin`, `destination`.\n",
    "\n",
    "If tessellation is None, it is imputed from the data as a Voronoi Tessellation that is then automatically added to the `FlowDataFrame`. NOTE: it can be slow when the Voronoi tessellation is big (> 100 points)"
   ]
  },
  {
   "cell_type": "code",
   "execution_count": 40,
   "metadata": {
    "slideshow": {
     "slide_type": "subslide"
    }
   },
   "outputs": [],
   "source": [
    "fdf = skmob.FlowDataFrame.from_file(\"data/expanded_flow.csv\", origin_lat='origin_lat', origin_lng='origin_lng', \n",
    "                                        destination_lat='destination_lat', destination_lng='destination_lng', \n",
    "                                        flow='flow', sep=\",\")"
   ]
  },
  {
   "cell_type": "code",
   "execution_count": 41,
   "metadata": {
    "slideshow": {
     "slide_type": "-"
    }
   },
   "outputs": [
    {
     "data": {
      "text/html": [
       "<div>\n",
       "<style scoped>\n",
       "    .dataframe tbody tr th:only-of-type {\n",
       "        vertical-align: middle;\n",
       "    }\n",
       "\n",
       "    .dataframe tbody tr th {\n",
       "        vertical-align: top;\n",
       "    }\n",
       "\n",
       "    .dataframe thead th {\n",
       "        text-align: right;\n",
       "    }\n",
       "</style>\n",
       "<table border=\"1\" class=\"dataframe\">\n",
       "  <thead>\n",
       "    <tr style=\"text-align: right;\">\n",
       "      <th></th>\n",
       "      <th>flow</th>\n",
       "      <th>origin</th>\n",
       "      <th>destination</th>\n",
       "    </tr>\n",
       "  </thead>\n",
       "  <tbody>\n",
       "    <tr>\n",
       "      <th>0</th>\n",
       "      <td>1</td>\n",
       "      <td>0</td>\n",
       "      <td>150</td>\n",
       "    </tr>\n",
       "    <tr>\n",
       "      <th>1</th>\n",
       "      <td>1</td>\n",
       "      <td>1</td>\n",
       "      <td>151</td>\n",
       "    </tr>\n",
       "    <tr>\n",
       "      <th>2</th>\n",
       "      <td>1</td>\n",
       "      <td>2</td>\n",
       "      <td>68</td>\n",
       "    </tr>\n",
       "    <tr>\n",
       "      <th>3</th>\n",
       "      <td>1</td>\n",
       "      <td>3</td>\n",
       "      <td>152</td>\n",
       "    </tr>\n",
       "    <tr>\n",
       "      <th>4</th>\n",
       "      <td>1</td>\n",
       "      <td>4</td>\n",
       "      <td>153</td>\n",
       "    </tr>\n",
       "  </tbody>\n",
       "</table>\n",
       "</div>"
      ],
      "text/plain": [
       "   flow  origin  destination\n",
       "0     1       0          150\n",
       "1     1       1          151\n",
       "2     1       2           68\n",
       "3     1       3          152\n",
       "4     1       4          153"
      ]
     },
     "execution_count": 41,
     "metadata": {},
     "output_type": "execute_result"
    }
   ],
   "source": [
    "fdf.head()"
   ]
  },
  {
   "cell_type": "code",
   "execution_count": 42,
   "metadata": {
    "slideshow": {
     "slide_type": "-"
    }
   },
   "outputs": [
    {
     "data": {
      "text/html": [
       "<div>\n",
       "<style scoped>\n",
       "    .dataframe tbody tr th:only-of-type {\n",
       "        vertical-align: middle;\n",
       "    }\n",
       "\n",
       "    .dataframe tbody tr th {\n",
       "        vertical-align: top;\n",
       "    }\n",
       "\n",
       "    .dataframe thead th {\n",
       "        text-align: right;\n",
       "    }\n",
       "</style>\n",
       "<table border=\"1\" class=\"dataframe\">\n",
       "  <thead>\n",
       "    <tr style=\"text-align: right;\">\n",
       "      <th></th>\n",
       "      <th>tile_ID</th>\n",
       "      <th>geometry</th>\n",
       "    </tr>\n",
       "  </thead>\n",
       "  <tbody>\n",
       "    <tr>\n",
       "      <th>0</th>\n",
       "      <td>0</td>\n",
       "      <td>POINT (-71.103398 42.554151)</td>\n",
       "    </tr>\n",
       "    <tr>\n",
       "      <th>1</th>\n",
       "      <td>1</td>\n",
       "      <td>POINT (-70.945966 42.463658)</td>\n",
       "    </tr>\n",
       "    <tr>\n",
       "      <th>2</th>\n",
       "      <td>2</td>\n",
       "      <td>POINT (-70.94584499999998 42.463552)</td>\n",
       "    </tr>\n",
       "    <tr>\n",
       "      <th>3</th>\n",
       "      <td>3</td>\n",
       "      <td>POINT (-71.462125 42.116042)</td>\n",
       "    </tr>\n",
       "    <tr>\n",
       "      <th>4</th>\n",
       "      <td>4</td>\n",
       "      <td>POINT (-71.039085 42.388193)</td>\n",
       "    </tr>\n",
       "  </tbody>\n",
       "</table>\n",
       "</div>"
      ],
      "text/plain": [
       "   tile_ID                              geometry\n",
       "0        0          POINT (-71.103398 42.554151)\n",
       "1        1          POINT (-70.945966 42.463658)\n",
       "2        2  POINT (-70.94584499999998 42.463552)\n",
       "3        3          POINT (-71.462125 42.116042)\n",
       "4        4          POINT (-71.039085 42.388193)"
      ]
     },
     "execution_count": 42,
     "metadata": {},
     "output_type": "execute_result"
    }
   ],
   "source": [
    "fdf.tessellation.head()"
   ]
  },
  {
   "cell_type": "markdown",
   "metadata": {
    "slideshow": {
     "slide_type": "subslide"
    }
   },
   "source": [
    "A common operation when dealing with mobility data is the construction of Origin-Destination Matrix. \n",
    "`TrajDataFrame` provides the method `to_flowdataframe` that build a OD Matrix (`FlowDataFrame`) using the trajectories. This function automatically compute the flows between places."
   ]
  },
  {
   "cell_type": "code",
   "execution_count": 44,
   "metadata": {
    "slideshow": {
     "slide_type": "fragment"
    }
   },
   "outputs": [],
   "source": [
    "# Load trajectories (Beijing, China)\n",
    "tdf = skmob.TrajDataFrame.from_file('./data/geolife_sample.txt.gz', sep=',')\n",
    "\n",
    "# Build a tessellation over the city\n",
    "tessellation = tilers.tiler.get(\"squared\", base_shape=\"Beijing, China\", meters=15000)"
   ]
  },
  {
   "cell_type": "code",
   "execution_count": 45,
   "metadata": {
    "slideshow": {
     "slide_type": "subslide"
    }
   },
   "outputs": [
    {
     "data": {
      "text/plain": [
       "<matplotlib.axes._subplots.AxesSubplot at 0x124fb16a0>"
      ]
     },
     "execution_count": 45,
     "metadata": {},
     "output_type": "execute_result"
    },
    {
     "data": {
      "image/png": "[encoded data removed]",
      "text/plain": [
       "<Figure size 432x288 with 1 Axes>"
      ]
     },
     "metadata": {
      "needs_background": "light"
     },
     "output_type": "display_data"
    }
   ],
   "source": [
    "tessellation.plot()"
   ]
  },
  {
   "cell_type": "code",
   "execution_count": 49,
   "metadata": {
    "slideshow": {
     "slide_type": "subslide"
    }
   },
   "outputs": [
    {
     "data": {
      "text/html": [
       "<div>\n",
       "<style scoped>\n",
       "    .dataframe tbody tr th:only-of-type {\n",
       "        vertical-align: middle;\n",
       "    }\n",
       "\n",
       "    .dataframe tbody tr th {\n",
       "        vertical-align: top;\n",
       "    }\n",
       "\n",
       "    .dataframe thead th {\n",
       "        text-align: right;\n",
       "    }\n",
       "</style>\n",
       "<table border=\"1\" class=\"dataframe\">\n",
       "  <thead>\n",
       "    <tr style=\"text-align: right;\">\n",
       "      <th></th>\n",
       "      <th>lat</th>\n",
       "      <th>lng</th>\n",
       "      <th>datetime</th>\n",
       "      <th>uid</th>\n",
       "      <th>geometry</th>\n",
       "    </tr>\n",
       "  </thead>\n",
       "  <tbody>\n",
       "    <tr>\n",
       "      <th>0</th>\n",
       "      <td>39.984094</td>\n",
       "      <td>116.319236</td>\n",
       "      <td>2008-10-23 05:53:05</td>\n",
       "      <td>1</td>\n",
       "      <td>POINT (116.319236 39.984094)</td>\n",
       "    </tr>\n",
       "    <tr>\n",
       "      <th>1</th>\n",
       "      <td>39.984198</td>\n",
       "      <td>116.319322</td>\n",
       "      <td>2008-10-23 05:53:06</td>\n",
       "      <td>1</td>\n",
       "      <td>POINT (116.319322 39.984198)</td>\n",
       "    </tr>\n",
       "    <tr>\n",
       "      <th>2</th>\n",
       "      <td>39.984224</td>\n",
       "      <td>116.319402</td>\n",
       "      <td>2008-10-23 05:53:11</td>\n",
       "      <td>1</td>\n",
       "      <td>POINT (116.319402 39.984224)</td>\n",
       "    </tr>\n",
       "  </tbody>\n",
       "</table>\n",
       "</div>"
      ],
      "text/plain": [
       "         lat         lng            datetime  uid  \\\n",
       "0  39.984094  116.319236 2008-10-23 05:53:05    1   \n",
       "1  39.984198  116.319322 2008-10-23 05:53:06    1   \n",
       "2  39.984224  116.319402 2008-10-23 05:53:11    1   \n",
       "\n",
       "                       geometry  \n",
       "0  POINT (116.319236 39.984094)  \n",
       "1  POINT (116.319322 39.984198)  \n",
       "2  POINT (116.319402 39.984224)  "
      ]
     },
     "execution_count": 49,
     "metadata": {},
     "output_type": "execute_result"
    }
   ],
   "source": [
    "tdf.head(3)"
   ]
  },
  {
   "cell_type": "code",
   "execution_count": 46,
   "metadata": {
    "slideshow": {
     "slide_type": "-"
    }
   },
   "outputs": [],
   "source": [
    "# remove_na enable removing points that are not contained in the tessellation\n",
    "fdf = tdf.to_flowdataframe(tessellation=tessellation, self_loops=True, remove_na=True)"
   ]
  },
  {
   "cell_type": "code",
   "execution_count": 50,
   "metadata": {
    "slideshow": {
     "slide_type": "-"
    }
   },
   "outputs": [
    {
     "data": {
      "text/html": [
       "<div>\n",
       "<style scoped>\n",
       "    .dataframe tbody tr th:only-of-type {\n",
       "        vertical-align: middle;\n",
       "    }\n",
       "\n",
       "    .dataframe tbody tr th {\n",
       "        vertical-align: top;\n",
       "    }\n",
       "\n",
       "    .dataframe thead th {\n",
       "        text-align: right;\n",
       "    }\n",
       "</style>\n",
       "<table border=\"1\" class=\"dataframe\">\n",
       "  <thead>\n",
       "    <tr style=\"text-align: right;\">\n",
       "      <th></th>\n",
       "      <th>origin</th>\n",
       "      <th>destination</th>\n",
       "      <th>flow</th>\n",
       "    </tr>\n",
       "  </thead>\n",
       "  <tbody>\n",
       "    <tr>\n",
       "      <th>0</th>\n",
       "      <td>49</td>\n",
       "      <td>49.0</td>\n",
       "      <td>788</td>\n",
       "    </tr>\n",
       "    <tr>\n",
       "      <th>1</th>\n",
       "      <td>49</td>\n",
       "      <td>62.0</td>\n",
       "      <td>1</td>\n",
       "    </tr>\n",
       "    <tr>\n",
       "      <th>2</th>\n",
       "      <td>50</td>\n",
       "      <td>50.0</td>\n",
       "      <td>4974</td>\n",
       "    </tr>\n",
       "  </tbody>\n",
       "</table>\n",
       "</div>"
      ],
      "text/plain": [
       "   origin  destination  flow\n",
       "0      49         49.0   788\n",
       "1      49         62.0     1\n",
       "2      50         50.0  4974"
      ]
     },
     "execution_count": 50,
     "metadata": {},
     "output_type": "execute_result"
    }
   ],
   "source": [
    "fdf.head(3)"
   ]
  },
  {
   "cell_type": "code",
   "execution_count": null,
   "metadata": {},
   "outputs": [],
   "source": []
  },
  {
   "cell_type": "code",
   "execution_count": 22,
   "metadata": {},
   "outputs": [],
   "source": [
    "def random_hex():\n",
    "    r = lambda: np.random.randint(0,255)\n",
    "    return '#%02X%02X%02X' % (r(),r(),r())\n",
    "\n",
    "\n",
    "def geojson_style_function(weight=3, \\\n",
    "                    color='random', \\\n",
    "                    opacity=0.5, \\\n",
    "                    fillColor='random', \\\n",
    "                    fillOpacity=0.5):\n",
    "    if color == 'random':\n",
    "        color = random_hex()\n",
    "    fillColor = color\n",
    "    return {'weight': weight, \\\n",
    "            'color':color, \\\n",
    "            'opacity' : opacity, \\\n",
    "            'fillColor':fillColor,\\\n",
    "            'fillOpacity': fillOpacity}\n",
    "\n",
    "\n",
    "def add_to_map(gway, g, map_osm, style_func_args, popup_features=None):\n",
    "    if popup_features == None:\n",
    "        popup_features = ['name', 'landuse', 'highway', 'amenity', 'shop']\n",
    "    \n",
    "    if type(gway) == shapely.geometry.multipolygon.MultiPolygon:\n",
    "        # Multipolygon\n",
    "        for gg in gway:\n",
    "\n",
    "            style_func = lambda x: geojson_style_function(**style_func_args)\n",
    "            vertices = list(zip(*gg.exterior.xy))\n",
    "            gj = folium.GeoJson({ \"type\": \"Polygon\", \"coordinates\": [vertices]}, \\\n",
    "                            style_function=style_func)\n",
    "\n",
    "    elif type(gway) == shapely.geometry.polygon.Polygon:\n",
    "        # Polygon\n",
    "        style_func = lambda x: geojson_style_function(**style_func_args)\n",
    "        vertices = list(zip(*gway.exterior.xy))\n",
    "        gj = folium.GeoJson({ \"type\": \"Polygon\", \"coordinates\": [vertices]}, \\\n",
    "                            style_function=style_func)\n",
    "        \n",
    "    elif type(gway)  == shapely.geometry.multilinestring.MultiLineString:\n",
    "        # MultiLine\n",
    "        for gg in gway:\n",
    "\n",
    "            style_func = lambda x: geojson_style_function(**style_func_args)\n",
    "            vertices = list(zip(*gg.xy))\n",
    "            gj = folium.GeoJson({ \"type\": \"LineString\", \"coordinates\": vertices}, \\\n",
    "                                style_function=style_func)\n",
    "        \n",
    "    elif type(gway) == shapely.geometry.linestring.LineString:\n",
    "        # LineString\n",
    "        style_func = lambda x: geojson_style_function(**style_func_args)\n",
    "        vertices = list(zip(*gway.xy))\n",
    "        gj = folium.GeoJson({ \"type\": \"LineString\", \"coordinates\": vertices}, \\\n",
    "                            style_function=style_func)\n",
    "\n",
    "    else:\n",
    "        # Point\n",
    "        point = list(zip(*gway.xy))[0]\n",
    "#         gj = folium.GeoJson({ \"type\": \"Point\", \"coordinates\": point}, \\\n",
    "#                             style_function=style_function)\n",
    "#         gj = folium.CircleMarker(\n",
    "        gj = folium.Circle(\n",
    "            location=point[::-1],\n",
    "            radius=5,\n",
    "            color='#FF0000', #'#3186cc',\n",
    "            fill=True,\n",
    "            fill_color='#eea500'\n",
    "            )\n",
    "\n",
    "    popup = ''\n",
    "    for pf in popup_features:\n",
    "        try:\n",
    "            popup += str(g[pf])+' | '\n",
    "        except KeyError:\n",
    "            pass\n",
    "    try:\n",
    "        popup += json.dumps(g.tags)\n",
    "        popup = popup.replace(\"\"\"'\"\"\",\"\"\"_\"\"\")\n",
    "    except AttributeError:\n",
    "        pass\n",
    "    gj.add_child(folium.Popup( popup ))\n",
    "    gj.add_to(map_osm)\n",
    "    \n",
    "    return map_osm\n",
    "\n",
    "\n",
    "\n",
    "\n",
    "def map_gdf(gdf, map_osm, maxitems=-1, style_func_args={}, popup_features=None, geom_col='way'):\n",
    "    \n",
    "\n",
    "#     style_function = lambda weight, color, fillColor, opacity, fillOpacity: \\\n",
    "#                         (lambda feature: \\\n",
    "#                         dict(weight=weight, color=color,  \n",
    "#                              fillColor=fillColor, \\\n",
    "#                              opacity=opacity, \\\n",
    "#                              fillOpacity=fillOpacity) )\n",
    "    \n",
    "    count=0\n",
    "    for k in gdf.index:\n",
    "        g = gdf.loc[k]\n",
    "\n",
    "#     for index, g in gdf.sample(n=min(len(gdf),maxitems)).iterrows():\n",
    "\n",
    "#         if type(g.way) == gpd.geoseries.GeoSeries:\n",
    "#             for i in range(len(gway)):\n",
    "#                 map_osm = add_to_map(g.way.iloc[i], g.iloc[i], map_osm, \\\n",
    "#                         style_func_args=style_func_args, popup_features=popup_features)\n",
    "        \n",
    "#         else:\n",
    "#             map_osm = add_to_map(g.way, g, map_osm, \\\n",
    "#                     style_func_args=style_func_args, popup_features=popup_features)\n",
    "        if type(g[geom_col]) == gpd.geoseries.GeoSeries:\n",
    "            for i in range(len(gway)):\n",
    "                map_osm = add_to_map(g[geom_col].iloc[i], g.iloc[i], map_osm, \\\n",
    "                        popup_features=popup_features, \\\n",
    "                         style_func_args=style_func_args)\n",
    "#                         style_func_args=style_function(**style_func_args)) # style_func_args=style_func_args)\n",
    "        \n",
    "        else:\n",
    "            map_osm = add_to_map(g[geom_col], g, map_osm, \\\n",
    "                    popup_features=popup_features, \\\n",
    "                    style_func_args=style_func_args)\n",
    "#                     style_func_args=style_function(**style_func_args)) #style_func_args=style_func_args)\n",
    "\n",
    "\n",
    "        count += 1\n",
    "        if count == maxitems:\n",
    "            break\n",
    "\n",
    "    return map_osm"
   ]
  },
  {
   "cell_type": "code",
   "execution_count": null,
   "metadata": {},
   "outputs": [],
   "source": []
  }
 ],
 "metadata": {
  "anaconda-cloud": {},
  "celltoolbar": "Slideshow",
  "hide_input": false,
  "kernelspec": {
   "display_name": "Python [conda env:skmob]",
   "language": "python",
   "name": "skmob"
  },
  "language_info": {
   "codemirror_mode": {
    "name": "ipython",
    "version": 3
   },
   "file_extension": ".py",
   "mimetype": "text/x-python",
   "name": "python",
   "nbconvert_exporter": "python",
   "pygments_lexer": "ipython3",
   "version": "3.7.3"
  },
  "latex_envs": {
   "LaTeX_envs_menu_present": true,
   "autoclose": false,
   "autocomplete": true,
   "bibliofile": "biblio.bib",
   "cite_by": "apalike",
   "current_citInitial": 1,
   "eqLabelWithNumbers": true,
   "eqNumInitial": 1,
   "hotkeys": {
    "equation": "Ctrl-E",
    "itemize": "Ctrl-I"
   },
   "labels_anchors": false,
   "latex_user_defs": false,
   "report_style_numbering": true,
   "user_envs_cfg": false
  }
 },
 "nbformat": 4,
 "nbformat_minor": 1
}
