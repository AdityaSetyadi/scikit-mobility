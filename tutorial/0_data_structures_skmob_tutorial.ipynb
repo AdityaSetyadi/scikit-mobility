{
 "cells": [
  {
   "cell_type": "markdown",
   "metadata": {
    "slideshow": {
     "slide_type": "slide"
    }
   },
   "source": [
    "# 0 - Introduction to scikit-mobility\n",
    "\n",
    "### We are presenting the alpha version, any feedback is welcome :)\n",
    "\n",
    "#### Contacts\n",
    "\n",
    "<ul>\n",
    "  <li>Luca Pappalardo - lucapappalardo1984@gmail.com</li>\n",
    "  <li>Gianni Barlacchi - gianni.barlacchi@gmail.com</li>\n",
    "  <li>Filippo Simini - flppsmn@gmail.com</li>\n",
    "</ul>"
   ]
  },
  {
   "cell_type": "markdown",
   "metadata": {
    "slideshow": {
     "slide_type": "subslide"
    }
   },
   "source": [
    "### What's scikit-mobility?\n",
    "\n",
    "<b>scikit-mobility</b> is a Python package that provides easy methods to work with mobility data. The library extends the datatypes used by Pandas to allow working with trajectories and fluxes of mobility. \n",
    "\n",
    "scikit-mobility is well suited for working with:\n",
    "\n",
    "<ul>\n",
    "    <li><b>trajectories</b> composed by latitude/longitude points (e.g. GPS data)</li>\n",
    "    <li><b>fluxes</b> of movements between places (e.g. OD matrix)</li>\n",
    "</ul>"
   ]
  },
  {
   "cell_type": "markdown",
   "metadata": {
    "slideshow": {
     "slide_type": "subslide"
    }
   },
   "source": [
    "We extended Pandas to provide a user-friendly, powerful and stable basic data structures.\n",
    "\n",
    "The two primary data structures of scikit-mobility are:\n",
    "\n",
    "<ul>\n",
    "    <li><b>TrajDataFrame</b> - a dataframe designed to deal with mobility trajectories.</li>\n",
    "    <li><b>FlowDataFrame</b> - a dataframe designed to deal with fluxes of movements mapped into a tessellation</li>\n",
    "</ul>\n"
   ]
  },
  {
   "cell_type": "markdown",
   "metadata": {
    "slideshow": {
     "slide_type": "subslide"
    }
   },
   "source": [
    "### What to do with scikit-mobility?\n",
    "\n",
    "Here are just a few of the things that scikit-mobility does well:\n",
    "\n",
    "<ul>\n",
    "    <li><b>Preprocessing</b> of mobility data such as clustering, compressing, detecting and filtering trajectories. </li>\n",
    "    <li><b>Measuring</b> individual and collective mobility behaviours.</li>\n",
    "  <li>[ FILIPPO ADD SHORT SENTENCE FOR THE MODELING PART ]</li>\n",
    "</ul>\n",
    "    "
   ]
  },
  {
   "cell_type": "markdown",
   "metadata": {
    "slideshow": {
     "slide_type": "slide"
    }
   },
   "source": [
    "# TrajDataFrame\n",
    "\n",
    "\n",
    "A `TrajDataFrame` is a Pandas DataFrame where row contains information regarding a point of the trajectory. There is no limit in the number of columns it can contains, but there three of them must always be present:\n",
    "\n",
    "- `lat` - latitude of the point\n",
    "- `lng` - longitude of the point\n",
    "- `datetime` - date and time at which the point was visited"
   ]
  },
  {
   "cell_type": "markdown",
   "metadata": {
    "slideshow": {
     "slide_type": "subslide"
    }
   },
   "source": [
    "Additionaly, for multi-user and multi-trajectory dataset, there are two optional columns:\n",
    "\n",
    "- `uid` - identifier for the user to which the trajectory belongs to\n",
    "- `tid` - identifier for the trajectory"
   ]
  },
  {
   "cell_type": "code",
   "execution_count": 3,
   "metadata": {
    "slideshow": {
     "slide_type": "subslide"
    }
   },
   "outputs": [],
   "source": [
    "# Import the library\n",
    "\n",
    "import skmob"
   ]
  },
  {
   "cell_type": "markdown",
   "metadata": {
    "slideshow": {
     "slide_type": "subslide"
    }
   },
   "source": [
    "## Construction of a `TrajDataFrame`\n",
    "\n",
    "The `TrajDataFrame` can be created from:\n",
    "\n",
    "- a python list or a numpy array\n",
    "- a pandas `DataFrame`\n",
    "- a python dictionary"
   ]
  },
  {
   "cell_type": "markdown",
   "metadata": {
    "slideshow": {
     "slide_type": "subslide"
    }
   },
   "source": [
    "### From `list`"
   ]
  },
  {
   "cell_type": "code",
   "execution_count": 15,
   "metadata": {
    "slideshow": {
     "slide_type": "fragment"
    }
   },
   "outputs": [
    {
     "data": {
      "text/plain": [
       "[[1, 39.984094, 116.319236, '2008-10-23 13:53:05'],\n",
       " [1, 39.984198, 116.319322, '2008-10-23 13:53:06'],\n",
       " [1, 39.984224, 116.319402, '2008-10-23 13:53:11'],\n",
       " [1, 39.984211, 116.319389, '2008-10-23 13:53:16']]"
      ]
     },
     "execution_count": 15,
     "metadata": {},
     "output_type": "execute_result"
    }
   ],
   "source": [
    "# From a list\n",
    "\n",
    "data_list = [[1, 39.984094, 116.319236, '2008-10-23 13:53:05'],\n",
    "             [1, 39.984198, 116.319322, '2008-10-23 13:53:06'],\n",
    "             [1, 39.984224, 116.319402, '2008-10-23 13:53:11'],\n",
    "             [1, 39.984211, 116.319389, '2008-10-23 13:53:16']]\n",
    "data_list"
   ]
  },
  {
   "cell_type": "markdown",
   "metadata": {
    "slideshow": {
     "slide_type": "subslide"
    }
   },
   "source": [
    "The constructor requires to know the indexes of the mandatory columns. We can set them by using the constructor arguments `latitude`, `longitude` and `datetime`."
   ]
  },
  {
   "cell_type": "code",
   "execution_count": 16,
   "metadata": {
    "slideshow": {
     "slide_type": "fragment"
    }
   },
   "outputs": [
    {
     "data": {
      "text/html": [
       "<div>\n",
       "<style scoped>\n",
       "    .dataframe tbody tr th:only-of-type {\n",
       "        vertical-align: middle;\n",
       "    }\n",
       "\n",
       "    .dataframe tbody tr th {\n",
       "        vertical-align: top;\n",
       "    }\n",
       "\n",
       "    .dataframe thead th {\n",
       "        text-align: right;\n",
       "    }\n",
       "</style>\n",
       "<table border=\"1\" class=\"dataframe\">\n",
       "  <thead>\n",
       "    <tr style=\"text-align: right;\">\n",
       "      <th></th>\n",
       "      <th>0</th>\n",
       "      <th>lat</th>\n",
       "      <th>lng</th>\n",
       "      <th>datetime</th>\n",
       "    </tr>\n",
       "  </thead>\n",
       "  <tbody>\n",
       "    <tr>\n",
       "      <th>0</th>\n",
       "      <td>1</td>\n",
       "      <td>39.984094</td>\n",
       "      <td>116.319236</td>\n",
       "      <td>2008-10-23 13:53:05</td>\n",
       "    </tr>\n",
       "    <tr>\n",
       "      <th>1</th>\n",
       "      <td>1</td>\n",
       "      <td>39.984198</td>\n",
       "      <td>116.319322</td>\n",
       "      <td>2008-10-23 13:53:06</td>\n",
       "    </tr>\n",
       "    <tr>\n",
       "      <th>2</th>\n",
       "      <td>1</td>\n",
       "      <td>39.984224</td>\n",
       "      <td>116.319402</td>\n",
       "      <td>2008-10-23 13:53:11</td>\n",
       "    </tr>\n",
       "    <tr>\n",
       "      <th>3</th>\n",
       "      <td>1</td>\n",
       "      <td>39.984211</td>\n",
       "      <td>116.319389</td>\n",
       "      <td>2008-10-23 13:53:16</td>\n",
       "    </tr>\n",
       "  </tbody>\n",
       "</table>\n",
       "</div>"
      ],
      "text/plain": [
       "   0        lat         lng            datetime\n",
       "0  1  39.984094  116.319236 2008-10-23 13:53:05\n",
       "1  1  39.984198  116.319322 2008-10-23 13:53:06\n",
       "2  1  39.984224  116.319402 2008-10-23 13:53:11\n",
       "3  1  39.984211  116.319389 2008-10-23 13:53:16"
      ]
     },
     "execution_count": 16,
     "metadata": {},
     "output_type": "execute_result"
    }
   ],
   "source": [
    "tdf = skmob.TrajDataFrame(data_list, latitude=1, longitude=2, datetime=3)\n",
    "tdf"
   ]
  },
  {
   "cell_type": "markdown",
   "metadata": {
    "slideshow": {
     "slide_type": "subslide"
    }
   },
   "source": [
    "If present, we can also specify the index of the columns `uid` and `tid` using the contructor arguments `user_id` and `trajectory_id`."
   ]
  },
  {
   "cell_type": "code",
   "execution_count": 18,
   "metadata": {
    "slideshow": {
     "slide_type": "fragment"
    }
   },
   "outputs": [
    {
     "data": {
      "text/html": [
       "<div>\n",
       "<style scoped>\n",
       "    .dataframe tbody tr th:only-of-type {\n",
       "        vertical-align: middle;\n",
       "    }\n",
       "\n",
       "    .dataframe tbody tr th {\n",
       "        vertical-align: top;\n",
       "    }\n",
       "\n",
       "    .dataframe thead th {\n",
       "        text-align: right;\n",
       "    }\n",
       "</style>\n",
       "<table border=\"1\" class=\"dataframe\">\n",
       "  <thead>\n",
       "    <tr style=\"text-align: right;\">\n",
       "      <th></th>\n",
       "      <th>uid</th>\n",
       "      <th>lat</th>\n",
       "      <th>lng</th>\n",
       "      <th>datetime</th>\n",
       "    </tr>\n",
       "  </thead>\n",
       "  <tbody>\n",
       "    <tr>\n",
       "      <th>0</th>\n",
       "      <td>1</td>\n",
       "      <td>39.984094</td>\n",
       "      <td>116.319236</td>\n",
       "      <td>2008-10-23 13:53:05</td>\n",
       "    </tr>\n",
       "    <tr>\n",
       "      <th>1</th>\n",
       "      <td>1</td>\n",
       "      <td>39.984198</td>\n",
       "      <td>116.319322</td>\n",
       "      <td>2008-10-23 13:53:06</td>\n",
       "    </tr>\n",
       "    <tr>\n",
       "      <th>2</th>\n",
       "      <td>1</td>\n",
       "      <td>39.984224</td>\n",
       "      <td>116.319402</td>\n",
       "      <td>2008-10-23 13:53:11</td>\n",
       "    </tr>\n",
       "    <tr>\n",
       "      <th>3</th>\n",
       "      <td>1</td>\n",
       "      <td>39.984211</td>\n",
       "      <td>116.319389</td>\n",
       "      <td>2008-10-23 13:53:16</td>\n",
       "    </tr>\n",
       "  </tbody>\n",
       "</table>\n",
       "</div>"
      ],
      "text/plain": [
       "   uid        lat         lng            datetime\n",
       "0    1  39.984094  116.319236 2008-10-23 13:53:05\n",
       "1    1  39.984198  116.319322 2008-10-23 13:53:06\n",
       "2    1  39.984224  116.319402 2008-10-23 13:53:11\n",
       "3    1  39.984211  116.319389 2008-10-23 13:53:16"
      ]
     },
     "execution_count": 18,
     "metadata": {},
     "output_type": "execute_result"
    }
   ],
   "source": [
    "tdf = skmob.TrajDataFrame(data_list, latitude=1, longitude=2, datetime=3, user_id=0)\n",
    "tdf.head(5)"
   ]
  },
  {
   "cell_type": "markdown",
   "metadata": {
    "slideshow": {
     "slide_type": "subslide"
    }
   },
   "source": [
    "### From `DataFrame`"
   ]
  },
  {
   "cell_type": "code",
   "execution_count": 31,
   "metadata": {
    "slideshow": {
     "slide_type": "fragment"
    }
   },
   "outputs": [
    {
     "name": "stdout",
     "output_type": "stream",
     "text": [
      "<class 'pandas.core.frame.DataFrame'>\n"
     ]
    },
    {
     "data": {
      "text/html": [
       "<div>\n",
       "<style scoped>\n",
       "    .dataframe tbody tr th:only-of-type {\n",
       "        vertical-align: middle;\n",
       "    }\n",
       "\n",
       "    .dataframe tbody tr th {\n",
       "        vertical-align: top;\n",
       "    }\n",
       "\n",
       "    .dataframe thead th {\n",
       "        text-align: right;\n",
       "    }\n",
       "</style>\n",
       "<table border=\"1\" class=\"dataframe\">\n",
       "  <thead>\n",
       "    <tr style=\"text-align: right;\">\n",
       "      <th></th>\n",
       "      <th>user</th>\n",
       "      <th>latitude</th>\n",
       "      <th>lng</th>\n",
       "      <th>hour</th>\n",
       "    </tr>\n",
       "  </thead>\n",
       "  <tbody>\n",
       "    <tr>\n",
       "      <th>0</th>\n",
       "      <td>1</td>\n",
       "      <td>39.984094</td>\n",
       "      <td>116.319236</td>\n",
       "      <td>2008-10-23 13:53:05</td>\n",
       "    </tr>\n",
       "    <tr>\n",
       "      <th>1</th>\n",
       "      <td>1</td>\n",
       "      <td>39.984198</td>\n",
       "      <td>116.319322</td>\n",
       "      <td>2008-10-23 13:53:06</td>\n",
       "    </tr>\n",
       "    <tr>\n",
       "      <th>2</th>\n",
       "      <td>1</td>\n",
       "      <td>39.984224</td>\n",
       "      <td>116.319402</td>\n",
       "      <td>2008-10-23 13:53:11</td>\n",
       "    </tr>\n",
       "    <tr>\n",
       "      <th>3</th>\n",
       "      <td>1</td>\n",
       "      <td>39.984211</td>\n",
       "      <td>116.319389</td>\n",
       "      <td>2008-10-23 13:53:16</td>\n",
       "    </tr>\n",
       "  </tbody>\n",
       "</table>\n",
       "</div>"
      ],
      "text/plain": [
       "   user   latitude         lng                 hour\n",
       "0     1  39.984094  116.319236  2008-10-23 13:53:05\n",
       "1     1  39.984198  116.319322  2008-10-23 13:53:06\n",
       "2     1  39.984224  116.319402  2008-10-23 13:53:11\n",
       "3     1  39.984211  116.319389  2008-10-23 13:53:16"
      ]
     },
     "execution_count": 31,
     "metadata": {},
     "output_type": "execute_result"
    }
   ],
   "source": [
    "import pandas as pd\n",
    "\n",
    "# Let's build a dataframe from the 2D list\n",
    "data_df = pd.DataFrame(data_list, columns=['user', 'latitude', 'lng', 'hour'])\n",
    "\n",
    "print(type(data_df))\n",
    "data_df"
   ]
  },
  {
   "cell_type": "markdown",
   "metadata": {
    "slideshow": {
     "slide_type": "subslide"
    }
   },
   "source": [
    "The columns name in the dataframe don't match the names required from the TrajDataFrame.\n",
    "We must specify the names of the mandatory columns in the original `DataFrame` using the constructor arguments `latitude`, `longitude` and `datetime`. If present, the columns for the user_id and the trajectory_id must also be specified."
   ]
  },
  {
   "cell_type": "code",
   "execution_count": 32,
   "metadata": {
    "slideshow": {
     "slide_type": "fragment"
    }
   },
   "outputs": [
    {
     "name": "stdout",
     "output_type": "stream",
     "text": [
      "<class 'skmob.core.trajectorydataframe.TrajDataFrame'>\n"
     ]
    },
    {
     "data": {
      "text/html": [
       "<div>\n",
       "<style scoped>\n",
       "    .dataframe tbody tr th:only-of-type {\n",
       "        vertical-align: middle;\n",
       "    }\n",
       "\n",
       "    .dataframe tbody tr th {\n",
       "        vertical-align: top;\n",
       "    }\n",
       "\n",
       "    .dataframe thead th {\n",
       "        text-align: right;\n",
       "    }\n",
       "</style>\n",
       "<table border=\"1\" class=\"dataframe\">\n",
       "  <thead>\n",
       "    <tr style=\"text-align: right;\">\n",
       "      <th></th>\n",
       "      <th>uid</th>\n",
       "      <th>lat</th>\n",
       "      <th>lng</th>\n",
       "      <th>datetime</th>\n",
       "    </tr>\n",
       "  </thead>\n",
       "  <tbody>\n",
       "    <tr>\n",
       "      <th>0</th>\n",
       "      <td>1</td>\n",
       "      <td>39.984094</td>\n",
       "      <td>116.319236</td>\n",
       "      <td>2008-10-23 13:53:05</td>\n",
       "    </tr>\n",
       "    <tr>\n",
       "      <th>1</th>\n",
       "      <td>1</td>\n",
       "      <td>39.984198</td>\n",
       "      <td>116.319322</td>\n",
       "      <td>2008-10-23 13:53:06</td>\n",
       "    </tr>\n",
       "    <tr>\n",
       "      <th>2</th>\n",
       "      <td>1</td>\n",
       "      <td>39.984224</td>\n",
       "      <td>116.319402</td>\n",
       "      <td>2008-10-23 13:53:11</td>\n",
       "    </tr>\n",
       "    <tr>\n",
       "      <th>3</th>\n",
       "      <td>1</td>\n",
       "      <td>39.984211</td>\n",
       "      <td>116.319389</td>\n",
       "      <td>2008-10-23 13:53:16</td>\n",
       "    </tr>\n",
       "  </tbody>\n",
       "</table>\n",
       "</div>"
      ],
      "text/plain": [
       "   uid        lat         lng            datetime\n",
       "0    1  39.984094  116.319236 2008-10-23 13:53:05\n",
       "1    1  39.984198  116.319322 2008-10-23 13:53:06\n",
       "2    1  39.984224  116.319402 2008-10-23 13:53:11\n",
       "3    1  39.984211  116.319389 2008-10-23 13:53:16"
      ]
     },
     "execution_count": 32,
     "metadata": {},
     "output_type": "execute_result"
    }
   ],
   "source": [
    "tdf = skmob.TrajDataFrame(data_df, latitude='latitude', datetime='hour', user_id='user')\n",
    "\n",
    "print(type(tdf))\n",
    "tdf"
   ]
  },
  {
   "cell_type": "markdown",
   "metadata": {
    "slideshow": {
     "slide_type": "subslide"
    }
   },
   "source": [
    "### From `dictionary`"
   ]
  },
  {
   "cell_type": "code",
   "execution_count": 33,
   "metadata": {
    "slideshow": {
     "slide_type": "fragment"
    }
   },
   "outputs": [
    {
     "data": {
      "text/plain": [
       "{'user': [1, 1, 1, 1],\n",
       " 'latitude': [39.984094, 39.984198, 39.984224, 39.984211],\n",
       " 'lng': [116.319236, 116.319322, 116.319402, 116.319389],\n",
       " 'hour': ['2008-10-23 13:53:05',\n",
       "  '2008-10-23 13:53:06',\n",
       "  '2008-10-23 13:53:11',\n",
       "  '2008-10-23 13:53:16']}"
      ]
     },
     "execution_count": 33,
     "metadata": {},
     "output_type": "execute_result"
    }
   ],
   "source": [
    "# Let's build a dataframe from the 2D list\n",
    "\n",
    "data_dict = data_df.to_dict(orient='list')\n",
    "data_dict"
   ]
  },
  {
   "cell_type": "code",
   "execution_count": 34,
   "metadata": {
    "slideshow": {
     "slide_type": "fragment"
    }
   },
   "outputs": [
    {
     "data": {
      "text/html": [
       "<div>\n",
       "<style scoped>\n",
       "    .dataframe tbody tr th:only-of-type {\n",
       "        vertical-align: middle;\n",
       "    }\n",
       "\n",
       "    .dataframe tbody tr th {\n",
       "        vertical-align: top;\n",
       "    }\n",
       "\n",
       "    .dataframe thead th {\n",
       "        text-align: right;\n",
       "    }\n",
       "</style>\n",
       "<table border=\"1\" class=\"dataframe\">\n",
       "  <thead>\n",
       "    <tr style=\"text-align: right;\">\n",
       "      <th></th>\n",
       "      <th>uid</th>\n",
       "      <th>lat</th>\n",
       "      <th>lng</th>\n",
       "      <th>datetime</th>\n",
       "    </tr>\n",
       "  </thead>\n",
       "  <tbody>\n",
       "    <tr>\n",
       "      <th>0</th>\n",
       "      <td>1</td>\n",
       "      <td>39.984094</td>\n",
       "      <td>116.319236</td>\n",
       "      <td>2008-10-23 13:53:05</td>\n",
       "    </tr>\n",
       "    <tr>\n",
       "      <th>1</th>\n",
       "      <td>1</td>\n",
       "      <td>39.984198</td>\n",
       "      <td>116.319322</td>\n",
       "      <td>2008-10-23 13:53:06</td>\n",
       "    </tr>\n",
       "    <tr>\n",
       "      <th>2</th>\n",
       "      <td>1</td>\n",
       "      <td>39.984224</td>\n",
       "      <td>116.319402</td>\n",
       "      <td>2008-10-23 13:53:11</td>\n",
       "    </tr>\n",
       "    <tr>\n",
       "      <th>3</th>\n",
       "      <td>1</td>\n",
       "      <td>39.984211</td>\n",
       "      <td>116.319389</td>\n",
       "      <td>2008-10-23 13:53:16</td>\n",
       "    </tr>\n",
       "  </tbody>\n",
       "</table>\n",
       "</div>"
      ],
      "text/plain": [
       "   uid        lat         lng            datetime\n",
       "0    1  39.984094  116.319236 2008-10-23 13:53:05\n",
       "1    1  39.984198  116.319322 2008-10-23 13:53:06\n",
       "2    1  39.984224  116.319402 2008-10-23 13:53:11\n",
       "3    1  39.984211  116.319389 2008-10-23 13:53:16"
      ]
     },
     "execution_count": 34,
     "metadata": {},
     "output_type": "execute_result"
    }
   ],
   "source": [
    "tdf = skmob.TrajDataFrame(data_dict, latitude='latitude', datetime='hour', user_id='user')\n",
    "tdf"
   ]
  },
  {
   "cell_type": "markdown",
   "metadata": {
    "slideshow": {
     "slide_type": "subslide"
    }
   },
   "source": [
    "### From `file`\n",
    "\n",
    "Most of the time, mobility data are stored in csv files. TrajDataFrame has its own method `from_file` to construct the object from an input file.\n",
    "\n",
    "Let's try with a subsample of the GeoLife trajectories. The whole dataset can be found [here](https://www.microsoft.com/en-us/download/details.aspx?id=52367)"
   ]
  },
  {
   "cell_type": "code",
   "execution_count": 35,
   "metadata": {
    "slideshow": {
     "slide_type": "fragment"
    }
   },
   "outputs": [],
   "source": [
    "# read a dataset containing trajectories (GeoLife subsample, the data)\n",
    "\n",
    "tdf = skmob.TrajDataFrame.from_file('./data/geolife_sample.txt.gz', sep=',')"
   ]
  },
  {
   "cell_type": "code",
   "execution_count": 36,
   "metadata": {
    "slideshow": {
     "slide_type": "fragment"
    }
   },
   "outputs": [
    {
     "data": {
      "text/html": [
       "<div>\n",
       "<style scoped>\n",
       "    .dataframe tbody tr th:only-of-type {\n",
       "        vertical-align: middle;\n",
       "    }\n",
       "\n",
       "    .dataframe tbody tr th {\n",
       "        vertical-align: top;\n",
       "    }\n",
       "\n",
       "    .dataframe thead th {\n",
       "        text-align: right;\n",
       "    }\n",
       "</style>\n",
       "<table border=\"1\" class=\"dataframe\">\n",
       "  <thead>\n",
       "    <tr style=\"text-align: right;\">\n",
       "      <th></th>\n",
       "      <th>lat</th>\n",
       "      <th>lng</th>\n",
       "      <th>datetime</th>\n",
       "      <th>uid</th>\n",
       "    </tr>\n",
       "  </thead>\n",
       "  <tbody>\n",
       "    <tr>\n",
       "      <th>0</th>\n",
       "      <td>39.984094</td>\n",
       "      <td>116.319236</td>\n",
       "      <td>2008-10-23 05:53:05</td>\n",
       "      <td>1</td>\n",
       "    </tr>\n",
       "    <tr>\n",
       "      <th>1</th>\n",
       "      <td>39.984198</td>\n",
       "      <td>116.319322</td>\n",
       "      <td>2008-10-23 05:53:06</td>\n",
       "      <td>1</td>\n",
       "    </tr>\n",
       "    <tr>\n",
       "      <th>2</th>\n",
       "      <td>39.984224</td>\n",
       "      <td>116.319402</td>\n",
       "      <td>2008-10-23 05:53:11</td>\n",
       "      <td>1</td>\n",
       "    </tr>\n",
       "    <tr>\n",
       "      <th>3</th>\n",
       "      <td>39.984211</td>\n",
       "      <td>116.319389</td>\n",
       "      <td>2008-10-23 05:53:16</td>\n",
       "      <td>1</td>\n",
       "    </tr>\n",
       "    <tr>\n",
       "      <th>4</th>\n",
       "      <td>39.984217</td>\n",
       "      <td>116.319422</td>\n",
       "      <td>2008-10-23 05:53:21</td>\n",
       "      <td>1</td>\n",
       "    </tr>\n",
       "  </tbody>\n",
       "</table>\n",
       "</div>"
      ],
      "text/plain": [
       "         lat         lng            datetime  uid\n",
       "0  39.984094  116.319236 2008-10-23 05:53:05    1\n",
       "1  39.984198  116.319322 2008-10-23 05:53:06    1\n",
       "2  39.984224  116.319402 2008-10-23 05:53:11    1\n",
       "3  39.984211  116.319389 2008-10-23 05:53:16    1\n",
       "4  39.984217  116.319422 2008-10-23 05:53:21    1"
      ]
     },
     "execution_count": 36,
     "metadata": {},
     "output_type": "execute_result"
    }
   ],
   "source": [
    "# Let's explore the dataframe as we would do with Pandas\n",
    "\n",
    "tdf.head()"
   ]
  },
  {
   "cell_type": "code",
   "execution_count": 37,
   "metadata": {
    "slideshow": {
     "slide_type": "subslide"
    }
   },
   "outputs": [
    {
     "name": "stdout",
     "output_type": "stream",
     "text": [
      "lat,lng,datetime,uid\r\n",
      "39.984094,116.319236,2008-10-23 05:53:05,001\r\n",
      "39.984198,116.319322,2008-10-23 05:53:06,001\r\n",
      "39.984224,116.319402,2008-10-23 05:53:11,001\r\n",
      "39.984211,116.319389,2008-10-23 05:53:16,001\r\n",
      "39.984217,116.319422,2008-10-23 05:53:21,001\r\n",
      "39.98471,116.319865,2008-10-23 05:53:23,001\r\n",
      "39.984674,116.31981,2008-10-23 05:53:28,001\r\n",
      "39.984623,116.319773,2008-10-23 05:53:33,001\r\n",
      "39.984606,116.319732,2008-10-23 05:53:38,001\r\n",
      "gzcat: error writing to output: Broken pipe\r\n",
      "gzcat: ./data/geolife_sample.txt.gz: uncompress failed\r\n"
     ]
    }
   ],
   "source": [
    "filename = './data/geolife_sample.txt.gz'\n",
    "!gzcat ./data/geolife_sample.txt.gz | head"
   ]
  },
  {
   "cell_type": "code",
   "execution_count": 38,
   "metadata": {
    "slideshow": {
     "slide_type": "subslide"
    }
   },
   "outputs": [
    {
     "data": {
      "text/html": [
       "<div>\n",
       "<style scoped>\n",
       "    .dataframe tbody tr th:only-of-type {\n",
       "        vertical-align: middle;\n",
       "    }\n",
       "\n",
       "    .dataframe tbody tr th {\n",
       "        vertical-align: top;\n",
       "    }\n",
       "\n",
       "    .dataframe thead th {\n",
       "        text-align: right;\n",
       "    }\n",
       "</style>\n",
       "<table border=\"1\" class=\"dataframe\">\n",
       "  <thead>\n",
       "    <tr style=\"text-align: right;\">\n",
       "      <th></th>\n",
       "      <th>lat</th>\n",
       "      <th>lng</th>\n",
       "      <th>datetime</th>\n",
       "      <th>uid</th>\n",
       "    </tr>\n",
       "  </thead>\n",
       "  <tbody>\n",
       "    <tr>\n",
       "      <th>0</th>\n",
       "      <td>39.984094</td>\n",
       "      <td>116.319236</td>\n",
       "      <td>2008-10-23 05:53:05</td>\n",
       "      <td>1</td>\n",
       "    </tr>\n",
       "    <tr>\n",
       "      <th>1</th>\n",
       "      <td>39.984198</td>\n",
       "      <td>116.319322</td>\n",
       "      <td>2008-10-23 05:53:06</td>\n",
       "      <td>1</td>\n",
       "    </tr>\n",
       "    <tr>\n",
       "      <th>2</th>\n",
       "      <td>39.984224</td>\n",
       "      <td>116.319402</td>\n",
       "      <td>2008-10-23 05:53:11</td>\n",
       "      <td>1</td>\n",
       "    </tr>\n",
       "    <tr>\n",
       "      <th>3</th>\n",
       "      <td>39.984211</td>\n",
       "      <td>116.319389</td>\n",
       "      <td>2008-10-23 05:53:16</td>\n",
       "      <td>1</td>\n",
       "    </tr>\n",
       "    <tr>\n",
       "      <th>4</th>\n",
       "      <td>39.984217</td>\n",
       "      <td>116.319422</td>\n",
       "      <td>2008-10-23 05:53:21</td>\n",
       "      <td>1</td>\n",
       "    </tr>\n",
       "  </tbody>\n",
       "</table>\n",
       "</div>"
      ],
      "text/plain": [
       "         lat         lng            datetime  uid\n",
       "0  39.984094  116.319236 2008-10-23 05:53:05    1\n",
       "1  39.984198  116.319322 2008-10-23 05:53:06    1\n",
       "2  39.984224  116.319402 2008-10-23 05:53:11    1\n",
       "3  39.984211  116.319389 2008-10-23 05:53:16    1\n",
       "4  39.984217  116.319422 2008-10-23 05:53:21    1"
      ]
     },
     "execution_count": 38,
     "metadata": {},
     "output_type": "execute_result"
    }
   ],
   "source": [
    "tdf = skmob.TrajDataFrame.from_file(filename, sep=',')\n",
    "tdf[:5]"
   ]
  },
  {
   "cell_type": "markdown",
   "metadata": {
    "slideshow": {
     "slide_type": "subslide"
    }
   },
   "source": [
    "## Properties\n",
    "\n",
    "TrajDataFrame supports the possibility to add properties.\n",
    "\n",
    "- `crs`: it's the coordinate reference system associated to the trajectories. By default epsg:4326 (lat/long)\n",
    "- `parameters`: dictionary to add as many as necessary additional properties."
   ]
  },
  {
   "cell_type": "code",
   "execution_count": 39,
   "metadata": {
    "slideshow": {
     "slide_type": "subslide"
    }
   },
   "outputs": [
    {
     "data": {
      "text/plain": [
       "{'init': 'epsg:4326'}"
      ]
     },
     "execution_count": 39,
     "metadata": {},
     "output_type": "execute_result"
    }
   ],
   "source": [
    "tdf.crs"
   ]
  },
  {
   "cell_type": "code",
   "execution_count": 40,
   "metadata": {
    "scrolled": true,
    "slideshow": {
     "slide_type": "fragment"
    }
   },
   "outputs": [
    {
     "data": {
      "text/plain": [
       "{'from_file': './data/geolife_sample.txt.gz'}"
      ]
     },
     "execution_count": 40,
     "metadata": {},
     "output_type": "execute_result"
    }
   ],
   "source": [
    "tdf.parameters"
   ]
  },
  {
   "cell_type": "code",
   "execution_count": 41,
   "metadata": {
    "slideshow": {
     "slide_type": "fragment"
    }
   },
   "outputs": [
    {
     "data": {
      "text/plain": [
       "{'from_file': './data/geolife_sample.txt.gz', 'something': 5}"
      ]
     },
     "execution_count": 41,
     "metadata": {},
     "output_type": "execute_result"
    }
   ],
   "source": [
    "tdf.parameters['something'] = 5\n",
    "tdf.parameters"
   ]
  },
  {
   "cell_type": "markdown",
   "metadata": {
    "slideshow": {
     "slide_type": "subslide"
    }
   },
   "source": [
    "## Column types\n",
    "\n",
    "The mandatory (and optional) columns must have specific types."
   ]
  },
  {
   "cell_type": "code",
   "execution_count": 42,
   "metadata": {
    "slideshow": {
     "slide_type": "fragment"
    }
   },
   "outputs": [
    {
     "data": {
      "text/plain": [
       "pandas.core.frame.DataFrame"
      ]
     },
     "execution_count": 42,
     "metadata": {},
     "output_type": "execute_result"
    }
   ],
   "source": [
    "# In the DataFrame\n",
    "type(data_df)"
   ]
  },
  {
   "cell_type": "code",
   "execution_count": 43,
   "metadata": {
    "slideshow": {
     "slide_type": "fragment"
    }
   },
   "outputs": [
    {
     "data": {
      "text/plain": [
       "user          int64\n",
       "latitude    float64\n",
       "lng         float64\n",
       "hour         object\n",
       "dtype: object"
      ]
     },
     "execution_count": 43,
     "metadata": {},
     "output_type": "execute_result"
    }
   ],
   "source": [
    "data_df.dtypes"
   ]
  },
  {
   "cell_type": "code",
   "execution_count": 44,
   "metadata": {
    "slideshow": {
     "slide_type": "subslide"
    }
   },
   "outputs": [
    {
     "data": {
      "text/plain": [
       "skmob.core.trajectorydataframe.TrajDataFrame"
      ]
     },
     "execution_count": 44,
     "metadata": {},
     "output_type": "execute_result"
    }
   ],
   "source": [
    "# In the TrajDataFrame\n",
    "type(tdf)"
   ]
  },
  {
   "cell_type": "code",
   "execution_count": 133,
   "metadata": {
    "slideshow": {
     "slide_type": "fragment"
    }
   },
   "outputs": [
    {
     "data": {
      "text/plain": [
       "lat                float64\n",
       "lng                float64\n",
       "datetime    datetime64[ns]\n",
       "uid                  int64\n",
       "dtype: object"
      ]
     },
     "execution_count": 133,
     "metadata": {},
     "output_type": "execute_result"
    }
   ],
   "source": [
    "tdf.dtypes"
   ]
  },
  {
   "cell_type": "code",
   "execution_count": 47,
   "metadata": {
    "slideshow": {
     "slide_type": "fragment"
    }
   },
   "outputs": [
    {
     "data": {
      "text/plain": [
       "0    39.984094\n",
       "1    39.984198\n",
       "2    39.984224\n",
       "3    39.984211\n",
       "4    39.984217\n",
       "Name: lat, dtype: float64"
      ]
     },
     "execution_count": 47,
     "metadata": {},
     "output_type": "execute_result"
    }
   ],
   "source": [
    "# We can access the columns as we would do with pandas\n",
    "\n",
    "tdf.lat.head()"
   ]
  },
  {
   "cell_type": "markdown",
   "metadata": {
    "slideshow": {
     "slide_type": "subslide"
    }
   },
   "source": [
    "## Write and read a `TrajDataFrame`\n",
    "\n",
    "To include all the metadata attached to TrajDataFrame and write/read them into a file, scikit-mobility provides ad-hoc methods."
   ]
  },
  {
   "cell_type": "markdown",
   "metadata": {
    "slideshow": {
     "slide_type": "subslide"
    }
   },
   "source": [
    "### Write a `TrajDataFrame` to file\n",
    "\n",
    "- including the `tdf.parameters` and `tdf.crs`\n",
    "- automatically preserve the dtype of columns with time stamps (time zone info is lost though).\n",
    "\n",
    "**Caveat**: dtypes other than `int`, `float` and `datetime` may not be identical to the original dtype after loading from a json file. \n",
    "\n",
    "Check with `tdf.dtypes` and manually convert each column to the proper dtype, if needed. "
   ]
  },
  {
   "cell_type": "code",
   "execution_count": 50,
   "metadata": {
    "slideshow": {
     "slide_type": "subslide"
    }
   },
   "outputs": [],
   "source": [
    "skmob.write(tdf, './tdf.json')"
   ]
  },
  {
   "cell_type": "code",
   "execution_count": 51,
   "metadata": {
    "slideshow": {
     "slide_type": "fragment"
    }
   },
   "outputs": [
    {
     "data": {
      "text/plain": [
       "lat                float64\n",
       "lng                float64\n",
       "datetime    datetime64[ns]\n",
       "uid                  int64\n",
       "dtype: object"
      ]
     },
     "execution_count": 51,
     "metadata": {},
     "output_type": "execute_result"
    }
   ],
   "source": [
    "tdf.dtypes"
   ]
  },
  {
   "cell_type": "code",
   "execution_count": 52,
   "metadata": {
    "slideshow": {
     "slide_type": "fragment"
    }
   },
   "outputs": [
    {
     "data": {
      "text/plain": [
       "{'from_file': './data/geolife_sample.txt.gz', 'something': 5}"
      ]
     },
     "execution_count": 52,
     "metadata": {},
     "output_type": "execute_result"
    }
   ],
   "source": [
    "tdf.parameters"
   ]
  },
  {
   "cell_type": "markdown",
   "metadata": {
    "slideshow": {
     "slide_type": "subslide"
    }
   },
   "source": [
    "### Load a `TrajDataFrame` from file\n",
    "\n",
    "- trajectories data\n",
    "- automatically add `tdf.parameters` and `tdf.crs` stored with the write function.\n"
   ]
  },
  {
   "cell_type": "code",
   "execution_count": 56,
   "metadata": {
    "slideshow": {
     "slide_type": "fragment"
    }
   },
   "outputs": [
    {
     "data": {
      "text/html": [
       "<div>\n",
       "<style scoped>\n",
       "    .dataframe tbody tr th:only-of-type {\n",
       "        vertical-align: middle;\n",
       "    }\n",
       "\n",
       "    .dataframe tbody tr th {\n",
       "        vertical-align: top;\n",
       "    }\n",
       "\n",
       "    .dataframe thead th {\n",
       "        text-align: right;\n",
       "    }\n",
       "</style>\n",
       "<table border=\"1\" class=\"dataframe\">\n",
       "  <thead>\n",
       "    <tr style=\"text-align: right;\">\n",
       "      <th></th>\n",
       "      <th>lat</th>\n",
       "      <th>lng</th>\n",
       "      <th>datetime</th>\n",
       "      <th>uid</th>\n",
       "    </tr>\n",
       "  </thead>\n",
       "  <tbody>\n",
       "    <tr>\n",
       "      <th>0</th>\n",
       "      <td>39.984094</td>\n",
       "      <td>116.319236</td>\n",
       "      <td>2008-10-23 05:53:05</td>\n",
       "      <td>1</td>\n",
       "    </tr>\n",
       "    <tr>\n",
       "      <th>1</th>\n",
       "      <td>39.984198</td>\n",
       "      <td>116.319322</td>\n",
       "      <td>2008-10-23 05:53:06</td>\n",
       "      <td>1</td>\n",
       "    </tr>\n",
       "    <tr>\n",
       "      <th>2</th>\n",
       "      <td>39.984224</td>\n",
       "      <td>116.319402</td>\n",
       "      <td>2008-10-23 05:53:11</td>\n",
       "      <td>1</td>\n",
       "    </tr>\n",
       "    <tr>\n",
       "      <th>3</th>\n",
       "      <td>39.984211</td>\n",
       "      <td>116.319389</td>\n",
       "      <td>2008-10-23 05:53:16</td>\n",
       "      <td>1</td>\n",
       "    </tr>\n",
       "  </tbody>\n",
       "</table>\n",
       "</div>"
      ],
      "text/plain": [
       "         lat         lng            datetime  uid\n",
       "0  39.984094  116.319236 2008-10-23 05:53:05    1\n",
       "1  39.984198  116.319322 2008-10-23 05:53:06    1\n",
       "2  39.984224  116.319402 2008-10-23 05:53:11    1\n",
       "3  39.984211  116.319389 2008-10-23 05:53:16    1"
      ]
     },
     "execution_count": 56,
     "metadata": {},
     "output_type": "execute_result"
    }
   ],
   "source": [
    "tdf2 = skmob.read('./tdf.json')\n",
    "tdf2[:4]"
   ]
  },
  {
   "cell_type": "code",
   "execution_count": 57,
   "metadata": {
    "slideshow": {
     "slide_type": "fragment"
    }
   },
   "outputs": [
    {
     "data": {
      "text/plain": [
       "lat                float64\n",
       "lng                float64\n",
       "datetime    datetime64[ns]\n",
       "uid                  int64\n",
       "dtype: object"
      ]
     },
     "execution_count": 57,
     "metadata": {},
     "output_type": "execute_result"
    }
   ],
   "source": [
    "tdf2.dtypes"
   ]
  },
  {
   "cell_type": "code",
   "execution_count": 58,
   "metadata": {
    "slideshow": {
     "slide_type": "fragment"
    }
   },
   "outputs": [
    {
     "data": {
      "text/plain": [
       "{'from_file': './data/geolife_sample.txt.gz', 'something': 5}"
      ]
     },
     "execution_count": 58,
     "metadata": {},
     "output_type": "execute_result"
    }
   ],
   "source": [
    "tdf2.parameters"
   ]
  },
  {
   "cell_type": "markdown",
   "metadata": {
    "slideshow": {
     "slide_type": "subslide"
    }
   },
   "source": [
    "## Plotting\n",
    "\n",
    "A very important aspect when working with mobil the `TrajDataFrame`"
   ]
  },
  {
   "cell_type": "code",
   "execution_count": 150,
   "metadata": {
    "scrolled": false
   },
   "outputs": [
    {
     "data": {
      "text/html": [
       "<div style=\"width:100%;\"><div style=\"position:relative;width:100%;height:0;padding-bottom:60%;\"><iframe src=\"data:text/html;charset=utf-8;base64,PCFET0NUWVBFIGh0bWw+CjxoZWFkPiAgICAKICAgIDxtZXRhIGh0dHAtZXF1aXY9ImNvbnRlbnQtdHlwZSIgY29udGVudD0idGV4dC9odG1sOyBjaGFyc2V0PVVURi04IiAvPgogICAgPHNjcmlwdD5MX1BSRUZFUl9DQU5WQVM9ZmFsc2U7IExfTk9fVE9VQ0g9ZmFsc2U7IExfRElTQUJMRV8zRD1mYWxzZTs8L3NjcmlwdD4KICAgIDxzY3JpcHQgc3JjPSJodHRwczovL2Nkbi5qc2RlbGl2ci5uZXQvbnBtL2xlYWZsZXRAMS4zLjQvZGlzdC9sZWFmbGV0LmpzIj48L3NjcmlwdD4KICAgIDxzY3JpcHQgc3JjPSJodHRwczovL2FqYXguZ29vZ2xlYXBpcy5jb20vYWpheC9saWJzL2pxdWVyeS8xLjExLjEvanF1ZXJ5Lm1pbi5qcyI+PC9zY3JpcHQ+CiAgICA8c2NyaXB0IHNyYz0iaHR0cHM6Ly9tYXhjZG4uYm9vdHN0cmFwY2RuLmNvbS9ib290c3RyYXAvMy4yLjAvanMvYm9vdHN0cmFwLm1pbi5qcyI+PC9zY3JpcHQ+CiAgICA8c2NyaXB0IHNyYz0iaHR0cHM6Ly9jZG5qcy5jbG91ZGZsYXJlLmNvbS9hamF4L2xpYnMvTGVhZmxldC5hd2Vzb21lLW1hcmtlcnMvMi4wLjIvbGVhZmxldC5hd2Vzb21lLW1hcmtlcnMuanMiPjwvc2NyaXB0PgogICAgPGxpbmsgcmVsPSJzdHlsZXNoZWV0IiBocmVmPSJodHRwczovL2Nkbi5qc2RlbGl2ci5uZXQvbnBtL2xlYWZsZXRAMS4zLjQvZGlzdC9sZWFmbGV0LmNzcyIvPgogICAgPGxpbmsgcmVsPSJzdHlsZXNoZWV0IiBocmVmPSJodHRwczovL21heGNkbi5ib290c3RyYXBjZG4uY29tL2Jvb3RzdHJhcC8zLjIuMC9jc3MvYm9vdHN0cmFwLm1pbi5jc3MiLz4KICAgIDxsaW5rIHJlbD0ic3R5bGVzaGVldCIgaHJlZj0iaHR0cHM6Ly9tYXhjZG4uYm9vdHN0cmFwY2RuLmNvbS9ib290c3RyYXAvMy4yLjAvY3NzL2Jvb3RzdHJhcC10aGVtZS5taW4uY3NzIi8+CiAgICA8bGluayByZWw9InN0eWxlc2hlZXQiIGhyZWY9Imh0dHBzOi8vbWF4Y2RuLmJvb3RzdHJhcGNkbi5jb20vZm9udC1hd2Vzb21lLzQuNi4zL2Nzcy9mb250LWF3ZXNvbWUubWluLmNzcyIvPgogICAgPGxpbmsgcmVsPSJzdHlsZXNoZWV0IiBocmVmPSJodHRwczovL2NkbmpzLmNsb3VkZmxhcmUuY29tL2FqYXgvbGlicy9MZWFmbGV0LmF3ZXNvbWUtbWFya2Vycy8yLjAuMi9sZWFmbGV0LmF3ZXNvbWUtbWFya2Vycy5jc3MiLz4KICAgIDxsaW5rIHJlbD0ic3R5bGVzaGVldCIgaHJlZj0iaHR0cHM6Ly9yYXdjZG4uZ2l0aGFjay5jb20vcHl0aG9uLXZpc3VhbGl6YXRpb24vZm9saXVtL21hc3Rlci9mb2xpdW0vdGVtcGxhdGVzL2xlYWZsZXQuYXdlc29tZS5yb3RhdGUuY3NzIi8+CiAgICA8c3R5bGU+aHRtbCwgYm9keSB7d2lkdGg6IDEwMCU7aGVpZ2h0OiAxMDAlO21hcmdpbjogMDtwYWRkaW5nOiAwO308L3N0eWxlPgogICAgPHN0eWxlPiNtYXAge3Bvc2l0aW9uOmFic29sdXRlO3RvcDowO2JvdHRvbTowO3JpZ2h0OjA7bGVmdDowO308L3N0eWxlPgogICAgCiAgICA8bWV0YSBuYW1lPSJ2aWV3cG9ydCIgY29udGVudD0id2lkdGg9ZGV2aWNlLXdpZHRoLAogICAgICAgIGluaXRpYWwtc2NhbGU9MS4wLCBtYXhpbXVtLXNjYWxlPTEuMCwgdXNlci1zY2FsYWJsZT1ubyIgLz4KICAgIDxzdHlsZT4jbWFwX2UwN2FlYTIwNGY3MzQ0NmJhOGFlMzc1ZTk4YmYwZWM4IHsKICAgICAgICBwb3NpdGlvbjogcmVsYXRpdmU7CiAgICAgICAgd2lkdGg6IDEwMC4wJTsKICAgICAgICBoZWlnaHQ6IDEwMC4wJTsKICAgICAgICBsZWZ0OiAwLjAlOwogICAgICAgIHRvcDogMC4wJTsKICAgICAgICB9CiAgICA8L3N0eWxlPgo8L2hlYWQ+Cjxib2R5PiAgICAKICAgIAogICAgPGRpdiBjbGFzcz0iZm9saXVtLW1hcCIgaWQ9Im1hcF9lMDdhZWEyMDRmNzM0NDZiYThhZTM3NWU5OGJmMGVjOCIgPjwvZGl2Pgo8L2JvZHk+CjxzY3JpcHQ+ICAgIAogICAgCiAgICAKICAgICAgICB2YXIgYm91bmRzID0gbnVsbDsKICAgIAoKICAgIHZhciBtYXBfZTA3YWVhMjA0ZjczNDQ2YmE4YWUzNzVlOThiZjBlYzggPSBMLm1hcCgKICAgICAgICAnbWFwX2UwN2FlYTIwNGY3MzQ0NmJhOGFlMzc1ZTk4YmYwZWM4JywgewogICAgICAgIGNlbnRlcjogWzM5Ljk5NjIzMzUsIDExNi4zMjE2N10sCiAgICAgICAgem9vbTogMTIsCiAgICAgICAgbWF4Qm91bmRzOiBib3VuZHMsCiAgICAgICAgbGF5ZXJzOiBbXSwKICAgICAgICB3b3JsZENvcHlKdW1wOiBmYWxzZSwKICAgICAgICBjcnM6IEwuQ1JTLkVQU0czODU3LAogICAgICAgIHpvb21Db250cm9sOiB0cnVlLAogICAgICAgIH0pOwoKICAgIAogICAgCiAgICB2YXIgdGlsZV9sYXllcl82MmVhYTYwMzkwODc0OWQxYTQ3MjQ3ZGMyZjdmODE4YiA9IEwudGlsZUxheWVyKAogICAgICAgICdodHRwczovL3N0YW1lbi10aWxlcy17c30uYS5zc2wuZmFzdGx5Lm5ldC90b25lci97en0ve3h9L3t5fS5wbmcnLAogICAgICAgIHsKICAgICAgICAiYXR0cmlidXRpb24iOiBudWxsLAogICAgICAgICJkZXRlY3RSZXRpbmEiOiBmYWxzZSwKICAgICAgICAibWF4TmF0aXZlWm9vbSI6IDE4LAogICAgICAgICJtYXhab29tIjogMTgsCiAgICAgICAgIm1pblpvb20iOiAwLAogICAgICAgICJub1dyYXAiOiBmYWxzZSwKICAgICAgICAib3BhY2l0eSI6IDEsCiAgICAgICAgInN1YmRvbWFpbnMiOiAiYWJjIiwKICAgICAgICAidG1zIjogZmFsc2UKfSkuYWRkVG8obWFwX2UwN2FlYTIwNGY3MzQ0NmJhOGFlMzc1ZTk4YmYwZWM4KTsKICAgIAogICAgICAgIAogICAgICAgIHZhciBnZW9fanNvbl9jMWI4MzY3M2NkMDY0ZTg4YWFhZjg0OGY3NWYxNWRhZiA9IEwuZ2VvSnNvbigKICAgICAgICAgICAgeyJmZWF0dXJlcyI6IFt7Imdlb21ldHJ5IjogeyJjb29yZGluYXRlcyI6IFtbMTE2LjMxOTIzNiwgMzkuOTg0MDk0XSwgWzExNi4zMjQzOTUsIDM5Ljk3OTc2NF0sIFsxMTYuMzI2NzI4LCAzOS45ODQwNjJdLCBbMTE2LjMyNjU0Mjk5OTk5OTk5LCAzOS45OTM3NDJdLCBbMTE2LjMyMTY3LCA0MC4wMDE2MjZdLCBbMTE2LjMxNTkxLCA0MC4wMDk1NTldLCBbMTE2LjMxMDEzNSwgNDAuMDE2NDQ4XSwgWzExNi4zMDU1OTA5OTk5OTk5OSwgNDAuMDE0NTcxOTk5OTk5OTk0XSwgWzExNi4zMDY1MjksIDQwLjAxMzgyXSwgWzExNi4zMDY1MjYsIDQwLjAxMzg1OTAwMDAwMDAwNF0sIFsxMTYuMzEyNTYsIDQwLjAxMDg4NDAwMDAwMDAwNF0sIFsxMTYuMzIwMTEyOTk5OTk5OTksIDQwLjAwNDkyNF0sIFsxMTYuMzI2MjcsIDM5Ljk5NzM2Ml0sIFsxMTYuMzI2ODE2OTk5OTk5OTksIDM5Ljk4Njc0MDAwMDAwMDAwNV0sIFsxMTYuMzI1NzcyLCAzOS45Nzg5ODNdLCBbMTE2LjMyNDYxNTk5OTk5OTk5LCAzOS45Nzk1ODJdLCBbMTE2LjMxMDgxNCwgMzkuOTgwMDc1XSwgWzExNi4zMDg4MTM5OTk5OTk5OCwgMzkuOTgxMTAzMDAwMDAwMDA0XSwgWzExNi4zMTA3MjkwMDAwMDAwMSwgMzkuOTgxNTk1XSwgWzExNi4zMTM1ODMwMDAwMDAwMSwgMzkuOTc5NTQxOTk5OTk5OTk1XSwgWzExNi4zMTM3MjIsIDM5Ljk3OTU1M10sIFsxMTYuMzI3MDI4LCAzOS45Nzk4NTkwMDAwMDAwMDVdLCBbMTE2LjMyNjE2OCwgMzkuOTc4Nzc3XSwgWzExNi4zMjUzODcsIDM5Ljk3OTcyOV0sIFsxMTYuMzEwOTM4LCAzOS45ODAwODhdLCBbMTE2LjMxMDQ4NTAwMDAwMDAxLCAzOS45ODE0MjE5OTk5OTk5OTVdLCBbMTE2LjMxMDkxMjk5OTk5OTk5LCAzOS45ODE5MzFdLCBbMTE2LjMxMjYzNTAwMDAwMDAxLCAzOS45Nzk1NjhdLCBbMTE2LjMyMzg0OSwgMzkuOTc5NTI0XSwgWzExNi4zMDU3NiwgNDAuMDE1OTA0XSwgWzExNi4zMTA2MTI5OTk5OTk5OSwgNDAuMDE1MzI3XSwgWzExNi4zMTE4OTksIDQwLjAxMzYzNV0sIFsxMTYuMzA5MDI4LCA0MC4wMDM3NjVdLCBbMTE2LjMwOTAyNiwgMzkuOTk4MDI2XSwgWzExNi4zMDAxMjA5OTk5OTk5OSwgMzkuOTk2NDkxXSwgWzExNi4yOTExODg5OTk5OTk5OSwgMzkuOTk1OTc5OTk5OTk5OTk2XSwgWzExNi4yODAwODMsIDM5Ljk5NzE5NF0sIFsxMTYuMjY3Nzk0LCA0MC4wMDI2OTFdLCBbMTE2LjI1MDI1MywgNDAuMDA0ODU1XSwgWzExNi4yMzYzMDUsIDM5Ljk5OTM0NV0sIFsxMTYuMjIwMzg1MDAwMDAwMDEsIDM5Ljk5NTQyMV0sIFsxMTYuMjEzMzQzLCAzOS45OTIyNDhdLCBbMTE2LjIwNzEyNCwgMzkuOTkyNDc4OTk5OTk5OTk2XSwgWzExNi4yMDExNzcsIDM5Ljk5Mzc0MV0sIFsxMTYuMTk4OTM0MDAwMDAwMDEsIDM5Ljk5NzAyOF0sIFsxMTYuMTk2ODI1LCAzOS45OTY4MzgwMDAwMDAwMDRdLCBbMTE2LjE5NjY2OSwgMzkuOTk3MjEyXSwgWzExNi4xOTU2OTgsIDM5Ljk5OTkxM10sIFsxMTYuMTkyMTk5LCA0MC4wMDIxMzhdLCBbMTE2LjE4OTg3NywgNDAuMDA1MzExXSwgWzExNi4xODUwMTY5OTk5OTk5OSwgNDAuMDA0NDE0MDAwMDAwMDA0XSwgWzExNi4xODEwMTAwMDAwMDAwMSwgNDAuMDAyNzcxXSwgWzExNi4xNzU3NzQsIDQwLjAwMjc2NTk5OTk5OTk5NF0sIFsxMTYuMTcyNjcxOTk5OTk5OTksIDQwLjAwMDY5OV0sIFsxMTYuMTcxMTE4OTk5OTk5OTksIDQwLjAwMTcxOF0sIFsxMTYuMTcwNzUxLCA0MC4wMDI1NzddLCBbMTE2LjE2OTQzMzAwMDAwMDAxLCA0MC4wMDI0MjldLCBbMTE2LjE2NzU3NSwgNDAuMDAyMjMyXSwgWzExNi4xNjY3MzYwMDAwMDAwMSwgNDAuMDAxNzQwMDAwMDAwMDA1XSwgWzExNi4xNjU5MjYsIDQwLjAwMDE1NV0sIFsxMTYuMTYyMDg5OTk5OTk5OTksIDM5Ljk5OTI5MV0sIFsxMTYuMTU2MTI1LCAzOS45OTg2NDddLCBbMTE2LjE1MTMyLCAzOS45OTcxOTI5OTk5OTk5OTZdLCBbMTE2LjE0NzQxMDAwMDAwMDAxLCAzOS45OTM5NjZdLCBbMTE2LjE0NTMyMSwgMzkuOTkzMTU0XSwgWzExNi4xNDczNjI5OTk5OTk5OCwgMzkuOTkzOTIyOTk5OTk5OTk1XSwgWzExNi4xNTI4MjUsIDM5Ljk5NzY2NF0sIFsxMTYuMTU3ODgxLCAzOS45OTc4MTE5OTk5OTk5OTZdLCBbMTE2LjE2MTcxNywgMzkuOTk1NTczXSwgWzExNi4xNjc1NzE5OTk5OTk5OSwgMzkuOTk1MDcxXSwgWzExNi4xNjk0NjEwMDAwMDAwMSwgMzkuOTk0NjQ4XSwgWzExNi4xNzMzMTgsIDM5Ljk5NjA0MTk5OTk5OTk5Nl0sIFsxMTYuMTc2NzE4LCAzOS45OTY4NDhdLCBbMTE2LjE3OTcwOCwgMzkuOTk2ODRdLCBbMTE2LjE4NDUxNTk5OTk5OTk5LCAzOS45OTU0MjgwMDAwMDAwMDRdLCBbMTE2LjE4NzU4NDAwMDAwMDAyLCAzOS45OTI0MDddLCBbMTE2LjE4NzAwNSwgMzkuOTg5OTQyXSwgWzExNi4xODYyMDYsIDM5Ljk4OTE1NV0sIFsxMTYuMTg4MjEwMDAwMDAwMDEsIDM5Ljk4ODk1OV0sIFsxMTYuMTg4NTI5LCAzOS45ODgxNzZdLCBbMTE2LjE5MTI3NiwgMzkuOTg5NzddLCBbMTE2LjE5Mzk5Mzk5OTk5OTk5LCAzOS45OTEwM10sIFsxMTYuMTk3MjE4OTk5OTk5OTksIDM5Ljk5MTg5NV0sIFsxMTYuMjAzMTQ0OTk5OTk5OTksIDM5Ljk5MTQ2XSwgWzExNi4yMDQ5OTQsIDM5Ljk5MjQ3NV0sIFsxMTYuMjE1MjUxLCAzOS45OTE0MjldLCBbMTE2LjI0Njk0NSwgNDAuMDA0MjY1MDAwMDAwMDA0XSwgWzExNi4yNjIwNDYsIDQwLjAwNDA3M10sIFsxMTYuMjc1NjM4OTk5OTk5OTgsIDQwLjAwMDQ1XSwgWzExNi4yODU1MjEsIDM5Ljk5Njg2Nl0sIFsxMTYuMjk0ODkxOTk5OTk5OTksIDM5Ljk5NjAwM10sIFsxMTYuMzA4Nzk0OTk5OTk5OTksIDM5Ljk5ODAxNDAwMDAwMDAwNV0sIFsxMTYuMzA5MzQ4LCA0MC4wMDM5NjhdLCBbMTE2LjMxMjIyMywgNDAuMDEzMjk4OTk5OTk5OTk2XSwgWzExNi4zMDU2NzIsIDQwLjAxNDEzNDAwMDAwMDAwNl0sIFsxMTYuMzExNTAxLCA0MC4wMTcxNjMwMDAwMDAwMDRdLCBbMTE2LjMwNzQ4NzAwMDAwMDAxLCA0MC4wMjY3MTVdLCBbMTE2LjMxNDEyOCwgNDAuMDMxOTk4XSwgWzExNi4zMDU2NzIsIDQwLjA0MzddLCBbMTE2LjI5NzExNCwgNDAuMDU3NjQyXSwgWzExNi4zMTA0MzAwMDAwMDAwMSwgNDAuMDY5NTkyXSwgWzExNi4zMjk3OTM5OTk5OTk5OSwgNDAuMDY5NDA0OTk5OTk5OTk2XSwgWzExNi4zMzg2NjU5OTk5OTk5OSwgNDAuMDcxMzIzXSwgWzExNi4zNDIwNzgsIDQwLjA3NTMzNDk5OTk5OTk5NV0sIFsxMTYuMzM5NDYzOTk5OTk5OTksIDQwLjA3NDEyMTk5OTk5OTk5Nl0sIFsxMTYuMzM2NTUyLCA0MC4wNjk4NzJdLCBbMTE2LjMzMDYzNCwgNDAuMDY5Njc2XSwgWzExNi4zMzAxMzcwMDAwMDAwMSwgNDAuMDY5NTIyXSwgWzExNi4zMTI5NDksIDQwLjA2OTUzOF0sIFsxMTYuMjk2ODY5LCA0MC4wNTc3NzRdLCBbMTE2LjMwNTI2Njk5OTk5OTk5LCA0MC4wNDQxMl0sIFsxMTYuMzE0MDgsIDQwLjAzMTc2NF0sIFsxMTYuMzIxNjIzLCA0MC4wMTU2NTRdLCBbMTE2LjMzMTE5NywgNDAuMDAxNjcyXSwgWzExNi4zMzE1LCAzOS45ODc4NDhdLCBbMTE2LjMzMzcwMSwgMzkuOTc0ODM1XSwgWzExNi4zODM2NDM5OTk5OTk5OSwgMzkuOTc3MTM1XSwgWzExNi4zODQxNjIwMDAwMDAwMiwgMzkuOTc3NjY3XSwgWzExNi4zODQxMjYsIDM5Ljk3NzY0M10sIFsxMTYuMzg0MzM1MDAwMDAwMDEsIDM5Ljk3NzcwMV0sIFsxMTYuMzg0MTUyLCAzOS45Nzc2NjFdLCBbMTE2LjM4NDExNTk5OTk5OTk5LCAzOS45Nzc2MjhdLCBbMTE2LjM4NTc4NjAwMDAwMDAxLCAzOS45NzU2MzRdLCBbMTE2LjM4NTY0OCwgMzkuOTc1NjQ5XSwgWzExNi4zNzM0OTIsIDM5Ljk3NTQ3M10sIFsxMTYuMzYwNjk3LCAzOS45NzUyNjJdLCBbMTE2LjM0NDY4NDAwMDAwMDAyLCAzOS45NzUyODhdLCBbMTE2LjMzMDg2OCwgMzkuOTc1MDgyXSwgWzExNi4zMjY5MzIwMDAwMDAwMSwgMzkuOTc3NzNdLCBbMTE2LjMyOTExMjAwMDAwMDAxLCAzOS45NzU0MTUwMDAwMDAwMDVdLCBbMTE2LjMzMzkxLCAzOS45NzUzNjUwMDAwMDAwMDRdLCBbMTE2LjMzMTgxNCwgMzkuOTg3MTE0XSwgWzExNi4zMzEyNTcwMDAwMDAwMSwgNDAuMDAyMDkzXSwgWzExNi4zMTk4NzksIDQwLjAxNzQ3MV0sIFsxMTYuMzEzOTUzLCA0MC4wMzIwOTAwMDAwMDAwMDRdLCBbMTE2LjMxMDQ3NywgNDAuMDI4MDkwOTk5OTk5OTk2XSwgWzExNi4zMDgxMTcsIDQwLjAxOTU4NF0sIFsxMTYuMzA2NDU5LCA0MC4wMTM3OTFdLCBbMTE2LjMwNjUzMiwgNDAuMDEzODkyOTk5OTk5OTk2XSwgWzExNi4zMDY0ODg5OTk5OTk5OCwgNDAuMDEzNzczXSwgWzExNi4zMDY0ODUwMDAwMDAwMSwgNDAuMDEzNzk2XSwgWzExNi4zMDY0OTgsIDQwLjAxMzgwNl0sIFsxMTYuMzA2NTEyMDAwMDAwMDEsIDQwLjAxMzgxNl0sIFsxMTYuMzA2NTA5LCA0MC4wMTM4MDRdLCBbMTE2LjMwNjUzNjAwMDAwMDAxLCA0MC4wMTM4MV0sIFsxMTYuMzA2NTEsIDQwLjAxMzgxM10sIFsxMTYuMzA1OTg1LCA0MC4wMTU4ODZdLCBbMTE2LjMxMTI4NzAwMDAwMDAxLCA0MC4wMTQ5ODFdLCBbMTE2LjMxMTgxNjk5OTk5OTk5LCA0MC4wMTMzNDVdLCBbMTE2LjMxNzY4NTAwMDAwMDAxLCA0MC4wMDU4MTRdLCBbMTE2LjMyNTUxMDAwMDAwMDAxLCAzOS45OTk0ODVdLCBbMTE2LjMyNjgwNywgMzkuOTg5Nzg3XSwgWzExNi4zMjczMTg5OTk5OTk5OSwgMzkuOTc5MDU4XSwgWzExNi4zMjg1MjMsIDM5Ljk4MjYxXSwgWzExNi4zMjc5NzUsIDM5Ljk4MzYzMl0sIFsxMTYuMzIzMTQyOTk5OTk5OTksIDM5Ljk4OTg2M10sIFsxMTYuMzI4MjM5LCAzOS45ODM0MzFdLCBbMTE2LjMyODg4NzAwMDAwMDAxLCAzOS45ODE4NjhdLCBbMTE2LjMyNjE2MDAwMDAwMDAyLCAzOS45Nzc3NTcwMDAwMDAwMDRdLCBbMTE2LjMyNDUxNTk5OTk5OTk5LCAzOS45NzkwMTFdLCBbMTE2LjMyNzM5OSwgMzkuOTgwNTM3XSwgWzExNi4zMjYzMTY5OTk5OTk5OSwgMzkuOTkxMzI2XSwgWzExNi4zMjMyOTYsIDM5Ljk5OTc4M10sIFsxMTYuMzE2OTQ0OTk5OTk5OTksIDQwLjAwNzk1MV0sIFsxMTYuMzA3NTg1LCA0MC4wMTI0NjVdLCBbMTE2LjMwNjUxOCwgNDAuMDEzNDA4XSwgWzExNi4zMDU3NDYsIDQwLjAxMzg0Ml0sIFsxMTYuMzEzMzgzLCA0MC4wMDk1MTA5OTk5OTk5OTZdLCBbMTE2LjMyMTM2NiwgNDAuMDAyOTUzMDAwMDAwMDA1XSwgWzExNi4zMjU1MjQsIDM5Ljk5MzA3N10sIFsxMTYuMzI0OTY5LCAzOS45ODU4ODhdLCBbMTE2LjMyNTE2ODk5OTk5OTk5LCAzOS45Nzg1MDldLCBbMTE2LjMyNzI3NSwgMzkuOTc5ODc1XSwgWzExNi4zMTM3MjcsIDM5Ljk3OTU5NF0sIFsxMTYuMzA3Njg3MDAwMDAwMDIsIDM5Ljk3OTc5NV0sIFsxMTYuMzA5MDA5LCAzOS45OTc1NjQwMDAwMDAwMDRdLCBbMTE2LjMxMjk1MiwgNDAuMDA3NTU4XSwgWzExNi4zMDY3MDkwMDAwMDAwMSwgNDAuMDEzNDQ5XSwgWzExNi4zMTA1NzYsIDQwLjAxMzM2Nl0sIFsxMTYuMzE2MjYyMDAwMDAwMDEsIDQwLjAwNjMyMjk5OTk5OTk5NV0sIFsxMTYuMzIzMTEyOTk5OTk5OTksIDM5Ljk5ODQyNF0sIFsxMTYuMzI3MTg1MDAwMDAwMDEsIDM5Ljk4ODczN10sIFsxMTYuMzI0MTA0LCAzOS45NzcxNzZdLCBbMTE2LjMyNzI1NDAwMDAwMDAxLCAzOS45ODAwNzNdLCBbMTE2LjMyNjg2NywgMzkuOTkwNTczXSwgWzExNi4zMjM5NjIwMDAwMDAwMSwgMzkuOTk5NjQzXSwgWzExNi4zMTgwNSwgNDAuMDA3MDA3XSwgWzExNi4zMTE2NzQsIDQwLjAxNDM1OTAwMDAwMDAwNl0sIFsxMTYuMzA2NDM3MDAwMDAwMDIsIDQwLjAxMzg2NV0sIFsxMTYuMzA2NDQ2LCA0MC4wMTM4MDJdLCBbMTE2LjMwOTIyMSwgNDAuMDEzMjA2XSwgWzExNi4zMTYwMzYwMDAwMDAwMSwgNDAuMDA5Mjg1XSwgWzExNi4zMjE2OTgsIDQwLjAwMTk2M10sIFsxMTYuMzI2NTY3LCAzOS45OTM1MTNdLCBbMTE2LjMyNjgwODAwMDAwMDAxLCAzOS45ODM5MTFdLCBbMTE2LjMyNTEzNSwgMzkuOTc4OTc2XSwgWzExNi4zMjM3NjY5OTk5OTk5OSwgMzkuOTc5NzI4XSwgWzExNi4zMTA5MjE5OTk5OTk5OSwgMzkuOTgwMjg0OTk5OTk5OTk1XSwgWzExNi4zMTEyMjEsIDM5Ljk4MTUyMl0sIFsxMTYuMzA5MDI5MDAwMDAwMDEsIDM5Ljk4MTI4NV0sIFsxMTYuMzEwNjg3MDAwMDAwMDIsIDM5Ljk4MTQwNV0sIFsxMTYuMzEzMDgxMDAwMDAwMDEsIDM5Ljk3NDYyOV0sIFsxMTYuMzE2MjE0OTk5OTk5OTksIDM5Ljk3NDc2NF0sIFsxMTYuMzI3MjU3LCAzOS45Nzc5NTNdLCBbMTE2LjMyNjU3OCwgMzkuOTg0NzM2XSwgWzExNi4zMjY0NjI5OTk5OTk5OSwgMzkuOTk1NTUyXSwgWzExNi4zMjEzODksIDQwLjAwNDQxM10sIFsxMTYuMzEyNjI4LCA0MC4wMDk1NF0sIFsxMTYuMzA2MzY3LCA0MC4wMTM3NDYwMDAwMDAwMDVdLCBbMTE2LjMxMjUxNjk5OTk5OTk5LCA0MC4wMTA2Mjg5OTk5OTk5OTRdLCBbMTE2LjMyMDQ3OSwgNDAuMDA0ODM4XSwgWzExNi4zMjY1MTgsIDM5Ljk5NjI0MTk5OTk5OTk5NV0sIFsxMTYuMzI3MDQ4LCAzOS45ODY1OV0sIFsxMTYuMzI1OTQzLCAzOS45NzkyNDA5OTk5OTk5OTVdLCBbMTE2LjMxOTQwMiwgMzkuOTc0NjM3XSwgWzExNi4zMDk0NDA5OTk5OTk5OSwgMzkuOTgyMTM4XSwgWzExNi4zMTUwNjQ5OTk5OTk5OSwgMzkuOTc1NDA5XSwgWzExNi4zMjcwNjEwMDAwMDAwMSwgMzkuOTc1MjM4XSwgWzExNi4zMjgxNzIsIDM5Ljk2ODU0NV0sIFsxMTYuMzI5MjY5LCAzOS45NjgxMTldLCBbMTE2LjMyNzgzNTAwMDAwMDAxLCAzOS45NzQ1NTFdLCBbMTE2LjMyNzE5MDk5OTk5OTk4LCAzOS45Nzk3NzldLCBbMTE2LjMwNjA0LCA0MC4wMTQyMDVdLCBbMTE2LjMwODE0Mjk5OTk5OTk5LCA0MC4wMjA2NjZdLCBbMTE2LjMxMjgzLCA0MC4wMjg4ODZdLCBbMTE2LjMxMDQ1OTAwMDAwMDAxLCA0MC4wMzc2OThdLCBbMTE2LjMwMDk2NCwgNDAuMDUwNzI3XSwgWzExNi4zMDI1NzMsIDQwLjA3MDY0OF0sIFsxMTYuMzIyMDQzOTk5OTk5OTksIDQwLjA2OTQ0N10sIFsxMTYuMzMwNzksIDQwLjA2OTgyOV0sIFsxMTYuMzM4NjY0LCA0MC4wNzI3Njc5OTk5OTk5OTZdLCBbMTE2LjM0MjE5OCwgNDAuMDc0NzI3XSwgWzExNi4zMzg3MDMwMDAwMDAwMSwgNDAuMDczNzcyOTk5OTk5OTk2XSwgWzExNi4zMzAzMzMwMDAwMDAwMSwgNDAuMDY5NTc4XSwgWzExNi4zMTQ3MTksIDQwLjA2OTUwMl0sIFsxMTYuMjk0OTA5LCA0MC4wNjExNDldLCBbMTE2LjMwMjQ0NDk5OTk5OTk5LCA0MC4wNDc4NTgwMDAwMDAwMDVdLCBbMTE2LjMxMjYyNSwgNDAuMDM0NzQ2OTk5OTk5OTk2XSwgWzExNi4zMTExMjUsIDQwLjAyODUzMV0sIFsxMTYuMzA3OTY3OTk5OTk5OTksIDQwLjAxOTM4MzAwMDAwMDAwNV0sIFsxMTYuMzA2NDIyLCA0MC4wMTM3ODRdLCBbMTE2LjMwNjQ2OCwgNDAuMDEzODE1XSwgWzExNi4zMDY0NjMsIDQwLjAxMzc4NF0sIFsxMTYuMzA2NDY1OTk5OTk5OTksIDQwLjAxMzgwM10sIFsxMTYuMzA2NTA4MDAwMDAwMDEsIDQwLjAxMzgwNl0sIFsxMTYuMzA2NTA5LCA0MC4wMTM4MDNdLCBbMTE2LjMxMDQ4NCwgNDAuMDEzMTg2XSwgWzExNi4zMTc2NDUsIDQwLjAwNjU3Ml0sIFsxMTYuMzI1MDUxLCAzOS45OTk5MTNdLCBbMTE2LjMzMDIyMTk5OTk5OTk5LCAzOS45OTE2NzZdLCBbMTE2LjMzMzc3MywgMzkuOTc1NDE1OTk5OTk5OTk2XSwgWzExNi4zMzkxMDkwMDAwMDAwMSwgMzkuOTY0NjIwMDAwMDAwMDA0XSwgWzExNi4zNDUzMjEsIDM5Ljk0OTU3MV0sIFsxMTYuMzQ4MDc0LCAzOS45Mzk2MDddLCBbMTE2LjQyMDkzODk5OTk5OTk5LCAzOS45MDE3NThdLCBbMTE2LjQxOTkzNTAwMDAwMDAxLCAzOS45MDMzODddLCBbMTE2LjMyNzU4MywgMzkuOTc4MDM0XSwgWzExNi4zMDU0NjYsIDQwLjAxNTM1OF0sIFsxMTYuMzA2NTQ3OTk5OTk5OTksIDQwLjAxMzgyODAwMDAwMDAwNF0sIFsxMTYuMzA2NTQzOTk5OTk5OTksIDQwLjAxMzcyMTAwMDAwMDAwNF0sIFsxMTYuMzExMjY2OTk5OTk5OTksIDQwLjAxMzI3MV0sIFsxMTYuMzEzMDI0LCA0MC4wMDc3MTJdLCBbMTE2LjMxMzAwOTAwMDAwMDAxLCA0MC4wMDM2MzQ5OTk5OTk5OTZdLCBbMTE2LjMxMjg4NiwgNDAuMDAzNjY0XSwgWzExNi4zMTM1Mzg5OTk5OTk5OSwgNDAuMDAzOTQxOTk5OTk5OTk1XSwgWzExNi4zMTUyMzEwMDAwMDAwMSwgNDAuMDAxMjk4XSwgWzExNi4zMTgyODk5OTk5OTk5OSwgMzkuOTk5NjcxXSwgWzExNi4zMTgzNzQsIDQwLjAwMDc4M10sIFsxMTYuMzE2ODM3OTk5OTk5OTksIDQwLjAwNDk5NjAwMDAwMDAwNl0sIFsxMTYuMzE1NjU2LCA0MC4wMDU0NzFdLCBbMTE2LjMxNjA4MywgNDAuMDA1NDI1XSwgWzExNi4zMTY5ODk5OTk5OTk5OSwgNDAuMDA1NTc2XSwgWzExNi4zMTUzNzUsIDQwLjAwOTY5MV0sIFsxMTYuMzExNzY5LCA0MC4wMTI4MjddLCBbMTE2LjMwNTUxODk5OTk5OTk5LCA0MC4wMTM4MjddLCBbMTE2LjMxMjYzMywgNDAuMDEwNDVdLCBbMTE2LjMyMTE4MjAwMDAwMDAxLCA0MC4wMDQ4ODQ5OTk5OTk5OTRdLCBbMTE2LjMyNjQ3NiwgMzkuOTk2MjUyXSwgWzExNi4zMjY4ODEsIDM5Ljk4NTYwMl0sIFsxMTYuMzI3MTcwOTk5OTk5OTksIDM5Ljk3ODk1OF0sIFsxMTYuMzI2NTczLCAzOS45OTA1OF0sIFsxMTYuMzIyMzM4OTk5OTk5OTksIDM5Ljk5OTY4OTAwMDAwMDAwNF0sIFsxMTYuMzE3NzY3OTk5OTk5OTksIDQwLjAwODgxMl0sIFsxMTYuMzA5MDMxLCA0MC4wMTMxMjNdLCBbMTE2LjMxMDM5Nzk5OTk5OTk5LCA0MC4wMTYxNDE5OTk5OTk5OTVdLCBbMTE2LjMxMjEzNywgNDAuMDExODMxXSwgWzExNi4zMTgxNDI5OTk5OTk5OSwgNDAuMDA2MDY2XSwgWzExNi4zMjYyNjU5OTk5OTk5OSwgMzkuOTk5NTkzXSwgWzExNi4zMjc0MywgMzkuOTkxMDJdLCBbMTE2LjMyODE3Mjk5OTk5OTk5LCAzOS45ODE2NDVdLCBbMTE2LjMyMzIwMSwgMzkuOTc4Mzg0OTk5OTk5OTk2XSwgWzExNi4zMTM5NjYsIDM5Ljk3NTU1Ml0sIFsxMTYuMzExNSwgMzkuOTc1NTY3XSwgWzExNi4zMTM5MTc5OTk5OTk5OSwgMzkuOTc5Njk5XSwgWzExNi4zMjE5NzMsIDM5Ljk3OTY1NF0sIFsxMTYuMzI4Njg4OTk5OTk5OTgsIDM5Ljk3NDQ5OF0sIFsxMTYuMzMwMjY3OTk5OTk5OTksIDM5Ljk3MzcxMV0sIFsxMTYuMzI3NDE1OTk5OTk5OTksIDM5Ljk3NzQyMjk5OTk5OTk5NV0sIFsxMTYuMzI2NTM0MDAwMDAwMDEsIDM5Ljk3OTcyNV0sIFsxMTYuMzI2ODExLCAzOS45Nzk3MDldLCBbMTE2LjMyNzM2NiwgMzkuOTgxODEyXSwgWzExNi4zMjY4NzI5OTk5OTk5OSwgMzkuOTg5NDgxXSwgWzExNi4zMTgyODMwMDAwMDAwMSwgMzkuOTkxMDhdLCBbMTE2LjMxNjUyOSwgMzkuOTkxMDc0XSwgWzExNi4zMDkyNzMsIDM5Ljk5NjY0XSwgWzExNi4zMTI4NjMsIDQwLjAwNzA0XSwgWzExNi4zMTA3MzcwMDAwMDAwMiwgNDAuMDEzMTQ1XSwgWzExNi4zMDU3MDkwMDAwMDAwMSwgNDAuMDE0MTc1XSwgWzExNi4zMTE4NywgNDAuMDE0MTZdLCBbMTE2LjMxMzEyNiwgNDAuMDA1NDI2XSwgWzExNi4zMDk4MjIsIDM5Ljk5MTI5NF0sIFsxMTYuMzIxMjM5OTk5OTk5OTksIDM5Ljk5MTcyNV0sIFsxMTYuMzI3MDIyLCAzOS45ODc3OTJdLCBbMTE2LjMyNjk5OCwgMzkuOTg1NjY1OTk5OTk5OTk1XSwgWzExNi4zMjcyODksIDM5Ljk3NjkwNl0sIFsxMTYuMzMzMDc3LCAzOS45NzQ4NDNdLCBbMTE2LjMzMjE4Nzk5OTk5OTk5LCAzOS45NzQxNjldLCBbMTE2LjMzMzIwNDAwMDAwMDAxLCAzOS45NzQ1NjFdLCBbMTE2LjMzMjQ2NDk5OTk5OTk4LCAzOS45NzM3OTldLCBbMTE2LjMzMTUwNywgMzkuOTc0ODI4XSwgWzExNi4zMjczMzEsIDM5Ljk4MTg5NV0sIFsxMTYuMzI2NzQ4OTk5OTk5OTksIDM5Ljk5MjkwOTAwMDAwMDAwNF0sIFsxMTYuMzIxOTQ3LCA0MC4wMDEzMzZdLCBbMTE2LjMxNjM3NCwgNDAuMDA5MTkyXSwgWzExNi4zMDY0MTI5OTk5OTk5OSwgNDAuMDEzNTg2XSwgWzExNi4zMDY2OTYsIDQwLjAxMzkxNTk5OTk5OTk5NV0sIFsxMTYuMzA2NTIyLCA0MC4wMTM3ODRdLCBbMTE2LjMwNjU0NywgNDAuMDEzNzg5XSwgWzExNi4zMDY1NTUsIDQwLjAxMzc5MV0sIFsxMTYuMzA2NTM1MDAwMDAwMDEsIDQwLjAxMzc5M10sIFsxMTYuMzA2NDg2LCA0MC4wMTM3NzldLCBbMTE2LjMwNjU2NCwgNDAuMDEzODI2XSwgWzExNi4zMDY1MDcwMDAwMDAwMSwgNDAuMDEzNzE4XSwgWzExNi4zMDY0NzkwMDAwMDAwMSwgNDAuMDEzOF0sIFsxMTYuMzA2NTg1MDAwMDAwMDEsIDQwLjAxMzg1MV0sIFsxMTYuMzA2NTExMDAwMDAwMDEsIDQwLjAxMzcyN10sIFsxMTYuMzA2NTMzLCA0MC4wMTM2OThdLCBbMTE2LjMwNjQyMSwgNDAuMDEzNzgxXSwgWzExNi4zMDY0ODUwMDAwMDAwMSwgNDAuMDEzNzI5OTk5OTk5OTk1XSwgWzExNi4zMDY1MDYsIDQwLjAxMzYxNV0sIFsxMTYuMzA2NTM1MDAwMDAwMDEsIDQwLjAxMzc2M10sIFsxMTYuMzA2NDY5OTk5OTk5OTksIDQwLjAxMzkzNDAwMDAwMDAwNl0sIFsxMTYuMzA2NiwgNDAuMDEzNzZdLCBbMTE2LjMwNjU1MiwgNDAuMDEzNzkxOTk5OTk5OTk1XSwgWzExNi4zMDY0NzUsIDQwLjAxMzc0OF0sIFsxMTYuMzA2NTcwOTk5OTk5OTksIDQwLjAxMzgzMl0sIFsxMTYuMzA2NTIzLCA0MC4wMTM4MDRdLCBbMTE2LjMwNjYwNDAwMDAwMDAxLCA0MC4wMTM4MTY5OTk5OTk5OTZdLCBbMTE2LjMwNjU1MzAwMDAwMDAxLCA0MC4wMTM3OTFdLCBbMTE2LjMwNjU1ODAwMDAwMDAxLCA0MC4wMTM4MDddLCBbMTE2LjMwNjQ3OCwgNDAuMDEzODQ1XSwgWzExNi4zMDY1OTM5OTk5OTk5OSwgNDAuMDEzNzM1XSwgWzExNi4zMDY1MTcsIDQwLjAxMzgxOF0sIFsxMTYuMzA2NTQxLCA0MC4wMTM2NzddLCBbMTE2LjMwNjUxMywgNDAuMDEzNzMzXSwgWzExNi4zMDY1MTgsIDQwLjAxMzc5MV0sIFsxMTYuMzA2NDk3LCA0MC4wMTM4MDgwMDAwMDAwMDRdLCBbMTE2LjMwNjUzNDAwMDAwMDAxLCA0MC4wMTM4MzRdLCBbMTE2LjMwNjUxOTk5OTk5OTk5LCA0MC4wMTM4MV0sIFsxMTYuMzA2NTI5LCA0MC4wMTM4MTFdLCBbMTE2LjMwNjQ5Mjk5OTk5OTk5LCA0MC4wMTM3OTRdLCBbMTE2LjMwNjQ5LCA0MC4wMTM3ODhdLCBbMTE2LjMwNTcxMjAwMDAwMDAxLCA0MC4wMTM4ODddLCBbMTE2LjMxNDMyMiwgNDAuMDA5NTY1XSwgWzExNi4zMjE1ODcwMDAwMDAwMSwgNDAuMDAzMTkwMDAwMDAwMDA0XSwgWzExNi4zMjY0OTcsIDM5Ljk5NDYyODAwMDAwMDAwNl0sIFsxMTYuMzI3MDQ0LCAzOS45ODQ5ODJdLCBbMTE2LjMxMjc4MjAwMDAwMDAxLCAzOS45NzQ2NDVdLCBbMTE2LjMxODM2NiwgMzkuOTc0OTExOTk5OTk5OTk2XSwgWzExNi4zMjcxNjgsIDM5Ljk3Nzk3XSwgWzExNi4zMjc0MjgsIDM5Ljk4NDgzNl0sIFsxMTYuMzI2NjkyOTk5OTk5OTksIDM5Ljk5NTI1OTk5OTk5OTk5NV0sIFsxMTYuMzIxNDA5LCA0MC4wMDQ1ODRdLCBbMTE2LjMxMjY1MiwgNDAuMDEwMTIxMDAwMDAwMDA1XSwgWzExNi4zMDY0NTcwMDAwMDAwMSwgNDAuMDEzNzQ1XSwgWzExNi4zMDkxNDIsIDQwLjAxMzI1MTAwMDAwMDAwNF0sIFsxMTYuMzE3NzYyMDAwMDAwMDIsIDQwLjAwNzg3Nl0sIFsxMTYuMzIzMDM5OTk5OTk5OTksIDM5Ljk5OTc3NF0sIFsxMTYuMzI2ODQyLCAzOS45OTI1Nl0sIFsxMTYuMzI3MTIwOTk5OTk5OTksIDM5Ljk4MzI5Nl0sIFsxMTYuMzI1MTAzLCAzOS45NzkwMDk5OTk5OTk5OTVdLCBbMTE2LjMyNzEzOTk5OTk5OTk5LCAzOS45NzkyOTY5OTk5OTk5OTVdLCBbMTE2LjMyOTEzMiwgMzkuOTgyODIxXSwgWzExNi4zMjc3NjIsIDM5Ljk4MzU5NV0sIFsxMTYuMzI4ODAyLCAzOS45ODE3MzddLCBbMTE2LjMyNzEzNzk5OTk5OTk5LCAzOS45NzgzMDldLCBbMTE2LjMyNzU1ODAwMDAwMDAxLCAzOS45NzI1XSwgWzExNi4zMjgxNzgwMDAwMDAwMSwgMzkuOTYyMzM2XSwgWzExNi4zMjkyNjI5OTk5OTk5OCwgMzkuOTUzMDgxXSwgWzExNi4zMzE2ODYsIDM5Ljk1MTExNjk5OTk5OTk5Nl0sIFsxMTYuMzMyMTgzLCAzOS45NTAyMzddLCBbMTE2LjMyODk5NywgMzkuOTU3NzkyXSwgWzExNi4zMjgxOTA5OTk5OTk5OSwgMzkuOTY3MzYxXSwgWzExNi4zMjczMywgMzkuOTc2NzM1XSwgWzExNi4zMjgwNjUsIDM5Ljk4NDc0NF0sIFsxMTYuMzMwMDQ0LCAzOS45OTYwOTc5OTk5OTk5OTZdLCBbMTE2LjMyMzgzODk5OTk5OTk5LCA0MC4wMDQxNTZdLCBbMTE2LjMxNjczNiwgNDAuMDA5MDI5OTk5OTk5OTk2XSwgWzExNi4zMTY1MDgwMDAwMDAwMSwgNDAuMDA5MDgyXSwgWzExNi4zMTY0NzksIDQwLjAwOTE3ODk5OTk5OTk5Nl0sIFsxMTYuMzEyNzU3LCA0MC4wMDk4MzhdLCBbMTE2LjMwNjU3MDk5OTk5OTk5LCA0MC4wMTM4MTZdLCBbMTE2LjMwNTY0Mjk5OTk5OTk5LCA0MC4wMTM5ODddLCBbMTE2LjMxMTgwNSwgNDAuMDEzNjEzXSwgWzExNi4zMTI2NDIsIDQwLjAwODIxOF0sIFsxMTYuMzA4OTk2OTk5OTk5OTksIDM5Ljk5ODg2OF0sIFsxMTYuMzEwMDEyMDAwMDAwMDEsIDM5Ljk4OTAwNTk5OTk5OTk5Nl0sIFsxMTYuMzA5NzU5MDAwMDAwMDEsIDM5Ljk4NDg4NV0sIFsxMTYuMzEwMjUxLCAzOS45ODM3MzddLCBbMTE2LjMxMjE0NywgMzkuOTcyNzExXSwgWzExNi4zMTY2MTIsIDM5Ljk2NTYyXSwgWzExNi4zMzM3NTIsIDM5Ljk2NjIyOV0sIFsxMTYuMzUwODgsIDM5Ljk2NjQ2Nl0sIFsxMTYuMzYyMDg3OTk5OTk5OTksIDM5Ljk2NjIxN10sIFsxMTYuMzYzOTk4LCAzOS45NjA0ODldLCBbMTE2LjM1NzM2MDAwMDAwMDAxLCAzOS45NTk0MV0sIFsxMTYuMzYxMjE5OTk5OTk5OTksIDM5Ljk2MDM0OV0sIFsxMTYuMzY0NTIyLCAzOS45NTk5MTJdLCBbMTE2LjM2NDYxMTAwMDAwMDAxLCAzOS45NjEwNTZdLCBbMTE2LjM2MzgxMzk5OTk5OTk5LCAzOS45NjUyMTZdLCBbMTE2LjM2MDU0MiwgMzkuOTY2MTY1MDAwMDAwMDA0XSwgWzExNi4zNTg5OTMsIDM5Ljk2NjUzN10sIFsxMTYuMzU5MTE1OTk5OTk5OTksIDM5Ljk2NjU5Ml0sIFsxMTYuMzU5MDI3LCAzOS45NjY1MzRdLCBbMTE2LjM0NjMzOTk5OTk5OTk4LCAzOS45NjY0MTddLCBbMTE2LjMzMDU1LCAzOS45NjYzMDFdLCBbMTE2LjMxNTcwNTAwMDAwMDAxLCAzOS45NjYwNDY5OTk5OTk5OTZdLCBbMTE2LjMxMDkwMiwgMzkuOTc2MjQ4XSwgWzExNi4zMTA3NDY5OTk5OTk5OSwgMzkuOTgwMzc0XSwgWzExNi4zMTAxNjg5OTk5OTk5OSwgMzkuOTg2Mzk4XSwgWzExNi4zMTc5NTUsIDM5Ljk5MTA0MDk5OTk5OTk5Nl0sIFsxMTYuMzI5MjA0LCAzOS45OTEzNjZdLCBbMTE2LjMzMDc2MDAwMDAwMDAxLCAzOS45OTczOTddLCBbMTE2LjMyODIyNCwgNDAuMDA5MjQwOTk5OTk5OTk2XSwgWzExNi4zMTQ3NzUsIDQwLjAxMTgyOV0sIFsxMTYuMzA5MDc4LCA0MC4wMTY0ODldLCBbMTE2LjMwNjQxODk5OTk5OTk5LCA0MC4wMTM3NzEwMDAwMDAwMDZdLCBbMTE2LjMwNjc3OSwgNDAuMDEzMzldLCBbMTE2LjMxMTY0NSwgNDAuMDE0Njk3OTk5OTk5OTk2XSwgWzExNi4zMDk5NDksIDQwLjAwNDUwOF0sIFsxMTYuMzA5MTc0LCAzOS45OTM0NTRdLCBbMTE2LjMxMDEwNiwgMzkuOTg1MjcxMDAwMDAwMDA0XSwgWzExNi4zMTA0NTgwMDAwMDAwMSwgMzkuOTc3NDcyOTk5OTk5OTk2XSwgWzExNi4zMTMyMDIsIDM5Ljk3MDE1NV0sIFsxMTYuMzE2MTAyLCAzOS45NjIzNTZdLCBbMTE2LjMxNzQ2MTAwMDAwMDAxLCAzOS45NTI0NTZdLCBbMTE2LjMxODc4OTk5OTk5OTk5LCAzOS45NDMwN10sIFsxMTYuMzIzODMxMDAwMDAwMDEsIDM5LjkzNzAxOF0sIFsxMTYuMzMyMjcsIDM5LjkzNjQ5Ml0sIFsxMTYuMzMwOTA1LCAzOS45MzY1NDddLCBbMTE2LjMxOTI2Mzk5OTk5OTk5LCAzOS45NDA2NTkwMDAwMDAwMDRdLCBbMTE2LjMxNzk1NSwgMzkuOTUxMDQ2OTk5OTk5OTk2XSwgWzExNi4zMTYxNTQsIDM5Ljk2MzEyODAwMDAwMDAwNV0sIFsxMTYuMzEzNDU3LCAzOS45Njk5MTZdLCBbMTE2LjMxMDQ2OCwgMzkuOTc4MDQ3XSwgWzExNi4zMTAyNTQsIDM5Ljk4NTA0NF0sIFsxMTYuMzA5MzQxOTk5OTk5OTksIDM5Ljk5NjAzMV0sIFsxMTYuMzEyOTA1LCA0MC4wMDY1MDRdLCBbMTE2LjMxMTcyNywgNDAuMDEzMzk5XSwgWzExNi4zMDYzNzUsIDQwLjAxMzk0Njk5OTk5OTk5NV0sIFsxMTYuMzA1ODkzLCA0MC4wMTU4ODVdLCBbMTE2LjMxMTcwOTAwMDAwMDAxLCA0MC4wMTQ2MzhdLCBbMTE2LjMxOTA2MjAwMDAwMDAyLCA0MC4wMTIwMzZdLCBbMTE2LjMzMDY4MjAwMDAwMDAxLCA0MC4wMDU3MjI5OTk5OTk5OTZdLCBbMTE2LjMzMDY0NywgMzkuOTkxNzQxOTk5OTk5OTk1XSwgWzExNi4zMjY2ODc5OTk5OTk5OSwgMzkuOTg5MTk0XSwgWzExNi4zMjcxNDUsIDM5Ljk4MTg3OV0sIFsxMTYuMzI3Mjc0LCAzOS45ODA5NTkwMDAwMDAwMDZdLCBbMTE2LjMyNzE5OSwgMzkuOTg1MTI3XSwgWzExNi4zMjg1MjgsIDM5Ljk5MTk1Nl0sIFsxMTYuMzExMjUyLCA0MC4wMTMyNTEwMDAwMDAwMDRdLCBbMTE2LjMxNzUwNjAwMDAwMDAxLCA0MC4wMDc2MzRdLCBbMTE2LjMyMzE3NCwgMzkuOTk5NjUxXSwgWzExNi4zMjY2MjcsIDM5Ljk5MDU5NF0sIFsxMTYuMzI3MDk1LCAzOS45ODEzMDldLCBbMTE2LjMyNTE3NywgMzkuOTc4OTE1XSwgWzExNi4zMjg3OTYsIDM5Ljk3NjUxN10sIFsxMTYuMzE0MDYzOTk5OTk5OTksIDM5Ljk3NDk1Nl0sIFsxMTYuMzEzNjc4LCAzOS45NzQ3MjNdLCBbMTE2LjMyNjQxMTAwMDAwMDAxLCAzOS45NzU0NjRdLCBbMTE2LjMyNzQxOTk5OTk5OTk5LCAzOS45ODIzNzg5OTk5OTk5OTVdLCBbMTE2LjMyNjU5NSwgMzkuOTkyOTk2MDAwMDAwMDA1XSwgWzExNi4zMjE3MjgwMDAwMDAwMSwgNDAuMDAxNjkwOTk5OTk5OTk0XSwgWzExNi4zMTU4ODQwMDAwMDAwMSwgNDAuMDA5NjE0XSwgWzExNi4zMDcwNzUsIDQwLjAxMzIwMl0sIFsxMTYuMzEwMjMyMDAwMDAwMDEsIDQwLjAxNjM5MV0sIFsxMTYuMzE1MDU5LCA0MC4wMDk1OTddLCBbMTE2LjMyMTQ5LCA0MC4wMDI3NTM5OTk5OTk5OTZdLCBbMTE2LjMyNjQxMTAwMDAwMDAxLCAzOS45OTQyNjU5OTk5OTk5OTZdLCBbMTE2LjMyNjk2Mzk5OTk5OTk5LCAzOS45ODMwNzYwMDAwMDAwMDRdLCBbMTE2LjMyODEzMjAwMDAwMDAxLCAzOS45Nzc2Nzg5OTk5OTk5OTVdLCBbMTE2LjMyNjI4MTAwMDAwMDAxLCAzOS45Nzc3NjhdLCBbMTE2LjMyNzA3NywgMzkuOTc3OTU4XSwgWzExNi4zMjYzODQsIDM5Ljk4ODUwM10sIFsxMTYuMzI1Nzc0LCAzOS45OTg1NzldLCBbMTE2LjMxNzg5NTk5OTk5OTk5LCA0MC4wMDQ5NDYwMDAwMDAwMDRdLCBbMTE2LjMxMTk4MiwgNDAuMDExODgzMDAwMDAwMDA1XSwgWzExNi4zMDc2OTUsIDQwLjAxMzA1OTAwMDAwMDAwNV0sIFsxMTYuMzE1NDQ2LCA0MC4wMDk1NDc5OTk5OTk5OTVdLCBbMTE2LjMyMTY3LCA0MC4wMDIxMTFdLCBbMTE2LjMyNjQ3NywgMzkuOTkzNzI3XSwgWzExNi4zMjY5MiwgMzkuOTg0NDldLCBbMTE2LjMyNTE4OTk5OTk5OTk5LCAzOS45Nzg0MDVdLCBbMTE2LjMyNzExMjAwMDAwMDAxLCAzOS45NzkxMjFdLCBbMTE2LjMyNzMzNzAwMDAwMDAxLCAzOS45ODE2MzNdLCBbMTE2LjMyNzQ0OCwgMzkuOTgxNzM3XSwgWzExNi4zMjczNzcsIDM5Ljk4MTYzODAwMDAwMDAwNF0sIFsxMTYuMzI2ODQzLCAzOS45OTEwNzVdLCBbMTE2LjMxMjExLCAzOS45OTEwNzVdLCBbMTE2LjMwOTIxMzk5OTk5OTk4LCAzOS45OTY0MDZdLCBbMTE2LjMxMjgwNTAwMDAwMDAxLCA0MC4wMDczOV0sIFsxMTYuMzA5MDQ0LCA0MC4wMTMxNzFdLCBbMTE2LjMwNjU3NCwgNDAuMDEzNzUyMDAwMDAwMDA0XSwgWzExNi4zMDg4OTMsIDQwLjAxNjQxMV0sIFsxMTYuMzE2NTE5LCA0MC4wMTE4NjA5OTk5OTk5OTZdLCBbMTE2LjMyODY4MSwgNDAuMDA4Njg2XSwgWzExNi4zMzEwMDgwMDAwMDAwMSwgMzkuOTk3ODAzOTk5OTk5OTk1XSwgWzExNi4zMjczMjksIDM5Ljk5MTQ1OF0sIFsxMTYuMzI2Njk1LCAzOS45OTExMjJdLCBbMTE2LjMyNzI4MSwgMzkuOTgyMDM4XSwgWzExNi4zMjk0OTksIDM5Ljk4MzUyMzk5OTk5OTk5Nl0sIFsxMTYuMzI5NDQwOTk5OTk5OTksIDM5Ljk4MzI0MV0sIFsxMTYuMzI5MzM3MDAwMDAwMDEsIDM5Ljk4MzM3NV0sIFsxMTYuMzI5MzY2LCAzOS45ODMzOTVdLCBbMTE2LjMyOTM4NjAwMDAwMDAxLCAzOS45ODM0NDFdLCBbMTE2LjMyOTM5NCwgMzkuOTgzMzk5XSwgWzExNi4zMjk0MTEwMDAwMDAwMSwgMzkuOTgzMzhdLCBbMTE2LjMyNzM4LCAzOS45ODE3NjFdLCBbMTE2LjMyNzUxNTk5OTk5OTk5LCAzOS45ODA4NjhdLCBbMTE2LjMyODE0OSwgMzkuOTgzNDIxXSwgWzExNi4zMjgxOTMsIDM5Ljk4MzEwOF0sIFsxMTYuMzI4MjYyOTk5OTk5OTksIDM5Ljk4MjYyODk5OTk5OTk5Nl0sIFsxMTYuMzI3MjUyLCAzOS45ODE3MzkwMDAwMDAwMDVdLCBbMTE2LjMyNjg4LCAzOS45ODg4NzhdLCBbMTE2LjMzMTQ1NDAwMDAwMDAxLCAzOS45OTE0MDk5OTk5OTk5OTVdLCBbMTE2LjMyOTgyMiwgNDAuMDA4NTU2XSwgWzExNi4zMTczMjgsIDQwLjAyMzQzN10sIFsxMTYuMzEwNDEsIDQwLjAzNzYzN10sIFsxMTYuMzAwMzksIDQwLjA1MTAxMDk5OTk5OTk5NV0sIFsxMTYuMzA0OTE1OTk5OTk5OTksIDQwLjA2OTg3XSwgWzExNi4zMjQyNzcsIDQwLjA2OTU1Nl0sIFsxMTYuMzM0MDI5LCA0MC4wNjk4NjVdLCBbMTE2LjM0MTAzNSwgNDAuMDc0NDczXSwgWzExNi4zNDE2NzUsIDQwLjA3NjA1M10sIFsxMTYuMzQxNjExMDAwMDAwMDEsIDQwLjA3NjA1NV0sIFsxMTYuMzQxNjY5LCA0MC4wNzU5ODJdLCBbMTE2LjM0MTY3NywgNDAuMDc1OTU2XSwgWzExNi4zNDE2NywgNDAuMDc1OTM2XSwgWzExNi4zNDE2NjQ5OTk5OTk5OSwgNDAuMDc1OTQ3XSwgWzExNi4zNDE2NTcwMDAwMDAwMSwgNDAuMDc1OTYxXSwgWzExNi4zNDE2NjI5OTk5OTk5OCwgNDAuMDc1OThdLCBbMTE2LjM0MTY4MiwgNDAuMDc1OTgzXSwgWzExNi4zNDE2MzMsIDQwLjA3NTcwMzAwMDAwMDAwNF0sIFsxMTYuMzM5MjE2OTk5OTk5OTksIDQwLjA3NDA4OV0sIFsxMTYuMzMyNjI1LCA0MC4wNjk5MzRdLCBbMTE2LjMyOTMxMSwgNDAuMDY5NTRdLCBbMTE2LjMwOTkxNywgNDAuMDY5NzFdLCBbMTE2LjI5ODkyOSwgNDAuMDU0MTA4XSwgWzExNi4zMDc0NDgsIDQwLjA0MDg5MDk5OTk5OTk5NV0sIFsxMTYuMzEzNTQzLCA0MC4wMzE3ODZdLCBbMTE2LjMwNDA2NTk5OTk5OTk5LCA0MC4wMzUxODNdLCBbMTE2LjMwNzYxMiwgNDAuMDI0MTI0XSwgWzExNi4zMTEwMDIsIDQwLjAxNTU2Ml0sIFsxMTYuMzA2MDUxLCA0MC4wMTU5NDldLCBbMTE2LjMwNjQ3NSwgNDAuMDEzODYzXSwgWzExNi4zMDc4OTEsIDQwLjAxNjIyMDAwMDAwMDAwNF0sIFsxMTYuMzExMzM1MDAwMDAwMDEsIDQwLjAxNTAxN10sIFsxMTYuMzEyNDcyLCA0MC4wMDg2ODRdLCBbMTE2LjMwODkxMiwgMzkuOTk5MDE1XSwgWzExNi4zMTMzNiwgMzkuOTkwNzkzXSwgWzExNi4zMjcxOTA5OTk5OTk5OCwgMzkuOTkxMzFdLCBbMTE2LjMzODY5OSwgMzkuOTkxNTQ0XSwgWzExNi4zNDY4NDI5OTk5OTk5OSwgMzkuOTg5NzI4XSwgWzExNi4zNDc0NzIsIDM5Ljk4ODAzMjAwMDAwMDAwNF0sIFsxMTYuMzQ3NjE0LCAzOS45ODY0MV0sIFsxMTYuMzQ3NDczLCAzOS45ODY5MTVdLCBbMTE2LjM0ODM3NSwgMzkuOTg3MjAyXSwgWzExNi4zNDc4ODQwMDAwMDAwMSwgMzkuOTg2ODE1XSwgWzExNi4zNDc2MDMsIDM5Ljk4Njc5OV0sIFsxMTYuMzQ3NjIyLCAzOS45ODYzMDkwMDAwMDAwMDZdLCBbMTE2LjM0ODA1MSwgMzkuOTg3NTg2XSwgWzExNi4zNDgzMDgsIDM5Ljk4NjE4Ml0sIFsxMTYuMzQ3NDU4LCAzOS45ODc5NDJdLCBbMTE2LjM0MDU5NTk5OTk5OTk5LCAzOS45OTE5NzRdLCBbMTE2LjMyODE3OSwgMzkuOTkxNzkyXSwgWzExNi4zMTQ4ODksIDM5Ljk5MTMzN10sIFsxMTYuMzA5MDIzLCAzOS45OTkwNTVdLCBbMTE2LjMxMjU0OSwgNDAuMDA4ODU2XSwgWzExNi4zMTA1MzgsIDQwLjAxNTkxMl0sIFsxMTYuMzA1NDU3LCA0MC4wMTU2Nzk5OTk5OTk5OTZdLCBbMTE2LjMwNjQxOCwgNDAuMDEzODE5XSwgWzExNi4zMDYwNDEsIDQwLjAxNDA4OF0sIFsxMTYuMzA4OTc3LCA0MC4wMTY0MjAwMDAwMDAwMDRdLCBbMTE2LjMxMjEwNSwgNDAuMDExNTE1XSwgWzExNi4zMjcwMzc5OTk5OTk5OSwgNDAuMDEwMTIxOTk5OTk5OTk2XSwgWzExNi4zMzA5MjYsIDM5Ljk5OTA4OF0sIFsxMTYuMzI4MDg3MDAwMDAwMDEsIDM5Ljk5MTMxNF0sIFsxMTYuMzIyMDM2MDAwMDAwMDEsIDM5Ljk5MTA1NF0sIFsxMTYuMzI3MTQ4LCAzOS45ODU0NzZdLCBbMTE2LjMyNzM2NDk5OTk5OTk5LCAzOS45Nzc5NDhdLCBbMTE2LjMyNjgwMywgMzkuOTgwMjQyXSwgWzExNi4zMjkyODIsIDM5Ljk4MjkzMV0sIFsxMTYuMzI4NDU2LCAzOS45ODMzMzhdLCBbMTE2LjMyODgxOSwgMzkuOTgxNTc4MDAwMDAwMDA2XSwgWzExNi4zMjc3LCAzOS45ODE0ODZdLCBbMTE2LjMyNzYxMjAwMDAwMDAyLCAzOS45ODcwNzddLCBbMTE2LjMyODQxOCwgMzkuOTkxNjQwMDAwMDAwMDA0XSwgWzExNi4zMjQ4NDI5OTk5OTk5OSwgMzkuOTk4NzcxMDAwMDAwMDA1XSwgWzExNi4zMjUzNzMsIDM5Ljk5Nzk5XSwgWzExNi4zMjUxODQwMDAwMDAwMSwgMzkuOTk4Mzc5XSwgWzExNi4zMjQwMzQwMDAwMDAwMSwgMzkuOTk4MDE0MDAwMDAwMDA1XSwgWzExNi4zMjQ5MDksIDM5Ljk5ODM0Ml0sIFsxMTYuMzI0NTYyMDAwMDAwMDEsIDM5Ljk5ODMyOTk5OTk5OTk5Nl0sIFsxMTYuMzI1ODI0LCAzOS45OTg3NTZdLCBbMTE2LjMyNTE5OCwgMzkuOTk4NjA3XSwgWzExNi4zMjQ5MDUsIDM5Ljk5ODQ0XSwgWzExNi4zMjU0Mzg5OTk5OTk5OSwgMzkuOTk4NDc1XSwgWzExNi4zMjUwNDcsIDM5Ljk5ODY1NV0sIFsxMTYuMzI1MTQwOTk5OTk5OTksIDM5Ljk5ODY2N10sIFsxMTYuMzI1MjQ0LCAzOS45OTg0MzhdLCBbMTE2LjMyNTE5NCwgMzkuOTk4NTQ2OTk5OTk5OTk1XSwgWzExNi4zMjQ4MjYsIDM5Ljk5ODMwNV0sIFsxMTYuMzIxNzUsIDQwLjAwMTA5ODk5OTk5OTk5Nl0sIFsxMTYuMzE4MjEzOTk5OTk5OTgsIDQwLjAwNDY1N10sIFsxMTYuMzE2NTM4OTk5OTk5OTksIDQwLjAwODc3OV0sIFsxMTYuMzE2MzY1OTk5OTk5OTksIDQwLjAwODkzNF0sIFsxMTYuMzExOTY3LCA0MC4wMTE0ODRdLCBbMTE2LjMwNjI2NSwgNDAuMDEzNjYzXSwgWzExNi4zMDY3MTYsIDQwLjAxNjAyODk5OTk5OTk5Nl0sIFsxMTYuMzExNjY0LCA0MC4wMTQyMTRdLCBbMTE2LjMyMjcwMywgNDAuMDExODg2XSwgWzExNi4zMzA4MDksIDQwLjAwMjU4OV0sIFsxMTYuMzMxMjI5MDAwMDAwMDEsIDM5Ljk5Mzc1XSwgWzExNi4zMjM3NSwgMzkuOTkxNTIxOTk5OTk5OTk2XSwgWzExNi4zMjcwNTEsIDM5Ljk4NTUyOV0sIFsxMTYuMzI3MjU2LCAzOS45NzgxXSwgWzExNi4zMjc0MTI5OTk5OTk5OSwgMzkuOTgxNTQ0XSwgWzExNi4zMjcyMTY5OTk5OTk5OSwgMzkuOTgxODAyXSwgWzExNi4zMjY4MDkwMDAwMDAwMSwgMzkuOTkxMDMxXSwgWzExNi4zMTEyOTcsIDM5Ljk5MDk5Mjk5OTk5OTk5Nl0sIFsxMTYuMzA5MDYxMDAwMDAwMDEsIDM5Ljk5ODUyOV0sIFsxMTYuMzEyNjQ4LCA0MC4wMDgyNDldLCBbMTE2LjMwOTI0MywgNDAuMDEzMTc2XSwgWzExNi4zMDYxNjU5OTk5OTk5OSwgNDAuMDE0MTIyXSwgWzExNi4zMDk5MzMsIDQwLjAxNjU1MV0sIFsxMTYuMzE2NzQxLCA0MC4wMTE5MzNdLCBbMTE2LjMyOTI4ODk5OTk5OTk5LCA0MC4wMDgxODZdLCBbMTE2LjMzMTAxNSwgMzkuOTk2ODg1XSwgWzExNi4zMjIxODksIDM5Ljk5MTQyMl0sIFsxMTYuMzI2NzkyLCAzOS45ODg2NjUwMDAwMDAwMDVdLCBbMTE2LjMyNzMyMiwgMzkuOTgxNzcwMDAwMDAwMDA0XSwgWzExNi4zMjc1NDIsIDM5Ljk3NTAyXSwgWzExNi4zMjgyMDgsIDM5Ljk2NDU0NV0sIFsxMTYuMzI5NTYyMDAwMDAwMDEsIDM5Ljk1MzE3NV0sIFsxMTYuMzMxNzYzLCAzOS45NTEyMThdLCBbMTE2LjMzMTE3NywgMzkuOTQ5OTk2XSwgWzExNi4zMjkzMzEwMDAwMDAwMSwgMzkuOTU2MzM3XSwgWzExNi4zMjgyMDUwMDAwMDAwMSwgMzkuOTY1NzY4XSwgWzExNi4zMjc3NDgsIDM5Ljk3NTIyOV0sIFsxMTYuMzI3MzIsIDM5Ljk4Mzg2MV0sIFsxMTYuMzIzMjE5OTk5OTk5OTksIDM5Ljk5MTY5NF0sIFsxMTYuMzA5Nzc1LCAzOS45OTIyNzVdLCBbMTE2LjMwOSwgNDAuMDAwOTg1XSwgWzExNi4zMTIxODk5OTk5OTk5OSwgNDAuMDExNjM5XSwgWzExNi4zMDU2MzMwMDAwMDAwMSwgNDAuMDE0MDM3XSwgWzExNi4zMDY0OTgsIDQwLjAxMzc3NF0sIFsxMTYuMzA2NDUyMDAwMDAwMDEsIDQwLjAxMzgwNV0sIFsxMTYuMzA2NTE5OTk5OTk5OTksIDQwLjAxMzgzN10sIFsxMTYuMzI3MjU3LCAzOS45ODE3NzddLCBbMTE2LjMyNjg0OSwgMzkuOTkwODIxMDAwMDAwMDA0XSwgWzExNi4zMTIyNzQsIDM5Ljk5MDk2M10sIFsxMTYuMzA4OTg3MDAwMDAwMDIsIDQwLjAwMDk3N10sIFsxMTYuMzEyMTI5LCA0MC4wMTE5NDJdLCBbMTE2LjMwNzE4LCA0MC4wMTMwNjNdLCBbMTE2LjMwNjMxMTAwMDAwMDAxLCA0MC4wMTQwNDRdLCBbMTE2LjMwOTk2NTk5OTk5OTk5LCA0MC4wMTY2MjVdLCBbMTE2LjMxODYzODk5OTk5OTk5LCA0MC4wMTE3M10sIFsxMTYuMzMwNTk2LCA0MC4wMDU3MTddLCBbMTE2LjMzMTA4LCAzOS45OTI4MjZdLCBbMTE2LjMyMjE3NiwgMzkuOTkxNDY4XSwgWzExNi4zMjY2NTksIDM5Ljk4NzQ2Njk5OTk5OTk5NV0sIFsxMTYuMzI3NjA5MDAwMDAwMDEsIDM5Ljk4MTAyMTAwMDAwMDAwNV0sIFsxMTYuMzI3Mzg0MDAwMDAwMDEsIDM5Ljk4MDAyNF0sIFsxMTYuMzI2Njc1LCAzOS45OTA5NDRdLCBbMTE2LjMyMzI3LCA0MC4wMDAzOTddLCBbMTE2LjMyMTYwNSwgNDAuMDAyMzg0XSwgWzExNi4zMTYyNTMsIDQwLjAwOTM5MV0sIFsxMTYuMzExOTM2MDAwMDAwMDIsIDQwLjAxMTk0OV0sIFsxMTYuMzA2MzAxLCA0MC4wMTM2ODQ5OTk5OTk5OTVdLCBbMTE2LjMxMTkwMiwgNDAuMDEyMTg4XSwgWzExNi4zMTgxNTkwMDAwMDAwMSwgNDAuMDA0Njk3XSwgWzExNi4zMjUwMSwgMzkuOTk3NzM0XSwgWzExNi4zMjY3NTYsIDM5Ljk4NjY1N10sIFsxMTYuMzI2OTEzOTk5OTk5OTksIDM5Ljk4MTQzNTk5OTk5OTk5NV0sIFsxMTYuMzI2NDYwMDAwMDAwMDEsIDM5Ljk5NTc4NV0sIFsxMTYuMzIxNDUxLCA0MC4wMDQxODJdLCBbMTE2LjMxMzU2NSwgNDAuMDA5NTM4XSwgWzExNi4zMDU1MywgNDAuMDE1ODc5OTk5OTk5OTk2XSwgWzExNi4zMTEyMjgsIDQwLjAxMzE4OF0sIFsxMTYuMzE3NzIzLCA0MC4wMDU3ODZdLCBbMTE2LjMyNTcxMTAwMDAwMDAxLCAzOS45OTk1MTFdLCBbMTE2LjMyNjY5MSwgMzkuOTg4MTU1XSwgWzExNi4zMjcxMzk5OTk5OTk5OSwgMzkuOTc4MTMyXSwgWzExNi4zMjY4MDIsIDM5Ljk4NzAyOV0sIFsxMTYuMzI2NTUyLCAzOS45OTgyNTMwMDAwMDAwMDVdLCBbMTE2LjMxODQ4NywgNDAuMDA0NzYxXSwgWzExNi4zMTIwMjkwMDAwMDAwMSwgNDAuMDExODg0XSwgWzExNi4zMDYzODMwMDAwMDAwMSwgNDAuMDEzODAyXSwgWzExNi4zMTI0MjEsIDQwLjAxMTI1OV0sIFsxMTYuMzE4NTcyLCA0MC4wMDQ3MTldLCBbMTE2LjMyNjIzOTk5OTk5OTk4LCAzOS45OTgzMDRdLCBbMTE2LjMyNjcxOSwgMzkuOTg4MTE1XSwgWzExNi4zMjcxNDcsIDM5Ljk3NzgzNV0sIFsxMTYuMzE3NDk5LCAzOS45NzQ0NzgwMDAwMDAwMDVdLCBbMTE2LjMxMjgzMiwgMzkuOTc1NDg4XSwgWzExNi4zMjI0OTIsIDM5Ljk3NTI3NF0sIFsxMTYuMzI3MDIxLCAzOS45ODEyNjRdLCBbMTE2LjMyNjM5MywgMzkuOTkxOTI5XSwgWzExNi4zMjE5MzEsIDQwLjAwMDAyXSwgWzExNi4zMTc2NzksIDQwLjAwOTAwOTk5OTk5OTk5Nl0sIFsxMTYuMzA5NDYyMDAwMDAwMDEsIDQwLjAxMzE3OV0sIFsxMTYuMzA2Mzg0MDAwMDAwMDEsIDQwLjAxMzkwOTAwMDAwMDAwNV0sIFsxMTYuMzEyNDk5LCA0MC4wMTEyNDddLCBbMTE2LjMyMTI0NCwgNDAuMDA4MDk0XSwgWzExNi4zMjQ0ODYwMDAwMDAwMSwgNDAuMDAyNzM2OTk5OTk5OTk2XSwgWzExNi4zMjY1NSwgMzkuOTkxNzM3XSwgWzExNi4zMjcxMjksIDM5Ljk4MDAyNF0sIFsxMTYuMzI2OTI1LCAzOS45ODE0NzNdLCBbMTE2LjMyODA2Njk5OTk5OTk5LCAzOS45ODI4NTkwMDAwMDAwMDVdLCBbMTE2LjMyNzAyOCwgMzkuOTc5NDE4XSwgWzExNi4zMjY3MTksIDM5Ljk4OTk1M10sIFsxMTYuMzI0NDU4LCAzOS45OTk5ODhdLCBbMTE2LjMxNzU2OTk5OTk5OTk5LCA0MC4wMDY4ODZdLCBbMTE2LjMxMDcwMSwgNDAuMDEzMjIwMDAwMDAwMDA0XSwgWzExNi4zMTA4ODUwMDAwMDAwMSwgNDAuMDEzMTk0XSwgWzExNi4zMTc3ODcwMDAwMDAwMSwgNDAuMDA1MzE3XSwgWzExNi4zMjU4Mzg5OTk5OTk5OSwgMzkuOTk5MzQ4XSwgWzExNi4zMzEwNzUsIDM5Ljk5MTY3OF0sIFsxMTYuMzMzNjA0MDAwMDAwMDEsIDM5Ljk3NTkxNjk5OTk5OTk5NV0sIFsxMTYuMzM4ODEyLCAzOS45NjQzODJdLCBbMTE2LjM0NTQxMzk5OTk5OTk5LCAzOS45NDgwMjE5OTk5OTk5OTVdLCBbMTE2LjM0NzUzMiwgMzkuOTM5NDMxXSwgWzExNi40MDk3MzIsIDM5LjkwNzg0Nl0sIFsxMTYuNDA5NjYzLCAzOS45MDY2MTJdLCBbMTE2LjQwODU5NiwgMzkuOTEzMzQ2MDAwMDAwMDA0XSwgWzExNi40MDk0NTMsIDM5LjkxMDE4OV0sIFsxMTYuNDA5NDg3OTk5OTk5OTgsIDM5LjkwNzU0M10sIFsxMTYuNDA5NjY3LCAzOS45MDg4MjM5OTk5OTk5OTZdLCBbMTE2LjQwOTI5Mzk5OTk5OTk5LCAzOS45MDk1OTldLCBbMTE2LjQwOTgxNjk5OTk5OTk5LCAzOS45MDgzNDFdLCBbMTE2LjQwOTMzNzk5OTk5OTk5LCAzOS45MDc2MzFdLCBbMTE2LjQwOTQ2MDAwMDAwMDAxLCAzOS45MDgyODddLCBbMTE2LjQwOTQxMzk5OTk5OTk4LCAzOS45MDgzNjZdLCBbMTE2LjQxMTUxMSwgMzkuOTA4MTQ0XSwgWzExNi4zNDc0NzQsIDM5Ljk0MDk5NF0sIFsxMTYuMzQzNTMxLCAzOS45NTM1NDJdLCBbMTE2LjMzOCwgMzkuOTY4NzEyXSwgWzExNi4zMzI0ODk5OTk5OTk5OSwgMzkuOTgyNjIyXSwgWzExNi4zMjk2NDI5OTk5OTk5OSwgMzkuOTkxNjgxXSwgWzExNi4zMjk2MjEsIDM5Ljk5MTg5M10sIFsxMTYuMzI2ODM1LCAzOS45ODcyMDZdLCBbMTE2LjMxODE5Mzk5OTk5OTk5LCAzOS45NzM1MzFdLCBbMTE2LjMyNjI3NjAwMDAwMDAxLCAzOS45NzgxN10sIFsxMTYuMzIxNjk2LCAzOS45NzgzMDRdLCBbMTE2LjMyNjQ0NDk5OTk5OTk5LCAzOS45NzkwMDZdLCBbMTE2LjMyNjYyOCwgMzkuOTg1MzA4XSwgWzExNi4zMjY0MzIwMDAwMDAwMSwgMzkuOTk2OTY0XSwgWzExNi4zMjI2NjcsIDQwLjAwODY5NV0sIFsxMTYuMzE4MjExLCA0MC4wMDY1NTMwMDAwMDAwMDRdLCBbMTE2LjMxMDc5NywgNDAuMDEzMjMxXSwgWzExNi4zMDU2Mzc5OTk5OTk5OSwgNDAuMDE0Nzc4XSwgWzExNi4zMTE1MjcsIDQwLjAxNDgzNTk5OTk5OTk5NV0sIFsxMTYuMzIwNzUyLCA0MC4wMTE5OTZdLCBbMTE2LjMzMDgwMiwgNDAuMDA0MThdLCBbMTE2LjMzMTI2ODk5OTk5OTk5LCAzOS45OTM3OF0sIFsxMTYuMzI2ODg0LCAzOS45OTQwODFdLCBbMTE2LjMyNTU5OSwgMzkuOTk4NDEzXSwgWzExNi4zMjc0MTIwMDAwMDAwMSwgMzkuOTk3NzQxOTk5OTk5OTk1XSwgWzExNi4zMjU3NDI5OTk5OTk5OSwgMzkuOTk4NTJdLCBbMTE2LjMyNjQ2NywgMzkuOTk3ODA2XSwgWzExNi4zMjY4MTYsIDM5Ljk5NDAyNl0sIFsxMTYuMzI2ODQ0OTk5OTk5OTksIDM5Ljk5MTU0NV0sIFsxMTYuMzExMzg4LCAzOS45OTA5OThdLCBbMTE2LjMwODkzMzAwMDAwMDAxLCA0MC4wMDEyNzYwMDAwMDAwMDRdLCBbMTE2LjMxMjE3NCwgNDAuMDExOTMyXSwgWzExNi4zMDg0MDEsIDQwLjAxMzIzXSwgWzExNi4zMDczNDksIDQwLjAxMzAwOF0sIFsxMTYuMzE2MTUzLCA0MC4wMDkzOTldLCBbMTE2LjMyMTcyNSwgNDAuMDAxMjA4XSwgWzExNi4zMjY1MDMsIDM5Ljk5MjU1OV0sIFsxMTYuMzI2OTc3LCAzOS45ODMyOTAwMDAwMDAwMDRdLCBbMTE2LjMyNzI3LCAzOS45Nzk3MDldLCBbMTE2LjMyNzc1MSwgMzkuOTgxNjAyXSwgWzExNi4zMjY5NzUsIDM5Ljk5MTM2MV0sIFsxMTYuMzIxODQ4LCAzOS45OTk5OTRdLCBbMTE2LjMxNzQxOSwgNDAuMDA5MTA3XSwgWzExNi4zMDczNzMsIDQwLjAxMzA0OV0sIFsxMTYuMzEwOTEsIDQwLjAxNTQ2MV0sIFsxMTYuMzEyMDMwMDAwMDAwMDEsIDQwLjAxMTg3Nl0sIFsxMTYuMzI2NzkwOTk5OTk5OTksIDQwLjAxMDQ5M10sIFsxMTYuMzMxMDEyMDAwMDAwMDIsIDM5Ljk5ODIyNF0sIFsxMTYuMzI4MDg1MDAwMDAwMDIsIDM5Ljk5MTc3MV0sIFsxMTYuMzI1NzAyLCAzOS45OTE3NjJdLCBbMTE2LjMyNzMwNjAwMDAwMDAxLCAzOS45ODI5ODRdLCBbMTE2LjMyNzg0LCAzOS45NzU5NTldLCBbMTE2LjMzNTI4MiwgMzkuOTY2MDkxXSwgWzExNi4zNTM1MTcsIDM5Ljk2NjM1MzAwMDAwMDAwNV0sIFsxMTYuMzc0OTYwMDAwMDAwMDIsIDM5Ljk2NjgwMzAwMDAwMDAwNl0sIFsxMTYuMzkzMzUyMDAwMDAwMDEsIDM5Ljk2NzI1OTk5OTk5OTk5Nl0sIFsxMTYuNDAzNjQ1LCAzOS45Njc1NzZdLCBbMTE2LjQyMzYzNCwgMzkuOTY4MDIyXSwgWzExNi40MzU4Mzg5OTk5OTk5OSwgMzkuOTY0MzJdLCBbMTE2LjQzOTY0NywgMzkuOTYwNTYyXSwgWzExNi40MjgzOCwgMzkuOTU4MjU4XSwgWzExNi40MTg3MjIsIDM5Ljk2MzQwM10sIFsxMTYuNDEwNTYsIDM5Ljk2NzkzNV0sIFsxMTYuMzkwMiwgMzkuOTY3Mjg4XSwgWzExNi4zNzA4MDQsIDM5Ljk2NjczNl0sIFsxMTYuMzUyOTIxOTk5OTk5OTksIDM5Ljk2NjM5ODk5OTk5OTk5Nl0sIFsxMTYuMzM0MTM3MDAwMDAwMDEsIDM5Ljk2NjQ4XSwgWzExNi4zMjc1NDYsIDM5Ljk3NDIwNF0sIFsxMTYuMzI3NDAxLCAzOS45Nzg0MjddLCBbMTE2LjMyNzk5NSwgMzkuOTY4NDc3XSwgWzExNi4zNDAwMzMsIDM5Ljk2NjE4OF0sIFsxMTYuMzYwNzgzMDAwMDAwMDEsIDM5Ljk2NjQ3OF0sIFsxMTYuMzc4NzM5LCAzOS45NjY3OTldLCBbMTE2LjQwMDEyNiwgMzkuOTY3NTE1OTk5OTk5OTk2XSwgWzExNi40MjA3NzYsIDM5Ljk2ODAxNV0sIFsxMTYuNDM5NjAxLCAzOS45NjE4NDRdLCBbMTE2LjQzODExMjk5OTk5OTk5LCAzOS45NjA1OTddLCBbMTE2LjQ0MDMxODk5OTk5OTk5LCAzOS45NjEwMDk5OTk5OTk5OTVdLCBbMTE2LjQ0MzU0Mjk5OTk5OTk5LCAzOS45NTg5OTNdLCBbMTE2LjQ0MDI0Mzk5OTk5OTk5LCAzOS45NjA1NTMwMDAwMDAwMDRdLCBbMTE2LjQzOTY4NDAwMDAwMDAxLCAzOS45NjEwMDhdLCBbMTE2LjQzODg5OCwgMzkuOTYxNTU2XSwgWzExNi40Mzg5NjY5OTk5OTk5OSwgMzkuOTYxMzAxXSwgWzExNi40Mzg4MjYsIDM5Ljk2MTc3OV0sIFsxMTYuNDM4MDgyMDAwMDAwMDEsIDM5Ljk2MjQxMl0sIFsxMTYuNDM3MDg0MDAwMDAwMDEsIDM5Ljk2MTgxOF0sIFsxMTYuNDM2MzExLCAzOS45NjEyNDRdLCBbMTE2LjQzNTc2MjAwMDAwMDAxLCAzOS45NjExNTRdLCBbMTE2LjQzNjg2Mzk5OTk5OTk5LCAzOS45NjA3NzddLCBbMTE2LjQzODEyMywgMzkuOTYwNzY0MDAwMDAwMDA1XSwgWzExNi40NDAyMDcsIDM5Ljk2MTM5Nl0sIFsxMTYuNDMzMTQxOTk5OTk5OTksIDM5Ljk2NjY4N10sIFsxMTYuNDE2MDUxLCAzOS45NjgxODU5OTk5OTk5OTZdLCBbMTE2LjQwNDg0OCwgMzkuOTY3NzA0XSwgWzExNi4zODg4ODEwMDAwMDAwMSwgMzkuOTY3MjM0OTk5OTk5OTk1XSwgWzExNi4zNzQ4NDU5OTk5OTk5OSwgMzkuOTY5NTIxXSwgWzExNi4zNjY3NjAwMDAwMDAwMSwgMzkuOTc1MzY1OTk5OTk5OTk0XSwgWzExNi4zNTI5MTAwMDAwMDAwMSwgMzkuOTc1MzkyXSwgWzExNi4zMzgxMTU5OTk5OTk5OSwgMzkuOTc1Mzk1XSwgWzExNi4zMjc2NTIsIDM5Ljk3NTMzNV0sIFsxMTYuMzI3MzY3OTk5OTk5OTksIDM5Ljk3OTUyNV0sIFsxMTYuMzI3MDgwMDAwMDAwMDEsIDM5Ljk4MTgwMTAwMDAwMDAwNF0sIFsxMTYuMzI2OTc2LCAzOS45ODI2NjNdLCBbMTE2LjMyNDQ2OSwgMzkuOTkxNDAyXSwgWzExNi4zMDk3MjI5OTk5OTk5OSwgMzkuOTkyMl0sIFsxMTYuMzA4OTMsIDM5Ljk5OTg2MDk5OTk5OTk5Nl0sIFsxMTYuMzEyMjA2LCA0MC4wMTA4OTRdLCBbMTE2LjMwODQ0OCwgNDAuMDE2NDg2XSwgWzExNi4zMDU1OTE5OTk5OTk5OSwgNDAuMDE0NjhdLCBbMTE2LjMxMDEyLCA0MC4wMTY2MDJdLCBbMTE2LjMxOTY2NDk5OTk5OTk5LCA0MC4wMTE5NjUwMDAwMDAwMDRdLCBbMTE2LjMzMDc1LCA0MC4wMDUwMDFdLCBbMTE2LjMzMTE0NTk5OTk5OTk5LCAzOS45OTU1XSwgWzExNi4zMjQ3MjQsIDM5Ljk5MTQ3OV0sIFsxMTYuMzI2NzgsIDM5Ljk4OTU5Ml0sIFsxMTYuMzI3MDg3LCAzOS45Nzk4MzQ5OTk5OTk5OTRdLCBbMTE2LjMyNzY1LCAzOS45NzcxMDZdLCBbMTE2LjMyMjQ1NywgMzkuOTc1MTg5XSwgWzExNi4zMTIyMjksIDM5Ljk3NzA2OF0sIFsxMTYuMzA3Mjk2OTk5OTk5OTksIDM5Ljk4MDM0MDk5OTk5OTk5Nl0sIFsxMTYuMzA4ODcxLCAzOS45ODcxMDMwMDAwMDAwMDVdLCBbMTE2LjMwOTUsIDM5Ljk5NjIyNV0sIFsxMTYuMzEyOTUsIDQwLjAwNjcwNl0sIFsxMTYuMzEwNzkxOTk5OTk5OTksIDQwLjAxNTY5Njk5OTk5OTk5Nl0sIFsxMTYuMzA1NTQsIDQwLjAxNTc3N10sIFsxMTYuMzA1NDgxLCA0MC4wMTU3OF0sIFsxMTYuMzA1NjkxLCA0MC4wMTQwNzgwMDAwMDAwMDVdLCBbMTE2LjMwNTkyMSwgNDAuMDE0MDkyXSwgWzExNi4zMDU4ODMwMDAwMDAwMSwgNDAuMDE0MDc3XSwgWzExNi4zMDcwNjY5OTk5OTk5OSwgNDAuMDEzODcwMDAwMDAwMDA0XSwgWzExNi4zMDk1MTEwMDAwMDAwMSwgNDAuMDE2NTIxMDAwMDAwMDA0XSwgWzExNi4zMTIwNDE5OTk5OTk5OSwgNDAuMDExOTQzXSwgWzExNi4zMjU2MzcwMDAwMDAwMSwgNDAuMDExNTMzXSwgWzExNi4zMzA5MTksIDQwLjAwMDI3Nl0sIFsxMTYuMzI4Njk5LCAzOS45OTE2XSwgWzExNi4zMjE5MTgsIDM5Ljk5MTA3NzAwMDAwMDAwNF0sIFsxMTYuMzI2ODMyMDAwMDAwMDEsIDM5Ljk4NjI1OTAwMDAwMDAwNF0sIFsxMTYuMzI3MzA3LCAzOS45Nzc0NDldLCBbMTE2LjMyODExMSwgMzkuOTgxNjUyMDAwMDAwMDA0XSwgWzExNi4zMjcyOTE5OTk5OTk5OSwgMzkuOTgyMDU3XSwgWzExNi4zMjY4ODEsIDM5Ljk5MDkxOV0sIFsxMTYuMzEyMjExLCAzOS45OTA5MDRdLCBbMTE2LjMwNjYzMjAwMDAwMDAxLCAzOS45OTg1MDcwMDAwMDAwMDRdLCBbMTE2LjMwODc3NSwgNDAuMDAxNTIxMDAwMDAwMDA0XSwgWzExNi4zMTI1OTksIDQwLjAwODc5MDAwMDAwMDAwNV0sIFsxMTYuMzA3OTc5LCA0MC4wMTMwNjNdLCBbMTE2LjMwNTU3NSwgNDAuMDE1NzM5XSwgWzExNi4zMTIwODQwMDAwMDAwMSwgNDAuMDExOTY3OTk5OTk5OTk2XSwgWzExNi4zMjM5NTUsIDQwLjAxMTg2NV0sIFsxMTYuMzMwODgzMDAwMDAwMDEsIDQwLjAwMTM4XSwgWzExNi4zMjg5MjYsIDM5Ljk5MTY0N10sIFsxMTYuMzIyMDE1OTk5OTk5OTksIDM5Ljk5MTE3ODAwMDAwMDAwNV0sIFsxMTYuMzI3NDI1LCAzOS45ODU2NTJdLCBbMTE2LjMyNzQ1NzAwMDAwMDAxLCAzOS45Nzc2MDldLCBbMTE2LjMyNTMxNDk5OTk5OTk5LCAzOS45Nzg4NTFdLCBbMTE2LjMyNjUxMjAwMDAwMDAxLCAzOS45NzgyMDJdLCBbMTE2LjMyNzcyMSwgMzkuOTc0MDQ3XSwgWzExNi4zMjgxMTEsIDM5Ljk2OTY1MV0sIFsxMTYuMzI0MDE4LCAzOS45NzI0NjVdLCBbMTE2LjMxODYzMTAwMDAwMDAxLCAzOS45NzQ2ODVdLCBbMTE2LjMxOTI3NiwgMzkuOTc0OTU5OTk5OTk5OTk2XSwgWzExNi4zMjkwMDQsIDM5Ljk3NTA4OTAwMDAwMDAwNF0sIFsxMTYuMzMwNDEzOTk5OTk5OTksIDM5Ljk3NDg3XSwgWzExNi4zMjc0MzQwMDAwMDAwMSwgMzkuOTc5OTk1XSwgWzExNi4zMjY5MjUsIDM5Ljk4ODc5XSwgWzExNi4zMTgwMjQsIDM5Ljk5MTI0MDk5OTk5OTk5NV0sIFsxMTYuMzA5MzU4LCAzOS45OTU3NjldLCBbMTE2LjMxMTM1OTAwMDAwMDAxLCA0MC4wMDQ4NzJdLCBbMTE2LjMxMTAzLCA0MC4wMTMyMTVdLCBbMTE2LjMwNjQ2NywgNDAuMDEzNzc5XSwgWzExNi4zMTExNTcwMDAwMDAwMSwgNDAuMDEzMjI4MDAwMDAwMDA1XSwgWzExNi4zMTI0NjMsIDQwLjAxMDQ0M10sIFsxMTYuMzA4OTk2LCA0MC4wMDAyNzldLCBbMTE2LjMwOTExNTk5OTk5OTk5LCAzOS45OTU0MDFdLCBbMTE2LjMwOTMxMDAwMDAwMDAxLCAzOS45OTM0N10sIFsxMTYuMzE1OTM3OTk5OTk5OTksIDM5Ljk5MTA1NDk5OTk5OTk5Nl0sIFsxMTYuMzI4MDA4MDAwMDAwMDEsIDM5Ljk5MTU2Nl0sIFsxMTYuMzM5MzUzLCAzOS45OTE2MTFdLCBbMTE2LjM0NTQ3NCwgMzkuOTkxOTMyXSwgWzExNi4zNDczNTcsIDM5Ljk4Mjg2MV0sIFsxMTYuMzQyNjk1OTk5OTk5OTksIDM5Ljk3OTkyXSwgWzExNi4zNDE5MTYsIDM5Ljk4MzMwNF0sIFsxMTYuMzQyOTY4LCAzOS45Nzk1NTNdLCBbMTE2LjM0Mzc5NiwgMzkuOTc4MTc5XSwgWzExNi4zNDM4MzEwMDAwMDAwMSwgMzkuOTc4MzAzMDAwMDAwMDA0XSwgWzExNi4zNDM1Njg5OTk5OTk5OSwgMzkuOTc4MTM5XSwgWzExNi4zNDM0NjksIDM5Ljk3ODQzMl0sIFsxMTYuMzQzNDU2LCAzOS45Nzg1Nzg5OTk5OTk5OTZdLCBbMTE2LjM0MzY3NSwgMzkuOTc4MzAzMDAwMDAwMDA0XSwgWzExNi4zNDM3NDE5OTk5OTk5OSwgMzkuOTc4MDQ3XSwgWzExNi4zNDM2MzMwMDAwMDAwMSwgMzkuOTc3ODk1MDAwMDAwMDA0XSwgWzExNi4zNDQ1NTIwMDAwMDAwMSwgMzkuOTc4MjgxXSwgWzExNi4zNDQzNjksIDM5Ljk3ODE4M10sIFsxMTYuMzQ1NTI0LCAzOS45Nzk5OTc5OTk5OTk5OTVdLCBbMTE2LjM0NzYwNSwgMzkuOTgzOTQ3XSwgWzExNi4zNDU2MzIwMDAwMDAwMSwgMzkuOTkxOTc2XSwgWzExNi4zMzE5MTIwMDAwMDAwMiwgMzkuOTkxNTQ2XSwgWzExNi4zMTg4MDEwMDAwMDAwMSwgMzkuOTkxMTM3XSwgWzExNi4zMDkxNzgsIDM5Ljk5NjExM10sIFsxMTYuMzA4OTcxLCA0MC4wMDMxNzg5OTk5OTk5OTZdLCBbMTE2LjMxMjE0NywgNDAuMDEyNDE5XSwgWzExNi4zMTE1Njg5OTk5OTk5OSwgNDAuMDE0MDk5XSwgWzExNi4zMTE2NDksIDQwLjAxNDA4OF0sIFsxMTYuMzA1Nzg4OTk5OTk5OTksIDQwLjAxNDExN10sIFsxMTYuMzA2NTYyMDAwMDAwMDEsIDQwLjAxMzg4NDk5OTk5OTk5NV0sIFsxMTYuMzA2NTU0LCA0MC4wMTM4OV0sIFsxMTYuMzA2NTM5OTk5OTk5OTgsIDQwLjAxMzg3MDAwMDAwMDAwNF0sIFsxMTYuMzA2NTE4LCA0MC4wMTM4NThdLCBbMTE2LjMwNjQ5NCwgNDAuMDEzODQ2XSwgWzExNi4zMDY0ODc5OTk5OTk5OSwgNDAuMDEzODU1XSwgWzExNi4zMDY0Njg5OTk5OTk5OSwgNDAuMDEzODQ3XSwgWzExNi4zMDY0NTcwMDAwMDAwMSwgNDAuMDEzODI0XSwgWzExNi4zMDY0NDUsIDQwLjAxMzgwNl0sIFsxMTYuMzA2NDU1LCA0MC4wMTM4MDZdLCBbMTE2LjMwNjQ0LCA0MC4wMTM4MDRdLCBbMTE2LjMwNjQ5MSwgNDAuMDEzODAyXSwgWzExNi4zMDY0NjcsIDQwLjAxMzgxMl0sIFsxMTYuMzA2NTA0LCA0MC4wMTM4MThdLCBbMTE2LjMwNjUwNCwgNDAuMDEzODA3XSwgWzExNi4zMDY1MDgwMDAwMDAwMSwgNDAuMDEzNzk5XSwgWzExNi4zMDY1NDIsIDQwLjAxMzc4OV0sIFsxMTYuMzA2NTQ3OTk5OTk5OTksIDQwLjAxMzc4OV0sIFsxMTYuMzA2NTE3LCA0MC4wMTM3ODRdLCBbMTE2LjMwNjUwNiwgNDAuMDEzNzc3MDAwMDAwMDA1XSwgWzExNi4zMDY1MDQsIDQwLjAxMzc5MV0sIFsxMTYuMzA2NDg3LCA0MC4wMTM3OTFdLCBbMTE2LjMwNjQ2Mzk5OTk5OTk5LCA0MC4wMTM4MDNdLCBbMTE2LjMwNjQ1NjAwMDAwMDAxLCA0MC4wMTM4MV0sIFsxMTYuMzA2NDczLCA0MC4wMTM3OTldLCBbMTE2LjMwNjQ4Nzk5OTk5OTk5LCA0MC4wMTM3OTVdLCBbMTE2LjMwNjUwNiwgNDAuMDEzNzk0XSwgWzExNi4zMDY1MjksIDQwLjAxMzc3NF0sIFsxMTYuMzA2NTA5LCA0MC4wMTM3ODU5OTk5OTk5OTZdLCBbMTE2LjMwNjQ5NiwgNDAuMDEzNzk3XSwgWzExNi4zMDY1MjIsIDQwLjAxMzc4NV0sIFsxMTYuMzA2NTQ5LCA0MC4wMTM3ODldLCBbMTE2LjMwNjUxOTk5OTk5OTk5LCA0MC4wMTM3OTRdLCBbMTE2LjMwNjQ5Mjk5OTk5OTk5LCA0MC4wMTM4MDZdLCBbMTE2LjMwNjQ5NSwgNDAuMDEzNzk3XSwgWzExNi4zMDY0NTgsIDQwLjAxMzc4OV0sIFsxMTYuMzA4NzAzMDAwMDAwMDEsIDQwLjAxMzEyNzAwMDAwMDAwNF0sIFsxMTYuMzE3NjczLCA0MC4wMDgxMDJdLCBbMTE2LjMyMjk3MiwgMzkuOTk5NjY1XSwgWzExNi4zMjY0OTU5OTk5OTk5OSwgMzkuOTkwNjkxOTk5OTk5OTk2XSwgWzExNi4zMjY5MzksIDM5Ljk3ODkxOV0sIFsxMTYuMzI3MTYsIDM5Ljk3OTQyNF0sIFsxMTYuMzI3MTc5LCAzOS45ODc5MjddLCBbMTE2LjMyNjc1ODAwMDAwMDAxLCAzOS45OTg4NDZdLCBbMTE2LjMwODIwNzAwMDAwMDAxLCA0MC4wMTMwNTNdLCBbMTE2LjMxNzU5Njk5OTk5OTk5LCA0MC4wMDg2OTRdLCBbMTE2LjMyMTg5NCwgMzkuOTk5ODhdLCBbMTE2LjMyNjU1MSwgMzkuOTkxNTM1XSwgWzExNi4zMjcxMzEwMDAwMDAwMSwgMzkuOTgxODQ0XV0sICJ0eXBlIjogIkxpbmVTdHJpbmcifSwgInByb3BlcnRpZXMiOiB7ImhpZ2hsaWdodCI6IHt9LCAic3R5bGUiOiB7ImNvbG9yIjogIiNGRkZGMDAiLCAib3BhY2l0eSI6IDAuOSwgIndlaWdodCI6IDN9fSwgInR5cGUiOiAiRmVhdHVyZSJ9XSwgInR5cGUiOiAiRmVhdHVyZUNvbGxlY3Rpb24ifQogICAgICAgICAgICAKICAgICAgICAgICAgKS5hZGRUbyhtYXBfZTA3YWVhMjA0ZjczNDQ2YmE4YWUzNzVlOThiZjBlYzgpOwogICAgICAgIGdlb19qc29uX2MxYjgzNjczY2QwNjRlODhhYWFmODQ4Zjc1ZjE1ZGFmLnNldFN0eWxlKGZ1bmN0aW9uKGZlYXR1cmUpIHtyZXR1cm4gZmVhdHVyZS5wcm9wZXJ0aWVzLnN0eWxlO30pOwogICAgICAgIAogICAgCiAgICAgICAgCiAgICAgICAgdmFyIGdlb19qc29uXzdmMmE3MTA5ZjUyYTQzNTY4MGE0MTViYTA1MDNkNDI0ID0gTC5nZW9Kc29uKAogICAgICAgICAgICB7ImZlYXR1cmVzIjogW3siZ2VvbWV0cnkiOiB7ImNvb3JkaW5hdGVzIjogW1sxMTYuMzIxMzM3MDAwMDAwMDEsIDQwLjAwNDE1NV0sIFsxMTYuMzI2NTczLCAzOS45OTQzMDgwMDAwMDAwMDRdLCBbMTE2LjMyNzEwOTAwMDAwMDAxLCAzOS45Nzk1OV0sIFsxMTYuMzI3OTY4LCAzOS45NjYxOTA5OTk5OTk5OTVdLCBbMTE2LjM0NjE0NTk5OTk5OTk5LCAzOS45NjYwNzNdLCBbMTE2LjM1NzI1MSwgMzkuOTYxNzQ2MDAwMDAwMDA1XSwgWzExNi4zNjA2NzksIDM5Ljk1ODk1OF0sIFsxMTYuMzYwNzU1MDAwMDAwMDEsIDM5Ljk1ODg1OTAwMDAwMDAwNF0sIFsxMTYuMzYwNDQ0LCAzOS45NTgyOTYwMDAwMDAwMDRdLCBbMTE2LjM1NjY5MiwgMzkuOTU4MDA3XSwgWzExNi4zNTY1NjIwMDAwMDAwMSwgMzkuOTU3OTA4XSwgWzExNi4zNTY2NDEsIDM5Ljk1Nzc1XSwgWzExNi4zNTY2MTU5OTk5OTk5OSwgMzkuOTU3OTg0XSwgWzExNi4zNTY3MDQwMDAwMDAwMSwgMzkuOTU3Njk5XSwgWzExNi4zNTY2NSwgMzkuOTU4MDAzMDAwMDAwMDA1XSwgWzExNi4zNTY1MzcwMDAwMDAwMiwgMzkuOTU3MjUxXSwgWzExNi4zNTYzNTgwMDAwMDAwMSwgMzkuOTU3NDM2XSwgWzExNi4zNTY3OTQsIDM5Ljk1NjgwOV0sIFsxMTYuMzU2NjUzMDAwMDAwMDEsIDM5Ljk1NzIwMV0sIFsxMTYuMzU2NiwgMzkuOTU3MjgxXSwgWzExNi4zNTY0NTkwMDAwMDAwMiwgMzkuOTU2NjAyMDAwMDAwMDA0XSwgWzExNi4zNTY0Njg5OTk5OTk5OSwgMzkuOTU3Nzg5XSwgWzExNi4zNTY1Mzg5OTk5OTk5OCwgMzkuOTU3MDI1XSwgWzExNi4zNTcxNjc5OTk5OTk5OSwgMzkuOTU3ODQ1XSwgWzExNi4zNTY1ODEsIDM5Ljk1NzAzNTk5OTk5OTk5NV0sIFsxMTYuMzU3MDgyLCAzOS45NTc4OV0sIFsxMTYuMzU2Njg3MDAwMDAwMDEsIDM5Ljk1NzI5NF0sIFsxMTYuMzYwNTQ1LCAzOS45NTcxNjldLCBbMTE2LjM2MDI2ODk5OTk5OTk5LCAzOS45NTk5OTRdLCBbMTE2LjM1NjksIDM5Ljk2MTQzNDAwMDAwMDAwNF0sIFsxMTYuMzU0MzY3LCAzOS45NjM3NjNdLCBbMTE2LjM0OTcxMzk5OTk5OTk5LCAzOS45NjM2NDJdLCBbMTE2LjM0ODMzMzAwMDAwMDAxLCAzOS45NzM1NjY5OTk5OTk5OTZdLCBbMTE2LjM0MTg2Nzk5OTk5OTk5LCAzOS45NzQ4MjE5OTk5OTk5OTZdLCBbMTE2LjMzOTM1MTAwMDAwMDAxLCAzOS45NzY2OTA5OTk5OTk5OTVdLCBbMTE2LjMzNjE4NzAwMDAwMDAxLCAzOS45NzY1MTddLCBbMTE2LjMzNzE2MTAwMDAwMDAxLCAzOS45NzYyMDJdLCBbMTE2LjMzNDQ1NDAwMDAwMDAxLCAzOS45ODgyMTRdLCBbMTE2LjMyNjcxMjAwMDAwMDAxLCAzOS45OTU2OTRdLCBbMTE2LjMyNDEsIDQwLjAwODc3Nl0sIFsxMTYuMzI0NzU0LCA0MC4wMDAyODldLCBbMTE2LjMyMjM5MSwgNDAuMDA0MzI4XSwgWzExNi4zMjEzMzk5OTk5OTk5OSwgNDAuMDA1NTM0MDAwMDAwMDA0XSwgWzExNi4zMjM2MTk5OTk5OTk5OSwgNDAuMDA5NTZdLCBbMTE2LjMxOTcyMiwgNDAuMDA2NTk2XSwgWzExNi4zMjYyNiwgMzkuOTk3NTg0XSwgWzExNi4zMjY4MDEsIDM5Ljk4NTY2N10sIFsxMTYuMzMyNDc4MDAwMDAwMDEsIDM5Ljk3NDkzMl0sIFsxMTYuMzM3NjA3LCAzOS45NzcyMTJdLCBbMTE2LjMzNjE0Mzk5OTk5OTk5LCAzOS45NzY2NDJdLCBbMTE2LjMzNDY3Mzk5OTk5OTk5LCAzOS45ODQ4MzddLCBbMTE2LjMyNjgxMSwgMzkuOTk1MDM0MDAwMDAwMDA0XSwgWzExNi4zMjUyNDQsIDQwLjAwMTIzNV0sIFsxMTYuMzIxNTExMDAwMDAwMDIsIDQwLjAxMTIwOF0sIFsxMTYuMzI2NzI1LCAzOS45OTU5NzVdLCBbMTE2LjMyNjgzOTk5OTk5OTk5LCA0MC4wMDAyMzZdLCBbMTE2LjMyNjk3OCwgNDAuMDAwNTkyXSwgWzExNi4zMjY5MzEsIDQwLjAwMDY3NV0sIFsxMTYuMzI2OTM0MDAwMDAwMDEsIDQwLjAwMDQzN10sIFsxMTYuMzI3MDA3MDAwMDAwMDEsIDQwLjAwMDY1OTk5OTk5OTk5Nl0sIFsxMTYuMzI2OTM2LCA0MC4wMDA3NTVdLCBbMTE2LjMyNjk3MiwgNDAuMDAwODIzXSwgWzExNi4zMjY5NzM5OTk5OTk5OSwgNDAuMDAwNzgyXSwgWzExNi4zMjY5ODYsIDQwLjAwMDczMzAwMDAwMDAwNF0sIFsxMTYuMzI3MDI0LCA0MC4wMDA2NjRdLCBbMTE2LjMyNjk0NSwgNDAuMDAwNTg3XSwgWzExNi4zMjcwOTUsIDQwLjAwMDc0NF0sIFsxMTYuMzI2Njg0MDAwMDAwMDEsIDQwLjAwMDM4XSwgWzExNi4zMjY4NjEwMDAwMDAwMSwgNDAuMDAwNTA1XSwgWzExNi4zMjY4ODk5OTk5OTk5OSwgNDAuMDAwNTUzMDAwMDAwMDA0XSwgWzExNi4zMjcxNDUsIDM5Ljk5MTcwMV0sIFsxMTYuMzMxNDE0LCAzOS45ODkzODMwMDAwMDAwMDRdLCBbMTE2LjM0NjUxMSwgMzkuOTQwMjgxXSwgWzExNi4yMDI0NTIwMDAwMDAwMSwgMzkuOTA2MzU1XSwgWzExNi4xODMxODMwMDAwMDAwMSwgMzkuOTA2MjddLCBbMTE2LjE4NjQzNSwgMzkuOTA3NDIzXSwgWzExNi4xODY1NjU5OTk5OTk5OCwgMzkuOTA3MjUzMDAwMDAwMDA0XSwgWzExNi4xODcwODcsIDM5LjkwNjMzXSwgWzExNi4xOTM4NTQsIDM5LjkwNjMwMV0sIFsxMTYuMjAwMzY4LCAzOS45MDYzMjNdLCBbMTE2LjM0NTg0LCAzOS45NDM1MDkwMDAwMDAwMDZdLCBbMTE2LjMzMTcsIDM5Ljk5MTU2OV0sIFsxMTYuMzI2MzQ4LCAzOS45OTUzOTRdLCBbMTE2LjMyMTA3NCwgNDAuMDExODM5XSwgWzExNi4zMjEwNjgsIDQwLjAxMTU5MDk5OTk5OTk5Nl0sIFsxMTYuMzIxMTA0LCA0MC4wMTE4NDFdLCBbMTE2LjMyMTM4NiwgNDAuMDExNjE0XSwgWzExNi4zMjExNjQsIDQwLjAxMTc3XSwgWzExNi4zMjEwODg5OTk5OTk5OSwgNDAuMDEyMDM5XSwgWzExNi4zMjEwMTEwMDAwMDAwMSwgNDAuMDExNzc1XSwgWzExNi4zMjA2MDksIDQwLjAxMjA4OF0sIFsxMTYuMzIxMjQ5LCA0MC4wMTE0ODZdLCBbMTE2LjMyMDYwMywgNDAuMDExNTk4XSwgWzExNi4zMjEyMTIwMDAwMDAwMiwgNDAuMDExNjU3XSwgWzExNi4zMjExNjQsIDQwLjAxMTUyMDAwMDAwMDAwNF0sIFsxMTYuMzIxMjIxOTk5OTk5OTksIDQwLjAxMTUzMl0sIFsxMTYuMzIxMjU0MDAwMDAwMDEsIDQwLjAxMTUzNDAwMDAwMDAwNV0sIFsxMTYuMzIxMzgsIDQwLjAxMTQ4M10sIFsxMTYuMzIxMTIyLCA0MC4wMTE0NF0sIFsxMTYuMzIxMDg5OTk5OTk5OTgsIDQwLjAxMTU2NF0sIFsxMTYuMzIxMDM4OTk5OTk5OTgsIDQwLjAxMTQ1ODAwMDAwMDAwNV0sIFsxMTYuMzIxMjQ3LCA0MC4wMTE5Mjg5OTk5OTk5OTVdLCBbMTE2LjMyMTAzMDAwMDAwMDAxLCA0MC4wMTEzMzQwMDAwMDAwMDVdLCBbMTE2LjMyMDk2MDAwMDAwMDAxLCA0MC4wMTEyODddLCBbMTE2LjMxNzM4LCA0MC4wMDk5MV0sIFsxMTYuMzE4ODEyMDAwMDAwMDEsIDQwLjAxMDgxNl0sIFsxMTYuMzIwNDA1MDAwMDAwMDEsIDQwLjAxMTM5NjAwMDAwMDAwNV0sIFsxMTYuMzIxNDQ5LCA0MC4wMTEzOTRdLCBbMTE2LjMyMTYyOSwgNDAuMDExNzY1MDAwMDAwMDA0XSwgWzExNi4zMjE2NzksIDQwLjAxMTQ1MV0sIFsxMTYuMzIxOTcsIDQwLjAxMDI3Nl0sIFsxMTYuMzIyODMzLCA0MC4wMDMzNzRdLCBbMTE2LjMyNDU0NSwgNDAuMDAxMzE1MDAwMDAwMDA1XSwgWzExNi4zMjAxNDE5OTk5OTk5OSwgNDAuMDA5NDU3XSwgWzExNi4zMTk5MDIsIDQwLjAwOTIyNV0sIFsxMTYuMzE5OTIzLCA0MC4wMDkzNF0sIFsxMTYuMzI0MjgsIDQwLjAwNDA5MDAwMDAwMDAwNV0sIFsxMTYuMzI2NTA2MDAwMDAwMDEsIDQwLjAwMTIxOF0sIFsxMTYuMzIzODU5MDAwMDAwMDEsIDQwLjAwNjY3OF0sIFsxMTYuMzI4MjIxLCA0MC4wMDA1NTJdLCBbMTE2LjMyNjc0NDk5OTk5OTk5LCA0MC4wMDA2MjYwMDAwMDAwMDRdLCBbMTE2LjMyNjk4MiwgNDAuMDAwNTMyXSwgWzExNi4zMjYyMTEwMDAwMDAwMSwgNDAuMDAwMjhdLCBbMTE2LjMyNjk1MywgNDAuMDAwNDUxXSwgWzExNi4zMjY5MzksIDQwLjAwMDQ2Ml0sIFsxMTYuMzI2OTc5MDAwMDAwMDEsIDQwLjAwMDY1M10sIFsxMTYuMzI3MDQ3LCA0MC4wMDA3OTFdLCBbMTE2LjMyNjk1NSwgNDAuMDAwNTE4XSwgWzExNi4zMjY5NDU5OTk5OTk5OSwgNDAuMDAwNDM0OTk5OTk5OTk2XSwgWzExNi4zMjcyMTUsIDQwLjAwMDMzNl0sIFsxMTYuMzI2OTEwMDAwMDAwMDEsIDQwLjAwMDc1N10sIFsxMTYuMzI1MTUsIDQwLjAwMjM5OV0sIFsxMTYuMzI3MTg1MDAwMDAwMDEsIDM5Ljk5OTk3N10sIFsxMTYuMzMzOTQ3LCAzOS45OTE1NzRdLCBbMTE2LjM0MTMyNiwgMzkuOTc3ODgxXSwgWzExNi4zNDE5MDcsIDM5Ljk3NzQzOTAwMDAwMDAwNF0sIFsxMTYuMzQxNDM1LCAzOS45NzgwNzJdLCBbMTE2LjM0MTE4NjAwMDAwMDAxLCAzOS45Nzc1MTRdLCBbMTE2LjM0MTYyNywgMzkuOTc4NjYwOTk5OTk5OTk1XSwgWzExNi4zNDEyODk5OTk5OTk5OSwgMzkuOTc4MDgxXSwgWzExNi4zMzc0NzQsIDM5Ljk3NjgyNF0sIFsxMTYuMzM0OTY3OTk5OTk5OTksIDM5Ljk3ODg5XSwgWzExNi4zMjk1OTQsIDM5Ljk5MTU1M10sIFsxMTYuMzI3MDQsIDQwLjAwMDIzMV0sIFsxMTYuMzI2ODk4LCA0MC4wMDAyNDRdLCBbMTE2LjMyNDQzMSwgNDAuMDAxNjAyXSwgWzExNi4zMjQ0MTM5OTk5OTk5OSwgNDAuMDA1MjI5XSwgWzExNi4zMjQ1NzcsIDQwLjAwMDUyMV0sIFsxMTYuMzIxNzk0LCA0MC4wMTEzNDNdLCBbMTE2LjMyMTAyMywgNDAuMDExMjIyXSwgWzExNi4zMjExNTUsIDQwLjAxMTYzN10sIFsxMTYuMzIxMjQ5LCA0MC4wMTE5M10sIFsxMTYuMzIxMTcyLCA0MC4wMTE2NjY5OTk5OTk5OTZdLCBbMTE2LjMyMTI0OSwgNDAuMDExNDNdLCBbMTE2LjMyMTAzMiwgNDAuMDExNzU5OTk5OTk5OTk1XSwgWzExNi4zMjEwOTksIDQwLjAxMTU1OTk5OTk5OTk5Nl0sIFsxMTYuMzIxMDQ5LCA0MC4wMTE5NDldLCBbMTE2LjMyMTE2MjAwMDAwMDAyLCA0MC4wMTE2NDY5OTk5OTk5OTZdLCBbMTE2LjMyMTA5Nzk5OTk5OTk5LCA0MC4wMTE1NDAwMDAwMDAwMDRdLCBbMTE2LjMyMTE5MiwgNDAuMDExMzQ4OTk5OTk5OTk2XSwgWzExNi4zMjEwNjU5OTk5OTk5OSwgNDAuMDEyMjIxMDAwMDAwMDA0XSwgWzExNi4zMjExOTA5OTk5OTk5OCwgNDAuMDExNzEzXSwgWzExNi4zMjEyNjYsIDQwLjAxMTY4NF0sIFsxMTYuMzIxMjY3OTk5OTk5OTksIDQwLjAxMTczMl0sIFsxMTYuMzI0MTU3LCA0MC4wMDczNDldLCBbMTE2LjMyNzQxMzk5OTk5OTk5LCAzOS45OTk5MTFdLCBbMTE2LjMyNjQ3MiwgMzkuOTkzNzA2XSwgWzExNi4zMzQ4MTQ5OTk5OTk5OSwgMzkuOTg0NjgzMDAwMDAwMDA0XSwgWzExNi4zNDE5NjI5OTk5OTk5OSwgMzkuOTc3NjA0XSwgWzExNi4zNDE2NTQsIDM5Ljk3ODA5M10sIFsxMTYuMzQxNjU1LCAzOS45NzgxODQ5OTk5OTk5OTZdLCBbMTE2LjM0MTc2Nzk5OTk5OTk5LCAzOS45Nzk2MTNdLCBbMTE2LjMzOTU0OCwgMzkuOTc5NzgxXSwgWzExNi4zNDEwMTg5OTk5OTk5OSwgMzkuOTc5ODY3OTk5OTk5OTk2XSwgWzExNi4zMzgwOCwgMzkuOTgwNDA0XSwgWzExNi4zMzgyNDM5OTk5OTk5OSwgMzkuOTgxNDE3XSwgWzExNi4zMzgyMTIwMDAwMDAwMSwgMzkuOTgxMDU3XSwgWzExNi4zMzg4NzcsIDM5Ljk3OTk4NF0sIFsxMTYuMzM5NDI0LCAzOS45Nzk5MDJdLCBbMTE2LjM0MTUzNzAwMDAwMDAyLCAzOS45Nzc5NzhdLCBbMTE2LjMzOTMxNiwgMzkuOTc2OTMzXSwgWzExNi4zMzUwNTUwMDAwMDAwMSwgMzkuOTc4MTI2XSwgWzExNi4zMzAyMDQwMDAwMDAwMSwgMzkuOTkxNjU5OTk5OTk5OTk2XSwgWzExNi4zMjc2OTgsIDQwLjAwMDUwOF0sIFsxMTYuMzI0MzEyLCA0MC4wMDQyNDldLCBbMTE2LjMyMTk1NSwgNDAuMDEwNzM4XSwgWzExNi4zMjQxMTgsIDQwLjAwNzY1Nl0sIFsxMTYuMzI3NDEzOTk5OTk5OTksIDQwLjAwMDAxOF0sIFsxMTYuMzI5MDg3MDAwMDAwMDIsIDQwLjAwMTQ1MV0sIFsxMTYuMzI3MDY5OTk5OTk5OTksIDM5Ljk5OTg4MzAwMDAwMDAwNF0sIFsxMTYuMzIyMzQ2LCA0MC4wMDQyNzldLCBbMTE2LjMyMjQ1LCA0MC4wMDQyNTZdLCBbMTE2LjMyNTI2ODk5OTk5OTk5LCA0MC4wMTI1ODhdLCBbMTE2LjMyMTMyNiwgNDAuMDExMjkxXSwgWzExNi4zMjA4MDMsIDQwLjAxMjM0Nl0sIFsxMTYuMzIwODc5LCA0MC4wMTIxMzkwMDAwMDAwMDVdLCBbMTE2LjMyMzEzMzAwMDAwMDAxLCA0MC4wMTE5NzddLCBbMTE2LjMyMTAyNCwgNDAuMDExNzI4MDAwMDAwMDA1XSwgWzExNi4zMjEwNTMsIDQwLjAxMTE5NjAwMDAwMDAwNV0sIFsxMTYuMzIxMTMwMDAwMDAwMDEsIDQwLjAxMjJdLCBbMTE2LjMyMDQzMzAwMDAwMDAxLCA0MC4wMDgzNDJdLCBbMTE2LjMyMDkxMjk5OTk5OTk5LCA0MC4wMTA0ODQ5OTk5OTk5OTZdLCBbMTE2LjMxMjQyMywgNDAuMDAwNDI3XSwgWzExNi4zMDg4NjM5OTk5OTk5OSwgMzkuOTk2NzE4XSwgWzExNi4zMDkyODEsIDM5Ljk5MzAwNF0sIFsxMTYuMzEwMDYyOTk5OTk5OTksIDM5Ljk4NjI2OV0sIFsxMTYuMzEwMjA2MDAwMDAwMDEsIDM5Ljk4MzA1NV0sIFsxMTYuMzEzNDkzOTk5OTk5OTksIDM5Ljk2OTQyOV0sIFsxMTYuMzAzMzY3OTk5OTk5OTksIDM5Ljk1MDM4NV0sIFsxMTYuMzAzNjMxMDAwMDAwMDEsIDM5Ljk0NTkzOV0sIFsxMTYuMzAwNjMzLCAzOS45MjMwMzJdLCBbMTE2LjI5NDMzNjAwMDAwMDAyLCAzOS45MjI4MTY5OTk5OTk5OTVdLCBbMTE2LjMxOTk2Njk5OTk5OTk5LCAzOS45MzA3MDhdLCBbMTE2LjM0ODAzMiwgMzkuOTMxMTQ2OTk5OTk5OTk2XSwgWzExNi4zNDg5MzMsIDM5Ljk1NTM3Nl0sIFsxMTYuMzQ3NjE0OTk5OTk5OTksIDM5Ljk4MTcxMV0sIFsxMTYuMzMxMzQ3LCAzOS45OTE2MjJdLCBbMTE2LjMwOTMyMSwgMzkuOTk2MDQxXSwgWzExNi4zMTI2NTMsIDM5Ljk5ODkzNDAwMDAwMDAwNl0sIFsxMTYuMzIwNTEzOTk5OTk5OTksIDQwLjAwOTI4OF0sIFsxMTYuMzE5NzUzLCA0MC4wMDkyNzZdLCBbMTE2LjMyMDA2Nzk5OTk5OTk5LCA0MC4wMDk3MTY5OTk5OTk5OTVdLCBbMTE2LjMyMTE1NCwgNDAuMDExNDU0XSwgWzExNi4zMjEwODcsIDQwLjAxMTYxM10sIFsxMTYuMzIxMTA5LCA0MC4wMTE5NjldLCBbMTE2LjMyMTA3MDk5OTk5OTk5LCA0MC4wMTE1OTldLCBbMTE2LjMyMTA3NSwgNDAuMDExNTA1XSwgWzExNi4zMjEzMTQ5OTk5OTk5OCwgNDAuMDExNDE1XSwgWzExNi4zMjEyMDkwMDAwMDAwMSwgNDAuMDExNzA4XSwgWzExNi4zMjEzOCwgNDAuMDExMDYzXSwgWzExNi4zMjEzMjcsIDQwLjAxMjA0NjAwMDAwMDAwNV0sIFsxMTYuMzIxMjI1LCA0MC4wMTE0MzJdLCBbMTE2LjMyMTM0NywgNDAuMDEwOTkyXSwgWzExNi4zMjE3NDcsIDQwLjAxMTEwMTAwMDAwMDAwNF0sIFsxMTYuMzE4ODczLCA0MC4wMTIwMjRdLCBbMTE2LjMyMTYwMiwgNDAuMDExNjAxXSwgWzExNi4zMjExNDI5OTk5OTk5OSwgNDAuMDExNzA4XSwgWzExNi4zMjExMjMsIDQwLjAxMTQ2NV0sIFsxMTYuMzIxNzM3OTk5OTk5OTgsIDQwLjAxMTM1OTk5OTk5OTk5Nl0sIFsxMTYuMzIyODY1LCA0MC4wMDk0NjldLCBbMTE2LjMyNjQ5NTk5OTk5OTk5LCAzOS45OTU1M10sIFsxMTYuMzI2NjI0LCAzOS45ODkyODJdLCBbMTE2LjMzMDczNjAwMDAwMDAyLCAzOS45NzQ4NjldLCBbMTE2LjMzNzc2OTk5OTk5OTk5LCAzOS45NzcxNTRdLCBbMTE2LjMzNjcyNSwgMzkuOTc2NTY2XSwgWzExNi4zMzY3OTMsIDM5Ljk3NjkyM10sIFsxMTYuMzM4MTM1MDAwMDAwMDEsIDM5Ljk3NjI4Ml0sIFsxMTYuMzM3NDg2MDAwMDAwMDEsIDM5Ljk3NjU0M10sIFsxMTYuMzM3MSwgMzkuOTc2NTcxXSwgWzExNi4zMzQ5NTkwMDAwMDAwMSwgMzkuOTc5MDkyXSwgWzExNi4zMzQzODAwMDAwMDAwMSwgMzkuOTkwNDE3XSwgWzExNi4zMjY2MzMsIDM5Ljk5ODk1NV0sIFsxMTYuMzIxODgyLCA0MC4wMTA3NjNdLCBbMTE2LjMyNDM0NTk5OTk5OTk5LCA0MC4wMDQxODddLCBbMTE2LjMyMTcsIDQwLjAxMjEwN10sIFsxMTYuMzIyMzg4OTk5OTk5OTksIDQwLjAxMDYwODAwMDAwMDAwNV0sIFsxMTYuMzIxNzg5LCA0MC4wMTA3NTIwMDAwMDAwMDRdLCBbMTE2LjMyMTc2NywgNDAuMDE0NzA4XSwgWzExNi4zMjE0MTg5OTk5OTk5OSwgNDAuMDEzNF0sIFsxMTYuMzIxMjM5OTk5OTk5OTksIDQwLjAxMzA4M10sIFsxMTYuMzIwOTQsIDQwLjAxMjE4XSwgWzExNi4zMjA5ODIsIDQwLjAxMjU1NV0sIFsxMTYuMzIwODk4LCA0MC4wMTIyNzNdLCBbMTE2LjMyMTAwMywgNDAuMDEyNzQ3XSwgWzExNi4zMjEwMTEwMDAwMDAwMSwgNDAuMDEzNjEyXSwgWzExNi4zMjEyMjgsIDQwLjAxMzI3Nl0sIFsxMTYuMzIwODQzLCA0MC4wMTIzMTNdLCBbMTE2LjMyMTE0Mjk5OTk5OTk5LCA0MC4wMTE3MzNdLCBbMTE2LjMyMDkwOCwgNDAuMDExNzEzXSwgWzExNi4zMjA4NjUsIDQwLjAxMTkzMV0sIFsxMTYuMzIwODA0MDAwMDAwMDEsIDQwLjAxMDc4XSwgWzExNi4zMjEyMjgsIDQwLjAxMTQzNTk5OTk5OTk5Nl0sIFsxMTYuMzIxMDY5OTk5OTk5OTksIDQwLjAxMTA3Nl0sIFsxMTYuMzIyNDg1MDAwMDAwMDEsIDQwLjAxMDAzMl0sIFsxMTYuMzI4MDk5LCA0MC4wMDAyMjE5OTk5OTk5OTRdLCBbMTE2LjMyNjk2NDk5OTk5OTk5LCA0MC4wMDA2XSwgWzExNi4zMjY2OTEsIDQwLjAwMDQ5OV0sIFsxMTYuMzI2NTU1LCA0MC4wMDAyMDZdLCBbMTE2LjMyNjk5NSwgNDAuMDAwMzI4XSwgWzExNi4zMjcwMzg5OTk5OTk5OCwgNDAuMDAwNzA5XSwgWzExNi4zMjY4MjQsIDQwLjAwMDQ1NF0sIFsxMTYuMzI3MDMyLCA0MC4wMDA1MzhdLCBbMTE2LjMyNzE1NSwgNDAuMDAwNjU5OTk5OTk5OTk2XSwgWzExNi4zMjcyMDcsIDQwLjAwMDYwOTk5OTk5OTk5NV0sIFsxMTYuMzI3MDA0LCAzOS45OTk1OTJdLCBbMTE2LjMyMjAxMSwgNDAuMDA0MzMxXSwgWzExNi4zMjI0MTgsIDQwLjAwMzk0NF0sIFsxMTYuMzI3MDUzLCA0MC4wMDA1MDhdLCBbMTE2LjMyNjgxMSwgNDAuMDAwNjA5MDAwMDAwMDA0XSwgWzExNi4zMjY5MywgNDAuMDAwNTA3XSwgWzExNi4zMzAxMTQ5OTk5OTk5OSwgNDAuMDA3MTA0XSwgWzExNi4zMzEyMDcsIDM5Ljk5Mzk1MzAwMDAwMDAwNV0sIFsxMTYuMzM0NTEwMDAwMDAwMDEsIDM5Ljk4Mjc4OF0sIFsxMTYuMzM3ODE1OTk5OTk5OTksIDM5Ljk3NzE2OF0sIFsxMTYuMzM0ODI4LCAzOS45Nzk5OV0sIFsxMTYuMzI2ODQyLCAzOS45OTM3MTNdLCBbMTE2LjMyNDk0Nzk5OTk5OTk5LCAzOS45OTk5NDldLCBbMTE2LjMyMTc5OSwgNDAuMDEwNzE1MDAwMDAwMDA1XSwgWzExNi4zMjY3MjUsIDM5Ljk5NzEyNV0sIFsxMTYuMzI0NDE4LCA0MC4wMDQyMjI5OTk5OTk5OTZdLCBbMTE2LjMyNTc5Nzk5OTk5OTk5LCAzOS45OTg0MTQwMDAwMDAwMDRdLCBbMTE2LjMyMjA0MiwgNDAuMDEwNTM0XSwgWzExNi4zMjI2MjMsIDQwLjAxMDc5NV0sIFsxMTYuMzIyNjMsIDQwLjAxMDg2OV0sIFsxMTYuMzIzMjI1LCA0MC4wMTA3NDJdLCBbMTE2LjMyNzE0Mjk5OTk5OTk5LCAzOS45ODU0MDFdLCBbMTE2LjMzMDEwNSwgMzkuOTc1MDcyXSwgWzExNi4zMzg1OTUsIDM5Ljk3NzE0NF0sIFsxMTYuMzM2ODIxLCAzOS45NzY0NjRdLCBbMTE2LjMzNjkxOCwgMzkuOTc2NDI4OTk5OTk5OTk2XSwgWzExNi4zMzQyNzEsIDM5Ljk5MDk5Mjk5OTk5OTk5Nl0sIFsxMTYuMzI3NjYxLCA0MC4wMDAzNDE5OTk5OTk5OTZdLCBbMTE2LjMyMTUyOCwgNDAuMDEwODA5XSwgWzExNi4zMjkwOTU5OTk5OTk5OSwgMzkuOTkxMjg1XSwgWzExNi4zMjQ0NDI5OTk5OTk5OSwgNDAuMDA2MzcwMDAwMDAwMDA0XSwgWzExNi4zMjQ2MTQsIDQwLjAwMTE3Ml0sIFsxMTYuMzM0MzQxOTk5OTk5OTksIDM5Ljk4ODk1NF0sIFsxMTYuMzM2Nzg2LCAzOS45NzY1ODRdLCBbMTE2LjMzNDUzMjAwMDAwMDAxLCAzOS45ODM4NTJdLCBbMTE2LjMyNjk0LCAzOS45OTUxNDYwMDAwMDAwMDVdLCBbMTE2LjMyMTk2MTAwMDAwMDAyLCA0MC4wMDY0NTldLCBbMTE2LjMyNzMzMjAwMDAwMDAxLCAzOS45OTk4MjVdLCBbMTE2LjMyNjk5MDk5OTk5OTk5LCAzOS45OTIyNjldLCBbMTE2LjMyNjg4NCwgMzkuOTk5ODAyXSwgWzExNi4zMjE3Mzk5OTk5OTk5OSwgNDAuMDEwOTVdLCBbMTE2LjMyMDk4ODk5OTk5OTk4LCA0MC4wMTM1MTFdLCBbMTE2LjMyMTA4MSwgNDAuMDExMzE2XSwgWzExNi4zMjA5OSwgNDAuMDEyMDM4MDAwMDAwMDA0XSwgWzExNi4zMjExMjQsIDQwLjAxMTcxNV0sIFsxMTYuMzIxMTcsIDQwLjAxMTY2MV0sIFsxMTYuMzIxMjIxLCA0MC4wMTEzNjhdLCBbMTE2LjMyMTEwMSwgNDAuMDExOTc1XSwgWzExNi4zMjE1MTk5OTk5OTk5OSwgNDAuMDEyMDE3XSwgWzExNi4zMjExNDcsIDQwLjAxMTQ5Nl0sIFsxMTYuMzIyMTExLCA0MC4wMDM3ODNdLCBbMTE2LjMyNDU5Mzk5OTk5OTk5LCA0MC4wMDE4MzkwMDAwMDAwMDRdLCBbMTE2LjMyMDU2ODk5OTk5OTk5LCA0MC4wMDkyMDNdLCBbMTE2LjMyNDE4NCwgNDAuMDA2OTkxXSwgWzExNi4zMjIxNjg5OTk5OTk5OSwgNDAuMDA0MjE1XSwgWzExNi4zMjQ2NTIsIDM5Ljk5OTk2NF0sIFsxMTYuMzIyMTQ0LCA0MC4wMDM1NjhdLCBbMTE2LjMyMTg4NDAwMDAwMDAxLCA0MC4wMDM2OTYwMDAwMDAwMDVdLCBbMTE2LjMyMTc3NiwgNDAuMDA5MzM0XSwgWzExNi4zMjEwMTk5OTk5OTk5OSwgNDAuMDExNjk1XSwgWzExNi4zMjEyMzQsIDQwLjAxMTYzMl0sIFsxMTYuMzIxMjM1MDAwMDAwMDIsIDQwLjAxMTU5Njk5OTk5OTk5NV0sIFsxMTYuMzIwOTgxLCA0MC4wMTE0OTddLCBbMTE2LjMyMTE3MDk5OTk5OTk5LCA0MC4wMTE1NThdLCBbMTE2LjMyMTA5MSwgNDAuMDExMTI5XSwgWzExNi4zMjExNzcsIDQwLjAxMjE2OF0sIFsxMTYuMzI1Njg4OTk5OTk5OTgsIDM5Ljk5OTkxMV0sIFsxMTYuMzI3NDIyLCAzOS45OTk4OTddLCBbMTE2LjMyNjgxOSwgNDAuMDAwMjk2OTk5OTk5OTk2XSwgWzExNi4zMjY4MzQsIDM5Ljk5MzQzMV0sIFsxMTYuMzM1MTkyOTk5OTk5OTksIDM5Ljk3NzQzN10sIFsxMTYuMzQ4NjQ4LCAzOS45NjY3OTddLCBbMTE2LjM2MDEzNCwgMzkuOTYxNTUzXSwgWzExNi4zNjE0MTU5OTk5OTk5OSwgMzkuOTYxMTA5XSwgWzExNi4zNTc5MTU5OTk5OTk5OSwgMzkuOTU3NjA1XSwgWzExNi4zNTY1NDksIDM5Ljk1NzkwOV0sIFsxMTYuMzU1NzM0MDAwMDAwMDEsIDM5Ljk1ODE5M10sIFsxMTYuMzU0NzM3MDAwMDAwMDEsIDM5Ljk2MjAyMjk5OTk5OTk5NV0sIFsxMTYuMzQ5NDAxLCAzOS45NjM5MThdLCBbMTE2LjM0NTE3MywgMzkuOTc1NDI0XSwgWzExNi4zNDAxMDEsIDM5Ljk3Nzk3M10sIFsxMTYuMzM4Nzg4LCAzOS45Nzk4MDldLCBbMTE2LjM0MDYwOCwgMzkuOTc3OTg2XSwgWzExNi4zMzkwODIsIDM5Ljk3Njg1MV0sIFsxMTYuMzM3MzI0LCAzOS45NzU4ODldLCBbMTE2LjMzNjcwMiwgMzkuOTc2MzQxOTk5OTk5OTk1XSwgWzExNi4zMzQ4OTYsIDM5Ljk3OTQ4NF0sIFsxMTYuMzI4NTEyMDAwMDAwMDIsIDM5Ljk5MTY1Nl0sIFsxMTYuMzIzMzMyMDAwMDAwMDEsIDQwLjAwMzQzMV0sIFsxMTYuMzI3NDM0MDAwMDAwMDEsIDM5Ljk5OTk3NF0sIFsxMTYuMzIyMjQ2OTk5OTk5OTksIDQwLjAwOTgzMV0sIFsxMTYuMzE3MDY2LCA0MC4wMDU1N10sIFsxMTYuMzE2MDkwOTk5OTk5OTksIDQwLjAwNTQ1OV0sIFsxMTYuMzI1NjAyLCAzOS45OTk2OTVdLCBbMTE2LjMyMjA5NywgNDAuMDEwMzddLCBbMTE2LjMxNjA4NCwgMzkuOTk5MTc5OTk5OTk5OTk2XSwgWzExNi4zMDkxNTQsIDM5Ljk5Njc1MV0sIFsxMTYuMzEwMTg5OTk5OTk5OTksIDM5Ljk4NDg0NF0sIFsxMTYuMzEzODgyLCAzOS45Njg0M10sIFsxMTYuMzAzMzcxLCAzOS45NDY3Ml0sIFsxMTYuMzAzODExMDAwMDAwMDEsIDM5LjkzNTk0Nl0sIFsxMTYuMjkzODc4LCAzOS45MjI4MzZdLCBbMTE2LjMwNDgwNzAwMDAwMDAxLCAzOS45MjI2MDRdLCBbMTE2LjMyMDcxNDk5OTk5OTk5LCAzOS45MzEyNTFdLCBbMTE2LjM0Njg4Nzk5OTk5OTk5LCAzOS45MzEwNDRdLCBbMTE2LjM0ODgwNCwgMzkuOTYwNzk5XSwgWzExNi4zNDc0NTQsIDM5Ljk4NjQ4M10sIFsxMTYuMzEwODg2MDAwMDAwMDEsIDM5Ljk5MDkzMl0sIFsxMTYuMzEwMTAzLCAzOS45OTkwOTUwMDAwMDAwMDRdLCBbMTE2LjMxODYzMjAwMDAwMDAxLCA0MC4wMDQ5MzZdLCBbMTE2LjMyMTQ4NDAwMDAwMDAxLCA0MC4wMTA5MDJdLCBbMTE2LjMyNTg2MjAwMDAwMDAxLCAzOS45OTc5MThdLCBbMTE2LjMzMTkxOSwgMzkuOTkwMzk2MDAwMDAwMDA0XSwgWzExNi4zMzMwMjcsIDM5Ljk5MTMxNl0sIFsxMTYuMzM0NTM5OTk5OTk5OTksIDM5Ljk4MjEzMzAwMDAwMDAwNV0sIFsxMTYuMzM4MTI4LCAzOS45NzcyNDVdLCBbMTE2LjMzNTE4NjAwMDAwMDAxLCAzOS45Nzc3MDZdLCBbMTE2LjMzMTExMiwgMzkuOTkxNjczOTk5OTk5OTk2XSwgWzExNi4zMjczNzUsIDQwLjAwMDE4NDk5OTk5OTk5NV0sIFsxMTYuMzI3NDMxLCA0MC4wMDA0NjhdLCBbMTE2LjMyNjc0MywgNDAuMDAwNTY5XSwgWzExNi4zMjY4MjMsIDQwLjAwMDU4XSwgWzExNi4zMjQ5NDM5OTk5OTk5OSwgNDAuMDA0MzEyXSwgWzExNi4zMjcwMjcsIDQwLjAwMDU0Nl0sIFsxMTYuMzI3MTc3LCA0MC4wMDAwMzldLCBbMTE2LjMyMTc4NzAwMDAwMDAxLCA0MC4wMTAyMTVdLCBbMTE2LjMyNjgzODk5OTk5OTk5LCAzOS45OTE3MDFdLCBbMTE2LjMzNzY2NDk5OTk5OTk5LCAzOS45ODM4NDFdLCBbMTE2LjM0MjA1MywgMzkuOTc3NzJdLCBbMTE2LjM0MjI2Njk5OTk5OTk5LCAzOS45Nzg4ODddLCBbMTE2LjM0MjMzNzAwMDAwMDAxLCAzOS45NzgzMDldLCBbMTE2LjM0MDAxNTk5OTk5OTk5LCAzOS45Nzc5NTddLCBbMTE2LjMzNzI1MSwgMzkuOTc2NjgyMDAwMDAwMDA0XSwgWzExNi4zMzc5ODEsIDM5Ljk3NjY0Nl0sIFsxMTYuMzM0MSwgMzkuOTkwNDgzMDAwMDAwMDA1XSwgWzExNi4zMjczNywgMzkuOTk5ODk3OTk5OTk5OTk1XSwgWzExNi4zMjM3ODUwMDAwMDAwMiwgNDAuMDA5NTI4XSwgWzExNi4zMjA4MzgsIDQwLjAxMDk2MV0sIFsxMTYuMzIxMDA0LCA0MC4wMTEzODJdLCBbMTE2LjMxOTkzLCA0MC4wMTEyMDddLCBbMTE2LjMyMTE1LCA0MC4wMTE0MzldLCBbMTE2LjMxODc1OCwgNDAuMDEyMTAxXSwgWzExNi4zMjExNDUsIDQwLjAxMTQ1Nl0sIFsxMTYuMzIwODI0LCA0MC4wMTE2MDJdLCBbMTE2LjMyMDkyMywgNDAuMDEwNjU1XSwgWzExNi4zMjEzMzIwMDAwMDAwMSwgNDAuMDEyMTI4MDAwMDAwMDA0XSwgWzExNi4zMjEyMTU5OTk5OTk5OSwgNDAuMDExNTY4XSwgWzExNi4zMjA5MiwgNDAuMDEwOTM0OTk5OTk5OTk2XSwgWzExNi4zMjExLCA0MC4wMTEzMDM5OTk5OTk5OTZdLCBbMTE2LjMyNDY4OTk5OTk5OTk5LCA0MC4wMDA3MjhdLCBbMTE2LjMyMjIwMywgNDAuMDA5OTI3MDAwMDAwMDA1XSwgWzExNi4zMjQ3NzgwMDAwMDAwMSwgMzkuOTk5NzU4XSwgWzExNi4zMjgzMzMsIDM5Ljk5MjEzN10sIFsxMTYuMzI2ODE2LCAzOS45OTkyNDddLCBbMTE2LjMyNzMwOTAwMDAwMDAxLCAzOS45OTI1MDddLCBbMTE2LjMyNzMyMSwgNDAuMDAwMTM1XSwgWzExNi4zMjE3MDUwMDAwMDAwMSwgNDAuMDEwNTkxOTk5OTk5OTk1XSwgWzExNi4zMjU1ODc5OTk5OTk5OCwgMzkuOTk5OTcwMDAwMDAwMDA1XSwgWzExNi4zMjM5ODg5OTk5OTk5OCwgNDAuMDA5NTM4XSwgWzExNi4zMjQ0NTcwMDAwMDAwMSwgNDAuMDAxNzY3XSwgWzExNi4zMjcxMzQwMDAwMDAwMiwgMzkuOTk5ODIxMDAwMDAwMDA0XSwgWzExNi4zMjQyODksIDQwLjAwNzE0OF0sIFsxMTYuMzIxNjEyOTk5OTk5OTksIDQwLjAxMDY4Ml0sIFsxMTYuMzI0NDA3MDAwMDAwMDEsIDQwLjAwMzEyNl0sIFsxMTYuMzI2NDIsIDM5Ljk5MjAyNl0sIFsxMTYuMzI2MTE4OTk5OTk5OTksIDM5Ljk3OTQwMzk5OTk5OTk5NV0sIFsxMTYuMzM3MTQ5LCAzOS45NzQ5OTJdLCBbMTE2LjMzODMxMjAwMDAwMDAyLCAzOS45NzcyNzRdLCBbMTE2LjMzNDk1NDAwMDAwMDAxLCAzOS45Nzg3MjldLCBbMTE2LjMzMDQxOTk5OTk5OTk5LCAzOS45OTE2MjVdLCBbMTE2LjMyNDQ3OCwgNDAuMDAxNzE1MDAwMDAwMDA0XSwgWzExNi4zMjE2MDUsIDQwLjAxMTYyXSwgWzExNi4zMjcxODMsIDQwLjAwMDMxM10sIFsxMTYuMzI2ODA5MDAwMDAwMDEsIDQwLjAwMTEyNV0sIFsxMTYuMzI2NTAxMDAwMDAwMDEsIDM5Ljk5MjQyNl0sIFsxMTYuMzM0ODA1LCAzOS45Nzk4XSwgWzExNi4zNDY4MDkwMDAwMDAwMSwgMzkuOTY4OTAxXSwgWzExNi4zNTY1OTksIDM5Ljk1NjY0N10sIFsxMTYuMzU4MTI0LCAzOS45NTgyNTRdLCBbMTE2LjM1ODAwMiwgMzkuOTU4MTYxXSwgWzExNi4zNjEzMDIsIDM5Ljk1ODM2Nl0sIFsxMTYuMzYxMzI3LCAzOS45NTkzNzEwMDAwMDAwMDRdLCBbMTE2LjM2MTU4MzAwMDAwMDAxLCAzOS45NTkyNjZdLCBbMTE2LjM2MTM0MiwgMzkuOTU5MzU3MDAwMDAwMDA0XSwgWzExNi4zNjE0NzE5OTk5OTk5OSwgMzkuOTU5MjMyXSwgWzExNi4zNjE1ODIwMDAwMDAwMSwgMzkuOTU5MzldLCBbMTE2LjM2MTcwNSwgMzkuOTU5NDc3XSwgWzExNi4zNjE3NzksIDM5Ljk2MDAxN10sIFsxMTYuMzYxOTE3OTk5OTk5OTksIDM5Ljk1OTQ5N10sIFsxMTYuMzYxNjQ2LCAzOS45NTkxMjFdLCBbMTE2LjM2MTUzNjAwMDAwMDAyLCAzOS45NTkwNjddLCBbMTE2LjM2MTQ4NjAwMDAwMDAxLCAzOS45NTg5ODJdLCBbMTE2LjM2MTQ3LCAzOS45NTkwOTZdLCBbMTE2LjM2MTQ4MjAwMDAwMDAxLCAzOS45NTk1MDJdLCBbMTE2LjM0MTgxNSwgMzkuOTc1MjU5XSwgWzExNi4zMzk0MjcsIDM5Ljk3NTg2OV0sIFsxMTYuMzM3Mzc4LCAzOS45NzY1MThdLCBbMTE2LjMzNzA5NywgMzkuOTc2NjVdLCBbMTE2LjMzNDUyOCwgMzkuOTgxNjA0XSwgWzExNi4zMjY4ODcwMDAwMDAwMSwgMzkuOTk0NTIxOTk5OTk5OTk2XSwgWzExNi4zMjQ4MDEwMDAwMDAwMSwgNDAuMDAwMTk4XSwgWzExNi4zMjcwMDUsIDM5Ljk5NDEzOF0sIFsxMTYuMzI3MTkzOTk5OTk5OTksIDM5Ljk5OTc1XSwgWzExNi4zMjEzMDQsIDQwLjAwODMyODAwMDAwMDAwNl0sIFsxMTYuMzIyMTQ5LCA0MC4wMTEwMDIwMDAwMDAwMDVdLCBbMTE2LjMyNDIzMTAwMDAwMDAxLCA0MC4wMDM1OTZdLCBbMTE2LjMyNzE4LCAzOS45OTQxMTRdLCBbMTE2LjMxNDM1NDAwMDAwMDAxLCAzOS45OTE4NTkwMDAwMDAwMDVdLCBbMTE2LjMwMzM4NDAwMDAwMDAxLCAzOS45ODgxMDIwMDAwMDAwMDVdLCBbMTE2LjMwMDMwNCwgMzkuOTgzMjQ3XSwgWzExNi4yOTc1MjYsIDM5Ljk4NjU3NF0sIFsxMTYuMzAwMDAyLCAzOS45ODE4MjldLCBbMTE2LjI5OTQ2NiwgMzkuOTgzMDI2XSwgWzExNi4zMDc1NzcsIDM5Ljk4Mzc5Ml0sIFsxMTYuMzIzOTQ0LCAzOS45ODQzMTQwMDAwMDAwMDVdLCBbMTE2LjMzNzg4MjAwMDAwMDAxLCAzOS45ODQyOF0sIFsxMTYuMzQxNDE0OTk5OTk5OTgsIDM5Ljk3OTk1M10sIFsxMTYuMzM4MzcxOTk5OTk5OTksIDM5Ljk3NzIzNV0sIFsxMTYuMzM2MjM2MDAwMDAwMDEsIDM5Ljk3NjYxM10sIFsxMTYuMzM0NTA5MDAwMDAwMDEsIDM5Ljk4NDI3OV0sIFsxMTYuMzI2NzgxMDAwMDAwMDEsIDM5Ljk5Mzk5Mjk5OTk5OTk5Nl0sIFsxMTYuMzI2ODkxOTk5OTk5OTksIDQwLjAwMDMyNF0sIFsxMTYuMzI2OTg3OTk5OTk5OTksIDQwLjAwMDc1Ml0sIFsxMTYuMzI2ODEwMDAwMDAwMDEsIDQwLjAwMDMzMV0sIFsxMTYuMzI2ODgxLCA0MC4wMDA3NTJdLCBbMTE2LjMyNjkzNSwgNDAuMDAwMzg4XSwgWzExNi4zMjY5OTYsIDQwLjAwMDUwOV0sIFsxMTYuMzI3NjI3LCA0MC4wMDA1ODJdLCBbMTE2LjMyNzQzODk5OTk5OTk4LCA0MC4wMDA0OThdLCBbMTE2LjMyNjc5MiwgNDAuMDAwNTUzMDAwMDAwMDA0XSwgWzExNi4zMjcyNTUwMDAwMDAwMSwgNDAuMDAwNjc5XSwgWzExNi4zMjcwNTIsIDQwLjAwMDQ0M10sIFsxMTYuMzI3MjQwOTk5OTk5OTksIDQwLjAwMDY4NF0sIFsxMTYuMzIzODMxMDAwMDAwMDEsIDM5Ljk5OTUxXSwgWzExNi4zMjY5MDEsIDQwLjAwMDY2NF0sIFsxMTYuMzI3MTI1LCA0MC4wMDA4MzddLCBbMTE2LjMyNzEzNzAwMDAwMDAxLCA0MC4wMDExMzldLCBbMTE2LjMyODI0NiwgNDAuMDAwOTI1XSwgWzExNi4zMjY4MDQwMDAwMDAwMSwgNDAuMDAwNTE2OTk5OTk5OTk1XSwgWzExNi4zMjY4OTA5OTk5OTk5OSwgNDAuMDAwNjUzXSwgWzExNi4zMjc1MTQsIDQwLjAwMDcxMl0sIFsxMTYuMzI2NjkyLCA0MC4wMDA1Ml0sIFsxMTYuMzI2NTA1MDAwMDAwMDEsIDQwLjAwMDQzOV0sIFsxMTYuMzI2OTA0LCA0MC4wMDA0NzhdLCBbMTE2LjMyNzAzMzAwMDAwMDAxLCA0MC4wMDA1NTddLCBbMTE2LjMyNzE0OSwgNDAuMDAwNTMzMDAwMDAwMDA0XSwgWzExNi4zMjY4MDIsIDQwLjAwMDY1Ml0sIFsxMTYuMzIxNjg0LCA0MC4wMTA2NDRdLCBbMTE2LjMyMTEsIDQwLjAxMTgxXSwgWzExNi4zMjEwMDQsIDQwLjAxMTMwOF0sIFsxMTYuMzIwOTkxOTk5OTk5OTksIDQwLjAxMTM0ODk5OTk5OTk5Nl0sIFsxMTYuMzIxMDk3LCA0MC4wMTEwMDFdLCBbMTE2LjMyMTE3MywgNDAuMDExMzU0XSwgWzExNi4zMjExNjU5OTk5OTk5OSwgNDAuMDExNjA4XSwgWzExNi4zMjEyMjE5OTk5OTk5OSwgNDAuMDExNjQ0XSwgWzExNi4zMjExMTU5OTk5OTk5OSwgNDAuMDExMzA3XSwgWzExNi4zMjExMDksIDQwLjAxMTQ5Ml0sIFsxMTYuMzIxMzU5MDAwMDAwMDIsIDQwLjAxMjA5N10sIFsxMTYuMzIxMTExMDAwMDAwMDIsIDQwLjAxMTMxNl0sIFsxMTYuMzIxMDc1LCA0MC4wMTExMzhdLCBbMTE2LjMyMDg4OTk5OTk5OTk5LCA0MC4wMTE0OTUwMDAwMDAwMDRdLCBbMTE2LjMyMTIzMTAwMDAwMDAxLCA0MC4wMTE0MDNdLCBbMTE2LjMyMTEwMSwgNDAuMDEwNzczXSwgWzExNi4zMjA5NzUsIDQwLjAxMTI1XSwgWzExNi4zMjEyMzk5OTk5OTk5OSwgNDAuMDExMzczXSwgWzExNi4zMjQyNjEsIDQwLjAwNDgzXSwgWzExNi4zMjQ4ODc5OTk5OTk5OSwgMzkuOTk5OTUyXSwgWzExNi4zMDk4NDYsIDM5Ljk5OTAwMV0sIFsxMTYuMzA5ODg0MDAwMDAwMDEsIDM5Ljk4NjQwMjAwMDAwMDAwNV0sIFsxMTYuMzEyMjUyLCAzOS45NzI0ODFdLCBbMTE2LjMxODM4NDAwMDAwMDAxLCAzOS45NDY3M10sIFsxMTYuMzE3MTMsIDM5Ljk1NTE5Nl0sIFsxMTYuMzExMzI0LCAzOS45NzUzMTNdLCBbMTE2LjMxMDMwMjAwMDAwMDAxLCAzOS45ODQxNDhdLCBbMTE2LjMwOTE5NDk5OTk5OTk5LCAzOS45OTc1OF0sIFsxMTYuMzE3MjY5LCAzOS45OTkxMzhdLCBbMTE2LjMyNTIyMywgNDAuMDAxMjg2XSwgWzExNi4zMjI2OCwgNDAuMDEwODU4XSwgWzExNi4zMjEyMDQwMDAwMDAwMSwgNDAuMDExNzk0XSwgWzExNi4zMjcxMTQsIDM5Ljk5OTgxOV0sIFsxMTYuMzI3MDExMDAwMDAwMDEsIDQwLjAwMDQ5M10sIFsxMTYuMzI3NDc0LCA0MC4wMDA2NzZdLCBbMTE2LjMyNzA3MDk5OTk5OTk5LCA0MC4wMDA2NTZdLCBbMTE2LjMyNzEwNiwgNDAuMDAwNjNdLCBbMTE2LjMyNjcwMSwgNDAuMDAwNTM1XSwgWzExNi4zMjY2NDUsIDQwLjAwMTA3Ml0sIFsxMTYuMzIzODI0LCA0MC4wMDM5XSwgWzExNi4zMjIzNDcsIDQwLjAwOTYzOF0sIFsxMTYuMzI1OTkwOTk5OTk5OTksIDM5Ljk5ODk0MDk5OTk5OTk5NV0sIFsxMTYuMzI1NjY3LCAzOS45OTM3MDRdLCBbMTE2LjMzMzE1ODAwMDAwMDAxLCA0MC4wMDQ3NzZdLCBbMTE2LjMyODgxOCwgNDAuMDAwMjMzXSwgWzExNi4zMjc0NTEsIDM5Ljk5OTgzM10sIFsxMTYuMzMxNzAzLCAzOS45OTE0NjUwMDAwMDAwMDVdLCBbMTE2LjMzNzk2Mjk5OTk5OTk5LCAzOS45NzUyNDJdLCBbMTE2LjM0NjkxMjk5OTk5OTk5LCAzOS45NjQwMTddLCBbMTE2LjM2MDMzMSwgMzkuOTU2NTcxOTk5OTk5OTk0XSwgWzExNi4zNTk4OTksIDM5Ljk2MzY1NF0sIFsxMTYuMzYwMDM4OTk5OTk5OTksIDM5Ljk2MzczN10sIFsxMTYuMzU5ODQ0OTk5OTk5OTksIDM5Ljk2MzY2MzAwMDAwMDAwNF0sIFsxMTYuMzU5ODc2LCAzOS45NjE0MjJdLCBbMTE2LjM2NDY1OCwgMzkuOTU1NzU5XSwgWzExNi4zNjA4NzgsIDM5Ljk1NzM1Mzk5OTk5OTk5NV0sIFsxMTYuMzU2NDU1MDAwMDAwMDEsIDM5Ljk1OTg1XSwgWzExNi4zNTA2NiwgMzkuOTY0MDI0XSwgWzExNi4zNDgyODMwMDAwMDAwMSwgMzkuOTcyMTIyXSwgWzExNi4zNDExNDYsIDM5Ljk3NTY3OF0sIFsxMTYuMzM3NTY3OTk5OTk5OTksIDM5Ljk3Njk4Nl0sIFsxMTYuMzM3NDczLCAzOS45NzY4MzNdLCBbMTE2LjMzMjA0MDk5OTk5OTk5LCAzOS45OTIwNTZdLCBbMTE2LjMyNzUwNzAwMDAwMDAxLCAzOS45OTk5MTldLCBbMTEzLjU0OTIyMiwgMjIuMjE4ODcxXSwgWzExMy41NDkzNDcsIDIyLjIxNzM5Mjk5OTk5OTk5OF0sIFsxMTMuNTQ5NDIzLCAyMi4yMTYwNjZdLCBbMTEzLjU0OTE4LCAyMi4yMTQ3OTRdLCBbMTEzLjU1NDk1NSwgMjIuMTYyNDFdLCBbMTEzLjU1MzU3NSwgMjIuMTYyMzAzXSwgWzExMy41NTM1NywgMjIuMTYyNTEzXSwgWzExMy41NTM1MDMsIDIyLjE2MjMzOTAwMDAwMDAwM10sIFsxMTMuNTUzNjk4LCAyMi4xNjIyMzI5OTk5OTk5OTddLCBbMTEzLjU1NDgwODAwMDAwMDAxLCAyMi4xNjI0NzAwMDAwMDAwMDNdLCBbMTEzLjU1OTg2Mzk5OTk5OTk5LCAyMi4xNTAwOTg5OTk5OTk5OTddLCBbMTEzLjU2MzYyNiwgMjIuMTQ4NTc1XSwgWzExMy41NTg5MTM5OTk5OTk5OSwgMjIuMTQ5NzM1OTk5OTk5OTk3XSwgWzExMy41NTQxNjUsIDIyLjE1MTMyMV0sIFsxMTMuNTUxNDU0LCAyMi4xNTM3MDVdLCBbMTEzLjU1NDUyLCAyMi4xNTc3ODddLCBbMTEzLjU1MzczLCAyMi4xNjAxOV0sIFsxMTMuNTUyODgzMDAwMDAwMDEsIDIyLjE2MjUzXSwgWzExMy41NTMxMzk5OTk5OTk5OCwgMjIuMTYyMzc4XSwgWzExMy41NTMxNTYsIDIyLjE2MjMyOTk5OTk5OTk5N10sIFsxMTMuNTUyOTcsIDIyLjE2MjM4XSwgWzExMy41NTMwNDQsIDIyLjE2MjI4N10sIFsxMTMuNTUzMDM0MDAwMDAwMDEsIDIyLjE2MjI1Nzk5OTk5OTk5OF0sIFsxMTMuNTUzMjM2MDAwMDAwMDEsIDIyLjE2MjIyOF0sIFsxMTMuNTUyNjc2LCAyMi4xNjIzMDFdLCBbMTEzLjU1MzI0MDk5OTk5OTk5LCAyMi4xNjIwMjVdLCBbMTEzLjU1MjgyNSwgMjIuMTYyMzU0XSwgWzExMy41NTMwMTgsIDIyLjE2MjQ1MV0sIFsxMTMuNTUyOTQ5LCAyMi4xNjIzNTQ5OTk5OTk5OThdLCBbMTEzLjU1Mjk0OCwgMjIuMTYyMzA3MDAwMDAwMDAyXSwgWzExMy41NTI5OTUsIDIyLjE2MjQ1N10sIFsxMTMuNTUyOTI5LCAyMi4xNjI0NzFdLCBbMTEzLjU1MzA0LCAyMi4xNjIyOTddLCBbMTEzLjU1MzA1MjAwMDAwMDAxLCAyMi4xNjIzNzJdLCBbMTEzLjU1MzMyLCAyMi4xNjIwMjldLCBbMTEzLjU1MzIzMjAwMDAwMDAxLCAyMi4xNjIyODddLCBbMTEzLjU1MzE3OCwgMjIuMTYyMTIxXSwgWzExMy41NTI5NDQsIDIyLjE2MjM3OF0sIFsxMTMuNTUzMTg2MDAwMDAwMDEsIDIyLjE2Mjk4Nl0sIFsxMTMuNTUyOTYxMDAwMDAwMDEsIDIyLjE2MjMzMV0sIFsxMTMuNTUyNzE2OTk5OTk5OTksIDIyLjE2MjM3MzAwMDAwMDAwMl0sIFsxMTMuNTUzMTI1LCAyMi4xNjIyMDldLCBbMTEzLjU1MzA0NiwgMjIuMTYyMzQyMDAwMDAwMDAyXSwgWzExMy41NTI4MjcwMDAwMDAwMSwgMjIuMTYyNTU0OTk5OTk5OTk4XSwgWzExMy41NTMyOCwgMjIuMTYyMjQ4XSwgWzExMy41NTMxNjIwMDAwMDAwMSwgMjIuMTYyMjg5XSwgWzExMy41NTMwMDMsIDIyLjE2MjQzOTAwMDAwMDAwM10sIFsxMTMuNTUzMzg3OTk5OTk5OTgsIDIyLjE2MjM3Ml0sIFsxMTMuNTUyODU1MDAwMDAwMDEsIDIyLjE2MjMwNV0sIFsxMTMuNTUzMTUxLCAyMi4xNjI0MjZdLCBbMTE2LjMyMTk0Mzk5OTk5OTk5LCA0MC4wMDYxMzVdLCBbMTE2LjMyMTk5NywgNDAuMDA3MDMxXSwgWzExNi4zMjQ1OTMsIDQwLjAwMDU2OF0sIFsxMTYuMzI0MDUxLCA0MC4wMDY4MTJdLCBbMTE2LjMyNjc5OCwgNDAuMDAwMzM2XSwgWzExNi4zMTI2ODIwMDAwMDAwMSwgMzkuOTg0NTcyXSwgWzExNi4yNjkxNDgsIDM5LjkyNTc5NjAwMDAwMDAwNV0sIFsxMTYuMjc4Njk3OTk5OTk5OTksIDM5Ljg0MTY0OV0sIFsxMTYuMjgwNTAyLCAzOS44MzQ5MDhdLCBbMTE2LjI2OTkzNjAwMDAwMDAyLCAzOS44ODAwMzZdLCBbMTE2LjI2OTExNiwgMzkuOTI4ODU3XSwgWzExNi4yOTM3NTkwMDAwMDAwMSwgMzkuOTgzNTgzXSwgWzExNi4zMDM1MDMsIDM5Ljk4Mzg1M10sIFsxMTYuMzEzMDA3MDAwMDAwMDEsIDM5Ljk4Mzk5M10sIFsxMTYuMzI3NTE0LCAzOS45OTYzMjddLCBbMTE2LjMyNDMyNiwgNDAuMDA2MjMzXSwgWzExNi4zMjQ3MjYsIDM5Ljk5OTg2M10sIFsxMTYuMzMzOTYyOTk5OTk5OTgsIDM5Ljk5MDA5M10sIFsxMTYuMzMyMjA2LCAzOS45OTE4NjNdLCBbMTE2LjMyNzMyMiwgNDAuMDAwNzAyMDAwMDAwMDA0XSwgWzExNi4zMjY2MjUsIDM5Ljk5NTU1Ml0sIFsxMTYuMzI5MDczLCAzOS45OTYwMDhdLCBbMTE2LjMyOTA0MDk5OTk5OTk5LCAzOS45OTU5NTNdLCBbMTE2LjMyODE4OSwgMzkuOTk1NDY2XSwgWzExNi4zMzE4OTQ5OTk5OTk5OSwgMzkuOTkyMDQ3XSwgWzExNi4zMjY0MiwgMzkuOTkyODVdLCBbMTE2LjMyNjc3NCwgMzkuOTk3NTQ2XSwgWzExNi4zMjY1NTQsIDQwLjAwNDQ4N10sIFsxMTYuMzI3MDE1OTk5OTk5OTksIDQwLjAwMDM0M10sIFsxMTYuMzI3MDEzLCA0MC4wMDA3NDE5OTk5OTk5OTVdLCBbMTE2LjMyNjY3NiwgNDAuMDAwMTUzMDAwMDAwMDA1XSwgWzExNi4zMjcwMjgsIDQwLjAwMDc5M10sIFsxMTYuMzI2ODUzLCA0MC4wMDA1NjZdLCBbMTE2LjMyNjkwMiwgNDAuMDAwNTQ2XSwgWzExNi4zMjcwMjgsIDQwLjAwMDkyOV0sIFsxMTYuMzI2Njg1MDAwMDAwMDEsIDQwLjAwMDM3MV0sIFsxMTYuMzI2NzcsIDQwLjAwMDQwMl0sIFsxMTYuMzI3MDA2MDAwMDAwMDEsIDQwLjAwMDg4NF0sIFsxMTYuMzI2NTYzOTk5OTk5OTksIDM5Ljk5OTQ1NV0sIFsxMTYuMzI2OTI3LCA0MC4wMDA3MzddLCBbMTE2LjMyNjczNCwgNDAuMDAwNTgyXSwgWzExNi4zMjY2MDUsIDM5Ljk5OTc2MV0sIFsxMTYuMzI2NzMzLCAzOS45OTUyOTY5OTk5OTk5OTRdLCBbMTE2LjMyNjcyMDk5OTk5OTk5LCAzOS45OTgyODJdLCBbMTE2LjMyNzA2NywgNDAuMDAwNTU5XSwgWzExNi4zMjcwNzQsIDQwLjAwMDcwNl0sIFsxMTYuMzI3MzQxOTk5OTk5OTksIDM5Ljk5OTk2MV0sIFsxMTYuMzI2OTQ0LCA0MC4wMDA0MzQ5OTk5OTk5OTZdLCBbMTE2LjMyNzA0OCwgNDAuMDAwNzY0MDAwMDAwMDA0XSwgWzExNi4zMjY4OTU5OTk5OTk5OSwgNDAuMDAwNTY1XSwgWzExNi4zMjY3OTMsIDQwLjAwMDQyMV0sIFsxMTYuMzI0MzM5LCA0MC4wMDIxNjhdLCBbMTE2LjMyMzk5NCwgNDAuMDA5Mzc2XSwgWzExNi4zMTk4ODc5OTk5OTk5OSwgNDAuMDExNDcyOTk5OTk5OTk1XSwgWzExNi4zMjExNTcsIDQwLjAxMTQ3XSwgWzExNi4zMjExNzcsIDQwLjAxMTczM10sIFsxMTYuMzIxNSwgNDAuMDExNDFdLCBbMTE2LjMyMTI1LCA0MC4wMTE0MTddLCBbMTE2LjMyMTA4OTk5OTk5OTk4LCA0MC4wMTE0NDddLCBbMTE2LjMyMTEyMDk5OTk5OTk5LCA0MC4wMTIxNjZdLCBbMTE2LjMyMTA0Mjk5OTk5OTk5LCA0MC4wMTE1MDhdLCBbMTE2LjMyMTAzNDAwMDAwMDAxLCA0MC4wMTE1MThdLCBbMTE2LjMyMDc1MywgNDAuMDEwNzc4XSwgWzExNi4zMjEwNzUsIDQwLjAxMTQ2OF0sIFsxMTYuMzIxMDgwMDAwMDAwMDEsIDQwLjAxMTAyM10sIFsxMTYuMzIxMjM0LCA0MC4wMTE0MzRdLCBbMTE2LjMyMTE0MiwgNDAuMDExNF0sIFsxMTYuMzIxMTIzLCA0MC4wMTE0MDRdLCBbMTE2LjMyMTA4MywgNDAuMDExNjc4XSwgWzExNi4zMjE0MjgsIDQwLjAxMTYxMV0sIFsxMTYuMzIxMDY5LCA0MC4wMTEzODFdLCBbMTE2LjMyMTEwNSwgNDAuMDExNjEzXSwgWzExNi4zMjEwNzQsIDQwLjAxMTYxXSwgWzExNi4zMjEwODYwMDAwMDAwMSwgNDAuMDExNDM1XSwgWzExNi4zMjExOTMsIDQwLjAxMTI5OF0sIFsxMTYuMzIxMTc5LCA0MC4wMTEyOTNdLCBbMTE2LjMyMTE3MDk5OTk5OTk5LCA0MC4wMTEzMDk5OTk5OTk5OTVdLCBbMTE2LjMyMTA4MiwgNDAuMDEzMzkxOTk5OTk5OTk2XSwgWzExNi4zMjExNDgsIDQwLjAxMDg5MV0sIFsxMTYuMzIxMTMxMDAwMDAwMDEsIDQwLjAxMTA2N10sIFsxMTYuMzIxMDk5LCA0MC4wMTE4Ml0sIFsxMTYuMzIxMDMxLCA0MC4wMTE1NDI5OTk5OTk5OTZdLCBbMTE2LjMyMTA4MSwgNDAuMDExNjldLCBbMTE2LjMyMTAyMiwgNDAuMDExNl0sIFsxMTYuMzIxMDg2MDAwMDAwMDEsIDQwLjAxMTU0OV0sIFsxMTYuMzIxMTQyOTk5OTk5OTksIDQwLjAxMDg4Nl0sIFsxMTYuMzIxMTkzLCA0MC4wMTE0MDIwMDAwMDAwMDRdLCBbMTE2LjMyMTE1ODAwMDAwMDAxLCA0MC4wMTE2OTNdLCBbMTE2LjMyMDk5Njk5OTk5OTk5LCA0MC4wMTE3MDM5OTk5OTk5OTVdLCBbMTE2LjMyMTA0Mjk5OTk5OTk5LCA0MC4wMTE0NTldLCBbMTE2LjMyMDk1OSwgNDAuMDExNDMxXSwgWzExNi4zMjY5OCwgNDAuMDAwNTYyXSwgWzExNi4zMjcwMDIwMDAwMDAwMSwgNDAuMDAwNTkzXSwgWzExNi4zMjY4OTQsIDQwLjAwMDgzOV0sIFsxMTYuMzI2NzUzLCA0MC4wMDExMTJdLCBbMTE2LjMyNjc2NTk5OTk5OTk5LCA0MC4wMDAyMjldLCBbMTE2LjMyNjg1OCwgNDAuMDAwNTA3XSwgWzExNi4zMjY4NDgsIDM5Ljk5OTk3M10sIFsxMTYuMzI2OTY1OTk5OTk5OTgsIDQwLjAwMDY5NV0sIFsxMTYuMzI2ODU5MDAwMDAwMDEsIDQwLjAwMDc1Nl0sIFsxMTYuMzI2OTU0LCA0MC4wMDA2NzVdLCBbMTE2LjMyNjc1LCA0MC4wMDAyNzE5OTk5OTk5OTVdLCBbMTE2LjMyNjk1MywgNDAuMDAwNTc4OTk5OTk5OTk1XSwgWzExNi4zMjY2ODg5OTk5OTk5OSwgNDAuMDAwMjUzXSwgWzExNi4zMjgyMDkwMDAwMDAwMiwgNDAuMDAyNzM0OTk5OTk5OTk0XSwgWzExNi4zMjYzOTcsIDM5Ljk5ODgxNF0sIFsxMTYuMzI2ODAxLCA0MC4wMDA0ODFdLCBbMTE2LjMyNjgzMjAwMDAwMDAxLCA0MC4wMDA0ODddLCBbMTE2LjMyNjg1MiwgNDAuMDAwNTI4XSwgWzExNi4zMjY5NzM5OTk5OTk5OSwgNDAuMDAwNTJdLCBbMTE2LjMyNjk2MDAwMDAwMDAxLCA0MC4wMDA1OTddLCBbMTE2LjMyNjc5OCwgNDAuMDAwNjQyXSwgWzExNi4zMjY5NDcsIDQwLjAwMDYyODk5OTk5OTk5Nl0sIFsxMTYuMzI2OTc1LCA0MC4wMDA3NTNdLCBbMTE2LjMyNjg5NTk5OTk5OTk5LCA0MC4wMDA2NjU5OTk5OTk5OTVdLCBbMTE2LjMyNjkyNiwgNDAuMDAwNjA5OTk5OTk5OTk1XSwgWzExNi4zMjY5OTgsIDQwLjAwMDldLCBbMTE2LjMyNjkyNSwgNDAuMDAwNjI1XSwgWzExNi4zMjY1OTY5OTk5OTk5OSwgMzkuOTk5MzE1XSwgWzExNi4zMjY5NDcsIDQwLjAwMDQ5NjAwMDAwMDAwNV0sIFsxMTYuMzI2ODU5MDAwMDAwMDEsIDQwLjAwMDUzXSwgWzExNi4zMjY4ODksIDQwLjAwMDUzOF0sIFsxMTYuMzI2ODA4MDAwMDAwMDEsIDQwLjAwMDU1N10sIFsxMTYuMzI3MDE4OTk5OTk5OTksIDQwLjAwMDY0OF0sIFsxMTYuMzI2MjUsIDQwLjAwMTAwNl0sIFsxMTYuMzI2NjQxOTk5OTk5OTksIDM5Ljk5ODM4OF0sIFsxMTYuMzI2Nzg2MDAwMDAwMDEsIDM5Ljk5NDk4NF0sIFsxMTYuMzI3NDA0LCAzOS45OTk0MDNdLCBbMTE2LjMyNzMxMDAwMDAwMDAxLCA0MC4wMDEwNTk5OTk5OTk5OTVdLCBbMTE2LjMyNzAzODk5OTk5OTk4LCA0MC4wMDAzMDRdLCBbMTE2LjMyNjk3Mzk5OTk5OTk5LCA0MC4wMDAyMThdLCBbMTE2LjMyNjk5NCwgNDAuMDAwNTc3XSwgWzExNi4zMjY4OTQsIDQwLjAwMDQ3OTk5OTk5OTk5Nl0sIFsxMTYuMzI2OTI0LCA0MC4wMDA1NDZdLCBbMTE2LjMyNjk2OTk5OTk5OTk5LCA0MC4wMDA1MjZdLCBbMTE2LjMyNjU4MzAwMDAwMDAxLCA0MC4wMDAzMDFdLCBbMTE2LjMyNjY1LCA0MC4wMDEzNV0sIFsxMTYuMzI2ODEyOTk5OTk5OTksIDQwLjAwMTQyNV0sIFsxMTYuMzI2OTYzOTk5OTk5OTksIDQwLjAwMTY4Ml0sIFsxMTYuMzI2ODEzOTk5OTk5OTgsIDQwLjAwMDY3Nl0sIFsxMTYuMzI3MjA0MDAwMDAwMDEsIDQwLjAwMTY5Ml0sIFsxMTYuMzI3NDExMDAwMDAwMDEsIDQwLjAwMTk3MTAwMDAwMDAwNV0sIFsxMTYuMzI2ODQzLCA0MC4wMDA1MThdLCBbMTE2LjMyNjg3LCA0MC4wMDA0OTVdLCBbMTE2LjMyNjg4NzAwMDAwMDAxLCA0MC4wMDA0MzQwMDAwMDAwMDZdLCBbMTE2LjMyNjgzMzAwMDAwMDAxLCA0MC4wMDAzNjhdLCBbMTE2LjMyNjk5NCwgNDAuMDAwNDddLCBbMTE2LjMyNjc5NywgNDAuMDAwMzcyOTk5OTk5OTk2XSwgWzExNi4zMjY1MDUwMDAwMDAwMSwgMzkuOTk5ODE1OTk5OTk5OTk2XSwgWzExNi4zMjQzMzEsIDQwLjAwNDQzOF0sIFsxMTYuMzIyNjkxOTk5OTk5OTksIDQwLjAwOTY5M10sIFsxMTYuMzIwMDgyMDAwMDAwMDEsIDQwLjAxMTg2OV0sIFsxMTYuMzIxMjc5LCA0MC4wMTE2MTddLCBbMTE2LjMyMTIwNDAwMDAwMDAxLCA0MC4wMTE0MTkwMDAwMDAwMDRdLCBbMTE2LjMyMTE4NCwgNDAuMDExNzUxMDAwMDAwMDA0XSwgWzExNi4zMjA5NzYsIDQwLjAxMTA0Nzk5OTk5OTk5NV0sIFsxMTYuMzIxMTgxMDAwMDAwMDEsIDQwLjAxMTY1M10sIFsxMTYuMzIxMjU2LCA0MC4wMTE3MDZdLCBbMTE2LjMyMTA1NiwgNDAuMDEwOTQ2OTk5OTk5OTk0XSwgWzExNi4zMjA4NTMsIDQwLjAxMDc0OF0sIFsxMTYuMzIxMzg2LCA0MC4wMTEzMDFdLCBbMTE2LjMyNjA4NzAwMDAwMDAyLCA0MC4wMTI4OTldLCBbMTE2LjMyMDk0OCwgNDAuMDExNjgzMDAwMDAwMDA1XSwgWzExNi4zMjEyNjksIDQwLjAxMTk3NjAwMDAwMDAwNF0sIFsxMTYuMzIxMDU2LCA0MC4wMTE0NDddLCBbMTE2LjMyMTIzODk5OTk5OTk5LCA0MC4wMTExMzldLCBbMTE2LjMyMTE3NSwgNDAuMDEwODY1XSwgWzExNi4zMjE0MTAwMDAwMDAwMSwgNDAuMDExNzg0OTk5OTk5OTk2XSwgWzExNi4zMjE2MTU5OTk5OTk5OSwgNDAuMDExNTczXSwgWzExNi4zMjE0NDgsIDQwLjAxMTk2OV0sIFsxMTYuMzIxNjMxMDAwMDAwMDEsIDQwLjAxMTU1NF0sIFsxMTYuMzIxMTAyLCA0MC4wMTE1NTNdLCBbMTE2LjMyMDkyNCwgNDAuMDExNzk2MDAwMDAwMDA0XSwgWzExNi4zMjEzMDYsIDQwLjAxMTM4M10sIFsxMTYuMzIxNDM4OTk5OTk5OTgsIDQwLjAxMTUzMl0sIFsxMTYuMzIwMjQ3LCA0MC4wMDc0NzRdLCBbMTE2LjMyMjg2OSwgNDAuMDExMDA1XSwgWzExNi4zMjM5MjgwMDAwMDAwMSwgNDAuMDA0ODU3XSwgWzExNi4zMjY5MTc5OTk5OTk5OSwgNDAuMDAwNDE1OTk5OTk5OTk0XSwgWzExNi4zMjQ0MTU5OTk5OTk5OSwgNDAuMDAyOTEyXSwgWzExNi4zMjM5ODc5OTk5OTk5OSwgNDAuMDA5NDQ0XSwgWzExNi4zMjExNjUsIDQwLjAxMTU1MTAwMDAwMDAwNF0sIFsxMTYuMzIwOTM0MDAwMDAwMDEsIDQwLjAxMTA3NF0sIFsxMTYuMzIxMDEyMDAwMDAwMDEsIDQwLjAxMTIzN10sIFsxMTYuMzIxMDI5MDAwMDAwMDEsIDQwLjAxMTQ3XSwgWzExNi4zMjA5NzcsIDQwLjAxMTg4OF0sIFsxMTYuMzIxMTExMDAwMDAwMDIsIDQwLjAxMTMxNV0sIFsxMTYuMzIxMjU0MDAwMDAwMDEsIDQwLjAxMTMyODAwMDAwMDAwNl0sIFsxMTYuMzIxNTcsIDQwLjAxMDY1MzAwMDAwMDAwNV0sIFsxMTYuMzIxOTIyLCA0MC4wMDc4NTMwMDAwMDAwMDRdLCBbMTE2LjMyMTUzODk5OTk5OTk5LCA0MC4wMTAwNDI5OTk5OTk5OTZdLCBbMTE2LjMyMTUxMjk5OTk5OTk4LCA0MC4wMDk1NzgwMDAwMDAwMDVdLCBbMTE2LjMyMTQ0LCA0MC4wMTEyMjFdLCBbMTE2LjMyMDY2NDk5OTk5OTk5LCA0MC4wMDk0MjhdLCBbMTE2LjMyMTA2OTk5OTk5OTk5LCA0MC4wMTE2MDNdLCBbMTE2LjMyMTE3NywgNDAuMDExODM1OTk5OTk5OTk1XSwgWzExNi4zMjEzMjgwMDAwMDAwMSwgNDAuMDExNTg0XSwgWzExNi4zMjExMDMwMDAwMDAwMSwgNDAuMDExNjI0XSwgWzExNi4zMjExMjA5OTk5OTk5OSwgNDAuMDExNDg1XSwgWzExNi4zMjEwMjUsIDQwLjAxMTY1NF0sIFsxMTYuMzIxMjYwMDAwMDAwMDEsIDQwLjAxMTI4MV0sIFsxMTYuMzIxMTU5MDAwMDAwMDEsIDQwLjAxMTczMl0sIFsxMTYuMzIxNDkyOTk5OTk5OTksIDQwLjAxMDc1XSwgWzExNi4zMTQzMjksIDQwLjAxMzA4M10sIFsxMTYuMzIwODg0LCA0MC4wMTIxNjVdLCBbMTE2LjMyMTYxNzk5OTk5OTk5LCA0MC4wMTExOTY5OTk5OTk5OTZdLCBbMTE2LjMyNjU0OCwgMzkuOTk1OTNdLCBbMTE2LjMyODk5MiwgMzkuOTkxNjI1XSwgWzExNi4zMzQxODYwMDAwMDAwMiwgMzkuOTg5ODI3MDAwMDAwMDA1XSwgWzExNi4zMzQ1MTIwMDAwMDAwMiwgMzkuOTgyNTk2XSwgWzExNi4zMzc1NjIsIDM5Ljk3NzMwOTk5OTk5OTk5Nl0sIFsxMTYuMzM2NzcyLCAzOS45NzY0MzddLCBbMTE2LjMzNjQ1LCAzOS45NzY4NzRdLCBbMTE2LjMzNjYwNywgMzkuOTc2NjgyMDAwMDAwMDA0XSwgWzExNi4zMzY1MTQ5OTk5OTk5OSwgMzkuOTc3MDQ3XSwgWzExNi4zMzYwNDcsIDM5Ljk3NjUwNF0sIFsxMTYuMzM2NTE2OTk5OTk5OTksIDM5Ljk3NTc4M10sIFsxMTYuMzM2MDE5LCAzOS45NzYxNDRdLCBbMTE2LjMzNTc1NDAwMDAwMDAxLCAzOS45NzYyMzddLCBbMTE2LjMzNDgzMDAwMDAwMDAxLCAzOS45NzM4NTk5OTk5OTk5OTVdLCBbMTE2LjMzNTAxODk5OTk5OTk5LCAzOS45NzQxMzldLCBbMTE2LjMzNTIyOCwgMzkuOTc0MjldLCBbMTE2LjMzNTA0OSwgMzkuOTc0NDQzXSwgWzExNi4zMzM1MjIsIDM5Ljk3MjkzNF0sIFsxMTYuMzM1NTA5LCAzOS45NzUxOTRdLCBbMTE2LjM0MTE0Njk5OTk5OTk5LCAzOS45ODA1NTQ5OTk5OTk5OTVdLCBbMTE2LjM0MDcyMiwgMzkuOTc5ODkwOTk5OTk5OTk1XSwgWzExNi4zNDA0NjY5OTk5OTk5OSwgMzkuOTc5NTEzXSwgWzExNi4zMzkxOTcsIDM5Ljk3ODA1XSwgWzExNi4zMzkwOTEsIDM5Ljk3Nzg5OV0sIFsxMTYuMzMxMTE3OTk5OTk5OTksIDM5Ljk3MzIwMl0sIFsxMTYuMzM0MjUyLCAzOS45NzgwNTNdLCBbMTE2LjMzNTg1MywgMzkuOTc1MTYyXSwgWzExNi4zMzQ4ODEwMDAwMDAwMSwgMzkuOTcyMjVdLCBbMTE2LjMzNjAyOCwgMzkuOTc1NDMyXSwgWzExNi4zMzU5NzEsIDM5Ljk3NTU1MzAwMDAwMDAwNV0sIFsxMTYuMzM2MTE0LCAzOS45NzYxOV0sIFsxMTYuMzM2MTk3LCAzOS45NzYxNzJdLCBbMTE2LjMzNjIzNjAwMDAwMDAxLCAzOS45NzYyNDg5OTk5OTk5OTZdLCBbMTE2LjMzNjIwMywgMzkuOTc2MTg4XSwgWzExNi4zMzYzMzUsIDM5Ljk3NjI1Ml0sIFsxMTYuMzM1NzEsIDM5Ljk3NjIxNzk5OTk5OTk5Nl0sIFsxMTYuMzM2MTkzOTk5OTk5OTksIDM5Ljk3NjI1Ml0sIFsxMTYuMzM1OTEzOTk5OTk5OTksIDM5Ljk3NjA2M10sIFsxMTYuMzM1NTM4OTk5OTk5OTgsIDM5Ljk3NTg5NF0sIFsxMTYuMzM2MTUzLCAzOS45NzYwNDY5OTk5OTk5OTRdLCBbMTE2LjMzNTU2ODk5OTk5OTk5LCAzOS45NzU3NjZdLCBbMTE2LjMzNjA4NDAwMDAwMDAxLCAzOS45NzYxMTJdLCBbMTE2LjMzNjA0MSwgMzkuOTc2MDE1MDAwMDAwMDA0XSwgWzExNi4zMzYzNDUsIDM5Ljk3NTkwODAwMDAwMDAwNF0sIFsxMTYuMzM1NTgzMDAwMDAwMDEsIDM5Ljk3NjMzOV0sIFsxMTYuMzM2MTM1MDAwMDAwMDEsIDM5Ljk3NjAyNl0sIFsxMTYuMzM1OTg2LCAzOS45NzU3Nzg5OTk5OTk5OTZdLCBbMTE2LjMzNjA5Mjk5OTk5OTk5LCAzOS45NzYyMTVdLCBbMTE2LjMzNjQwMSwgMzkuOTc2MjQzXSwgWzExNi4zMzYyMTEsIDM5Ljk3NjE5Ml0sIFsxMTYuMzM3MTY4OTk5OTk5OTksIDM5Ljk3NjgyMDAwMDAwMDAwNF0sIFsxMTYuMzM2NTYyOTk5OTk5OTgsIDM5Ljk3NjQzOV0sIFsxMTYuMzM2MTA2LCAzOS45NzYyMzQwMDAwMDAwMDVdLCBbMTE2LjMzNTg0OCwgMzkuOTc2MTc1XSwgWzExNi4zMzYyMDEsIDM5Ljk3NjIzN10sIFsxMTYuMzM2NTYyOTk5OTk5OTgsIDM5Ljk3NTI0NjAwMDAwMDAwNl0sIFsxMTYuMzM4OTU1LCAzOS45NjQyNDRdLCBbMTE2LjM0NTY4MzAwMDAwMDAxLCAzOS45NDg3NzgwMDAwMDAwMDRdLCBbMTE2LjM0NTk2Njk5OTk5OTk5LCAzOS45NDAxMl0sIFsxMTYuNTczOTYwMDAwMDAwMDEsIDM5LjkwOTMzOF0sIFsxMTYuNTQ5NzI2LCAzOS45MDgzNThdLCBbMTE2LjUyNTY2OSwgMzkuOTA4NDQ2OTk5OTk5OTk1XSwgWzExNi41MDIzNjM5OTk5OTk5OSwgMzkuOTA2NzE3XSwgWzExNi40Nzk2MTI5OTk5OTk5OSwgMzkuOTA2OTA5MDAwMDAwMDA2XSwgWzExNi40NjE4NjIwMDAwMDAwMSwgMzkuOTA3XSwgWzExNi40NTM3MjYsIDM5LjkwNzMzNl0sIFsxMTYuNDQ0MjAyLCAzOS45MDcwNjddLCBbMTE2LjQzNDc4OTk5OTk5OTk5LCAzOS45MDcwMTJdLCBbMTE2LjQyOTQzMiwgMzkuOTA3MDMwOTk5OTk5OTk2XSwgWzExNi40MjUyNjEsIDM5LjkwMzI1Ml0sIFsxMTYuNDE5NTY2OTk5OTk5OTksIDM5LjkwMzIyNV0sIFsxMTYuMzI2NTY0OTk5OTk5OTksIDM5Ljk5NTA4N10sIFsxMTYuMzI0NTk4LCA0MC4wMDAxODZdLCBbMTE2LjMyNDM2NiwgNDAuMDA1NDM1OTk5OTk5OTk2XSwgWzExNi4zMjIxNDA5OTk5OTk5OSwgNDAuMDA5MzI0XSwgWzExNi4zMjExNjI5OTk5OTk5OCwgNDAuMDEwNzgxXSwgWzExNi4zMjQwMTAwMDAwMDAwMiwgNDAuMDA4MzY1OTk5OTk5OTk1XSwgWzExNi4zMjQ1MTQsIDQwLjAwMjk3NV0sIFsxMTYuMzI1ODUsIDM5Ljk5OTAzXSwgWzExNi4zMjYzNDksIDM5Ljk5NDAyM10sIFsxMTYuMzI5Mzc5LCAzOS45OTE1OTldLCBbMTE2LjMzNDI0Njk5OTk5OTk5LCAzOS45ODkzNTQ5OTk5OTk5OTZdLCBbMTE2LjMzNDQwNCwgMzkuOTg0MDEzXSwgWzExNi4zMzUwNTIsIDM5Ljk3ODUxXSwgWzExNi4zMzUyNDM5OTk5OTk5OSwgMzkuOTc3NTM4XSwgWzExNi4zMzQ1MTM5OTk5OTk5OCwgMzkuOTg0MzNdLCBbMTE2LjMzNDA4OTk5OTk5OTk5LCAzOS45OTE1MzddLCBbMTE2LjMyNjkzNSwgMzkuOTkxODMyXSwgWzExNi4zMjY1NjQ5OTk5OTk5OSwgMzkuOTk4Njk5XSwgWzExNi4zMjcxMzMsIDQwLjAwMDgzMl0sIFsxMTYuMzI2OTc5MDAwMDAwMDEsIDQwLjAwMDQ4M10sIFsxMTYuMzI2NDY3OTk5OTk5OTksIDM5Ljk5NTYxNF0sIFsxMjEuMTU1Mjk1LCA0MS4xMDc2MzFdLCBbMTIxLjE1MTg4MzAwMDAwMDAxLCA0MS4xMDk0NzNdLCBbMTIxLjE0NDYwNCwgNDEuMTEzMjA1XSwgWzEyMS4xMzY5NDI5OTk5OTk5OSwgNDEuMTE0MDc0XSwgWzEyMS4xMjgwNTMwMDAwMDAwMSwgNDEuMTE0NzM4XSwgWzEyMS4xMjIwNjY5OTk5OTk5OSwgNDEuMTE2MjVdLCBbMTIxLjE1MjU5MiwgNDEuMTA4MzMyXSwgWzEyMS4xNTQ0NTcwMDAwMDAwMSwgNDEuMTA3Mzc3XSwgWzEyMS4xNDY1NjUsIDQxLjEwNTQ2NV0sIFsxMjEuMTM2MTc3LCA0MS4xMDUyNjVdLCBbMTIxLjEyNzUzMiwgNDEuMTA0NzQ1XSwgWzEyMS4xMTY4ODk5OTk5OTk5OCwgNDEuMTA4OTY0XSwgWzEyMS4xMTE3NzYsIDQxLjExNDAwNF0sIFsxMjEuMTExNjkyOTk5OTk5OTksIDQxLjEyMTM3XSwgWzEyMS4xMTE2ODUwMDAwMDAwMSwgNDEuMTI5NjY0XSwgWzEyMS4xMTE0ODg5OTk5OTk5OSwgNDEuMTI4OTQ2XSwgWzEyMS4xMTEzNTkwMDAwMDAwMSwgNDEuMTIyMjEyXSwgWzEyMS4xMTE4NjAwMDAwMDAwMSwgNDEuMTEwNzY2XSwgWzEyMS4xMjA3NDksIDQxLjExMDYyNl0sIFsxMjEuMTI2MTI1LCA0MS4xMDgwNjZdLCBbMTIxLjEzNDEyNCwgNDEuMTA1Mjg5XSwgWzExNi4zMTY2NDA5OTk5OTk5OSwgNDAuMDAzMzM1XSwgWzExNi4zMjc1MSwgNDAuMDAwMDIxOTk5OTk5OTk0XSwgWzExNi4zMjU2MzcwMDAwMDAwMSwgMzkuOTk5ODMxXSwgWzExNi4zMjE1NjQsIDQwLjAwNDkzNDk5OTk5OTk5Nl0sIFsxMTYuMzI0NDA5LCA0MC4wMDA3MzldLCBbMTE2LjMyNjUwMiwgMzkuOTkxNTk5XSwgWzExNi4zMzE3MDgsIDM5Ljk5MTQ1NF0sIFsxMTYuMzI4OTIxLCAzOS45OTE3NjRdLCBbMTE2LjMyODE5MDk5OTk5OTk5LCAzOS45OTU4NzRdLCBbMTE2LjMyOTgyNzAwMDAwMDAxLCAzOS45OTY2MDhdLCBbMTE2LjMyODQzOTk5OTk5OTk5LCAzOS45OTU0MzhdLCBbMTE2LjMyNzkxOTk5OTk5OTk5LCAzOS45OTUyNTddLCBbMTE2LjMyODYwNywgMzkuOTk1OTkyXSwgWzExNi4zMjg2MTYsIDM5Ljk5NTM5MV0sIFsxMTYuMzIxODIzLCA0MC4wMDExOTZdLCBbMTE2LjMyMjIxMzk5OTk5OTk5LCA0MC4wMDU0OF0sIFsxMTYuMzI0OTg1MDAwMDAwMDEsIDM5Ljk5OTc5NV0sIFsxMTYuMzI1MDgxMDAwMDAwMDEsIDQwLjAwNzgzXSwgWzExNi4zMjQ0MjEsIDQwLjAwMzIwNV0sIFsxMTYuMzIzNjg5OTk5OTk5OTgsIDQwLjAwNzA5OV0sIFsxMTYuMzI0MTM3OTk5OTk5OTksIDQwLjAwNzQzOF0sIFsxMTYuMzIxOTk3LCA0MC4wMDA3MDNdLCBbMTE2LjMyMDU4ODk5OTk5OTk4LCA0MC4wMDQ5MzFdLCBbMTE2LjMxNjg3NCwgNDAuMDA5MTE2OTk5OTk5OTk2XSwgWzExNi4zMjY2MTU5OTk5OTk5OSwgNDAuMDAxNzk5XSwgWzExNi4zMjQ0NCwgNDAuMDA2NDExXSwgWzExNi4zMjE0NCwgNDAuMDExMDNdLCBbMTE2LjMyMjYsIDQwLjAwOTc0N10sIFsxMTYuMzIwMjYxMDAwMDAwMDIsIDQwLjAwOTYxNzk5OTk5OTk5Nl0sIFsxMTYuMzM0MzgzLCAzOS45ODkwMjgwMDAwMDAwMDVdLCBbMTE2LjMyNjEzLCA0MC4wMDIyNjY5OTk5OTk5OTZdLCBbMTE2LjMyMjQ2NCwgNDAuMDA5MTc3XSwgWzExNi4zMjQ0NDY5OTk5OTk5OSwgNDAuMDAwMzY5XSwgWzExNi4zMjc2NTcsIDM5Ljk5MDY2Ml0sIFsxMTYuMzMyOTgxLCAzOS45OTEzODY5OTk5OTk5OTZdLCBbMTE2LjMxODQ1NCwgNDAuMDAzMTE1XSwgWzExNi4zMjUyNzcsIDQwLjAwMTIwN11dLCAidHlwZSI6ICJMaW5lU3RyaW5nIn0sICJwcm9wZXJ0aWVzIjogeyJoaWdobGlnaHQiOiB7fSwgInN0eWxlIjogeyJjb2xvciI6ICIjRkZENzAwIiwgIm9wYWNpdHkiOiAwLjksICJ3ZWlnaHQiOiAzfX0sICJ0eXBlIjogIkZlYXR1cmUifV0sICJ0eXBlIjogIkZlYXR1cmVDb2xsZWN0aW9uIn0KICAgICAgICAgICAgCiAgICAgICAgICAgICkuYWRkVG8obWFwX2UwN2FlYTIwNGY3MzQ0NmJhOGFlMzc1ZTk4YmYwZWM4KTsKICAgICAgICBnZW9fanNvbl83ZjJhNzEwOWY1MmE0MzU2ODBhNDE1YmEwNTAzZDQyNC5zZXRTdHlsZShmdW5jdGlvbihmZWF0dXJlKSB7cmV0dXJuIGZlYXR1cmUucHJvcGVydGllcy5zdHlsZTt9KTsKICAgICAgICAKPC9zY3JpcHQ+\" style=\"position:absolute;width:100%;height:100%;left:0;top:0;border:none !important;\" allowfullscreen webkitallowfullscreen mozallowfullscreen></iframe></div></div>"
      ],
      "text/plain": [
       "<folium.folium.Map at 0x1a2fd047b8>"
      ]
     },
     "execution_count": 150,
     "metadata": {},
     "output_type": "execute_result"
    }
   ],
   "source": [
    "tdf.plot_trajectory(zoom=12, weight=3, opacity=0.9, tiles='Stamen Toner')"
   ]
  },
  {
   "cell_type": "markdown",
   "metadata": {},
   "source": [
    "# FlowDataFrame\n",
    "\n",
    "The `FlowDataFrame` is a structure for trajectory data that extends Pandas' `DataFrame`.\n",
    "\n",
    "A `FlowDataFrame` must have the following **columns**:\n",
    "\n",
    "- `origin`: ID of tile of origin\n",
    "- `destination`: ID of tile of destination\n",
    "- `flow`: number of people travelling between from the origin to the destination\n",
    "\n",
    "Other columns may be present but are not mandatory. \n",
    "\n",
    "The **rows** of the `FlowDataFrame` corresponds to origin-destination pairs.\n",
    "\n",
    "\n",
    "### Tessellation\n",
    "\n",
    "A tessellation is a geopandas `GeoDataFrame` that defines the tiles or locations in the `FlowDataFrame`. \n",
    "\n",
    "The `FlowDataFrame` constructor requires to specify a tessellation containing the geometry of all the tiles, origina and destinations, in the rows of the `FlowDataFrame`. "
   ]
  },
  {
   "cell_type": "markdown",
   "metadata": {},
   "source": [
    "## Construction of a `FlowDataFrame`\n",
    "\n",
    "The `FlowDataFrame` can be created from:\n",
    "\n",
    "- a python list or a numpy array\n",
    "- a pandas `DataFrame`\n",
    "- a python dictionary"
   ]
  },
  {
   "cell_type": "code",
   "execution_count": null,
   "metadata": {
    "collapsed": true
   },
   "outputs": [],
   "source": []
  }
 ],
 "metadata": {
  "anaconda-cloud": {},
  "celltoolbar": "Slideshow",
  "hide_input": false,
  "kernelspec": {
   "display_name": "skmob",
   "language": "python",
   "name": "skmob"
  },
  "language_info": {
   "codemirror_mode": {
    "name": "ipython",
    "version": 3
   },
   "file_extension": ".py",
   "mimetype": "text/x-python",
   "name": "python",
   "nbconvert_exporter": "python",
   "pygments_lexer": "ipython3",
   "version": "3.7.2"
  },
  "latex_envs": {
   "LaTeX_envs_menu_present": true,
   "autoclose": false,
   "autocomplete": true,
   "bibliofile": "biblio.bib",
   "cite_by": "apalike",
   "current_citInitial": 1,
   "eqLabelWithNumbers": true,
   "eqNumInitial": 1,
   "hotkeys": {
    "equation": "Ctrl-E",
    "itemize": "Ctrl-I"
   },
   "labels_anchors": false,
   "latex_user_defs": false,
   "report_style_numbering": true,
   "user_envs_cfg": false
  }
 },
 "nbformat": 4,
 "nbformat_minor": 1
}
