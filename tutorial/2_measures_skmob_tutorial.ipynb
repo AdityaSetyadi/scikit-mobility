{
 "cells": [
  {
   "cell_type": "markdown",
   "metadata": {},
   "source": [
    "### scikit-mobility tutorials\n",
    "\n",
    "# 2 - Human Mobility Measures\n",
    "\n",
    "Here we show how scikit-mobility allows for computing some of the fundamental measures used to characterize human mobility. The measures are divided into two categories: \n",
    "- **individual measures**, describing features related to the mobility patterns of a single individual\n",
    "- **collective measures**, describing the mobility patterns of an entire population of individuals"
   ]
  },
  {
   "cell_type": "code",
   "execution_count": 1,
   "metadata": {},
   "outputs": [],
   "source": [
    "%matplotlib inline\n",
    "import matplotlib.pyplot as plt\n",
    "import skmob as sm\n",
    "from skmob.utils import plot\n",
    "from skmob.utils import constants\n",
    "\n",
    "from geopy.distance import distance\n",
    "import pandas as pd\n",
    "import numpy as np\n",
    "from stats_utils import *\n",
    "from tqdm import tqdm"
   ]
  },
  {
   "cell_type": "code",
   "execution_count": 2,
   "metadata": {},
   "outputs": [],
   "source": [
    "from skmob import TrajDataFrame"
   ]
  },
  {
   "cell_type": "code",
   "execution_count": 3,
   "metadata": {},
   "outputs": [],
   "source": [
    "fontsize = 15"
   ]
  },
  {
   "cell_type": "markdown",
   "metadata": {},
   "source": [
    "## Loading the data\n",
    "We load data of checkins made by users on the location-based social network Brightkite."
   ]
  },
  {
   "cell_type": "code",
   "execution_count": 4,
   "metadata": {},
   "outputs": [
    {
     "data": {
      "text/html": [
       "<div>\n",
       "<style scoped>\n",
       "    .dataframe tbody tr th:only-of-type {\n",
       "        vertical-align: middle;\n",
       "    }\n",
       "\n",
       "    .dataframe tbody tr th {\n",
       "        vertical-align: top;\n",
       "    }\n",
       "\n",
       "    .dataframe thead th {\n",
       "        text-align: right;\n",
       "    }\n",
       "</style>\n",
       "<table border=\"1\" class=\"dataframe\">\n",
       "  <thead>\n",
       "    <tr style=\"text-align: right;\">\n",
       "      <th></th>\n",
       "      <th>uid</th>\n",
       "      <th>datetime</th>\n",
       "      <th>lat</th>\n",
       "      <th>lng</th>\n",
       "      <th>location id</th>\n",
       "    </tr>\n",
       "  </thead>\n",
       "  <tbody>\n",
       "    <tr>\n",
       "      <th>0</th>\n",
       "      <td>0</td>\n",
       "      <td>2010-10-17 01:48:53</td>\n",
       "      <td>39.747652</td>\n",
       "      <td>-104.992510</td>\n",
       "      <td>88c46bf20db295831bd2d1718ad7e6f5</td>\n",
       "    </tr>\n",
       "    <tr>\n",
       "      <th>1</th>\n",
       "      <td>0</td>\n",
       "      <td>2010-10-16 06:02:04</td>\n",
       "      <td>39.891383</td>\n",
       "      <td>-105.070814</td>\n",
       "      <td>7a0f88982aa015062b95e3b4843f9ca2</td>\n",
       "    </tr>\n",
       "    <tr>\n",
       "      <th>2</th>\n",
       "      <td>0</td>\n",
       "      <td>2010-10-16 03:48:54</td>\n",
       "      <td>39.891077</td>\n",
       "      <td>-105.068532</td>\n",
       "      <td>dd7cd3d264c2d063832db506fba8bf79</td>\n",
       "    </tr>\n",
       "    <tr>\n",
       "      <th>3</th>\n",
       "      <td>0</td>\n",
       "      <td>2010-10-14 18:25:51</td>\n",
       "      <td>39.750469</td>\n",
       "      <td>-104.999073</td>\n",
       "      <td>9848afcc62e500a01cf6fbf24b797732f8963683</td>\n",
       "    </tr>\n",
       "    <tr>\n",
       "      <th>4</th>\n",
       "      <td>0</td>\n",
       "      <td>2010-10-14 00:21:47</td>\n",
       "      <td>39.752713</td>\n",
       "      <td>-104.996337</td>\n",
       "      <td>2ef143e12038c870038df53e0478cefc</td>\n",
       "    </tr>\n",
       "  </tbody>\n",
       "</table>\n",
       "</div>"
      ],
      "text/plain": [
       "   uid            datetime        lat         lng  \\\n",
       "0    0 2010-10-17 01:48:53  39.747652 -104.992510   \n",
       "1    0 2010-10-16 06:02:04  39.891383 -105.070814   \n",
       "2    0 2010-10-16 03:48:54  39.891077 -105.068532   \n",
       "3    0 2010-10-14 18:25:51  39.750469 -104.999073   \n",
       "4    0 2010-10-14 00:21:47  39.752713 -104.996337   \n",
       "\n",
       "                                location id  \n",
       "0          88c46bf20db295831bd2d1718ad7e6f5  \n",
       "1          7a0f88982aa015062b95e3b4843f9ca2  \n",
       "2          dd7cd3d264c2d063832db506fba8bf79  \n",
       "3  9848afcc62e500a01cf6fbf24b797732f8963683  \n",
       "4          2ef143e12038c870038df53e0478cefc  "
      ]
     },
     "execution_count": 4,
     "metadata": {},
     "output_type": "execute_result"
    }
   ],
   "source": [
    "tdf = TrajDataFrame.from_file('../data_test/brightkite_data.csv', sep=',', \n",
    "                              user_id='user', datetime='check-in time',\n",
    "                             latitude='latitude', longitude='longitude')\n",
    "tdf.head()"
   ]
  },
  {
   "cell_type": "code",
   "execution_count": 5,
   "metadata": {},
   "outputs": [
    {
     "name": "stdout",
     "output_type": "stream",
     "text": [
      "number of users:\t 51406\n",
      "number of records:\t 4747287\n"
     ]
    }
   ],
   "source": [
    "print(\"number of users:\\t\", len(tdf.uid.unique()))\n",
    "print(\"number of records:\\t\", len(tdf))"
   ]
  },
  {
   "cell_type": "markdown",
   "metadata": {},
   "source": [
    "To speed up computations we select just 1000 users"
   ]
  },
  {
   "cell_type": "code",
   "execution_count": 6,
   "metadata": {},
   "outputs": [
    {
     "data": {
      "text/plain": [
       "421164"
      ]
     },
     "execution_count": 6,
     "metadata": {},
     "output_type": "execute_result"
    }
   ],
   "source": [
    "tdf = tdf[tdf.uid < 1000]\n",
    "len(tdf)"
   ]
  },
  {
   "cell_type": "markdown",
   "metadata": {
    "heading_collapsed": true
   },
   "source": [
    "# Individual measures"
   ]
  },
  {
   "cell_type": "markdown",
   "metadata": {
    "hidden": true
   },
   "source": [
    "## Jump lengths\n",
    "A key factor in modeling human mobility is the distance an individual travels in\n",
    "a given time period. The terms jump length, flight length, displacement, and trip refer to the same concept: the distance an individual travels between two locations. \n",
    "\n",
    "In scikit-mob, the function ``jump_lengths`` computes, for each individual in the input TrajDataFrame, the list of jump lengths traveled by the individual."
   ]
  },
  {
   "cell_type": "code",
   "execution_count": null,
   "metadata": {
    "hidden": true
   },
   "outputs": [],
   "source": [
    "from skmob.measures.individual import jump_lengths"
   ]
  },
  {
   "cell_type": "code",
   "execution_count": null,
   "metadata": {
    "hidden": true,
    "scrolled": true
   },
   "outputs": [],
   "source": [
    "jl_df = jump_lengths(tdf)\n",
    "jl_df.head()"
   ]
  },
  {
   "cell_type": "markdown",
   "metadata": {
    "hidden": true
   },
   "source": [
    "The following code creates a single list containing the jump lengths of all individuals together."
   ]
  },
  {
   "cell_type": "code",
   "execution_count": null,
   "metadata": {
    "hidden": true
   },
   "outputs": [],
   "source": [
    "jl_list =[]\n",
    "for x in jl_df.jump_lengths:\n",
    "    jl_list.extend(x)\n",
    "len(jl_list)"
   ]
  },
  {
   "cell_type": "markdown",
   "metadata": {
    "hidden": true
   },
   "source": [
    "This list can be used to plot the distribution of jump lengths observed in the dataset."
   ]
  },
  {
   "cell_type": "code",
   "execution_count": null,
   "metadata": {
    "hidden": true
   },
   "outputs": [],
   "source": [
    "fontsize = 15\n",
    "fig, (ax1, ax2) = plt.subplots(1, 2, sharey=True)\n",
    "\n",
    "x, y = zip(*lbpdf(1.5, jl_list[:10000]))\n",
    "ax1.plot(x, y, marker='o')\n",
    "ax1.grid(alpha=0.5)\n",
    "ax1.set_xlabel('jump length [km]', fontsize=fontsize)\n",
    "ax1.set_ylabel('P(jump length)', fontsize=fontsize)\n",
    "ax1.text(0.1, 0.15, 'jump length $\\geq 0$', transform=ax1.transAxes, fontsize=fontsize - 2)\n",
    "ax1.loglog()\n",
    "\n",
    "x, y = zip(*lbpdf(1.5, [d for d in jl_list if d >= 1.0]))\n",
    "ax2.plot(x, y, marker='o')\n",
    "ax2.grid(alpha=0.5)\n",
    "ax2.set_xlabel('jump length [km]', fontsize=fontsize)\n",
    "ax2.text(0.15, 0.15, 'jump length $\\geq 1$', transform=ax2.transAxes, fontsize=fontsize - 2)\n",
    "ax2.loglog()\n",
    "\n",
    "plt.show()"
   ]
  },
  {
   "cell_type": "markdown",
   "metadata": {
    "hidden": true
   },
   "source": [
    "### Maximum distance, distance straight line, and maximum distance from home"
   ]
  },
  {
   "cell_type": "code",
   "execution_count": null,
   "metadata": {
    "hidden": true
   },
   "outputs": [],
   "source": [
    "from skmob.measures.individual import max_distance_from_home, distance_straight_line, maximum_distance"
   ]
  },
  {
   "cell_type": "code",
   "execution_count": null,
   "metadata": {
    "hidden": true
   },
   "outputs": [],
   "source": [
    "md_df = maximum_distance(tdf)\n",
    "md_df.head()"
   ]
  },
  {
   "cell_type": "code",
   "execution_count": null,
   "metadata": {
    "hidden": true
   },
   "outputs": [],
   "source": [
    "sld_df = distance_straight_line(tdf)\n",
    "sld_df.head()"
   ]
  },
  {
   "cell_type": "code",
   "execution_count": null,
   "metadata": {
    "hidden": true
   },
   "outputs": [],
   "source": [
    "mdh_df = max_distance_from_home(tdf)\n",
    "mdh_df.head()"
   ]
  },
  {
   "cell_type": "code",
   "execution_count": null,
   "metadata": {
    "hidden": true
   },
   "outputs": [],
   "source": [
    "fig, (ax1, ax2, ax3) = plt.subplots(1, 3)\n",
    "\n",
    "ax1.hist(md_df.maximum_distance, bins=10, rwidth=0.8)\n",
    "ax1.set_xlabel('max', fontsize=fontsize)\n",
    "\n",
    "x, y = zip(*lbpdf(2.0, list(sld_df.distance_straight_line)))\n",
    "ax2.plot(x, y, marker='o')\n",
    "ax2.loglog()\n",
    "ax2.set_xlabel('straight', fontsize=fontsize)\n",
    "\n",
    "ax3.hist(mdh_df.max_distance_from_home, bins=10, rwidth=0.8)\n",
    "ax3.set_xlabel('from home', fontsize=fontsize)\n",
    "\n",
    "ax2.set_title('Distances')\n",
    "\n",
    "plt.show()"
   ]
  },
  {
   "cell_type": "markdown",
   "metadata": {
    "hidden": true
   },
   "source": [
    "## Radius of gyration\n",
    "The characteristic distance traveled by an individual in a given time period is *radius of gyration*, $r_g$, and it is defined as the root mean square distance of a set of points from a given axis:\n",
    "\n",
    "$$r_g = \\sqrt{\\frac{1}{N} \\sum_{i=1}^N (\\mathbf{r}_i - \\mathbf{r}_{cm})^2}$$\n",
    "\n",
    "where $\\mathbf{r}_i$ are the coordinates of the $N$ individual points (or $N$ measurements of location) and $r_{cm}$ is the position vector of the *center of mass* of the set of points, \n",
    "$$ r_{cm} = \\sum_{i=1}^N \\frac{\\mathbf{r}_i}{N}$$"
   ]
  },
  {
   "cell_type": "code",
   "execution_count": null,
   "metadata": {
    "hidden": true
   },
   "outputs": [],
   "source": [
    "from skmob.measures.individual import radius_of_gyration"
   ]
  },
  {
   "cell_type": "code",
   "execution_count": null,
   "metadata": {
    "hidden": true
   },
   "outputs": [],
   "source": [
    "rg_df = radius_of_gyration(tdf).sort_values(by='radius_of_gyration')\n",
    "rg_df.head()"
   ]
  },
  {
   "cell_type": "code",
   "execution_count": null,
   "metadata": {
    "hidden": true
   },
   "outputs": [],
   "source": [
    "rgs = list(rg_df.radius_of_gyration)"
   ]
  },
  {
   "cell_type": "code",
   "execution_count": null,
   "metadata": {
    "hidden": true
   },
   "outputs": [],
   "source": [
    "fontsize = 15\n",
    "fig, (ax1, ax2) = plt.subplots(1, 2)\n",
    "\n",
    "x, y = zip(*lbpdf(1.5, rgs))\n",
    "ax1.plot(x, y, marker='o')\n",
    "ax1.set_xlabel('$r_g$ [km]', fontsize=20)\n",
    "ax1.set_ylabel('P($r_g$)', fontsize=20)\n",
    "ax1.loglog()\n",
    "ax1.text(0.15, 0.15, '$r_g \\geq 0$', transform=ax1.transAxes, fontsize=15)\n",
    "\n",
    "x, y = zip(*lbpdf(1.5, [rg for rg in rgs if rg >= 1.0]))\n",
    "ax2.plot(x, y, marker='o')\n",
    "ax2.set_xlabel('$r_g$ [km]', fontsize=20)\n",
    "ax2.set_ylabel('P($r_g$)', fontsize=20)\n",
    "ax2.loglog()\n",
    "ax2.text(0.15, 0.15, '$r_g \\geq 1$', transform=ax2.transAxes, fontsize=15)\n",
    "\n",
    "fig.subplots_adjust(wspace=0.5)\n",
    "\n",
    "plt.show()"
   ]
  },
  {
   "cell_type": "markdown",
   "metadata": {
    "hidden": true
   },
   "source": [
    "## $k$-radius of gyration\n",
    "The $k$-radius of gyration $r_g^{(k)}$ quantifies the influence of frequency of location visits on the characteristic distance traveled, defined as the radius of gyration computed over an individual’s k most frequently visited locations $L_1, \\dots, L_k$:\n",
    "$$ r_g^{(k)} = \\sqrt{\\frac{1}{N_k} \\sum_{i=1}^{k} n_i (\\mathbf{r}_i - \\mathbf{r}_{cm}^{(k)})} $$\n",
    "where $N_k$ is the sum of the visits to the $k$ most frequented locations, $\\mathbf{r}_{cm}^{(k)}$ is the center of mass computed on those locations and $n_i$ is the number of visits to the $i$-th most visited location."
   ]
  },
  {
   "cell_type": "code",
   "execution_count": null,
   "metadata": {
    "hidden": true
   },
   "outputs": [],
   "source": [
    "from skmob.measures.individual import k_radius_of_gyration"
   ]
  },
  {
   "cell_type": "code",
   "execution_count": null,
   "metadata": {
    "hidden": true
   },
   "outputs": [],
   "source": [
    "krg_df = k_radius_of_gyration(tdf, k=3)\n",
    "krg_df.head()"
   ]
  },
  {
   "cell_type": "code",
   "execution_count": null,
   "metadata": {
    "hidden": true
   },
   "outputs": [],
   "source": [
    "rg_krg_df = pd.merge(rg_df, krg_df, on='uid')\n",
    "rg_krg_df.head()"
   ]
  },
  {
   "cell_type": "code",
   "execution_count": null,
   "metadata": {
    "hidden": true
   },
   "outputs": [],
   "source": [
    "fontsize = 15\n",
    "fig = plt.figure(figsize=(6, 6))\n",
    "plt.scatter(rg_krg_df.radius_of_gyration, rg_krg_df['3k_radius_of_gyration'], alpha=0.2)\n",
    "plt.xlabel('radius of gyration [km]', fontsize=fontsize)\n",
    "plt.ylabel('k-radius of gyration [km]', fontsize=fontsize)\n",
    "plt.show()"
   ]
  },
  {
   "cell_type": "markdown",
   "metadata": {
    "hidden": true
   },
   "source": [
    "## Entropy\n",
    "The measures of entropy quantifies the degree of predictability of an individual's mobility."
   ]
  },
  {
   "cell_type": "code",
   "execution_count": null,
   "metadata": {
    "hidden": true
   },
   "outputs": [],
   "source": [
    "from skmob.measures.individual import random_entropy, uncorrelated_entropy, real_entropy, number_of_locations"
   ]
  },
  {
   "cell_type": "markdown",
   "metadata": {
    "hidden": true
   },
   "source": [
    "### Random entropy\n",
    "The random entropy $S_{rand}(u)$ (in base 2) of an individual $u$ captures the degree of predictability of $u$'s whereabouts if each location is visited with equal probability."
   ]
  },
  {
   "cell_type": "code",
   "execution_count": null,
   "metadata": {
    "hidden": true
   },
   "outputs": [],
   "source": [
    "e_df = random_entropy(tdf)\n",
    "e_df.head()"
   ]
  },
  {
   "cell_type": "code",
   "execution_count": null,
   "metadata": {
    "hidden": true
   },
   "outputs": [],
   "source": [
    "locs_df = number_of_locations(tdf)\n",
    "locs_df.head()"
   ]
  },
  {
   "cell_type": "code",
   "execution_count": null,
   "metadata": {
    "hidden": true
   },
   "outputs": [],
   "source": [
    "e_df = pd.merge(e_df, locs_df, on='uid')\n",
    "e_df.head()"
   ]
  },
  {
   "cell_type": "code",
   "execution_count": null,
   "metadata": {
    "hidden": true
   },
   "outputs": [],
   "source": [
    "fig, (ax1, ax2) = plt.subplots(1, 2, sharex=True, sharey=True)\n",
    "\n",
    "ax1.hist(e_df.random_entropy, bins=10, rwidth=0.8, density=True)\n",
    "ax1.set_xlabel('random entropy', fontsize=fontsize)\n",
    "ax1.set_ylabel('P(random entropy)', fontsize=fontsize)\n",
    "\n",
    "ax2.hist(e_df[e_df.number_of_locations > 1].random_entropy, bins=10, rwidth=0.8, density=True)\n",
    "ax2.set_xlabel('random entropy', fontsize=fontsize)\n",
    "\n",
    "plt.show()"
   ]
  },
  {
   "cell_type": "markdown",
   "metadata": {
    "hidden": true
   },
   "source": [
    "### Temporal-uncorrelated entropy\n",
    "The temporal-uncorrelated entropy $S_{unc}(u)$ (in base 2) of an individual $u$ is the historical probability that a location $j$ was visited by $u$ and characterizes the heterogeneity of $u$'s visitation patterns."
   ]
  },
  {
   "cell_type": "code",
   "execution_count": null,
   "metadata": {
    "hidden": true
   },
   "outputs": [],
   "source": [
    "ue_df = uncorrelated_entropy(tdf)\n",
    "nue_df = uncorrelated_entropy(tdf, normalize=True)\n",
    "ue_df.head()"
   ]
  },
  {
   "cell_type": "code",
   "execution_count": null,
   "metadata": {
    "hidden": true
   },
   "outputs": [],
   "source": [
    "ue_df = pd.merge(ue_df, locs_df, on='uid')\n",
    "nue_df = pd.merge(nue_df, locs_df, on='uid')\n",
    "nue_df.head()"
   ]
  },
  {
   "cell_type": "code",
   "execution_count": null,
   "metadata": {
    "hidden": true
   },
   "outputs": [],
   "source": [
    "fig, axes = plt.subplots(2, 2)\n",
    "\n",
    "axes[0][0].hist(ue_df.uncorrelated_entropy, bins=20, rwidth=0.8, density=True)\n",
    "axes[0][1].hist(nue_df.norm_uncorrelated_entropy, bins=20, rwidth=0.8, density=True)\n",
    "\n",
    "axes[1][0].hist(ue_df[ue_df.number_of_locations > 1].uncorrelated_entropy, bins=20, rwidth=0.8, density=True)\n",
    "axes[1][1].hist(nue_df[ue_df.number_of_locations > 1].norm_uncorrelated_entropy, bins=20, rwidth=0.8, density=True)\n",
    "\n",
    "axes[1][0].set_xlabel('unc entropy', fontsize=fontsize)\n",
    "axes[1][1].set_xlabel('norm unc entropy', fontsize=fontsize)\n",
    "\n",
    "plt.show()"
   ]
  },
  {
   "cell_type": "markdown",
   "metadata": {
    "hidden": true
   },
   "source": [
    "### Real entropy\n",
    "The real entropy $S$ of an individual $u$ depends not only on the frequency of visitation, but also the order in which the nodes were visited and the time spent at each location, thus capturing the full spatiotemporal order present in $u$'s mobility patterns."
   ]
  },
  {
   "cell_type": "code",
   "execution_count": null,
   "metadata": {
    "hidden": true
   },
   "outputs": [],
   "source": [
    "re_df = real_entropy(tdf[tdf.uid < 100])\n",
    "re_df.head()"
   ]
  },
  {
   "cell_type": "code",
   "execution_count": null,
   "metadata": {
    "hidden": true
   },
   "outputs": [],
   "source": [
    "plt.hist(re_df.real_entropy)\n",
    "plt.xlabel('real entropy', fontsize=fontsize)\n",
    "plt.show()"
   ]
  },
  {
   "cell_type": "markdown",
   "metadata": {
    "hidden": true
   },
   "source": [
    "### Number of locations and Number of visits"
   ]
  },
  {
   "cell_type": "code",
   "execution_count": null,
   "metadata": {
    "hidden": true
   },
   "outputs": [],
   "source": [
    "from skmob.measures.individual import number_of_visits"
   ]
  },
  {
   "cell_type": "code",
   "execution_count": null,
   "metadata": {
    "hidden": true
   },
   "outputs": [],
   "source": [
    "nv_df = number_of_visits(tdf)\n",
    "nv_df.head()"
   ]
  },
  {
   "cell_type": "code",
   "execution_count": null,
   "metadata": {
    "hidden": true
   },
   "outputs": [],
   "source": [
    "fig, (ax1, ax2) = plt.subplots(1, 2)\n",
    "\n",
    "ax1.hist(locs_df.number_of_locations, rwidth=0.8, bins=20)\n",
    "ax1.set_xlabel('number of locations', fontsize=fontsize)\n",
    "\n",
    "ax2.hist(nv_df.number_of_visits, rwidth=0.8, bins=20)\n",
    "ax2.set_xlabel('number of visits', fontsize=fontsize)\n",
    "\n",
    "plt.show()"
   ]
  },
  {
   "cell_type": "markdown",
   "metadata": {
    "hidden": true
   },
   "source": [
    "### Home location\n",
    "The home location of an individual is the location they visit most frequently during nighttime. "
   ]
  },
  {
   "cell_type": "code",
   "execution_count": null,
   "metadata": {
    "hidden": true
   },
   "outputs": [],
   "source": [
    "from skmob.measures.individual import home_location"
   ]
  },
  {
   "cell_type": "code",
   "execution_count": null,
   "metadata": {
    "hidden": true
   },
   "outputs": [],
   "source": [
    "hl_df = home_location(tdf)\n",
    "hl_df.head()"
   ]
  },
  {
   "cell_type": "code",
   "execution_count": null,
   "metadata": {
    "hidden": true
   },
   "outputs": [],
   "source": [
    "import folium\n",
    "from folium.plugins import HeatMap\n",
    "\n",
    "# Create a Map instance\n",
    "m = folium.Map(tiles = 'openstreetmap', zoom_start=10, control_scale=True)\n",
    "\n",
    "# Add heatmap to map instance\n",
    "# Available parameters: HeatMap(data, name=None, min_opacity=0.5, max_zoom=18, max_val=1.0, radius=25, blur=15, gradient=None, overlay=True, control=True, show=True)\n",
    "HeatMap(hl_df[['lat', 'lng']].values).add_to(m)\n",
    "\n",
    "# Show map\n",
    "m"
   ]
  },
  {
   "cell_type": "markdown",
   "metadata": {
    "hidden": true
   },
   "source": [
    "## Visitation frequency of locations\n",
    "One method of quantifying the importance of a location is the use of ranks; the most visited location (likely home or work) would have rank 1, a school or local shop may have rank 2 or 3, etc."
   ]
  },
  {
   "cell_type": "code",
   "execution_count": null,
   "metadata": {
    "hidden": true
   },
   "outputs": [],
   "source": [
    "from skmob.measures.individual import location_frequency"
   ]
  },
  {
   "cell_type": "code",
   "execution_count": null,
   "metadata": {
    "hidden": true
   },
   "outputs": [],
   "source": [
    "lf_df = location_frequency(tdf)\n",
    "lf_df.head()"
   ]
  },
  {
   "cell_type": "code",
   "execution_count": null,
   "metadata": {
    "hidden": true
   },
   "outputs": [],
   "source": [
    "lf_df.reset_index(inplace=True)\n",
    "lf_df.head()"
   ]
  },
  {
   "cell_type": "code",
   "execution_count": null,
   "metadata": {
    "hidden": true,
    "scrolled": false
   },
   "outputs": [],
   "source": [
    "ranks = [[] for i in range(lf_df.groupby('uid').count().max().location_frequency)]\n",
    "for i, group in lf_df.groupby('uid'):\n",
    "    for j, (index, row) in enumerate(group.iterrows()):\n",
    "        ranks[j].append(row.location_frequency)"
   ]
  },
  {
   "cell_type": "code",
   "execution_count": null,
   "metadata": {
    "hidden": true
   },
   "outputs": [],
   "source": [
    "ranks = [np.mean(rr) for rr in ranks]"
   ]
  },
  {
   "cell_type": "code",
   "execution_count": null,
   "metadata": {
    "hidden": true
   },
   "outputs": [],
   "source": [
    "fig = plt.figure(figsize=(6, 6))\n",
    "plt.plot(range(len(ranks)), ranks, marker='o')\n",
    "plt.loglog()\n",
    "plt.xlabel('location rank', fontsize=15)\n",
    "plt.ylabel('location frequency', fontsize=15)\n",
    "plt.grid(alpha=0.2)\n",
    "plt.show()"
   ]
  },
  {
   "cell_type": "markdown",
   "metadata": {
    "hidden": true
   },
   "source": [
    "## Frequency and Recency rank of locations"
   ]
  },
  {
   "cell_type": "code",
   "execution_count": null,
   "metadata": {
    "hidden": true
   },
   "outputs": [],
   "source": [
    "from skmob.measures.individual import frequency_rank, recency_rank"
   ]
  },
  {
   "cell_type": "code",
   "execution_count": null,
   "metadata": {
    "hidden": true
   },
   "outputs": [],
   "source": [
    "frequency_rank(tdf).head()"
   ]
  },
  {
   "cell_type": "code",
   "execution_count": null,
   "metadata": {
    "hidden": true
   },
   "outputs": [],
   "source": [
    "recency_rank(tdf).head()"
   ]
  },
  {
   "cell_type": "markdown",
   "metadata": {
    "hidden": true
   },
   "source": [
    "## Waiting times\n",
    "Associated with the displacement between two successive locations is a time interval, that provides an estimate of the stay of an individual in a location (waiting-times)."
   ]
  },
  {
   "cell_type": "code",
   "execution_count": null,
   "metadata": {
    "hidden": true
   },
   "outputs": [],
   "source": [
    "from skmob.measures.individual import waiting_times"
   ]
  },
  {
   "cell_type": "code",
   "execution_count": null,
   "metadata": {
    "hidden": true
   },
   "outputs": [],
   "source": [
    "wt_df = waiting_times(tdf)\n",
    "wt_df.head()"
   ]
  },
  {
   "cell_type": "code",
   "execution_count": null,
   "metadata": {
    "hidden": true
   },
   "outputs": [],
   "source": [
    "wl_list =[]\n",
    "for x in wt_df.waiting_times:\n",
    "    wl_list.extend(x)\n",
    "len(wl_list)"
   ]
  },
  {
   "cell_type": "code",
   "execution_count": null,
   "metadata": {
    "hidden": true
   },
   "outputs": [],
   "source": [
    "fontsize = 15\n",
    "fig = plt.figure(figsize=(6, 6))\n",
    "x, y = zip(*lbpdf(1.5, wl_list[:10000]))\n",
    "plt.plot(x, y, marker='o')\n",
    "plt.grid(alpha=0.5)\n",
    "plt.xlabel('waiting times [s]', fontsize=fontsize)\n",
    "plt.ylabel('P(waiting times)', fontsize=fontsize)\n",
    "plt.loglog()\n",
    "plt.show()"
   ]
  },
  {
   "cell_type": "markdown",
   "metadata": {
    "hidden": true
   },
   "source": [
    "## Individual mobility network\n",
    "Another method of distinguishing between locations is to construct each individual's mobility pattern as a network. Nodes represent locations visited and directed edges represent trips between the locations. "
   ]
  },
  {
   "cell_type": "code",
   "execution_count": null,
   "metadata": {
    "hidden": true
   },
   "outputs": [],
   "source": [
    "from skmob.measures.individual import individual_mobility_network"
   ]
  },
  {
   "cell_type": "code",
   "execution_count": null,
   "metadata": {
    "hidden": true
   },
   "outputs": [],
   "source": [
    "imn_df = individual_mobility_network(tdf)\n",
    "imn_df.head()"
   ]
  },
  {
   "cell_type": "code",
   "execution_count": null,
   "metadata": {
    "hidden": true
   },
   "outputs": [],
   "source": [
    "an_imn = imn_df[imn_df.uid == 2]\n",
    "an_imn.head()"
   ]
  },
  {
   "cell_type": "markdown",
   "metadata": {},
   "source": [
    "# Collective measures"
   ]
  },
  {
   "cell_type": "markdown",
   "metadata": {},
   "source": [
    "## Homes per location"
   ]
  },
  {
   "cell_type": "code",
   "execution_count": 7,
   "metadata": {},
   "outputs": [],
   "source": [
    "from skmob.measures.collective import homes_per_location"
   ]
  },
  {
   "cell_type": "code",
   "execution_count": 8,
   "metadata": {},
   "outputs": [
    {
     "name": "stderr",
     "output_type": "stream",
     "text": [
      "100%|██████████| 929/929 [00:03<00:00, 265.61it/s]\n"
     ]
    },
    {
     "data": {
      "text/html": [
       "<div>\n",
       "<style scoped>\n",
       "    .dataframe tbody tr th:only-of-type {\n",
       "        vertical-align: middle;\n",
       "    }\n",
       "\n",
       "    .dataframe tbody tr th {\n",
       "        vertical-align: top;\n",
       "    }\n",
       "\n",
       "    .dataframe thead th {\n",
       "        text-align: right;\n",
       "    }\n",
       "</style>\n",
       "<table border=\"1\" class=\"dataframe\">\n",
       "  <thead>\n",
       "    <tr style=\"text-align: right;\">\n",
       "      <th></th>\n",
       "      <th>lat</th>\n",
       "      <th>lng</th>\n",
       "      <th>n_homes</th>\n",
       "    </tr>\n",
       "  </thead>\n",
       "  <tbody>\n",
       "    <tr>\n",
       "      <th>0</th>\n",
       "      <td>39.739154</td>\n",
       "      <td>-104.984703</td>\n",
       "      <td>51</td>\n",
       "    </tr>\n",
       "    <tr>\n",
       "      <th>1</th>\n",
       "      <td>37.774929</td>\n",
       "      <td>-122.419415</td>\n",
       "      <td>30</td>\n",
       "    </tr>\n",
       "    <tr>\n",
       "      <th>2</th>\n",
       "      <td>0.000000</td>\n",
       "      <td>0.000000</td>\n",
       "      <td>23</td>\n",
       "    </tr>\n",
       "    <tr>\n",
       "      <th>3</th>\n",
       "      <td>37.580304</td>\n",
       "      <td>-122.343679</td>\n",
       "      <td>9</td>\n",
       "    </tr>\n",
       "    <tr>\n",
       "      <th>4</th>\n",
       "      <td>37.584103</td>\n",
       "      <td>-122.366083</td>\n",
       "      <td>9</td>\n",
       "    </tr>\n",
       "  </tbody>\n",
       "</table>\n",
       "</div>"
      ],
      "text/plain": [
       "         lat         lng  n_homes\n",
       "0  39.739154 -104.984703       51\n",
       "1  37.774929 -122.419415       30\n",
       "2   0.000000    0.000000       23\n",
       "3  37.580304 -122.343679        9\n",
       "4  37.584103 -122.366083        9"
      ]
     },
     "execution_count": 8,
     "metadata": {},
     "output_type": "execute_result"
    }
   ],
   "source": [
    "hl_df = homes_per_location(tdf)\n",
    "hl_df.head()"
   ]
  },
  {
   "cell_type": "code",
   "execution_count": 9,
   "metadata": {
    "scrolled": true
   },
   "outputs": [
    {
     "data": {
      "text/html": [
       "<div style=\"width:100%;\"><div style=\"position:relative;width:100%;height:0;padding-bottom:60%;\"><iframe src=\"data:text/html;charset=utf-8;base64,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\" style=\"position:absolute;width:100%;height:100%;left:0;top:0;border:none !important;\" allowfullscreen webkitallowfullscreen mozallowfullscreen></iframe></div></div>"
      ],
      "text/plain": [
       "<folium.folium.Map at 0x7f3fa26060b8>"
      ]
     },
     "execution_count": 9,
     "metadata": {},
     "output_type": "execute_result"
    }
   ],
   "source": [
    "import folium\n",
    "from folium.plugins import HeatMap\n",
    "\n",
    "# Create a Map instance\n",
    "m = folium.Map(tiles = 'openstreetmap', zoom_start=10, control_scale=True)\n",
    "\n",
    "# Add heatmap to map instance\n",
    "# Available parameters: HeatMap(data, name=None, min_opacity=0.5, max_zoom=18, max_val=1.0, radius=25, blur=15, gradient=None, overlay=True, control=True, show=True)\n",
    "HeatMap(hl_df[['lat', 'lng']].values).add_to(m)\n",
    "\n",
    "# Show map\n",
    "m"
   ]
  },
  {
   "cell_type": "markdown",
   "metadata": {},
   "source": [
    "## Uncorrelated location entropy"
   ]
  },
  {
   "cell_type": "code",
   "execution_count": 10,
   "metadata": {},
   "outputs": [],
   "source": [
    "from skmob.measures.collective import uncorrelated_location_entropy"
   ]
  },
  {
   "cell_type": "code",
   "execution_count": 11,
   "metadata": {},
   "outputs": [
    {
     "name": "stderr",
     "output_type": "stream",
     "text": [
      "100%|██████████| 65147/65147 [00:34<00:00, 1875.28it/s]\n"
     ]
    },
    {
     "data": {
      "text/html": [
       "<div>\n",
       "<style scoped>\n",
       "    .dataframe tbody tr th:only-of-type {\n",
       "        vertical-align: middle;\n",
       "    }\n",
       "\n",
       "    .dataframe tbody tr th {\n",
       "        vertical-align: top;\n",
       "    }\n",
       "\n",
       "    .dataframe thead th {\n",
       "        text-align: right;\n",
       "    }\n",
       "</style>\n",
       "<table border=\"1\" class=\"dataframe\">\n",
       "  <thead>\n",
       "    <tr style=\"text-align: right;\">\n",
       "      <th></th>\n",
       "      <th>lat</th>\n",
       "      <th>lng</th>\n",
       "      <th>uncorrelated_location_entropy</th>\n",
       "    </tr>\n",
       "  </thead>\n",
       "  <tbody>\n",
       "    <tr>\n",
       "      <th>0</th>\n",
       "      <td>-94.578567</td>\n",
       "      <td>39.099727</td>\n",
       "      <td>0.0</td>\n",
       "    </tr>\n",
       "    <tr>\n",
       "      <th>1</th>\n",
       "      <td>-90.000000</td>\n",
       "      <td>0.000000</td>\n",
       "      <td>0.0</td>\n",
       "    </tr>\n",
       "    <tr>\n",
       "      <th>2</th>\n",
       "      <td>-75.250973</td>\n",
       "      <td>-0.071389</td>\n",
       "      <td>0.0</td>\n",
       "    </tr>\n",
       "    <tr>\n",
       "      <th>3</th>\n",
       "      <td>-70.683333</td>\n",
       "      <td>-44.316667</td>\n",
       "      <td>0.0</td>\n",
       "    </tr>\n",
       "    <tr>\n",
       "      <th>4</th>\n",
       "      <td>-45.032284</td>\n",
       "      <td>168.660278</td>\n",
       "      <td>0.0</td>\n",
       "    </tr>\n",
       "  </tbody>\n",
       "</table>\n",
       "</div>"
      ],
      "text/plain": [
       "         lat         lng  uncorrelated_location_entropy\n",
       "0 -94.578567   39.099727                            0.0\n",
       "1 -90.000000    0.000000                            0.0\n",
       "2 -75.250973   -0.071389                            0.0\n",
       "3 -70.683333  -44.316667                            0.0\n",
       "4 -45.032284  168.660278                            0.0"
      ]
     },
     "execution_count": 11,
     "metadata": {},
     "output_type": "execute_result"
    }
   ],
   "source": [
    "ule_df = uncorrelated_location_entropy(tdf)\n",
    "ule_df.head()"
   ]
  },
  {
   "cell_type": "code",
   "execution_count": 12,
   "metadata": {},
   "outputs": [
    {
     "name": "stderr",
     "output_type": "stream",
     "text": [
      "100%|██████████| 65147/65147 [00:39<00:00, 1650.33it/s]\n"
     ]
    },
    {
     "data": {
      "text/html": [
       "<div>\n",
       "<style scoped>\n",
       "    .dataframe tbody tr th:only-of-type {\n",
       "        vertical-align: middle;\n",
       "    }\n",
       "\n",
       "    .dataframe tbody tr th {\n",
       "        vertical-align: top;\n",
       "    }\n",
       "\n",
       "    .dataframe thead th {\n",
       "        text-align: right;\n",
       "    }\n",
       "</style>\n",
       "<table border=\"1\" class=\"dataframe\">\n",
       "  <thead>\n",
       "    <tr style=\"text-align: right;\">\n",
       "      <th></th>\n",
       "      <th>lat</th>\n",
       "      <th>lng</th>\n",
       "      <th>norm_uncorrelated_location_entropy</th>\n",
       "    </tr>\n",
       "  </thead>\n",
       "  <tbody>\n",
       "    <tr>\n",
       "      <th>0</th>\n",
       "      <td>-94.578567</td>\n",
       "      <td>39.099727</td>\n",
       "      <td>0.0</td>\n",
       "    </tr>\n",
       "    <tr>\n",
       "      <th>1</th>\n",
       "      <td>-90.000000</td>\n",
       "      <td>0.000000</td>\n",
       "      <td>0.0</td>\n",
       "    </tr>\n",
       "    <tr>\n",
       "      <th>2</th>\n",
       "      <td>-75.250973</td>\n",
       "      <td>-0.071389</td>\n",
       "      <td>0.0</td>\n",
       "    </tr>\n",
       "    <tr>\n",
       "      <th>3</th>\n",
       "      <td>-70.683333</td>\n",
       "      <td>-44.316667</td>\n",
       "      <td>0.0</td>\n",
       "    </tr>\n",
       "    <tr>\n",
       "      <th>4</th>\n",
       "      <td>-45.032284</td>\n",
       "      <td>168.660278</td>\n",
       "      <td>0.0</td>\n",
       "    </tr>\n",
       "  </tbody>\n",
       "</table>\n",
       "</div>"
      ],
      "text/plain": [
       "         lat         lng  norm_uncorrelated_location_entropy\n",
       "0 -94.578567   39.099727                                 0.0\n",
       "1 -90.000000    0.000000                                 0.0\n",
       "2 -75.250973   -0.071389                                 0.0\n",
       "3 -70.683333  -44.316667                                 0.0\n",
       "4 -45.032284  168.660278                                 0.0"
      ]
     },
     "execution_count": 12,
     "metadata": {},
     "output_type": "execute_result"
    }
   ],
   "source": [
    "nule_df = uncorrelated_location_entropy(tdf, normalize=True)\n",
    "nule_df.head()"
   ]
  },
  {
   "cell_type": "code",
   "execution_count": 13,
   "metadata": {},
   "outputs": [
    {
     "data": {
      "image/png": "[encoded data removed]",
      "text/plain": [
       "<Figure size 432x288 with 2 Axes>"
      ]
     },
     "metadata": {
      "needs_background": "light"
     },
     "output_type": "display_data"
    }
   ],
   "source": [
    "fig, (ax1, ax2) = plt.subplots(1, 2, sharey=True)\n",
    "\n",
    "ax1.hist(ule_df.uncorrelated_location_entropy)\n",
    "ax1.set_xlabel('unc loc entropy', fontsize=15)\n",
    "\n",
    "ax2.hist(nule_df.norm_uncorrelated_location_entropy)\n",
    "ax2.set_xlabel('norm unc loc entropy', fontsize=15)\n",
    "\n",
    "plt.show()"
   ]
  },
  {
   "cell_type": "markdown",
   "metadata": {},
   "source": [
    "## Visits per location"
   ]
  },
  {
   "cell_type": "code",
   "execution_count": 14,
   "metadata": {},
   "outputs": [],
   "source": [
    "from skmob.measures.collective import visits_per_location"
   ]
  },
  {
   "cell_type": "code",
   "execution_count": 15,
   "metadata": {},
   "outputs": [
    {
     "data": {
      "text/html": [
       "<div>\n",
       "<style scoped>\n",
       "    .dataframe tbody tr th:only-of-type {\n",
       "        vertical-align: middle;\n",
       "    }\n",
       "\n",
       "    .dataframe tbody tr th {\n",
       "        vertical-align: top;\n",
       "    }\n",
       "\n",
       "    .dataframe thead th {\n",
       "        text-align: right;\n",
       "    }\n",
       "</style>\n",
       "<table border=\"1\" class=\"dataframe\">\n",
       "  <thead>\n",
       "    <tr style=\"text-align: right;\">\n",
       "      <th></th>\n",
       "      <th>lat</th>\n",
       "      <th>lng</th>\n",
       "      <th>n_visits</th>\n",
       "    </tr>\n",
       "  </thead>\n",
       "  <tbody>\n",
       "    <tr>\n",
       "      <th>0</th>\n",
       "      <td>0.000000</td>\n",
       "      <td>0.000000</td>\n",
       "      <td>9325</td>\n",
       "    </tr>\n",
       "    <tr>\n",
       "      <th>1</th>\n",
       "      <td>39.739154</td>\n",
       "      <td>-104.984703</td>\n",
       "      <td>7386</td>\n",
       "    </tr>\n",
       "    <tr>\n",
       "      <th>2</th>\n",
       "      <td>40.014986</td>\n",
       "      <td>-105.270546</td>\n",
       "      <td>3106</td>\n",
       "    </tr>\n",
       "    <tr>\n",
       "      <th>3</th>\n",
       "      <td>37.774929</td>\n",
       "      <td>-122.419415</td>\n",
       "      <td>2846</td>\n",
       "    </tr>\n",
       "    <tr>\n",
       "      <th>4</th>\n",
       "      <td>40.714269</td>\n",
       "      <td>-74.005973</td>\n",
       "      <td>2825</td>\n",
       "    </tr>\n",
       "  </tbody>\n",
       "</table>\n",
       "</div>"
      ],
      "text/plain": [
       "         lat         lng  n_visits\n",
       "0   0.000000    0.000000      9325\n",
       "1  39.739154 -104.984703      7386\n",
       "2  40.014986 -105.270546      3106\n",
       "3  37.774929 -122.419415      2846\n",
       "4  40.714269  -74.005973      2825"
      ]
     },
     "execution_count": 15,
     "metadata": {},
     "output_type": "execute_result"
    }
   ],
   "source": [
    "vpl_df = visits_per_location(tdf)\n",
    "vpl_df.head()"
   ]
  },
  {
   "cell_type": "code",
   "execution_count": 16,
   "metadata": {},
   "outputs": [
    {
     "data": {
      "image/png": "[encoded data removed]",
      "text/plain": [
       "<Figure size 432x432 with 1 Axes>"
      ]
     },
     "metadata": {
      "needs_background": "light"
     },
     "output_type": "display_data"
    }
   ],
   "source": [
    "fig = plt.figure(figsize=(6, 6))\n",
    "x, y = zip(*lbpdf(1.5, list(vpl_df.n_visits)))\n",
    "plt.plot(x, y, marker='o')\n",
    "plt.xlabel('visits per location', fontsize=15)\n",
    "plt.loglog()\n",
    "plt.show()"
   ]
  },
  {
   "cell_type": "markdown",
   "metadata": {},
   "source": [
    "## Visits per time unit"
   ]
  },
  {
   "cell_type": "code",
   "execution_count": 17,
   "metadata": {},
   "outputs": [],
   "source": [
    "from skmob.measures.collective import visits_per_time_unit"
   ]
  },
  {
   "cell_type": "code",
   "execution_count": 18,
   "metadata": {},
   "outputs": [
    {
     "data": {
      "text/html": [
       "<div>\n",
       "<style scoped>\n",
       "    .dataframe tbody tr th:only-of-type {\n",
       "        vertical-align: middle;\n",
       "    }\n",
       "\n",
       "    .dataframe tbody tr th {\n",
       "        vertical-align: top;\n",
       "    }\n",
       "\n",
       "    .dataframe thead th {\n",
       "        text-align: right;\n",
       "    }\n",
       "</style>\n",
       "<table border=\"1\" class=\"dataframe\">\n",
       "  <thead>\n",
       "    <tr style=\"text-align: right;\">\n",
       "      <th></th>\n",
       "      <th>n_visits</th>\n",
       "    </tr>\n",
       "    <tr>\n",
       "      <th>datetime</th>\n",
       "      <th></th>\n",
       "    </tr>\n",
       "  </thead>\n",
       "  <tbody>\n",
       "    <tr>\n",
       "      <th>2008-03-22 05:00:00</th>\n",
       "      <td>2</td>\n",
       "    </tr>\n",
       "    <tr>\n",
       "      <th>2008-03-22 06:00:00</th>\n",
       "      <td>2</td>\n",
       "    </tr>\n",
       "    <tr>\n",
       "      <th>2008-03-22 07:00:00</th>\n",
       "      <td>0</td>\n",
       "    </tr>\n",
       "    <tr>\n",
       "      <th>2008-03-22 08:00:00</th>\n",
       "      <td>0</td>\n",
       "    </tr>\n",
       "    <tr>\n",
       "      <th>2008-03-22 09:00:00</th>\n",
       "      <td>0</td>\n",
       "    </tr>\n",
       "  </tbody>\n",
       "</table>\n",
       "</div>"
      ],
      "text/plain": [
       "                     n_visits\n",
       "datetime                     \n",
       "2008-03-22 05:00:00         2\n",
       "2008-03-22 06:00:00         2\n",
       "2008-03-22 07:00:00         0\n",
       "2008-03-22 08:00:00         0\n",
       "2008-03-22 09:00:00         0"
      ]
     },
     "execution_count": 18,
     "metadata": {},
     "output_type": "execute_result"
    }
   ],
   "source": [
    "vtu_df = visits_per_time_unit(tdf)\n",
    "vtu_df.head()"
   ]
  },
  {
   "cell_type": "code",
   "execution_count": 19,
   "metadata": {},
   "outputs": [
    {
     "data": {
      "text/plain": [
       "<matplotlib.axes._subplots.AxesSubplot at 0x7f3f94501048>"
      ]
     },
     "execution_count": 19,
     "metadata": {},
     "output_type": "execute_result"
    },
    {
     "data": {
      "image/png": "[encoded data removed]",
      "text/plain": [
       "<Figure size 432x288 with 1 Axes>"
      ]
     },
     "metadata": {
      "needs_background": "light"
     },
     "output_type": "display_data"
    }
   ],
   "source": [
    "vtu_df.plot()"
   ]
  },
  {
   "cell_type": "markdown",
   "metadata": {},
   "source": [
    "## Mean square displacement"
   ]
  },
  {
   "cell_type": "code",
   "execution_count": 20,
   "metadata": {},
   "outputs": [],
   "source": [
    "from skmob.measures.collective import mean_square_displacement"
   ]
  },
  {
   "cell_type": "code",
   "execution_count": 21,
   "metadata": {},
   "outputs": [
    {
     "name": "stderr",
     "output_type": "stream",
     "text": [
      "100%|██████████| 929/929 [00:01<00:00, 590.94it/s]\n"
     ]
    },
    {
     "data": {
      "text/plain": [
       "9222603.811019702"
      ]
     },
     "execution_count": 21,
     "metadata": {},
     "output_type": "execute_result"
    }
   ],
   "source": [
    "mean_square_displacement(tdf)"
   ]
  },
  {
   "cell_type": "markdown",
   "metadata": {},
   "source": [
    "## Origin destination matrix"
   ]
  },
  {
   "cell_type": "code",
   "execution_count": 22,
   "metadata": {},
   "outputs": [],
   "source": [
    "from skmob.measures.collective import origin_destination_matrix"
   ]
  },
  {
   "cell_type": "code",
   "execution_count": 23,
   "metadata": {},
   "outputs": [
    {
     "name": "stderr",
     "output_type": "stream",
     "text": [
      "100%|██████████| 929/929 [00:01<00:00, 519.30it/s]\n"
     ]
    },
    {
     "data": {
      "text/html": [
       "<div>\n",
       "<style scoped>\n",
       "    .dataframe tbody tr th:only-of-type {\n",
       "        vertical-align: middle;\n",
       "    }\n",
       "\n",
       "    .dataframe tbody tr th {\n",
       "        vertical-align: top;\n",
       "    }\n",
       "\n",
       "    .dataframe thead th {\n",
       "        text-align: right;\n",
       "    }\n",
       "</style>\n",
       "<table border=\"1\" class=\"dataframe\">\n",
       "  <thead>\n",
       "    <tr style=\"text-align: right;\">\n",
       "      <th></th>\n",
       "      <th>lat_origin</th>\n",
       "      <th>lng_origin</th>\n",
       "      <th>lat_dest</th>\n",
       "      <th>lng_dest</th>\n",
       "      <th>n_trips</th>\n",
       "    </tr>\n",
       "  </thead>\n",
       "  <tbody>\n",
       "    <tr>\n",
       "      <th>0</th>\n",
       "      <td>38.952245</td>\n",
       "      <td>-92.032250</td>\n",
       "      <td>39.099727</td>\n",
       "      <td>-94.578567</td>\n",
       "      <td>1</td>\n",
       "    </tr>\n",
       "    <tr>\n",
       "      <th>1</th>\n",
       "      <td>34.689041</td>\n",
       "      <td>135.503647</td>\n",
       "      <td>34.780885</td>\n",
       "      <td>135.496116</td>\n",
       "      <td>1</td>\n",
       "    </tr>\n",
       "    <tr>\n",
       "      <th>2</th>\n",
       "      <td>40.689805</td>\n",
       "      <td>-73.972200</td>\n",
       "      <td>40.777742</td>\n",
       "      <td>-73.873209</td>\n",
       "      <td>1</td>\n",
       "    </tr>\n",
       "    <tr>\n",
       "      <th>3</th>\n",
       "      <td>38.951508</td>\n",
       "      <td>-92.326264</td>\n",
       "      <td>38.949307</td>\n",
       "      <td>-92.328657</td>\n",
       "      <td>1</td>\n",
       "    </tr>\n",
       "    <tr>\n",
       "      <th>4</th>\n",
       "      <td>38.951508</td>\n",
       "      <td>-92.326264</td>\n",
       "      <td>38.944883</td>\n",
       "      <td>-92.330078</td>\n",
       "      <td>1</td>\n",
       "    </tr>\n",
       "  </tbody>\n",
       "</table>\n",
       "</div>"
      ],
      "text/plain": [
       "   lat_origin  lng_origin   lat_dest    lng_dest  n_trips\n",
       "0   38.952245  -92.032250  39.099727  -94.578567        1\n",
       "1   34.689041  135.503647  34.780885  135.496116        1\n",
       "2   40.689805  -73.972200  40.777742  -73.873209        1\n",
       "3   38.951508  -92.326264  38.949307  -92.328657        1\n",
       "4   38.951508  -92.326264  38.944883  -92.330078        1"
      ]
     },
     "execution_count": 23,
     "metadata": {},
     "output_type": "execute_result"
    }
   ],
   "source": [
    "od_df = origin_destination_matrix(tdf)\n",
    "od_df.head()"
   ]
  },
  {
   "cell_type": "code",
   "execution_count": 24,
   "metadata": {},
   "outputs": [
    {
     "data": {
      "text/html": [
       "<div>\n",
       "<style scoped>\n",
       "    .dataframe tbody tr th:only-of-type {\n",
       "        vertical-align: middle;\n",
       "    }\n",
       "\n",
       "    .dataframe tbody tr th {\n",
       "        vertical-align: top;\n",
       "    }\n",
       "\n",
       "    .dataframe thead th {\n",
       "        text-align: right;\n",
       "    }\n",
       "</style>\n",
       "<table border=\"1\" class=\"dataframe\">\n",
       "  <thead>\n",
       "    <tr style=\"text-align: right;\">\n",
       "      <th></th>\n",
       "      <th>uid</th>\n",
       "      <th>lat</th>\n",
       "      <th>lng</th>\n",
       "      <th>datetime</th>\n",
       "      <th>location</th>\n",
       "    </tr>\n",
       "  </thead>\n",
       "  <tbody>\n",
       "    <tr>\n",
       "      <th>0</th>\n",
       "      <td>1</td>\n",
       "      <td>39.978253</td>\n",
       "      <td>116.327275</td>\n",
       "      <td>2008-10-23 00:00:00</td>\n",
       "      <td>0</td>\n",
       "    </tr>\n",
       "    <tr>\n",
       "      <th>1</th>\n",
       "      <td>1</td>\n",
       "      <td>40.013819</td>\n",
       "      <td>116.306532</td>\n",
       "      <td>2008-10-23 08:00:00</td>\n",
       "      <td>1</td>\n",
       "    </tr>\n",
       "    <tr>\n",
       "      <th>2</th>\n",
       "      <td>1</td>\n",
       "      <td>39.878987</td>\n",
       "      <td>116.126687</td>\n",
       "      <td>2008-10-23 12:00:00</td>\n",
       "      <td>2</td>\n",
       "    </tr>\n",
       "    <tr>\n",
       "      <th>3</th>\n",
       "      <td>1</td>\n",
       "      <td>40.013819</td>\n",
       "      <td>116.306532</td>\n",
       "      <td>2008-10-23 14:00:00</td>\n",
       "      <td>1</td>\n",
       "    </tr>\n",
       "    <tr>\n",
       "      <th>4</th>\n",
       "      <td>1</td>\n",
       "      <td>39.878987</td>\n",
       "      <td>116.126687</td>\n",
       "      <td>2008-10-23 18:00:00</td>\n",
       "      <td>2</td>\n",
       "    </tr>\n",
       "    <tr>\n",
       "      <th>5</th>\n",
       "      <td>1</td>\n",
       "      <td>40.231382</td>\n",
       "      <td>116.306532</td>\n",
       "      <td>2008-10-23 19:00:00</td>\n",
       "      <td>3</td>\n",
       "    </tr>\n",
       "    <tr>\n",
       "      <th>6</th>\n",
       "      <td>1</td>\n",
       "      <td>39.978253</td>\n",
       "      <td>116.327275</td>\n",
       "      <td>2008-10-24 00:00:00</td>\n",
       "      <td>0</td>\n",
       "    </tr>\n",
       "    <tr>\n",
       "      <th>7</th>\n",
       "      <td>1</td>\n",
       "      <td>39.978253</td>\n",
       "      <td>116.327275</td>\n",
       "      <td>2008-10-25 00:00:00</td>\n",
       "      <td>0</td>\n",
       "    </tr>\n",
       "    <tr>\n",
       "      <th>8</th>\n",
       "      <td>1</td>\n",
       "      <td>39.978253</td>\n",
       "      <td>116.327275</td>\n",
       "      <td>2008-10-25 00:00:00</td>\n",
       "      <td>0</td>\n",
       "    </tr>\n",
       "  </tbody>\n",
       "</table>\n",
       "</div>"
      ],
      "text/plain": [
       "   uid        lat         lng            datetime  location\n",
       "0    1  39.978253  116.327275 2008-10-23 00:00:00         0\n",
       "1    1  40.013819  116.306532 2008-10-23 08:00:00         1\n",
       "2    1  39.878987  116.126687 2008-10-23 12:00:00         2\n",
       "3    1  40.013819  116.306532 2008-10-23 14:00:00         1\n",
       "4    1  39.878987  116.126687 2008-10-23 18:00:00         2\n",
       "5    1  40.231382  116.306532 2008-10-23 19:00:00         3\n",
       "6    1  39.978253  116.327275 2008-10-24 00:00:00         0\n",
       "7    1  39.978253  116.327275 2008-10-25 00:00:00         0\n",
       "8    1  39.978253  116.327275 2008-10-25 00:00:00         0"
      ]
     },
     "execution_count": 24,
     "metadata": {},
     "output_type": "execute_result"
    }
   ],
   "source": [
    "data_set = [[1, 39.978253, 116.3272755, '2008-10-23 00:00:00', 0],\n",
    "[1,40.013819, 116.306532,'2008-10-23 08:00:00', 1],\n",
    "[1,39.878987, 116.1266865,'2008-10-23 12:00:00', 2],\n",
    "[1,40.013819, 116.306532,'2008-10-23 14:00:00', 1],\n",
    "[1,39.878987, 116.1266865,'2008-10-23 18:00:00', 2],\n",
    "[1,40.2313819, 116.306532,'2008-10-23 19:00:00', 3],\n",
    "[1, 39.978253, 116.3272755, '2008-10-24 00:00:00', 0], \n",
    "[1, 39.978253, 116.3272755, '2008-10-25 00:00:00', 0],\n",
    "           [1, 39.978253, 116.3272755, '2008-10-25 00:00:00', 0]]\n",
    "\n",
    "tdf = TrajDataFrame(data_set, latitude=1, longitude=2, datetime=3, user_id=0)\n",
    "tdf.rename(columns={4: \"location\"}, inplace=True)\n",
    "\n",
    "tdf"
   ]
  },
  {
   "cell_type": "code",
   "execution_count": null,
   "metadata": {},
   "outputs": [],
   "source": []
  }
 ],
 "metadata": {
  "anaconda-cloud": {},
  "hide_input": false,
  "kernelspec": {
   "display_name": "Python 3",
   "language": "python",
   "name": "python3"
  },
  "language_info": {
   "codemirror_mode": {
    "name": "ipython",
    "version": 3
   },
   "file_extension": ".py",
   "mimetype": "text/x-python",
   "name": "python",
   "nbconvert_exporter": "python",
   "pygments_lexer": "ipython3",
   "version": "3.5.2"
  },
  "latex_envs": {
   "LaTeX_envs_menu_present": true,
   "autoclose": false,
   "autocomplete": true,
   "bibliofile": "biblio.bib",
   "cite_by": "apalike",
   "current_citInitial": 1.0,
   "eqLabelWithNumbers": true,
   "eqNumInitial": 1.0,
   "hotkeys": {
    "equation": "Ctrl-E",
    "itemize": "Ctrl-I"
   },
   "labels_anchors": false,
   "latex_user_defs": false,
   "report_style_numbering": true,
   "user_envs_cfg": false
  }
 },
 "nbformat": 4,
 "nbformat_minor": 1
}
