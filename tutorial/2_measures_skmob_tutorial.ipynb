{
 "cells": [
  {
   "cell_type": "markdown",
   "metadata": {
    "slideshow": {
     "slide_type": "slide"
    }
   },
   "source": [
    "# 2 - Human Mobility Measures\n",
    "\n",
    "we can compute on a `TrajDataFrame` two types of measures:\n",
    "\n",
    "- **individual measures**, describing features related to the mobility patterns of a single individual\n",
    "- **collective measures**, describing the mobility patterns of an entire population of individuals"
   ]
  },
  {
   "cell_type": "code",
   "execution_count": 1,
   "metadata": {
    "slideshow": {
     "slide_type": "slide"
    }
   },
   "outputs": [],
   "source": [
    "# let's import useful libraries\n",
    "\n",
    "%matplotlib inline\n",
    "import matplotlib.pyplot as plt\n",
    "import pandas as pd\n",
    "from stats_utils import *\n",
    "from tqdm import tqdm"
   ]
  },
  {
   "cell_type": "code",
   "execution_count": 2,
   "metadata": {
    "slideshow": {
     "slide_type": "subslide"
    }
   },
   "outputs": [],
   "source": [
    "# let's import the TrajDataFrame\n",
    "import skmob\n",
    "from skmob import TrajDataFrame"
   ]
  },
  {
   "cell_type": "markdown",
   "metadata": {
    "slideshow": {
     "slide_type": "slide"
    }
   },
   "source": [
    "## Loading the data\n",
    "- We load data of *checkins* made by users on **Brightkite**\n",
    "- Brightkite is a location-based social network (LBSN)\n",
    "- The dataset is freely available at the SNAP website: https://snap.stanford.edu/data/loc-brightkite.html"
   ]
  },
  {
   "cell_type": "code",
   "execution_count": 3,
   "metadata": {
    "slideshow": {
     "slide_type": "subslide"
    }
   },
   "outputs": [
    {
     "data": {
      "text/html": [
       "<div>\n",
       "<style scoped>\n",
       "    .dataframe tbody tr th:only-of-type {\n",
       "        vertical-align: middle;\n",
       "    }\n",
       "\n",
       "    .dataframe tbody tr th {\n",
       "        vertical-align: top;\n",
       "    }\n",
       "\n",
       "    .dataframe thead th {\n",
       "        text-align: right;\n",
       "    }\n",
       "</style>\n",
       "<table border=\"1\" class=\"dataframe\">\n",
       "  <thead>\n",
       "    <tr style=\"text-align: right;\">\n",
       "      <th></th>\n",
       "      <th>uid</th>\n",
       "      <th>datetime</th>\n",
       "      <th>lat</th>\n",
       "      <th>lng</th>\n",
       "      <th>location id</th>\n",
       "    </tr>\n",
       "  </thead>\n",
       "  <tbody>\n",
       "    <tr>\n",
       "      <th>0</th>\n",
       "      <td>0</td>\n",
       "      <td>2010-10-16 06:02:04+00:00</td>\n",
       "      <td>39.891383</td>\n",
       "      <td>-105.070814</td>\n",
       "      <td>7a0f88982aa015062b95e3b4843f9ca2</td>\n",
       "    </tr>\n",
       "    <tr>\n",
       "      <th>1</th>\n",
       "      <td>0</td>\n",
       "      <td>2010-10-16 03:48:54+00:00</td>\n",
       "      <td>39.891077</td>\n",
       "      <td>-105.068532</td>\n",
       "      <td>dd7cd3d264c2d063832db506fba8bf79</td>\n",
       "    </tr>\n",
       "    <tr>\n",
       "      <th>2</th>\n",
       "      <td>0</td>\n",
       "      <td>2010-10-14 18:25:51+00:00</td>\n",
       "      <td>39.750469</td>\n",
       "      <td>-104.999073</td>\n",
       "      <td>9848afcc62e500a01cf6fbf24b797732f8963683</td>\n",
       "    </tr>\n",
       "    <tr>\n",
       "      <th>3</th>\n",
       "      <td>0</td>\n",
       "      <td>2010-10-14 00:21:47+00:00</td>\n",
       "      <td>39.752713</td>\n",
       "      <td>-104.996337</td>\n",
       "      <td>2ef143e12038c870038df53e0478cefc</td>\n",
       "    </tr>\n",
       "    <tr>\n",
       "      <th>4</th>\n",
       "      <td>0</td>\n",
       "      <td>2010-10-13 23:31:51+00:00</td>\n",
       "      <td>39.752508</td>\n",
       "      <td>-104.996637</td>\n",
       "      <td>424eb3dd143292f9e013efa00486c907</td>\n",
       "    </tr>\n",
       "  </tbody>\n",
       "</table>\n",
       "</div>"
      ],
      "text/plain": [
       "   uid                  datetime        lat         lng  \\\n",
       "0    0 2010-10-16 06:02:04+00:00  39.891383 -105.070814   \n",
       "1    0 2010-10-16 03:48:54+00:00  39.891077 -105.068532   \n",
       "2    0 2010-10-14 18:25:51+00:00  39.750469 -104.999073   \n",
       "3    0 2010-10-14 00:21:47+00:00  39.752713 -104.996337   \n",
       "4    0 2010-10-13 23:31:51+00:00  39.752508 -104.996637   \n",
       "\n",
       "                                location id  \n",
       "0          7a0f88982aa015062b95e3b4843f9ca2  \n",
       "1          dd7cd3d264c2d063832db506fba8bf79  \n",
       "2  9848afcc62e500a01cf6fbf24b797732f8963683  \n",
       "3          2ef143e12038c870038df53e0478cefc  \n",
       "4          424eb3dd143292f9e013efa00486c907  "
      ]
     },
     "execution_count": 3,
     "metadata": {},
     "output_type": "execute_result"
    }
   ],
   "source": [
    "# we download the dataset into a pandas DataFrame\n",
    "url = \"https://snap.stanford.edu/data/loc-brightkite_totalCheckins.txt.gz\"\n",
    "df = pd.read_csv(url, sep='\\t', header=0, nrows=100000, \n",
    "                 names=['user', 'check-in_time', \n",
    "                        \"latitude\", \"longitude\", \n",
    "                        \"location id\"])\n",
    "\n",
    "# We then convert the pandas DataFrame into an skmob TrajDataFrame\n",
    "tdf = skmob.TrajDataFrame(df, latitude='latitude', \n",
    "                          longitude='longitude', \n",
    "                          datetime='check-in_time',\n",
    "                          user_id='user')\n",
    "tdf.head()"
   ]
  },
  {
   "cell_type": "code",
   "execution_count": 4,
   "metadata": {
    "slideshow": {
     "slide_type": "subslide"
    }
   },
   "outputs": [
    {
     "name": "stdout",
     "output_type": "stream",
     "text": [
      "number of users:\t 162\n",
      "number of records:\t 100000\n"
     ]
    }
   ],
   "source": [
    "print(\"number of users:\\t\", len(tdf.uid.unique()))\n",
    "print(\"number of records:\\t\", len(tdf))"
   ]
  },
  {
   "cell_type": "markdown",
   "metadata": {
    "slideshow": {
     "slide_type": "slide"
    }
   },
   "source": [
    "# Individual measures\n",
    "\n",
    "- quantify aspects of mobility regarding a single moving individual\n",
    "- examples: length of displacements, charateristic distance, visitation frequency, etc."
   ]
  },
  {
   "cell_type": "markdown",
   "metadata": {
    "slideshow": {
     "slide_type": "slide"
    }
   },
   "source": [
    "## Jump lengths\n",
    "- It indicates the distance an individual travels between two locations. \n",
    "- The function ``jump_lengths`` computes, for each individual in the input `TrajDataFrame`, their jump lengths."
   ]
  },
  {
   "cell_type": "code",
   "execution_count": null,
   "metadata": {
    "slideshow": {
     "slide_type": "slide"
    }
   },
   "outputs": [],
   "source": [
    "from skmob.measures.individual import jump_lengths"
   ]
  },
  {
   "cell_type": "code",
   "execution_count": null,
   "metadata": {
    "scrolled": true,
    "slideshow": {
     "slide_type": "fragment"
    }
   },
   "outputs": [],
   "source": [
    "jl_df = jump_lengths(tdf)\n",
    "jl_df.head()"
   ]
  },
  {
   "cell_type": "code",
   "execution_count": null,
   "metadata": {
    "slideshow": {
     "slide_type": "fragment"
    }
   },
   "outputs": [],
   "source": [
    "jl_list = jump_lengths(tdf, merge=True)\n",
    "len(jl_list)"
   ]
  },
  {
   "cell_type": "code",
   "execution_count": null,
   "metadata": {
    "slideshow": {
     "slide_type": "slide"
    }
   },
   "outputs": [],
   "source": [
    "fig, (ax1, ax2) = plt.subplots(1, 2, sharey=True)\n",
    "x, y = zip(*lbpdf(1.5, jl_list[:10000]))\n",
    "ax1.plot(x, y, marker='o')\n",
    "ax1.set_xlabel('jump length [km]', fontsize=15)\n",
    "ax1.set_ylabel('P(jump length)', fontsize=15)\n",
    "ax1.loglog()\n",
    "x, y = zip(*lbpdf(1.5, [d for d in jl_list if d >= 1.0]))\n",
    "ax2.plot(x, y, marker='o')\n",
    "ax2.set_xlabel('jump length [km] > 0', fontsize=15)\n",
    "ax2.loglog()\n",
    "plt.show()"
   ]
  },
  {
   "cell_type": "markdown",
   "metadata": {
    "slideshow": {
     "slide_type": "slide"
    }
   },
   "source": [
    "### Computing distances\n",
    "We can compute several kinds of distances:\n",
    "- maximum distance\n",
    "- distance straight line\n",
    "- maximum distance from home"
   ]
  },
  {
   "cell_type": "code",
   "execution_count": null,
   "metadata": {
    "slideshow": {
     "slide_type": "slide"
    }
   },
   "outputs": [],
   "source": [
    "from skmob.measures.individual import max_distance_from_home, distance_straight_line, maximum_distance"
   ]
  },
  {
   "cell_type": "code",
   "execution_count": null,
   "metadata": {
    "slideshow": {
     "slide_type": "fragment"
    }
   },
   "outputs": [],
   "source": [
    "md_df = maximum_distance(tdf)"
   ]
  },
  {
   "cell_type": "code",
   "execution_count": null,
   "metadata": {
    "slideshow": {
     "slide_type": "fragment"
    }
   },
   "outputs": [],
   "source": [
    "sld_df = distance_straight_line(tdf)"
   ]
  },
  {
   "cell_type": "code",
   "execution_count": null,
   "metadata": {
    "slideshow": {
     "slide_type": "fragment"
    }
   },
   "outputs": [],
   "source": [
    "mdh_df = max_distance_from_home(tdf)"
   ]
  },
  {
   "cell_type": "code",
   "execution_count": null,
   "metadata": {
    "slideshow": {
     "slide_type": "slide"
    }
   },
   "outputs": [],
   "source": [
    "fig, (ax1, ax2, ax3) = plt.subplots(1, 3)\n",
    "ax1.hist(md_df.maximum_distance, bins=10, rwidth=0.8)\n",
    "ax1.set_xlabel('max', fontsize=15)\n",
    "x, y = zip(*lbpdf(2.0, list(sld_df.distance_straight_line)))\n",
    "ax2.plot(x, y, marker='o')\n",
    "ax2.loglog()\n",
    "ax2.set_xlabel('straight', fontsize=15)\n",
    "ax3.hist(mdh_df.max_distance_from_home, bins=10, rwidth=0.8)\n",
    "ax3.set_xlabel('from home', fontsize=15)\n",
    "ax2.set_title('Distances')\n",
    "plt.show()"
   ]
  },
  {
   "cell_type": "markdown",
   "metadata": {
    "slideshow": {
     "slide_type": "slide"
    }
   },
   "source": [
    "## Radius of gyration\n",
    "The characteristic distance traveled by an individual in a given time period is *radius of gyration*, $r_g$, and it is defined as the root mean square distance of a set of points from a given axis:\n",
    "\n",
    "$$r_g = \\sqrt{\\frac{1}{N} \\sum_{i=1}^N (\\mathbf{r}_i - \\mathbf{r}_{cm})^2}$$\n",
    "\n",
    "where $\\mathbf{r}_i$ are the coordinates of the $N$ individual points (or $N$ measurements of location) and $r_{cm}$ is the position vector of the *center of mass* of the set of points, \n",
    "$$ r_{cm} = \\sum_{i=1}^N \\frac{\\mathbf{r}_i}{N}$$"
   ]
  },
  {
   "cell_type": "code",
   "execution_count": null,
   "metadata": {},
   "outputs": [],
   "source": [
    "from skmob.measures.individual import radius_of_gyration"
   ]
  },
  {
   "cell_type": "code",
   "execution_count": null,
   "metadata": {},
   "outputs": [],
   "source": [
    "rg_df = radius_of_gyration(tdf).sort_values(by='radius_of_gyration')\n",
    "rg_df.head()"
   ]
  },
  {
   "cell_type": "code",
   "execution_count": null,
   "metadata": {},
   "outputs": [],
   "source": [
    "rgs = list(rg_df.radius_of_gyration)"
   ]
  },
  {
   "cell_type": "code",
   "execution_count": null,
   "metadata": {},
   "outputs": [],
   "source": [
    "fontsize = 15\n",
    "fig, (ax1, ax2) = plt.subplots(1, 2)\n",
    "\n",
    "x, y = zip(*lbpdf(1.5, rgs))\n",
    "ax1.plot(x, y, marker='o')\n",
    "ax1.set_xlabel('$r_g$ [km]', fontsize=20)\n",
    "ax1.set_ylabel('P($r_g$)', fontsize=20)\n",
    "ax1.loglog()\n",
    "ax1.text(0.15, 0.15, '$r_g \\geq 0$', transform=ax1.transAxes, fontsize=15)\n",
    "\n",
    "x, y = zip(*lbpdf(1.5, [rg for rg in rgs if rg >= 1.0]))\n",
    "ax2.plot(x, y, marker='o')\n",
    "ax2.set_xlabel('$r_g$ [km]', fontsize=20)\n",
    "ax2.set_ylabel('P($r_g$)', fontsize=20)\n",
    "ax2.loglog()\n",
    "ax2.text(0.15, 0.15, '$r_g \\geq 1$', transform=ax2.transAxes, fontsize=15)\n",
    "\n",
    "fig.subplots_adjust(wspace=0.5)\n",
    "\n",
    "plt.show()"
   ]
  },
  {
   "cell_type": "markdown",
   "metadata": {},
   "source": [
    "## $k$-radius of gyration\n",
    "The $k$-radius of gyration $r_g^{(k)}$ quantifies the influence of frequency of location visits on the characteristic distance traveled, defined as the radius of gyration computed over an individual’s k most frequently visited locations $L_1, \\dots, L_k$:\n",
    "$$ r_g^{(k)} = \\sqrt{\\frac{1}{N_k} \\sum_{i=1}^{k} n_i (\\mathbf{r}_i - \\mathbf{r}_{cm}^{(k)})} $$\n",
    "where $N_k$ is the sum of the visits to the $k$ most frequented locations, $\\mathbf{r}_{cm}^{(k)}$ is the center of mass computed on those locations and $n_i$ is the number of visits to the $i$-th most visited location."
   ]
  },
  {
   "cell_type": "code",
   "execution_count": null,
   "metadata": {},
   "outputs": [],
   "source": [
    "from skmob.measures.individual import k_radius_of_gyration"
   ]
  },
  {
   "cell_type": "code",
   "execution_count": null,
   "metadata": {},
   "outputs": [],
   "source": [
    "krg_df = k_radius_of_gyration(tdf, k=3)\n",
    "krg_df.head()"
   ]
  },
  {
   "cell_type": "code",
   "execution_count": null,
   "metadata": {},
   "outputs": [],
   "source": [
    "rg_krg_df = pd.merge(rg_df, krg_df, on='uid')\n",
    "rg_krg_df.head()"
   ]
  },
  {
   "cell_type": "code",
   "execution_count": null,
   "metadata": {},
   "outputs": [],
   "source": [
    "fontsize = 15\n",
    "fig = plt.figure(figsize=(6, 6))\n",
    "plt.scatter(rg_krg_df.radius_of_gyration, rg_krg_df['3k_radius_of_gyration'], alpha=0.2)\n",
    "plt.xlabel('radius of gyration [km]', fontsize=fontsize)\n",
    "plt.ylabel('k-radius of gyration [km]', fontsize=fontsize)\n",
    "plt.show()"
   ]
  },
  {
   "cell_type": "markdown",
   "metadata": {},
   "source": [
    "## Entropy\n",
    "The measures of entropy quantifies the degree of predictability of an individual's mobility."
   ]
  },
  {
   "cell_type": "code",
   "execution_count": null,
   "metadata": {},
   "outputs": [],
   "source": [
    "from skmob.measures.individual import random_entropy, uncorrelated_entropy, real_entropy, number_of_locations"
   ]
  },
  {
   "cell_type": "markdown",
   "metadata": {},
   "source": [
    "### Random entropy\n",
    "The random entropy $S_{rand}(u)$ (in base 2) of an individual $u$ captures the degree of predictability of $u$'s whereabouts if each location is visited with equal probability."
   ]
  },
  {
   "cell_type": "code",
   "execution_count": null,
   "metadata": {},
   "outputs": [],
   "source": [
    "e_df = random_entropy(tdf)\n",
    "e_df.head()"
   ]
  },
  {
   "cell_type": "code",
   "execution_count": null,
   "metadata": {},
   "outputs": [],
   "source": [
    "locs_df = number_of_locations(tdf)\n",
    "locs_df.head()"
   ]
  },
  {
   "cell_type": "code",
   "execution_count": null,
   "metadata": {},
   "outputs": [],
   "source": [
    "e_df = pd.merge(e_df, locs_df, on='uid')\n",
    "e_df.head()"
   ]
  },
  {
   "cell_type": "code",
   "execution_count": null,
   "metadata": {},
   "outputs": [],
   "source": [
    "fig, (ax1, ax2) = plt.subplots(1, 2, sharex=True, sharey=True)\n",
    "\n",
    "ax1.hist(e_df.random_entropy, bins=10, rwidth=0.8, density=True)\n",
    "ax1.set_xlabel('random entropy', fontsize=fontsize)\n",
    "ax1.set_ylabel('P(random entropy)', fontsize=fontsize)\n",
    "\n",
    "ax2.hist(e_df[e_df.number_of_locations > 1].random_entropy, bins=10, rwidth=0.8, density=True)\n",
    "ax2.set_xlabel('random entropy', fontsize=fontsize)\n",
    "\n",
    "plt.show()"
   ]
  },
  {
   "cell_type": "markdown",
   "metadata": {},
   "source": [
    "### Temporal-uncorrelated entropy\n",
    "The temporal-uncorrelated entropy $S_{unc}(u)$ (in base 2) of an individual $u$ is the historical probability that a location $j$ was visited by $u$ and characterizes the heterogeneity of $u$'s visitation patterns."
   ]
  },
  {
   "cell_type": "code",
   "execution_count": null,
   "metadata": {},
   "outputs": [],
   "source": [
    "ue_df = uncorrelated_entropy(tdf)\n",
    "nue_df = uncorrelated_entropy(tdf, normalize=True)\n",
    "ue_df.head()"
   ]
  },
  {
   "cell_type": "code",
   "execution_count": null,
   "metadata": {},
   "outputs": [],
   "source": [
    "ue_df = pd.merge(ue_df, locs_df, on='uid')\n",
    "nue_df = pd.merge(nue_df, locs_df, on='uid')\n",
    "nue_df.head()"
   ]
  },
  {
   "cell_type": "code",
   "execution_count": null,
   "metadata": {},
   "outputs": [],
   "source": [
    "fig, axes = plt.subplots(2, 2)\n",
    "\n",
    "axes[0][0].hist(ue_df.uncorrelated_entropy, bins=20, rwidth=0.8, density=True)\n",
    "axes[0][1].hist(nue_df.norm_uncorrelated_entropy, bins=20, rwidth=0.8, density=True)\n",
    "\n",
    "axes[1][0].hist(ue_df[ue_df.number_of_locations > 1].uncorrelated_entropy, bins=20, rwidth=0.8, density=True)\n",
    "axes[1][1].hist(nue_df[ue_df.number_of_locations > 1].norm_uncorrelated_entropy, bins=20, rwidth=0.8, density=True)\n",
    "\n",
    "axes[1][0].set_xlabel('unc entropy', fontsize=fontsize)\n",
    "axes[1][1].set_xlabel('norm unc entropy', fontsize=fontsize)\n",
    "\n",
    "plt.show()"
   ]
  },
  {
   "cell_type": "markdown",
   "metadata": {},
   "source": [
    "### Real entropy\n",
    "The real entropy $S$ of an individual $u$ depends not only on the frequency of visitation, but also the order in which the nodes were visited and the time spent at each location, thus capturing the full spatiotemporal order present in $u$'s mobility patterns."
   ]
  },
  {
   "cell_type": "code",
   "execution_count": null,
   "metadata": {},
   "outputs": [],
   "source": [
    "re_df = real_entropy(tdf[tdf.uid < 100])\n",
    "re_df.head()"
   ]
  },
  {
   "cell_type": "code",
   "execution_count": null,
   "metadata": {},
   "outputs": [],
   "source": [
    "plt.hist(re_df.real_entropy)\n",
    "plt.xlabel('real entropy', fontsize=fontsize)\n",
    "plt.show()"
   ]
  },
  {
   "cell_type": "markdown",
   "metadata": {},
   "source": [
    "### Number of locations and Number of visits"
   ]
  },
  {
   "cell_type": "code",
   "execution_count": null,
   "metadata": {},
   "outputs": [],
   "source": [
    "from skmob.measures.individual import number_of_visits"
   ]
  },
  {
   "cell_type": "code",
   "execution_count": null,
   "metadata": {},
   "outputs": [],
   "source": [
    "nv_df = number_of_visits(tdf)\n",
    "nv_df.head()"
   ]
  },
  {
   "cell_type": "code",
   "execution_count": null,
   "metadata": {},
   "outputs": [],
   "source": [
    "fig, (ax1, ax2) = plt.subplots(1, 2)\n",
    "\n",
    "ax1.hist(locs_df.number_of_locations, rwidth=0.8, bins=20)\n",
    "ax1.set_xlabel('number of locations', fontsize=fontsize)\n",
    "\n",
    "ax2.hist(nv_df.number_of_visits, rwidth=0.8, bins=20)\n",
    "ax2.set_xlabel('number of visits', fontsize=fontsize)\n",
    "\n",
    "plt.show()"
   ]
  },
  {
   "cell_type": "markdown",
   "metadata": {},
   "source": [
    "### Home location\n",
    "The home location of an individual is the location they visit most frequently during nighttime. "
   ]
  },
  {
   "cell_type": "code",
   "execution_count": null,
   "metadata": {},
   "outputs": [],
   "source": [
    "from skmob.measures.individual import home_location"
   ]
  },
  {
   "cell_type": "code",
   "execution_count": null,
   "metadata": {},
   "outputs": [],
   "source": [
    "hl_df = home_location(tdf)\n",
    "hl_df.head()"
   ]
  },
  {
   "cell_type": "code",
   "execution_count": null,
   "metadata": {},
   "outputs": [],
   "source": [
    "import folium\n",
    "from folium.plugins import HeatMap\n",
    "\n",
    "# Create a Map instance\n",
    "m = folium.Map(tiles = 'openstreetmap', zoom_start=10, control_scale=True)\n",
    "\n",
    "# Add heatmap to map instance\n",
    "# Available parameters: HeatMap(data, name=None, min_opacity=0.5, max_zoom=18, max_val=1.0, radius=25, blur=15, gradient=None, overlay=True, control=True, show=True)\n",
    "HeatMap(hl_df[['lat', 'lng']].values).add_to(m)\n",
    "\n",
    "# Show map\n",
    "m"
   ]
  },
  {
   "cell_type": "markdown",
   "metadata": {},
   "source": [
    "## Visitation frequency of locations\n",
    "One method of quantifying the importance of a location is the use of ranks; the most visited location (likely home or work) would have rank 1, a school or local shop may have rank 2 or 3, etc."
   ]
  },
  {
   "cell_type": "code",
   "execution_count": null,
   "metadata": {},
   "outputs": [],
   "source": [
    "from skmob.measures.individual import location_frequency"
   ]
  },
  {
   "cell_type": "code",
   "execution_count": null,
   "metadata": {},
   "outputs": [],
   "source": [
    "lf_df = location_frequency(tdf)\n",
    "lf_df.head()"
   ]
  },
  {
   "cell_type": "code",
   "execution_count": null,
   "metadata": {},
   "outputs": [],
   "source": [
    "lf_df.reset_index(inplace=True)\n",
    "lf_df.head()"
   ]
  },
  {
   "cell_type": "code",
   "execution_count": null,
   "metadata": {
    "scrolled": false
   },
   "outputs": [],
   "source": [
    "ranks = [[] for i in range(lf_df.groupby('uid').count().max().location_frequency)]\n",
    "for i, group in lf_df.groupby('uid'):\n",
    "    for j, (index, row) in enumerate(group.iterrows()):\n",
    "        ranks[j].append(row.location_frequency)"
   ]
  },
  {
   "cell_type": "code",
   "execution_count": null,
   "metadata": {},
   "outputs": [],
   "source": [
    "ranks = [np.mean(rr) for rr in ranks]"
   ]
  },
  {
   "cell_type": "code",
   "execution_count": null,
   "metadata": {},
   "outputs": [],
   "source": [
    "fig = plt.figure(figsize=(6, 6))\n",
    "plt.plot(range(len(ranks)), ranks, marker='o')\n",
    "plt.loglog()\n",
    "plt.xlabel('location rank', fontsize=15)\n",
    "plt.ylabel('location frequency', fontsize=15)\n",
    "plt.grid(alpha=0.2)\n",
    "plt.show()"
   ]
  },
  {
   "cell_type": "markdown",
   "metadata": {},
   "source": [
    "## Frequency and Recency rank of locations"
   ]
  },
  {
   "cell_type": "code",
   "execution_count": null,
   "metadata": {},
   "outputs": [],
   "source": [
    "from skmob.measures.individual import frequency_rank, recency_rank"
   ]
  },
  {
   "cell_type": "code",
   "execution_count": null,
   "metadata": {},
   "outputs": [],
   "source": [
    "frequency_rank(tdf).head()"
   ]
  },
  {
   "cell_type": "code",
   "execution_count": null,
   "metadata": {},
   "outputs": [],
   "source": [
    "recency_rank(tdf).head()"
   ]
  },
  {
   "cell_type": "markdown",
   "metadata": {},
   "source": [
    "## Waiting times\n",
    "Associated with the displacement between two successive locations is a time interval, that provides an estimate of the stay of an individual in a location (waiting-times)."
   ]
  },
  {
   "cell_type": "code",
   "execution_count": null,
   "metadata": {},
   "outputs": [],
   "source": [
    "from skmob.measures.individual import waiting_times"
   ]
  },
  {
   "cell_type": "code",
   "execution_count": null,
   "metadata": {},
   "outputs": [],
   "source": [
    "wt_df = waiting_times(tdf)\n",
    "wt_df.head()"
   ]
  },
  {
   "cell_type": "code",
   "execution_count": null,
   "metadata": {},
   "outputs": [],
   "source": [
    "wl_list = waiting_times(tdf, merge=True)\n",
    "len(wl_list)"
   ]
  },
  {
   "cell_type": "code",
   "execution_count": null,
   "metadata": {},
   "outputs": [],
   "source": [
    "fontsize = 15\n",
    "fig = plt.figure(figsize=(6, 6))\n",
    "x, y = zip(*lbpdf(1.5, wl_list[:10000]))\n",
    "plt.plot(x, y, marker='o')\n",
    "plt.grid(alpha=0.5)\n",
    "plt.xlabel('waiting times [s]', fontsize=15)\n",
    "plt.ylabel('P(waiting times)', fontsize=15)\n",
    "plt.loglog()\n",
    "plt.show()"
   ]
  },
  {
   "cell_type": "markdown",
   "metadata": {},
   "source": [
    "## Individual mobility network\n",
    "Another method of distinguishing between locations is to construct each individual's mobility pattern as a network. Nodes represent locations visited and directed edges represent trips between the locations. "
   ]
  },
  {
   "cell_type": "code",
   "execution_count": null,
   "metadata": {},
   "outputs": [],
   "source": [
    "from skmob.measures.individual import individual_mobility_network"
   ]
  },
  {
   "cell_type": "code",
   "execution_count": null,
   "metadata": {},
   "outputs": [],
   "source": [
    "imn_df = individual_mobility_network(tdf)\n",
    "imn_df.head()"
   ]
  },
  {
   "cell_type": "code",
   "execution_count": null,
   "metadata": {},
   "outputs": [],
   "source": [
    "an_imn = imn_df[imn_df.uid == 2]\n",
    "an_imn.head()"
   ]
  },
  {
   "cell_type": "markdown",
   "metadata": {},
   "source": [
    "# Collective measures"
   ]
  },
  {
   "cell_type": "markdown",
   "metadata": {},
   "source": [
    "## Homes per location"
   ]
  },
  {
   "cell_type": "code",
   "execution_count": 5,
   "metadata": {},
   "outputs": [],
   "source": [
    "from skmob.measures.collective import homes_per_location"
   ]
  },
  {
   "cell_type": "code",
   "execution_count": 6,
   "metadata": {},
   "outputs": [
    {
     "name": "stderr",
     "output_type": "stream",
     "text": [
      "100%|██████████| 162/162 [00:00<00:00, 179.41it/s]\n"
     ]
    },
    {
     "data": {
      "text/html": [
       "<div>\n",
       "<style scoped>\n",
       "    .dataframe tbody tr th:only-of-type {\n",
       "        vertical-align: middle;\n",
       "    }\n",
       "\n",
       "    .dataframe tbody tr th {\n",
       "        vertical-align: top;\n",
       "    }\n",
       "\n",
       "    .dataframe thead th {\n",
       "        text-align: right;\n",
       "    }\n",
       "</style>\n",
       "<table border=\"1\" class=\"dataframe\">\n",
       "  <thead>\n",
       "    <tr style=\"text-align: right;\">\n",
       "      <th></th>\n",
       "      <th>lat</th>\n",
       "      <th>lng</th>\n",
       "      <th>n_homes</th>\n",
       "    </tr>\n",
       "  </thead>\n",
       "  <tbody>\n",
       "    <tr>\n",
       "      <th>0</th>\n",
       "      <td>39.739154</td>\n",
       "      <td>-104.984703</td>\n",
       "      <td>15</td>\n",
       "    </tr>\n",
       "    <tr>\n",
       "      <th>1</th>\n",
       "      <td>37.584103</td>\n",
       "      <td>-122.366083</td>\n",
       "      <td>6</td>\n",
       "    </tr>\n",
       "    <tr>\n",
       "      <th>2</th>\n",
       "      <td>40.014986</td>\n",
       "      <td>-105.270546</td>\n",
       "      <td>5</td>\n",
       "    </tr>\n",
       "    <tr>\n",
       "      <th>3</th>\n",
       "      <td>37.580304</td>\n",
       "      <td>-122.343679</td>\n",
       "      <td>5</td>\n",
       "    </tr>\n",
       "    <tr>\n",
       "      <th>4</th>\n",
       "      <td>37.774929</td>\n",
       "      <td>-122.419415</td>\n",
       "      <td>4</td>\n",
       "    </tr>\n",
       "  </tbody>\n",
       "</table>\n",
       "</div>"
      ],
      "text/plain": [
       "         lat         lng  n_homes\n",
       "0  39.739154 -104.984703       15\n",
       "1  37.584103 -122.366083        6\n",
       "2  40.014986 -105.270546        5\n",
       "3  37.580304 -122.343679        5\n",
       "4  37.774929 -122.419415        4"
      ]
     },
     "execution_count": 6,
     "metadata": {},
     "output_type": "execute_result"
    }
   ],
   "source": [
    "hl_df = homes_per_location(tdf)\n",
    "hl_df.head()"
   ]
  },
  {
   "cell_type": "code",
   "execution_count": 7,
   "metadata": {
    "scrolled": true
   },
   "outputs": [
    {
     "data": {
      "text/html": [
       "<div style=\"width:100%;\"><div style=\"position:relative;width:100%;height:0;padding-bottom:60%;\"><iframe src=\"data:text/html;charset=utf-8;base64,PCFET0NUWVBFIGh0bWw+CjxoZWFkPiAgICAKICAgIDxtZXRhIGh0dHAtZXF1aXY9ImNvbnRlbnQtdHlwZSIgY29udGVudD0idGV4dC9odG1sOyBjaGFyc2V0PVVURi04IiAvPgogICAgPHNjcmlwdD5MX1BSRUZFUl9DQU5WQVM9ZmFsc2U7IExfTk9fVE9VQ0g9ZmFsc2U7IExfRElTQUJMRV8zRD1mYWxzZTs8L3NjcmlwdD4KICAgIDxzY3JpcHQgc3JjPSJodHRwczovL2Nkbi5qc2RlbGl2ci5uZXQvbnBtL2xlYWZsZXRAMS40LjAvZGlzdC9sZWFmbGV0LmpzIj48L3NjcmlwdD4KICAgIDxzY3JpcHQgc3JjPSJodHRwczovL2NvZGUuanF1ZXJ5LmNvbS9qcXVlcnktMS4xMi40Lm1pbi5qcyI+PC9zY3JpcHQ+CiAgICA8c2NyaXB0IHNyYz0iaHR0cHM6Ly9tYXhjZG4uYm9vdHN0cmFwY2RuLmNvbS9ib290c3RyYXAvMy4yLjAvanMvYm9vdHN0cmFwLm1pbi5qcyI+PC9zY3JpcHQ+CiAgICA8c2NyaXB0IHNyYz0iaHR0cHM6Ly9jZG5qcy5jbG91ZGZsYXJlLmNvbS9hamF4L2xpYnMvTGVhZmxldC5hd2Vzb21lLW1hcmtlcnMvMi4wLjIvbGVhZmxldC5hd2Vzb21lLW1hcmtlcnMuanMiPjwvc2NyaXB0PgogICAgPGxpbmsgcmVsPSJzdHlsZXNoZWV0IiBocmVmPSJodHRwczovL2Nkbi5qc2RlbGl2ci5uZXQvbnBtL2xlYWZsZXRAMS40LjAvZGlzdC9sZWFmbGV0LmNzcyIvPgogICAgPGxpbmsgcmVsPSJzdHlsZXNoZWV0IiBocmVmPSJodHRwczovL21heGNkbi5ib290c3RyYXBjZG4uY29tL2Jvb3RzdHJhcC8zLjIuMC9jc3MvYm9vdHN0cmFwLm1pbi5jc3MiLz4KICAgIDxsaW5rIHJlbD0ic3R5bGVzaGVldCIgaHJlZj0iaHR0cHM6Ly9tYXhjZG4uYm9vdHN0cmFwY2RuLmNvbS9ib290c3RyYXAvMy4yLjAvY3NzL2Jvb3RzdHJhcC10aGVtZS5taW4uY3NzIi8+CiAgICA8bGluayByZWw9InN0eWxlc2hlZXQiIGhyZWY9Imh0dHBzOi8vbWF4Y2RuLmJvb3RzdHJhcGNkbi5jb20vZm9udC1hd2Vzb21lLzQuNi4zL2Nzcy9mb250LWF3ZXNvbWUubWluLmNzcyIvPgogICAgPGxpbmsgcmVsPSJzdHlsZXNoZWV0IiBocmVmPSJodHRwczovL2NkbmpzLmNsb3VkZmxhcmUuY29tL2FqYXgvbGlicy9MZWFmbGV0LmF3ZXNvbWUtbWFya2Vycy8yLjAuMi9sZWFmbGV0LmF3ZXNvbWUtbWFya2Vycy5jc3MiLz4KICAgIDxsaW5rIHJlbD0ic3R5bGVzaGVldCIgaHJlZj0iaHR0cHM6Ly9yYXdjZG4uZ2l0aGFjay5jb20vcHl0aG9uLXZpc3VhbGl6YXRpb24vZm9saXVtL21hc3Rlci9mb2xpdW0vdGVtcGxhdGVzL2xlYWZsZXQuYXdlc29tZS5yb3RhdGUuY3NzIi8+CiAgICA8c3R5bGU+aHRtbCwgYm9keSB7d2lkdGg6IDEwMCU7aGVpZ2h0OiAxMDAlO21hcmdpbjogMDtwYWRkaW5nOiAwO308L3N0eWxlPgogICAgPHN0eWxlPiNtYXAge3Bvc2l0aW9uOmFic29sdXRlO3RvcDowO2JvdHRvbTowO3JpZ2h0OjA7bGVmdDowO308L3N0eWxlPgogICAgCiAgICA8bWV0YSBuYW1lPSJ2aWV3cG9ydCIgY29udGVudD0id2lkdGg9ZGV2aWNlLXdpZHRoLAogICAgICAgIGluaXRpYWwtc2NhbGU9MS4wLCBtYXhpbXVtLXNjYWxlPTEuMCwgdXNlci1zY2FsYWJsZT1ubyIgLz4KICAgIDxzdHlsZT4jbWFwXzk0MDI5ZTRlNDI4ODQyZmZhNDUwZjg5MTUzMDRjYTg2IHsKICAgICAgICBwb3NpdGlvbjogcmVsYXRpdmU7CiAgICAgICAgd2lkdGg6IDEwMC4wJTsKICAgICAgICBoZWlnaHQ6IDEwMC4wJTsKICAgICAgICBsZWZ0OiAwLjAlOwogICAgICAgIHRvcDogMC4wJTsKICAgICAgICB9CiAgICA8L3N0eWxlPgogICAgPHNjcmlwdCBzcmM9Imh0dHBzOi8vbGVhZmxldC5naXRodWIuaW8vTGVhZmxldC5oZWF0L2Rpc3QvbGVhZmxldC1oZWF0LmpzIj48L3NjcmlwdD4KPC9oZWFkPgo8Ym9keT4gICAgCiAgICAKICAgIDxkaXYgY2xhc3M9ImZvbGl1bS1tYXAiIGlkPSJtYXBfOTQwMjllNGU0Mjg4NDJmZmE0NTBmODkxNTMwNGNhODYiID48L2Rpdj4KPC9ib2R5Pgo8c2NyaXB0PiAgICAKICAgIAogICAgCiAgICAgICAgdmFyIGJvdW5kcyA9IG51bGw7CiAgICAKCiAgICB2YXIgbWFwXzk0MDI5ZTRlNDI4ODQyZmZhNDUwZjg5MTUzMDRjYTg2ID0gTC5tYXAoCiAgICAgICAgJ21hcF85NDAyOWU0ZTQyODg0MmZmYTQ1MGY4OTE1MzA0Y2E4NicsIHsKICAgICAgICBjZW50ZXI6IFswLCAwXSwKICAgICAgICB6b29tOiAxLAogICAgICAgIG1heEJvdW5kczogYm91bmRzLAogICAgICAgIGxheWVyczogW10sCiAgICAgICAgd29ybGRDb3B5SnVtcDogZmFsc2UsCiAgICAgICAgY3JzOiBMLkNSUy5FUFNHMzg1NywKICAgICAgICB6b29tQ29udHJvbDogdHJ1ZSwKICAgICAgICB9KTsKTC5jb250cm9sLnNjYWxlKCkuYWRkVG8obWFwXzk0MDI5ZTRlNDI4ODQyZmZhNDUwZjg5MTUzMDRjYTg2KTsKCiAgICAKICAgIHZhciB0aWxlX2xheWVyXzQwMDI5NTFkZjUyMTQwZjg4MGZhYjgwZGFmZWY4ZDExID0gTC50aWxlTGF5ZXIoCiAgICAgICAgJ2h0dHBzOi8ve3N9LnRpbGUub3BlbnN0cmVldG1hcC5vcmcve3p9L3t4fS97eX0ucG5nJywKICAgICAgICB7CiAgICAgICAgImF0dHJpYnV0aW9uIjogbnVsbCwKICAgICAgICAiZGV0ZWN0UmV0aW5hIjogZmFsc2UsCiAgICAgICAgIm1heE5hdGl2ZVpvb20iOiAxOCwKICAgICAgICAibWF4Wm9vbSI6IDE4LAogICAgICAgICJtaW5ab29tIjogMCwKICAgICAgICAibm9XcmFwIjogZmFsc2UsCiAgICAgICAgIm9wYWNpdHkiOiAxLAogICAgICAgICJzdWJkb21haW5zIjogImFiYyIsCiAgICAgICAgInRtcyI6IGZhbHNlCn0pLmFkZFRvKG1hcF85NDAyOWU0ZTQyODg0MmZmYTQ1MGY4OTE1MzA0Y2E4Nik7CiAgICAKICAgICAgICAgICAgdmFyIGhlYXRfbWFwXzk5YjlmMjQ4NmRkNDRiYTU4ZWM2NjkzY2QzNTFiNWRkID0gTC5oZWF0TGF5ZXIoCiAgICAgICAgICAgICAgICBbWzM5LjczOTE1NCwgLTEwNC45ODQ3MDNdLCBbMzcuNTg0MTAzMDAwMDAwMDA2LCAtMTIyLjM2NjA4M10sIFs0MC4wMTQ5ODYsIC0xMDUuMjcwNTQ2XSwgWzM3LjU4MDMwNCwgLTEyMi4zNDM2NzkwMDAwMDAwMV0sIFszNy43NzQ5MjksIC0xMjIuNDE5NDE0OTk5OTk5OTldLCBbNDEuODIzOTg5MDAwMDAwMDA1LCAtNzEuNDEyODM0XSwgWzQwLjE2NzIwNywgLTEwNS4xMDE5MjhdLCBbMzcuNDQxODgzMDAwMDAwMDA0LCAtMTIyLjE0MzAxOV0sIFszOS44OTEwNzcsIC0xMDUuMDY4NTMyXSwgWzQwLjA0ODExOSwgLTEwNS4zMDE0MTEwMDAwMDAwMl0sIFs0MC4wMzkyNjQsIC03Ni40MzA3OTZdLCBbNDAuMDI2MTU2LCAtMTA1LjE3NTczXSwgWzM5LjkzMjQ4NiwgLTEwNS4yNzY5MzUwMDAwMDAwMV0sIFs0MC4wMTk1ODcsIC0xMDUuMjY1NTA1XSwgWzQwLjAxODY2MiwgLTEwNS4yNzYyMl0sIFs0MC4wMTczNTEsIC0xMDUuMjc3MzQ5XSwgWzQwLjI5NzM4NCwgLTExMS42NjM5MzFdLCBbMzkuOTg4NzkzLCAtMTA1LjI0NjczOTk5OTk5OTk5XSwgWzM5LjkwOTA4OCwgLTEwNS4xMTA4OTE5OTk5OTk5OV0sIFszOS45MjA1NDEsIC0xMDUuMDg2NjVdLCBbMzkuODI1OTQ3LCAtMTA1LjE0NTk0NF0sIFszOS44MTYyNCwgLTEwNS4yMDM5NTNdLCBbMzkuODA4NzI5LCAtMTA1LjA0MTYwODAwMDAwMDAxXSwgWzM5LjgwMjc2NCwgLTEwNS4wODc0ODRdLCBbMzkuNzgyOTI1LCAtMTA0Ljc1NTM5MzAwMDAwMDAxXSwgWzM5Ljc2MjMxNSwgLTEwNC45ODI5MjA5OTk5OTk5OV0sIFszOS43NjIxNDYsIC0xMDQuOTgyNDgwMDAwMDAwMDFdLCBbMzkuNzYwODEsIC0xMDQuOTg1ODZdLCBbMzkuNzU4ODk3LCAtMTA1LjA0NjMwNl0sIFszOS43NTgzNTk5OTk5OTk5OTYsIC0xMDQuOTIxMDg5OTk5OTk5OTldLCBbMzkuNzU4MTYxLCAtMTA0Ljk5NjE4Ml0sIFszOS43NTgwNDEsIC0xMDQuOTg3MjYxXSwgWzM5Ljc1ODAxNSwgLTEwNS4wMTEyNDJdLCBbNDAuNDQwNjI1LCAtNzkuOTk1ODg2XSwgWzAuMCwgMC4wXSwgWzM5Ljc1NjUwMywgLTEwNC44Njk4NjddLCBbNDkuNjExNjY3LCA2LjEzXSwgWzYwLjE4MzY4ODAwMDAwMDAwNCwgMjQuODEzMDI2OTk5OTk5OTk4XSwgWzYwLjE4MDE3MDk5OTk5OTk5NCwgMjQuOTQ5NzI4XSwgWzYwLjE2NzIsIDI0Ljk0NzU4Ml0sIFs2MC4xNTE2OTcsIDI0Ljg4OTk5MTAwMDAwMDAwMl0sIFs1OS43NDI1LCAxMC4yMTE2NjddLCBbNTkuMzI5NDY4MDAwMDAwMDA2LCAxOC4wNjI2MzldLCBbNTIuMzYzMjYxLCA0Ljg0Mzg3NF0sIFs1MS41NTYzNDY5OTk5OTk5OTUsIC0wLjEwMDI3Ml0sIFs1MC43MzE2NDQsIC0xLjg1NzgxODk5OTk5OTk5OTldLCBbNDkuNzc2Mzg5LCA2LjUxNTI3Nzk5OTk5OTk5OTVdLCBbNDkuNzUyODc3MDAwMDAwMDA1LCA2LjEwMDI1OF0sIFs0OS43NDg4ODksIDYuMTA2MTExXSwgWzQ5LjczODQ0ODk5OTk5OTk5NiwgNi4wOTYxNzZdLCBbNDkuNjAzMzMzLCA2LjA5NTU1Nl0sIFs0MC42ODY2OTksIC03My45OTgxODhdLCBbNDkuNTgxOTQ0LCA2LjIyNjY2N10sIFs0OC44NDQ4NDg5OTk5OTk5OTYsIC0xMjIuNTg0NzMyXSwgWzQ3LjY3NTk2MiwgLTEyMi4zODUzMzQwMDAwMDAwMV0sIFs0Ny42NTg3OCwgLTExNy40MjYwNDddLCBbNDcuNjEwMzc3LCAtMTIyLjIwMDY3OTAwMDAwMDAxXSwgWzQ1LjUyMzQ1MiwgLTEyMi42NzYyMDddLCBbNDMuNjEyODc2LCAzLjg3NzU5Ml0sIFs0Mi45NjY2NSwgLTcxLjEyNjU2MV0sIFs0Mi4zNTU2Nzg5OTk5OTk5OTUsIC04OC4yNjk3MzE5OTk5OTk5OV0sIFs0Mi4zNTEyODYsIC03MS4wNDg1NjldLCBbNDEuOTI4NjYzLCAtODcuNzA1NzgzXSwgWzQxLjg3ODcxMDk5OTk5OTk5NiwgLTcxLjM4MjU1NjAwMDAwMDAxXSwgWzQwLjc1MDc1NiwgLTc0LjAyNDUxNl0sIFszOS43NTc0MjEsIC0xMDUuMDEwNDUzXSwgWzM5Ljc1Mjc5MiwgLTEwNC45OTY4MDFdLCBbMzkuNzU0MDQyOTk5OTk5OTk2LCAtMTA1LjAyOTkwNF0sIFszNy41Nzc5MjcsIC0xMjIuMzQzNTY3XSwgWzM3LjU0NzAyNSwgLTEyMi4yNzc3MThdLCBbMzcuNTI5NjU5LCAtMTIyLjA0MDI0XSwgWzM3LjUyODkzNCwgLTEyMi4yODc2MTk5OTk5OTk5OV0sIFszNy40ODcyODMwMDAwMDAwMDUsIC0xMjIuMjgyNDQ2XSwgWzM3LjQzNTI5NSwgLTEyMi4xMjIxMzk5OTk5OTk5OV0sIFszNy4zNzcxNDY5OTk5OTk5OTQsIC0xMjIuMDI4ODM0XSwgWzM3LjM2ODgyOTk5OTk5OTk5NiwgLTEyMi4wMzYzNV0sIFszNy4zNTQxMDgwMDAwMDAwMDQsIC0xMjEuOTU1MjM2MDAwMDAwMDFdLCBbMzcuMzM5Mzg2LCAtMTIxLjg5NDk1NTAwMDAwMDAxXSwgWzM3LjMzMTY4OCwgLTEyMi4wMzA3MzFdLCBbMzcuMzIyOTk4LCAtMTIyLjAzMjE4Ml0sIFszNy4yNzQ1MTQsIC0xMjEuODM0MTk4XSwgWzM3LjI3MDk3LCAtNzkuOTQxNDI3XSwgWzM2Ljg1NTMwNiwgLTc2LjE0NDYxOTk5OTk5OTk5XSwgWzM2LjEyNzIxMiwgLTg2Ljc4ODc4N10sIFszNS44NzYzNSwgLTc4Ljc4ODc5OF0sIFszNS43NzIwOTYwMDAwMDAwMDUsIC03OC42Mzg2MTVdLCBbMzUuMDUzOTc5LCAtOTMuMzkzNTE4XSwgWzM0LjY1Mzc4NywgLTExMi4yNzcyMzk5OTk5OTk5OV0sIFszNC4wNzM2MiwgLTExOC40MDAzNTZdLCBbMzMuOTQ1MjAxMDAwMDAwMDA0LCAtMTE4LjM3NDUxM10sIFszMy45MDAwMiwgLTExNS44NjAwMDcwMDAwMDAwMV0sIFszMy43NDg5OTUsIC04NC4zODc5ODJdLCBbMzAuMjY0OTQxOTk5OTk5OTk4LCAtOTcuNzM4OTc4XSwgWzMwLjI2MzY3MTAwMDAwMDAwMiwgLTk3Ljc0MTk2Ml0sIFszMC4yNTU4MDcsIC05Ny43NjU3MjNdLCBbMjkuNDY3MjI4MDAwMDAwMDAyLCAtOTguNjUzMTU5XSwgWzM3LjU3NzQ5NCwgLTEyMi4zNDYzNDc5OTk5OTk5OV0sIFszNy41Nzk3MjYsIC0xMjIuMzQ1MDE1OTk5OTk5OTldLCBbMzkuNzUzNzksIC0xMDQuOTk4NDgyMDAwMDAwMDFdLCBbMzcuNjE2NjAyLCAtMTIyLjQwNDQxN10sIFszLjYxODI3NCwgNzIuNzc2MTg0XSwgWzM5Ljc0OTk4OSwgLTEwNS4wMDIyMjhdLCBbMzkuNzQxOTE4LCAtMTA0LjkxNTE1NjAwMDAwMDAxXSwgWzM5LjczMzI4OSwgLTEwNC45Nzk3M10sIFszOS43MzMxOTE5OTk5OTk5OTUsIC0xMDUuMTU1Njc4MDAwMDAwMDFdLCBbMzkuNzMyMDg1OTk5OTk5OTk1LCAtMTA1LjAwMTU4Nl0sIFszOS43MjM0NTIsIC0xMDUuMjA4OTY2OTk5OTk5OTldLCBbMzkuNzIwOTYyLCAtMTA0Ljk1NTM4NDAwMDAwMDAxXSwgWzM5LjcxNjQ1MjAwMDAwMDAwNCwgLTEwNC45ODc1NF0sIFszOS43MTAxOTY5OTk5OTk5OTQsIC0xMDUuMDU2NDVdLCBbMzkuNzA0OTg3LCAtMTA0LjkzMzU5XSwgWzM5LjY4OTU2NSwgLTEwNC45ODA3NjRdLCBbMzkuNTAwNzU4MDAwMDAwMDA1LCAtMTA2LjE1NTc2MDAwMDAwMDAxXSwgWzM5LjQ3NDk4OSwgLTEwNC44Nzk3MDFdLCBbMzkuMjk1NjA5MDAwMDAwMDA2LCAtMTIwLjY3Mzg3NF0sIFszOS4xOTk4MjksIC03Ny4wNjU1MzldLCBbMzkuMDk5Mjc1LCAtNzYuODQ4MzA2MDAwMDAwMDFdLCBbMzguOTgyMjI4MDAwMDAwMDA2LCAtOTQuNjcwNzkyXSwgWzM4Ljk3MTY2OSwgLTk1LjIzNTI1XSwgWzM4LjMxMTAwNSwgLTEyMS45ODk2MTEwMDAwMDAwMV0sIFszOC4yMzI0MTcsIC0xMjIuNjM2NjUyXSwgWzM3Ljg0OTQ3NSwgLTEwNi45MjYzMzQwMDAwMDAwMV0sIFszNy43Njc3NzksIC0xMjIuNDA2NzM0MDAwMDAwMDFdLCBbMzcuNzQ4MTcsIC0xMjIuNDU5MTkxOTk5OTk5OTldLCBbMzcuNjkyMjM2LCAtOTcuMzM3NTQ0OTk5OTk5OTldLCBbMzcuNjMwNDksIC0xMjIuNDExMDg0XSwgWzM3LjYyMDczMjAwMDAwMDAwNCwgLTEyMi4zODkyNTJdLCBbNjAuMjE2NjY3LCAyNC42NjY2NjddXSwKICAgICAgICAgICAgICAgIHsKICAgICAgICAgICAgICAgICAgICBtaW5PcGFjaXR5OiAwLjUsCiAgICAgICAgICAgICAgICAgICAgbWF4Wm9vbTogMTgsCiAgICAgICAgICAgICAgICAgICAgbWF4OiAxLjAsCiAgICAgICAgICAgICAgICAgICAgcmFkaXVzOiAyNSwKICAgICAgICAgICAgICAgICAgICBibHVyOiAxNSwKICAgICAgICAgICAgICAgICAgICBncmFkaWVudDogbnVsbAogICAgICAgICAgICAgICAgICAgIH0pCiAgICAgICAgICAgICAgICAuYWRkVG8obWFwXzk0MDI5ZTRlNDI4ODQyZmZhNDUwZjg5MTUzMDRjYTg2KTsKICAgICAgICAKPC9zY3JpcHQ+\" style=\"position:absolute;width:100%;height:100%;left:0;top:0;border:none !important;\" allowfullscreen webkitallowfullscreen mozallowfullscreen></iframe></div></div>"
      ],
      "text/plain": [
       "<folium.folium.Map at 0x7fbe04d0da90>"
      ]
     },
     "execution_count": 7,
     "metadata": {},
     "output_type": "execute_result"
    }
   ],
   "source": [
    "import folium\n",
    "from folium.plugins import HeatMap\n",
    "\n",
    "# Create a Map instance\n",
    "m = folium.Map(tiles = 'openstreetmap', zoom_start=10, control_scale=True)\n",
    "\n",
    "# Add heatmap to map instance\n",
    "# Available parameters: HeatMap(data, name=None, min_opacity=0.5, max_zoom=18, max_val=1.0, radius=25, blur=15, gradient=None, overlay=True, control=True, show=True)\n",
    "HeatMap(hl_df[['lat', 'lng']].values).add_to(m)\n",
    "\n",
    "# Show map\n",
    "m"
   ]
  },
  {
   "cell_type": "markdown",
   "metadata": {},
   "source": [
    "## Uncorrelated location entropy"
   ]
  },
  {
   "cell_type": "code",
   "execution_count": 8,
   "metadata": {},
   "outputs": [],
   "source": [
    "from skmob.measures.collective import uncorrelated_location_entropy"
   ]
  },
  {
   "cell_type": "code",
   "execution_count": 10,
   "metadata": {},
   "outputs": [
    {
     "data": {
      "text/html": [
       "<div>\n",
       "<style scoped>\n",
       "    .dataframe tbody tr th:only-of-type {\n",
       "        vertical-align: middle;\n",
       "    }\n",
       "\n",
       "    .dataframe tbody tr th {\n",
       "        vertical-align: top;\n",
       "    }\n",
       "\n",
       "    .dataframe thead th {\n",
       "        text-align: right;\n",
       "    }\n",
       "</style>\n",
       "<table border=\"1\" class=\"dataframe\">\n",
       "  <thead>\n",
       "    <tr style=\"text-align: right;\">\n",
       "      <th></th>\n",
       "      <th>lat</th>\n",
       "      <th>lng</th>\n",
       "      <th>uncorrelated_location_entropy</th>\n",
       "    </tr>\n",
       "  </thead>\n",
       "  <tbody>\n",
       "    <tr>\n",
       "      <th>0</th>\n",
       "      <td>-70.683333</td>\n",
       "      <td>-44.316667</td>\n",
       "      <td>0.0</td>\n",
       "    </tr>\n",
       "    <tr>\n",
       "      <th>1</th>\n",
       "      <td>-45.032284</td>\n",
       "      <td>168.660278</td>\n",
       "      <td>0.0</td>\n",
       "    </tr>\n",
       "    <tr>\n",
       "      <th>2</th>\n",
       "      <td>-45.032002</td>\n",
       "      <td>168.659399</td>\n",
       "      <td>0.0</td>\n",
       "    </tr>\n",
       "    <tr>\n",
       "      <th>3</th>\n",
       "      <td>-45.030226</td>\n",
       "      <td>168.662710</td>\n",
       "      <td>0.0</td>\n",
       "    </tr>\n",
       "    <tr>\n",
       "      <th>4</th>\n",
       "      <td>-42.516667</td>\n",
       "      <td>172.816667</td>\n",
       "      <td>0.0</td>\n",
       "    </tr>\n",
       "  </tbody>\n",
       "</table>\n",
       "</div>"
      ],
      "text/plain": [
       "         lat         lng  uncorrelated_location_entropy\n",
       "0 -70.683333  -44.316667                            0.0\n",
       "1 -45.032284  168.660278                            0.0\n",
       "2 -45.032002  168.659399                            0.0\n",
       "3 -45.030226  168.662710                            0.0\n",
       "4 -42.516667  172.816667                            0.0"
      ]
     },
     "execution_count": 10,
     "metadata": {},
     "output_type": "execute_result"
    }
   ],
   "source": [
    "ule_df = uncorrelated_location_entropy(tdf, show_progress=False)\n",
    "ule_df.head()"
   ]
  },
  {
   "cell_type": "code",
   "execution_count": 11,
   "metadata": {},
   "outputs": [
    {
     "name": "stderr",
     "output_type": "stream",
     "text": [
      "100%|██████████| 18447/18447 [00:17<00:00, 1069.42it/s]\n"
     ]
    },
    {
     "data": {
      "text/html": [
       "<div>\n",
       "<style scoped>\n",
       "    .dataframe tbody tr th:only-of-type {\n",
       "        vertical-align: middle;\n",
       "    }\n",
       "\n",
       "    .dataframe tbody tr th {\n",
       "        vertical-align: top;\n",
       "    }\n",
       "\n",
       "    .dataframe thead th {\n",
       "        text-align: right;\n",
       "    }\n",
       "</style>\n",
       "<table border=\"1\" class=\"dataframe\">\n",
       "  <thead>\n",
       "    <tr style=\"text-align: right;\">\n",
       "      <th></th>\n",
       "      <th>lat</th>\n",
       "      <th>lng</th>\n",
       "      <th>norm_uncorrelated_location_entropy</th>\n",
       "    </tr>\n",
       "  </thead>\n",
       "  <tbody>\n",
       "    <tr>\n",
       "      <th>0</th>\n",
       "      <td>-70.683333</td>\n",
       "      <td>-44.316667</td>\n",
       "      <td>0.0</td>\n",
       "    </tr>\n",
       "    <tr>\n",
       "      <th>1</th>\n",
       "      <td>-45.032284</td>\n",
       "      <td>168.660278</td>\n",
       "      <td>0.0</td>\n",
       "    </tr>\n",
       "    <tr>\n",
       "      <th>2</th>\n",
       "      <td>-45.032002</td>\n",
       "      <td>168.659399</td>\n",
       "      <td>0.0</td>\n",
       "    </tr>\n",
       "    <tr>\n",
       "      <th>3</th>\n",
       "      <td>-45.030226</td>\n",
       "      <td>168.662710</td>\n",
       "      <td>0.0</td>\n",
       "    </tr>\n",
       "    <tr>\n",
       "      <th>4</th>\n",
       "      <td>-42.516667</td>\n",
       "      <td>172.816667</td>\n",
       "      <td>0.0</td>\n",
       "    </tr>\n",
       "  </tbody>\n",
       "</table>\n",
       "</div>"
      ],
      "text/plain": [
       "         lat         lng  norm_uncorrelated_location_entropy\n",
       "0 -70.683333  -44.316667                                 0.0\n",
       "1 -45.032284  168.660278                                 0.0\n",
       "2 -45.032002  168.659399                                 0.0\n",
       "3 -45.030226  168.662710                                 0.0\n",
       "4 -42.516667  172.816667                                 0.0"
      ]
     },
     "execution_count": 11,
     "metadata": {},
     "output_type": "execute_result"
    }
   ],
   "source": [
    "nule_df = uncorrelated_location_entropy(tdf, normalize=True)\n",
    "nule_df.head()"
   ]
  },
  {
   "cell_type": "code",
   "execution_count": 12,
   "metadata": {},
   "outputs": [
    {
     "data": {
      "image/png": "[encoded data removed]",
      "text/plain": [
       "<Figure size 432x288 with 2 Axes>"
      ]
     },
     "metadata": {
      "needs_background": "light"
     },
     "output_type": "display_data"
    }
   ],
   "source": [
    "fig, (ax1, ax2) = plt.subplots(1, 2, sharey=True)\n",
    "\n",
    "ax1.hist(ule_df.uncorrelated_location_entropy)\n",
    "ax1.set_xlabel('unc loc entropy', fontsize=15)\n",
    "\n",
    "ax2.hist(nule_df.norm_uncorrelated_location_entropy)\n",
    "ax2.set_xlabel('norm unc loc entropy', fontsize=15)\n",
    "\n",
    "plt.show()"
   ]
  },
  {
   "cell_type": "markdown",
   "metadata": {},
   "source": [
    "## Visits per location"
   ]
  },
  {
   "cell_type": "code",
   "execution_count": 13,
   "metadata": {},
   "outputs": [],
   "source": [
    "from skmob.measures.collective import visits_per_location"
   ]
  },
  {
   "cell_type": "code",
   "execution_count": 14,
   "metadata": {},
   "outputs": [
    {
     "data": {
      "text/html": [
       "<div>\n",
       "<style scoped>\n",
       "    .dataframe tbody tr th:only-of-type {\n",
       "        vertical-align: middle;\n",
       "    }\n",
       "\n",
       "    .dataframe tbody tr th {\n",
       "        vertical-align: top;\n",
       "    }\n",
       "\n",
       "    .dataframe thead th {\n",
       "        text-align: right;\n",
       "    }\n",
       "</style>\n",
       "<table border=\"1\" class=\"dataframe\">\n",
       "  <thead>\n",
       "    <tr style=\"text-align: right;\">\n",
       "      <th></th>\n",
       "      <th>lat</th>\n",
       "      <th>lng</th>\n",
       "      <th>n_visits</th>\n",
       "    </tr>\n",
       "  </thead>\n",
       "  <tbody>\n",
       "    <tr>\n",
       "      <th>0</th>\n",
       "      <td>39.739154</td>\n",
       "      <td>-104.984703</td>\n",
       "      <td>3392</td>\n",
       "    </tr>\n",
       "    <tr>\n",
       "      <th>1</th>\n",
       "      <td>37.580304</td>\n",
       "      <td>-122.343679</td>\n",
       "      <td>2248</td>\n",
       "    </tr>\n",
       "    <tr>\n",
       "      <th>2</th>\n",
       "      <td>39.099275</td>\n",
       "      <td>-76.848306</td>\n",
       "      <td>1715</td>\n",
       "    </tr>\n",
       "    <tr>\n",
       "      <th>3</th>\n",
       "      <td>39.762146</td>\n",
       "      <td>-104.982480</td>\n",
       "      <td>1442</td>\n",
       "    </tr>\n",
       "    <tr>\n",
       "      <th>4</th>\n",
       "      <td>40.014986</td>\n",
       "      <td>-105.270546</td>\n",
       "      <td>1310</td>\n",
       "    </tr>\n",
       "  </tbody>\n",
       "</table>\n",
       "</div>"
      ],
      "text/plain": [
       "         lat         lng  n_visits\n",
       "0  39.739154 -104.984703      3392\n",
       "1  37.580304 -122.343679      2248\n",
       "2  39.099275  -76.848306      1715\n",
       "3  39.762146 -104.982480      1442\n",
       "4  40.014986 -105.270546      1310"
      ]
     },
     "execution_count": 14,
     "metadata": {},
     "output_type": "execute_result"
    }
   ],
   "source": [
    "vpl_df = visits_per_location(tdf)\n",
    "vpl_df.head()"
   ]
  },
  {
   "cell_type": "code",
   "execution_count": 15,
   "metadata": {},
   "outputs": [
    {
     "data": {
      "image/png": "[encoded data removed]",
      "text/plain": [
       "<Figure size 432x432 with 1 Axes>"
      ]
     },
     "metadata": {
      "needs_background": "light"
     },
     "output_type": "display_data"
    }
   ],
   "source": [
    "fig = plt.figure(figsize=(6, 6))\n",
    "x, y = zip(*lbpdf(1.5, list(vpl_df.n_visits)))\n",
    "plt.plot(x, y, marker='o')\n",
    "plt.xlabel('visits per location', fontsize=15)\n",
    "plt.loglog()\n",
    "plt.show()"
   ]
  },
  {
   "cell_type": "markdown",
   "metadata": {},
   "source": [
    "## Visits per time unit"
   ]
  },
  {
   "cell_type": "code",
   "execution_count": 16,
   "metadata": {},
   "outputs": [],
   "source": [
    "from skmob.measures.collective import visits_per_time_unit"
   ]
  },
  {
   "cell_type": "code",
   "execution_count": 17,
   "metadata": {},
   "outputs": [
    {
     "data": {
      "text/html": [
       "<div>\n",
       "<style scoped>\n",
       "    .dataframe tbody tr th:only-of-type {\n",
       "        vertical-align: middle;\n",
       "    }\n",
       "\n",
       "    .dataframe tbody tr th {\n",
       "        vertical-align: top;\n",
       "    }\n",
       "\n",
       "    .dataframe thead th {\n",
       "        text-align: right;\n",
       "    }\n",
       "</style>\n",
       "<table border=\"1\" class=\"dataframe\">\n",
       "  <thead>\n",
       "    <tr style=\"text-align: right;\">\n",
       "      <th></th>\n",
       "      <th>n_visits</th>\n",
       "    </tr>\n",
       "    <tr>\n",
       "      <th>datetime</th>\n",
       "      <th></th>\n",
       "    </tr>\n",
       "  </thead>\n",
       "  <tbody>\n",
       "    <tr>\n",
       "      <th>2008-03-22 05:00:00+00:00</th>\n",
       "      <td>2</td>\n",
       "    </tr>\n",
       "    <tr>\n",
       "      <th>2008-03-22 06:00:00+00:00</th>\n",
       "      <td>2</td>\n",
       "    </tr>\n",
       "    <tr>\n",
       "      <th>2008-03-22 07:00:00+00:00</th>\n",
       "      <td>0</td>\n",
       "    </tr>\n",
       "    <tr>\n",
       "      <th>2008-03-22 08:00:00+00:00</th>\n",
       "      <td>0</td>\n",
       "    </tr>\n",
       "    <tr>\n",
       "      <th>2008-03-22 09:00:00+00:00</th>\n",
       "      <td>0</td>\n",
       "    </tr>\n",
       "  </tbody>\n",
       "</table>\n",
       "</div>"
      ],
      "text/plain": [
       "                           n_visits\n",
       "datetime                           \n",
       "2008-03-22 05:00:00+00:00         2\n",
       "2008-03-22 06:00:00+00:00         2\n",
       "2008-03-22 07:00:00+00:00         0\n",
       "2008-03-22 08:00:00+00:00         0\n",
       "2008-03-22 09:00:00+00:00         0"
      ]
     },
     "execution_count": 17,
     "metadata": {},
     "output_type": "execute_result"
    }
   ],
   "source": [
    "vtu_df = visits_per_time_unit(tdf)\n",
    "vtu_df.head()"
   ]
  },
  {
   "cell_type": "code",
   "execution_count": 18,
   "metadata": {},
   "outputs": [
    {
     "name": "stderr",
     "output_type": "stream",
     "text": [
      "/home/lucpappalard/miniconda3/envs/skmob/lib/python3.7/site-packages/pandas-0.24.2-py3.7-linux-x86_64.egg/pandas/core/arrays/datetimes.py:1172: UserWarning: Converting to PeriodArray/Index representation will drop timezone information.\n",
      "  \"will drop timezone information.\", UserWarning)\n"
     ]
    },
    {
     "data": {
      "text/plain": [
       "<matplotlib.axes._subplots.AxesSubplot at 0x7fbe042bc278>"
      ]
     },
     "execution_count": 18,
     "metadata": {},
     "output_type": "execute_result"
    },
    {
     "data": {
      "image/png": "[encoded data removed]",
      "text/plain": [
       "<Figure size 432x288 with 1 Axes>"
      ]
     },
     "metadata": {
      "needs_background": "light"
     },
     "output_type": "display_data"
    }
   ],
   "source": [
    "vtu_df.plot()"
   ]
  },
  {
   "cell_type": "markdown",
   "metadata": {},
   "source": [
    "## Mean square displacement"
   ]
  },
  {
   "cell_type": "code",
   "execution_count": 19,
   "metadata": {},
   "outputs": [],
   "source": [
    "from skmob.measures.collective import mean_square_displacement"
   ]
  },
  {
   "cell_type": "code",
   "execution_count": 20,
   "metadata": {},
   "outputs": [
    {
     "name": "stderr",
     "output_type": "stream",
     "text": [
      "100%|██████████| 162/162 [00:00<00:00, 444.42it/s]\n"
     ]
    },
    {
     "data": {
      "text/plain": [
       "6697977.363424443"
      ]
     },
     "execution_count": 20,
     "metadata": {},
     "output_type": "execute_result"
    }
   ],
   "source": [
    "mean_square_displacement(tdf)"
   ]
  },
  {
   "cell_type": "markdown",
   "metadata": {},
   "source": [
    "## Origin destination matrix"
   ]
  },
  {
   "cell_type": "code",
   "execution_count": 21,
   "metadata": {},
   "outputs": [],
   "source": [
    "from skmob.measures.collective import origin_destination_matrix"
   ]
  },
  {
   "cell_type": "code",
   "execution_count": 22,
   "metadata": {},
   "outputs": [
    {
     "name": "stderr",
     "output_type": "stream",
     "text": [
      "100%|██████████| 162/162 [00:00<00:00, 322.94it/s]\n"
     ]
    },
    {
     "data": {
      "text/html": [
       "<div>\n",
       "<style scoped>\n",
       "    .dataframe tbody tr th:only-of-type {\n",
       "        vertical-align: middle;\n",
       "    }\n",
       "\n",
       "    .dataframe tbody tr th {\n",
       "        vertical-align: top;\n",
       "    }\n",
       "\n",
       "    .dataframe thead th {\n",
       "        text-align: right;\n",
       "    }\n",
       "</style>\n",
       "<table border=\"1\" class=\"dataframe\">\n",
       "  <thead>\n",
       "    <tr style=\"text-align: right;\">\n",
       "      <th></th>\n",
       "      <th>lat_origin</th>\n",
       "      <th>lng_origin</th>\n",
       "      <th>lat_dest</th>\n",
       "      <th>lng_dest</th>\n",
       "      <th>n_trips</th>\n",
       "    </tr>\n",
       "  </thead>\n",
       "  <tbody>\n",
       "    <tr>\n",
       "      <th>0</th>\n",
       "      <td>37.774929</td>\n",
       "      <td>-122.419415</td>\n",
       "      <td>37.600747</td>\n",
       "      <td>-122.382376</td>\n",
       "      <td>2</td>\n",
       "    </tr>\n",
       "    <tr>\n",
       "      <th>1</th>\n",
       "      <td>37.774929</td>\n",
       "      <td>-122.419415</td>\n",
       "      <td>37.630490</td>\n",
       "      <td>-122.411084</td>\n",
       "      <td>8</td>\n",
       "    </tr>\n",
       "    <tr>\n",
       "      <th>2</th>\n",
       "      <td>37.774929</td>\n",
       "      <td>-122.419415</td>\n",
       "      <td>37.584103</td>\n",
       "      <td>-122.366083</td>\n",
       "      <td>50</td>\n",
       "    </tr>\n",
       "    <tr>\n",
       "      <th>3</th>\n",
       "      <td>37.774929</td>\n",
       "      <td>-122.419415</td>\n",
       "      <td>37.613825</td>\n",
       "      <td>-122.486919</td>\n",
       "      <td>2</td>\n",
       "    </tr>\n",
       "    <tr>\n",
       "      <th>4</th>\n",
       "      <td>37.774929</td>\n",
       "      <td>-122.419415</td>\n",
       "      <td>37.654656</td>\n",
       "      <td>-122.407750</td>\n",
       "      <td>3</td>\n",
       "    </tr>\n",
       "  </tbody>\n",
       "</table>\n",
       "</div>"
      ],
      "text/plain": [
       "   lat_origin  lng_origin   lat_dest    lng_dest  n_trips\n",
       "0   37.774929 -122.419415  37.600747 -122.382376        2\n",
       "1   37.774929 -122.419415  37.630490 -122.411084        8\n",
       "2   37.774929 -122.419415  37.584103 -122.366083       50\n",
       "3   37.774929 -122.419415  37.613825 -122.486919        2\n",
       "4   37.774929 -122.419415  37.654656 -122.407750        3"
      ]
     },
     "execution_count": 22,
     "metadata": {},
     "output_type": "execute_result"
    }
   ],
   "source": [
    "od_df = origin_destination_matrix(tdf)\n",
    "od_df.head()"
   ]
  },
  {
   "cell_type": "code",
   "execution_count": 23,
   "metadata": {},
   "outputs": [
    {
     "data": {
      "text/html": [
       "<div>\n",
       "<style scoped>\n",
       "    .dataframe tbody tr th:only-of-type {\n",
       "        vertical-align: middle;\n",
       "    }\n",
       "\n",
       "    .dataframe tbody tr th {\n",
       "        vertical-align: top;\n",
       "    }\n",
       "\n",
       "    .dataframe thead th {\n",
       "        text-align: right;\n",
       "    }\n",
       "</style>\n",
       "<table border=\"1\" class=\"dataframe\">\n",
       "  <thead>\n",
       "    <tr style=\"text-align: right;\">\n",
       "      <th></th>\n",
       "      <th>uid</th>\n",
       "      <th>lat</th>\n",
       "      <th>lng</th>\n",
       "      <th>datetime</th>\n",
       "      <th>location</th>\n",
       "    </tr>\n",
       "  </thead>\n",
       "  <tbody>\n",
       "    <tr>\n",
       "      <th>0</th>\n",
       "      <td>1</td>\n",
       "      <td>39.978253</td>\n",
       "      <td>116.327275</td>\n",
       "      <td>2008-10-23 00:00:00</td>\n",
       "      <td>0</td>\n",
       "    </tr>\n",
       "    <tr>\n",
       "      <th>1</th>\n",
       "      <td>1</td>\n",
       "      <td>40.013819</td>\n",
       "      <td>116.306532</td>\n",
       "      <td>2008-10-23 08:00:00</td>\n",
       "      <td>1</td>\n",
       "    </tr>\n",
       "    <tr>\n",
       "      <th>2</th>\n",
       "      <td>1</td>\n",
       "      <td>39.878987</td>\n",
       "      <td>116.126687</td>\n",
       "      <td>2008-10-23 12:00:00</td>\n",
       "      <td>2</td>\n",
       "    </tr>\n",
       "    <tr>\n",
       "      <th>3</th>\n",
       "      <td>1</td>\n",
       "      <td>40.013819</td>\n",
       "      <td>116.306532</td>\n",
       "      <td>2008-10-23 14:00:00</td>\n",
       "      <td>1</td>\n",
       "    </tr>\n",
       "    <tr>\n",
       "      <th>4</th>\n",
       "      <td>1</td>\n",
       "      <td>39.878987</td>\n",
       "      <td>116.126687</td>\n",
       "      <td>2008-10-23 18:00:00</td>\n",
       "      <td>2</td>\n",
       "    </tr>\n",
       "    <tr>\n",
       "      <th>5</th>\n",
       "      <td>1</td>\n",
       "      <td>40.231382</td>\n",
       "      <td>116.306532</td>\n",
       "      <td>2008-10-23 19:00:00</td>\n",
       "      <td>3</td>\n",
       "    </tr>\n",
       "    <tr>\n",
       "      <th>6</th>\n",
       "      <td>1</td>\n",
       "      <td>39.978253</td>\n",
       "      <td>116.327275</td>\n",
       "      <td>2008-10-24 00:00:00</td>\n",
       "      <td>0</td>\n",
       "    </tr>\n",
       "    <tr>\n",
       "      <th>7</th>\n",
       "      <td>1</td>\n",
       "      <td>39.978253</td>\n",
       "      <td>116.327275</td>\n",
       "      <td>2008-10-25 00:00:00</td>\n",
       "      <td>0</td>\n",
       "    </tr>\n",
       "    <tr>\n",
       "      <th>8</th>\n",
       "      <td>1</td>\n",
       "      <td>39.978253</td>\n",
       "      <td>116.327275</td>\n",
       "      <td>2008-10-25 00:00:00</td>\n",
       "      <td>0</td>\n",
       "    </tr>\n",
       "  </tbody>\n",
       "</table>\n",
       "</div>"
      ],
      "text/plain": [
       "   uid        lat         lng            datetime  location\n",
       "0    1  39.978253  116.327275 2008-10-23 00:00:00         0\n",
       "1    1  40.013819  116.306532 2008-10-23 08:00:00         1\n",
       "2    1  39.878987  116.126687 2008-10-23 12:00:00         2\n",
       "3    1  40.013819  116.306532 2008-10-23 14:00:00         1\n",
       "4    1  39.878987  116.126687 2008-10-23 18:00:00         2\n",
       "5    1  40.231382  116.306532 2008-10-23 19:00:00         3\n",
       "6    1  39.978253  116.327275 2008-10-24 00:00:00         0\n",
       "7    1  39.978253  116.327275 2008-10-25 00:00:00         0\n",
       "8    1  39.978253  116.327275 2008-10-25 00:00:00         0"
      ]
     },
     "execution_count": 23,
     "metadata": {},
     "output_type": "execute_result"
    }
   ],
   "source": [
    "data_set = [[1, 39.978253, 116.3272755, '2008-10-23 00:00:00', 0],\n",
    "[1,40.013819, 116.306532,'2008-10-23 08:00:00', 1],\n",
    "[1,39.878987, 116.1266865,'2008-10-23 12:00:00', 2],\n",
    "[1,40.013819, 116.306532,'2008-10-23 14:00:00', 1],\n",
    "[1,39.878987, 116.1266865,'2008-10-23 18:00:00', 2],\n",
    "[1,40.2313819, 116.306532,'2008-10-23 19:00:00', 3],\n",
    "[1, 39.978253, 116.3272755, '2008-10-24 00:00:00', 0], \n",
    "[1, 39.978253, 116.3272755, '2008-10-25 00:00:00', 0],\n",
    "           [1, 39.978253, 116.3272755, '2008-10-25 00:00:00', 0]]\n",
    "\n",
    "tdf = TrajDataFrame(data_set, latitude=1, longitude=2, datetime=3, user_id=0)\n",
    "tdf.rename(columns={4: \"location\"}, inplace=True)\n",
    "\n",
    "tdf"
   ]
  },
  {
   "cell_type": "code",
   "execution_count": null,
   "metadata": {},
   "outputs": [],
   "source": []
  }
 ],
 "metadata": {
  "anaconda-cloud": {},
  "celltoolbar": "Slideshow",
  "hide_input": false,
  "kernelspec": {
   "display_name": "Python [conda env:skmob]",
   "language": "python",
   "name": "skmob"
  },
  "language_info": {
   "codemirror_mode": {
    "name": "ipython",
    "version": 3
   },
   "file_extension": ".py",
   "mimetype": "text/x-python",
   "name": "python",
   "nbconvert_exporter": "python",
   "pygments_lexer": "ipython3",
   "version": "3.7.3"
  },
  "latex_envs": {
   "LaTeX_envs_menu_present": true,
   "autoclose": false,
   "autocomplete": true,
   "bibliofile": "biblio.bib",
   "cite_by": "apalike",
   "current_citInitial": 1,
   "eqLabelWithNumbers": true,
   "eqNumInitial": 1,
   "hotkeys": {
    "equation": "Ctrl-E",
    "itemize": "Ctrl-I"
   },
   "labels_anchors": false,
   "latex_user_defs": false,
   "report_style_numbering": true,
   "user_envs_cfg": false
  }
 },
 "nbformat": 4,
 "nbformat_minor": 1
}
