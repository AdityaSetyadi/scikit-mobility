{
 "cells": [
  {
   "cell_type": "markdown",
   "metadata": {
    "pycharm": {},
    "slideshow": {
     "slide_type": "slide"
    }
   },
   "source": [
    "### scikit-mobility tutorials\n",
    "\n",
    "# **NUM - Privacy Risk Assessment**\n",
    "\n",
    "#### Simulate privacy attacks and assess risk with a worst-case scenario framework\n",
    "\n",
    "#### First, we import the necessary libraries along with some utility functions"
   ]
  },
  {
   "cell_type": "code",
   "execution_count": 1,
   "metadata": {
    "pycharm": {},
    "slideshow": {
     "slide_type": "fragment"
    }
   },
   "outputs": [],
   "source": [
    "from skmob.privacy import attacks\n",
    "from skmob.core.trajectorydataframe import TrajDataFrame\n",
    "from skmob.utils import constants"
   ]
  },
  {
   "cell_type": "markdown",
   "metadata": {
    "pycharm": {},
    "slideshow": {
     "slide_type": "fragment"
    }
   },
   "source": [
    "#### To more easily visualize how risk is computed, we use a dummy dataset."
   ]
  },
  {
   "cell_type": "code",
   "execution_count": 2,
   "metadata": {
    "pycharm": {},
    "slideshow": {
     "slide_type": "fragment"
    }
   },
   "outputs": [],
   "source": [
    "trjdat = TrajDataFrame.from_file(filename=\"./data/privacy_toy.csv\", sep=\",\")"
   ]
  },
  {
   "cell_type": "code",
   "execution_count": 3,
   "metadata": {
    "pycharm": {},
    "scrolled": true,
    "slideshow": {
     "slide_type": "fragment"
    }
   },
   "outputs": [
    {
     "data": {
      "text/html": [
       "<div>\n",
       "<style scoped>\n",
       "    .dataframe tbody tr th:only-of-type {\n",
       "        vertical-align: middle;\n",
       "    }\n",
       "\n",
       "    .dataframe tbody tr th {\n",
       "        vertical-align: top;\n",
       "    }\n",
       "\n",
       "    .dataframe thead th {\n",
       "        text-align: right;\n",
       "    }\n",
       "</style>\n",
       "<table border=\"1\" class=\"dataframe\">\n",
       "  <thead>\n",
       "    <tr style=\"text-align: right;\">\n",
       "      <th></th>\n",
       "      <th>lat</th>\n",
       "      <th>lng</th>\n",
       "      <th>datetime</th>\n",
       "      <th>uid</th>\n",
       "    </tr>\n",
       "  </thead>\n",
       "  <tbody>\n",
       "    <tr>\n",
       "      <th>0</th>\n",
       "      <td>43.843014</td>\n",
       "      <td>10.507994</td>\n",
       "      <td>2011-02-03 08:34:04</td>\n",
       "      <td>1</td>\n",
       "    </tr>\n",
       "    <tr>\n",
       "      <th>1</th>\n",
       "      <td>43.544270</td>\n",
       "      <td>10.326150</td>\n",
       "      <td>2011-02-03 09:34:04</td>\n",
       "      <td>1</td>\n",
       "    </tr>\n",
       "    <tr>\n",
       "      <th>2</th>\n",
       "      <td>43.708530</td>\n",
       "      <td>10.403600</td>\n",
       "      <td>2011-02-03 10:34:04</td>\n",
       "      <td>1</td>\n",
       "    </tr>\n",
       "    <tr>\n",
       "      <th>3</th>\n",
       "      <td>43.779250</td>\n",
       "      <td>11.246260</td>\n",
       "      <td>2011-02-04 10:34:04</td>\n",
       "      <td>1</td>\n",
       "    </tr>\n",
       "    <tr>\n",
       "      <th>4</th>\n",
       "      <td>43.843014</td>\n",
       "      <td>10.507994</td>\n",
       "      <td>2011-02-03 08:34:04</td>\n",
       "      <td>2</td>\n",
       "    </tr>\n",
       "    <tr>\n",
       "      <th>5</th>\n",
       "      <td>43.708530</td>\n",
       "      <td>10.403600</td>\n",
       "      <td>2011-02-03 09:34:04</td>\n",
       "      <td>2</td>\n",
       "    </tr>\n",
       "    <tr>\n",
       "      <th>6</th>\n",
       "      <td>43.843014</td>\n",
       "      <td>10.507994</td>\n",
       "      <td>2011-02-04 10:34:04</td>\n",
       "      <td>2</td>\n",
       "    </tr>\n",
       "    <tr>\n",
       "      <th>7</th>\n",
       "      <td>43.544270</td>\n",
       "      <td>10.326150</td>\n",
       "      <td>2011-02-04 11:34:04</td>\n",
       "      <td>2</td>\n",
       "    </tr>\n",
       "    <tr>\n",
       "      <th>8</th>\n",
       "      <td>43.544270</td>\n",
       "      <td>10.326150</td>\n",
       "      <td>2011-02-03 08:34:04</td>\n",
       "      <td>3</td>\n",
       "    </tr>\n",
       "    <tr>\n",
       "      <th>9</th>\n",
       "      <td>43.708530</td>\n",
       "      <td>10.403600</td>\n",
       "      <td>2011-02-03 09:34:04</td>\n",
       "      <td>3</td>\n",
       "    </tr>\n",
       "    <tr>\n",
       "      <th>10</th>\n",
       "      <td>43.843014</td>\n",
       "      <td>10.507994</td>\n",
       "      <td>2011-02-04 10:34:04</td>\n",
       "      <td>3</td>\n",
       "    </tr>\n",
       "    <tr>\n",
       "      <th>11</th>\n",
       "      <td>43.779250</td>\n",
       "      <td>11.246260</td>\n",
       "      <td>2011-02-04 11:34:04</td>\n",
       "      <td>3</td>\n",
       "    </tr>\n",
       "    <tr>\n",
       "      <th>12</th>\n",
       "      <td>43.708530</td>\n",
       "      <td>10.403600</td>\n",
       "      <td>2011-02-04 10:34:04</td>\n",
       "      <td>4</td>\n",
       "    </tr>\n",
       "    <tr>\n",
       "      <th>13</th>\n",
       "      <td>43.544270</td>\n",
       "      <td>10.326150</td>\n",
       "      <td>2011-02-04 11:34:04</td>\n",
       "      <td>4</td>\n",
       "    </tr>\n",
       "    <tr>\n",
       "      <th>14</th>\n",
       "      <td>43.779250</td>\n",
       "      <td>11.246260</td>\n",
       "      <td>2011-02-04 12:34:04</td>\n",
       "      <td>4</td>\n",
       "    </tr>\n",
       "    <tr>\n",
       "      <th>15</th>\n",
       "      <td>43.708530</td>\n",
       "      <td>10.403600</td>\n",
       "      <td>2011-02-04 10:34:04</td>\n",
       "      <td>5</td>\n",
       "    </tr>\n",
       "    <tr>\n",
       "      <th>16</th>\n",
       "      <td>43.779250</td>\n",
       "      <td>11.246260</td>\n",
       "      <td>2011-02-04 11:34:04</td>\n",
       "      <td>5</td>\n",
       "    </tr>\n",
       "    <tr>\n",
       "      <th>17</th>\n",
       "      <td>43.843014</td>\n",
       "      <td>10.507994</td>\n",
       "      <td>2011-02-05 12:34:04</td>\n",
       "      <td>5</td>\n",
       "    </tr>\n",
       "    <tr>\n",
       "      <th>18</th>\n",
       "      <td>43.843014</td>\n",
       "      <td>10.507994</td>\n",
       "      <td>2011-02-04 10:34:04</td>\n",
       "      <td>6</td>\n",
       "    </tr>\n",
       "    <tr>\n",
       "      <th>19</th>\n",
       "      <td>43.544270</td>\n",
       "      <td>10.326150</td>\n",
       "      <td>2011-02-04 11:34:04</td>\n",
       "      <td>6</td>\n",
       "    </tr>\n",
       "    <tr>\n",
       "      <th>20</th>\n",
       "      <td>43.843014</td>\n",
       "      <td>10.507994</td>\n",
       "      <td>2011-02-04 10:34:04</td>\n",
       "      <td>7</td>\n",
       "    </tr>\n",
       "    <tr>\n",
       "      <th>21</th>\n",
       "      <td>43.843014</td>\n",
       "      <td>10.507994</td>\n",
       "      <td>2011-02-04 11:34:04</td>\n",
       "      <td>7</td>\n",
       "    </tr>\n",
       "    <tr>\n",
       "      <th>22</th>\n",
       "      <td>43.779250</td>\n",
       "      <td>11.246260</td>\n",
       "      <td>2011-02-05 12:34:04</td>\n",
       "      <td>7</td>\n",
       "    </tr>\n",
       "  </tbody>\n",
       "</table>\n",
       "</div>"
      ],
      "text/plain": [
       "          lat        lng            datetime  uid\n",
       "0   43.843014  10.507994 2011-02-03 08:34:04    1\n",
       "1   43.544270  10.326150 2011-02-03 09:34:04    1\n",
       "2   43.708530  10.403600 2011-02-03 10:34:04    1\n",
       "3   43.779250  11.246260 2011-02-04 10:34:04    1\n",
       "4   43.843014  10.507994 2011-02-03 08:34:04    2\n",
       "5   43.708530  10.403600 2011-02-03 09:34:04    2\n",
       "6   43.843014  10.507994 2011-02-04 10:34:04    2\n",
       "7   43.544270  10.326150 2011-02-04 11:34:04    2\n",
       "8   43.544270  10.326150 2011-02-03 08:34:04    3\n",
       "9   43.708530  10.403600 2011-02-03 09:34:04    3\n",
       "10  43.843014  10.507994 2011-02-04 10:34:04    3\n",
       "11  43.779250  11.246260 2011-02-04 11:34:04    3\n",
       "12  43.708530  10.403600 2011-02-04 10:34:04    4\n",
       "13  43.544270  10.326150 2011-02-04 11:34:04    4\n",
       "14  43.779250  11.246260 2011-02-04 12:34:04    4\n",
       "15  43.708530  10.403600 2011-02-04 10:34:04    5\n",
       "16  43.779250  11.246260 2011-02-04 11:34:04    5\n",
       "17  43.843014  10.507994 2011-02-05 12:34:04    5\n",
       "18  43.843014  10.507994 2011-02-04 10:34:04    6\n",
       "19  43.544270  10.326150 2011-02-04 11:34:04    6\n",
       "20  43.843014  10.507994 2011-02-04 10:34:04    7\n",
       "21  43.843014  10.507994 2011-02-04 11:34:04    7\n",
       "22  43.779250  11.246260 2011-02-05 12:34:04    7"
      ]
     },
     "execution_count": 3,
     "metadata": {},
     "output_type": "execute_result"
    }
   ],
   "source": [
    "trjdat"
   ]
  },
  {
   "cell_type": "markdown",
   "metadata": {
    "pycharm": {},
    "slideshow": {
     "slide_type": "slide"
    }
   },
   "source": [
    "#### Each different kind of attack is modeled as a separate class inheriting essential functionalities from a generic Attack class. We can instatiante an attack model by specifying the length of the background knowledge that we want to simulate."
   ]
  },
  {
   "cell_type": "code",
   "execution_count": 4,
   "metadata": {
    "pycharm": {},
    "slideshow": {
     "slide_type": "fragment"
    }
   },
   "outputs": [],
   "source": [
    "at = attacks.LocationAttack(k=2)"
   ]
  },
  {
   "cell_type": "markdown",
   "metadata": {
    "pycharm": {},
    "slideshow": {
     "slide_type": "fragment"
    }
   },
   "source": [
    "#### To compute privacy risk for all the users in the data, simply call the assess_risk function on the dataframe that we want to analyze."
   ]
  },
  {
   "cell_type": "code",
   "execution_count": 5,
   "metadata": {
    "pycharm": {},
    "scrolled": true,
    "slideshow": {
     "slide_type": "fragment"
    }
   },
   "outputs": [
    {
     "data": {
      "text/html": [
       "<div>\n",
       "<style scoped>\n",
       "    .dataframe tbody tr th:only-of-type {\n",
       "        vertical-align: middle;\n",
       "    }\n",
       "\n",
       "    .dataframe tbody tr th {\n",
       "        vertical-align: top;\n",
       "    }\n",
       "\n",
       "    .dataframe thead th {\n",
       "        text-align: right;\n",
       "    }\n",
       "</style>\n",
       "<table border=\"1\" class=\"dataframe\">\n",
       "  <thead>\n",
       "    <tr style=\"text-align: right;\">\n",
       "      <th></th>\n",
       "      <th>uid</th>\n",
       "      <th>risk</th>\n",
       "    </tr>\n",
       "  </thead>\n",
       "  <tbody>\n",
       "    <tr>\n",
       "      <th>0</th>\n",
       "      <td>1</td>\n",
       "      <td>0.333333</td>\n",
       "    </tr>\n",
       "    <tr>\n",
       "      <th>1</th>\n",
       "      <td>2</td>\n",
       "      <td>0.500000</td>\n",
       "    </tr>\n",
       "    <tr>\n",
       "      <th>2</th>\n",
       "      <td>3</td>\n",
       "      <td>0.333333</td>\n",
       "    </tr>\n",
       "    <tr>\n",
       "      <th>3</th>\n",
       "      <td>4</td>\n",
       "      <td>0.333333</td>\n",
       "    </tr>\n",
       "    <tr>\n",
       "      <th>4</th>\n",
       "      <td>5</td>\n",
       "      <td>0.250000</td>\n",
       "    </tr>\n",
       "    <tr>\n",
       "      <th>5</th>\n",
       "      <td>6</td>\n",
       "      <td>0.250000</td>\n",
       "    </tr>\n",
       "    <tr>\n",
       "      <th>6</th>\n",
       "      <td>7</td>\n",
       "      <td>0.500000</td>\n",
       "    </tr>\n",
       "  </tbody>\n",
       "</table>\n",
       "</div>"
      ],
      "text/plain": [
       "   uid      risk\n",
       "0    1  0.333333\n",
       "1    2  0.500000\n",
       "2    3  0.333333\n",
       "3    4  0.333333\n",
       "4    5  0.250000\n",
       "5    6  0.250000\n",
       "6    7  0.500000"
      ]
     },
     "execution_count": 5,
     "metadata": {},
     "output_type": "execute_result"
    }
   ],
   "source": [
    "at.assess_risk(trjdat)"
   ]
  },
  {
   "cell_type": "markdown",
   "metadata": {
    "pycharm": {},
    "slideshow": {
     "slide_type": "slide"
    }
   },
   "source": [
    "### **Assessment workings and options**"
   ]
  },
  {
   "cell_type": "markdown",
   "metadata": {
    "pycharm": {},
    "slideshow": {
     "slide_type": "fragment"
    }
   },
   "source": [
    "#### To change the background knowledge size, we can either change the k parameter with the set_k function, or instantiate a new attack model"
   ]
  },
  {
   "cell_type": "code",
   "execution_count": 6,
   "metadata": {
    "pycharm": {},
    "slideshow": {
     "slide_type": "fragment"
    }
   },
   "outputs": [
    {
     "data": {
      "text/html": [
       "<div>\n",
       "<style scoped>\n",
       "    .dataframe tbody tr th:only-of-type {\n",
       "        vertical-align: middle;\n",
       "    }\n",
       "\n",
       "    .dataframe tbody tr th {\n",
       "        vertical-align: top;\n",
       "    }\n",
       "\n",
       "    .dataframe thead th {\n",
       "        text-align: right;\n",
       "    }\n",
       "</style>\n",
       "<table border=\"1\" class=\"dataframe\">\n",
       "  <thead>\n",
       "    <tr style=\"text-align: right;\">\n",
       "      <th></th>\n",
       "      <th>uid</th>\n",
       "      <th>risk</th>\n",
       "    </tr>\n",
       "  </thead>\n",
       "  <tbody>\n",
       "    <tr>\n",
       "      <th>0</th>\n",
       "      <td>1</td>\n",
       "      <td>0.500000</td>\n",
       "    </tr>\n",
       "    <tr>\n",
       "      <th>1</th>\n",
       "      <td>2</td>\n",
       "      <td>1.000000</td>\n",
       "    </tr>\n",
       "    <tr>\n",
       "      <th>2</th>\n",
       "      <td>3</td>\n",
       "      <td>0.500000</td>\n",
       "    </tr>\n",
       "    <tr>\n",
       "      <th>3</th>\n",
       "      <td>4</td>\n",
       "      <td>0.333333</td>\n",
       "    </tr>\n",
       "    <tr>\n",
       "      <th>4</th>\n",
       "      <td>5</td>\n",
       "      <td>0.333333</td>\n",
       "    </tr>\n",
       "    <tr>\n",
       "      <th>5</th>\n",
       "      <td>6</td>\n",
       "      <td>0.250000</td>\n",
       "    </tr>\n",
       "    <tr>\n",
       "      <th>6</th>\n",
       "      <td>7</td>\n",
       "      <td>1.000000</td>\n",
       "    </tr>\n",
       "  </tbody>\n",
       "</table>\n",
       "</div>"
      ],
      "text/plain": [
       "   uid      risk\n",
       "0    1  0.500000\n",
       "1    2  1.000000\n",
       "2    3  0.500000\n",
       "3    4  0.333333\n",
       "4    5  0.333333\n",
       "5    6  0.250000\n",
       "6    7  1.000000"
      ]
     },
     "execution_count": 6,
     "metadata": {},
     "output_type": "execute_result"
    }
   ],
   "source": [
    "at.set_k(3)\n",
    "at.assess_risk(trjdat)"
   ]
  },
  {
   "cell_type": "markdown",
   "metadata": {
    "pycharm": {},
    "slideshow": {
     "slide_type": "subslide"
    }
   },
   "source": [
    "#### Not all combinations may be evaluated during the assessment: if one with maximum risk is found (risk equal to 1.0), subsequent combinations are simply discarded, for efficiency.\n",
    "#### If we want to show all the possible combinations we can use the 'instance_analysis' parameter\n",
    "####  As all combinations are calculated and evaluated, this may require long times and high memory usage"
   ]
  },
  {
   "cell_type": "code",
   "execution_count": 7,
   "metadata": {
    "pycharm": {},
    "slideshow": {
     "slide_type": "fragment"
    }
   },
   "outputs": [
    {
     "data": {
      "text/html": [
       "<div>\n",
       "<style scoped>\n",
       "    .dataframe tbody tr th:only-of-type {\n",
       "        vertical-align: middle;\n",
       "    }\n",
       "\n",
       "    .dataframe tbody tr th {\n",
       "        vertical-align: top;\n",
       "    }\n",
       "\n",
       "    .dataframe thead th {\n",
       "        text-align: right;\n",
       "    }\n",
       "</style>\n",
       "<table border=\"1\" class=\"dataframe\">\n",
       "  <thead>\n",
       "    <tr style=\"text-align: right;\">\n",
       "      <th></th>\n",
       "      <th>instance</th>\n",
       "      <th>reid_prob</th>\n",
       "    </tr>\n",
       "    <tr>\n",
       "      <th>uid</th>\n",
       "      <th></th>\n",
       "      <th></th>\n",
       "    </tr>\n",
       "  </thead>\n",
       "  <tbody>\n",
       "    <tr>\n",
       "      <th>1</th>\n",
       "      <td>([43.843013899999995, 10.507994, 2011-02-03 08...</td>\n",
       "      <td>0.333333</td>\n",
       "    </tr>\n",
       "    <tr>\n",
       "      <th>1</th>\n",
       "      <td>([43.843013899999995, 10.507994, 2011-02-03 08...</td>\n",
       "      <td>0.500000</td>\n",
       "    </tr>\n",
       "    <tr>\n",
       "      <th>1</th>\n",
       "      <td>([43.843013899999995, 10.507994, 2011-02-03 08...</td>\n",
       "      <td>0.333333</td>\n",
       "    </tr>\n",
       "    <tr>\n",
       "      <th>1</th>\n",
       "      <td>([43.544270000000004, 10.32615, 2011-02-03 09:...</td>\n",
       "      <td>0.333333</td>\n",
       "    </tr>\n",
       "    <tr>\n",
       "      <th>2</th>\n",
       "      <td>([43.843013899999995, 10.507994, 2011-02-03 08...</td>\n",
       "      <td>1.000000</td>\n",
       "    </tr>\n",
       "    <tr>\n",
       "      <th>2</th>\n",
       "      <td>([43.843013899999995, 10.507994, 2011-02-03 08...</td>\n",
       "      <td>0.333333</td>\n",
       "    </tr>\n",
       "    <tr>\n",
       "      <th>2</th>\n",
       "      <td>([43.843013899999995, 10.507994, 2011-02-03 08...</td>\n",
       "      <td>1.000000</td>\n",
       "    </tr>\n",
       "    <tr>\n",
       "      <th>2</th>\n",
       "      <td>([43.708529999999996, 10.4036, 2011-02-03 09:3...</td>\n",
       "      <td>0.333333</td>\n",
       "    </tr>\n",
       "    <tr>\n",
       "      <th>3</th>\n",
       "      <td>([43.544270000000004, 10.32615, 2011-02-03 08:...</td>\n",
       "      <td>0.333333</td>\n",
       "    </tr>\n",
       "    <tr>\n",
       "      <th>3</th>\n",
       "      <td>([43.544270000000004, 10.32615, 2011-02-03 08:...</td>\n",
       "      <td>0.333333</td>\n",
       "    </tr>\n",
       "    <tr>\n",
       "      <th>3</th>\n",
       "      <td>([43.544270000000004, 10.32615, 2011-02-03 08:...</td>\n",
       "      <td>0.500000</td>\n",
       "    </tr>\n",
       "    <tr>\n",
       "      <th>3</th>\n",
       "      <td>([43.708529999999996, 10.4036, 2011-02-03 09:3...</td>\n",
       "      <td>0.333333</td>\n",
       "    </tr>\n",
       "    <tr>\n",
       "      <th>4</th>\n",
       "      <td>([43.708529999999996, 10.4036, 2011-02-04 10:3...</td>\n",
       "      <td>0.333333</td>\n",
       "    </tr>\n",
       "    <tr>\n",
       "      <th>5</th>\n",
       "      <td>([43.708529999999996, 10.4036, 2011-02-04 10:3...</td>\n",
       "      <td>0.333333</td>\n",
       "    </tr>\n",
       "    <tr>\n",
       "      <th>6</th>\n",
       "      <td>([43.843013899999995, 10.507994, 2011-02-04 10...</td>\n",
       "      <td>0.250000</td>\n",
       "    </tr>\n",
       "    <tr>\n",
       "      <th>7</th>\n",
       "      <td>([43.843013899999995, 10.507994, 2011-02-04 10...</td>\n",
       "      <td>1.000000</td>\n",
       "    </tr>\n",
       "  </tbody>\n",
       "</table>\n",
       "</div>"
      ],
      "text/plain": [
       "                                              instance  reid_prob\n",
       "uid                                                              \n",
       "1    ([43.843013899999995, 10.507994, 2011-02-03 08...   0.333333\n",
       "1    ([43.843013899999995, 10.507994, 2011-02-03 08...   0.500000\n",
       "1    ([43.843013899999995, 10.507994, 2011-02-03 08...   0.333333\n",
       "1    ([43.544270000000004, 10.32615, 2011-02-03 09:...   0.333333\n",
       "2    ([43.843013899999995, 10.507994, 2011-02-03 08...   1.000000\n",
       "2    ([43.843013899999995, 10.507994, 2011-02-03 08...   0.333333\n",
       "2    ([43.843013899999995, 10.507994, 2011-02-03 08...   1.000000\n",
       "2    ([43.708529999999996, 10.4036, 2011-02-03 09:3...   0.333333\n",
       "3    ([43.544270000000004, 10.32615, 2011-02-03 08:...   0.333333\n",
       "3    ([43.544270000000004, 10.32615, 2011-02-03 08:...   0.333333\n",
       "3    ([43.544270000000004, 10.32615, 2011-02-03 08:...   0.500000\n",
       "3    ([43.708529999999996, 10.4036, 2011-02-03 09:3...   0.333333\n",
       "4    ([43.708529999999996, 10.4036, 2011-02-04 10:3...   0.333333\n",
       "5    ([43.708529999999996, 10.4036, 2011-02-04 10:3...   0.333333\n",
       "6    ([43.843013899999995, 10.507994, 2011-02-04 10...   0.250000\n",
       "7    ([43.843013899999995, 10.507994, 2011-02-04 10...   1.000000"
      ]
     },
     "execution_count": 7,
     "metadata": {},
     "output_type": "execute_result"
    }
   ],
   "source": [
    "at.assess_risk(trjdat, instance_analysis=True)"
   ]
  },
  {
   "cell_type": "markdown",
   "metadata": {
    "pycharm": {},
    "slideshow": {
     "slide_type": "subslide"
    }
   },
   "source": [
    "#### The computation's complexity is dominated by the nunmber of combinations generated, which itself depends on both the background knowledge length and the average length of each user's trajectory. "
   ]
  },
  {
   "cell_type": "markdown",
   "metadata": {
    "pycharm": {},
    "slideshow": {
     "slide_type": "fragment"
    }
   },
   "source": [
    "\\begin{equation*}\n",
    "\\mathcal{O} \\Bigl(  \\binom{l}{k} |T|  matching \\Bigr)\n",
    "\\end{equation*}\n",
    "#### where 'l' is the length of the current trajectory considered, 'k' is the background knowledge length, 'T' is the set of all target trajectories and 'matching' stands for the cost of the matching operation between each combination and the data."
   ]
  },
  {
   "cell_type": "markdown",
   "metadata": {
    "pycharm": {},
    "slideshow": {
     "slide_type": "fragment"
    }
   },
   "source": [
    "#### A subset of the users can be specified with the parameter 'targets', to restrict the calculation to just some of the data. The parameter can be either a list or a dataframe. The user ids contained in the structure will be the ones processed for risk assessment.\n",
    "#### Probability of reidentification is still computed against the original data. So the entire dataset is still used for the matching.\n",
    "#### Can be used in combination with instance_analysis to isolate particular individuals and understand what combinations pose a threat."
   ]
  },
  {
   "cell_type": "code",
   "execution_count": 8,
   "metadata": {
    "pycharm": {},
    "slideshow": {
     "slide_type": "fragment"
    }
   },
   "outputs": [
    {
     "data": {
      "text/html": [
       "<div>\n",
       "<style scoped>\n",
       "    .dataframe tbody tr th:only-of-type {\n",
       "        vertical-align: middle;\n",
       "    }\n",
       "\n",
       "    .dataframe tbody tr th {\n",
       "        vertical-align: top;\n",
       "    }\n",
       "\n",
       "    .dataframe thead th {\n",
       "        text-align: right;\n",
       "    }\n",
       "</style>\n",
       "<table border=\"1\" class=\"dataframe\">\n",
       "  <thead>\n",
       "    <tr style=\"text-align: right;\">\n",
       "      <th></th>\n",
       "      <th>instance</th>\n",
       "      <th>reid_prob</th>\n",
       "    </tr>\n",
       "    <tr>\n",
       "      <th>uid</th>\n",
       "      <th></th>\n",
       "      <th></th>\n",
       "    </tr>\n",
       "  </thead>\n",
       "  <tbody>\n",
       "    <tr>\n",
       "      <th>1</th>\n",
       "      <td>([43.843013899999995, 10.507994, 2011-02-03 08...</td>\n",
       "      <td>0.333333</td>\n",
       "    </tr>\n",
       "    <tr>\n",
       "      <th>1</th>\n",
       "      <td>([43.843013899999995, 10.507994, 2011-02-03 08...</td>\n",
       "      <td>0.500000</td>\n",
       "    </tr>\n",
       "    <tr>\n",
       "      <th>1</th>\n",
       "      <td>([43.843013899999995, 10.507994, 2011-02-03 08...</td>\n",
       "      <td>0.333333</td>\n",
       "    </tr>\n",
       "    <tr>\n",
       "      <th>1</th>\n",
       "      <td>([43.544270000000004, 10.32615, 2011-02-03 09:...</td>\n",
       "      <td>0.333333</td>\n",
       "    </tr>\n",
       "    <tr>\n",
       "      <th>2</th>\n",
       "      <td>([43.843013899999995, 10.507994, 2011-02-03 08...</td>\n",
       "      <td>1.000000</td>\n",
       "    </tr>\n",
       "    <tr>\n",
       "      <th>2</th>\n",
       "      <td>([43.843013899999995, 10.507994, 2011-02-03 08...</td>\n",
       "      <td>0.333333</td>\n",
       "    </tr>\n",
       "    <tr>\n",
       "      <th>2</th>\n",
       "      <td>([43.843013899999995, 10.507994, 2011-02-03 08...</td>\n",
       "      <td>1.000000</td>\n",
       "    </tr>\n",
       "    <tr>\n",
       "      <th>2</th>\n",
       "      <td>([43.708529999999996, 10.4036, 2011-02-03 09:3...</td>\n",
       "      <td>0.333333</td>\n",
       "    </tr>\n",
       "  </tbody>\n",
       "</table>\n",
       "</div>"
      ],
      "text/plain": [
       "                                              instance  reid_prob\n",
       "uid                                                              \n",
       "1    ([43.843013899999995, 10.507994, 2011-02-03 08...   0.333333\n",
       "1    ([43.843013899999995, 10.507994, 2011-02-03 08...   0.500000\n",
       "1    ([43.843013899999995, 10.507994, 2011-02-03 08...   0.333333\n",
       "1    ([43.544270000000004, 10.32615, 2011-02-03 09:...   0.333333\n",
       "2    ([43.843013899999995, 10.507994, 2011-02-03 08...   1.000000\n",
       "2    ([43.843013899999995, 10.507994, 2011-02-03 08...   0.333333\n",
       "2    ([43.843013899999995, 10.507994, 2011-02-03 08...   1.000000\n",
       "2    ([43.708529999999996, 10.4036, 2011-02-03 09:3...   0.333333"
      ]
     },
     "execution_count": 8,
     "metadata": {},
     "output_type": "execute_result"
    }
   ],
   "source": [
    "t = [1,2]\n",
    "at.assess_risk(trjdat, targets=t, instance_analysis=True)"
   ]
  },
  {
   "cell_type": "markdown",
   "metadata": {
    "pycharm": {},
    "slideshow": {
     "slide_type": "subslide"
    }
   },
   "source": [
    "#### Risk computation is slow. To check on the progress, we can use the show_progress flag"
   ]
  },
  {
   "cell_type": "code",
   "execution_count": 10,
   "metadata": {
    "pycharm": {},
    "slideshow": {
     "slide_type": "fragment"
    }
   },
   "outputs": [
    {
     "name": "stderr",
     "output_type": "stream",
     "text": [
      "computing risk: 100%|██████████| 7/7 [00:01<00:00,  5.94it/s]\n"
     ]
    },
    {
     "data": {
      "text/html": [
       "<div>\n",
       "<style scoped>\n",
       "    .dataframe tbody tr th:only-of-type {\n",
       "        vertical-align: middle;\n",
       "    }\n",
       "\n",
       "    .dataframe tbody tr th {\n",
       "        vertical-align: top;\n",
       "    }\n",
       "\n",
       "    .dataframe thead th {\n",
       "        text-align: right;\n",
       "    }\n",
       "</style>\n",
       "<table border=\"1\" class=\"dataframe\">\n",
       "  <thead>\n",
       "    <tr style=\"text-align: right;\">\n",
       "      <th></th>\n",
       "      <th>uid</th>\n",
       "      <th>risk</th>\n",
       "    </tr>\n",
       "  </thead>\n",
       "  <tbody>\n",
       "    <tr>\n",
       "      <th>0</th>\n",
       "      <td>1</td>\n",
       "      <td>0.500000</td>\n",
       "    </tr>\n",
       "    <tr>\n",
       "      <th>1</th>\n",
       "      <td>2</td>\n",
       "      <td>1.000000</td>\n",
       "    </tr>\n",
       "    <tr>\n",
       "      <th>2</th>\n",
       "      <td>3</td>\n",
       "      <td>0.500000</td>\n",
       "    </tr>\n",
       "    <tr>\n",
       "      <th>3</th>\n",
       "      <td>4</td>\n",
       "      <td>0.333333</td>\n",
       "    </tr>\n",
       "    <tr>\n",
       "      <th>4</th>\n",
       "      <td>5</td>\n",
       "      <td>0.333333</td>\n",
       "    </tr>\n",
       "    <tr>\n",
       "      <th>5</th>\n",
       "      <td>6</td>\n",
       "      <td>0.250000</td>\n",
       "    </tr>\n",
       "    <tr>\n",
       "      <th>6</th>\n",
       "      <td>7</td>\n",
       "      <td>1.000000</td>\n",
       "    </tr>\n",
       "  </tbody>\n",
       "</table>\n",
       "</div>"
      ],
      "text/plain": [
       "   uid      risk\n",
       "0    1  0.500000\n",
       "1    2  1.000000\n",
       "2    3  0.500000\n",
       "3    4  0.333333\n",
       "4    5  0.333333\n",
       "5    6  0.250000\n",
       "6    7  1.000000"
      ]
     },
     "execution_count": 10,
     "metadata": {},
     "output_type": "execute_result"
    }
   ],
   "source": [
    "r = at.assess_risk(trjdat, show_progress=True)\n",
    "r"
   ]
  },
  {
   "cell_type": "markdown",
   "metadata": {
    "pycharm": {},
    "slideshow": {
     "slide_type": "slide"
    }
   },
   "source": [
    "## **Attack Models**\n",
    "#### The library provides eight attack models, each with a different background knowledge:\n",
    " - #### Location Attack: uses the locations visited.\n",
    " - #### LocationSequenceAttack: uses the locations visited with information about the order of visit\n",
    " - #### Location Time Attack: uses the locations visited and the time of visit. A precision for the time can be specified\n",
    " - #### Unique Location Attack: uses the unique locations visited, i.e., disregarding repeated visits to a same location. It operates on frequency vectors\n",
    " - #### Location Frequency Attack: uses the unique locations visited and the frequency with which they were visited. It operates on frequency vectors\n",
    " - #### Location Probability Attack: uses the unique locations visited and the probability with which they were visited. It operates on probability vectors\n",
    " - #### Location Proportion Attack: uses the unique locations visited and the relative proportion of the frequencies of visit. It operates on frequency vectors\n",
    " - #### Home Work Attack: uses the two most visited locations\n",
    "\n",
    "#### Here are a couple examples to better understand how the matching of instances and data works."
   ]
  },
  {
   "cell_type": "markdown",
   "metadata": {
    "pycharm": {},
    "slideshow": {
     "slide_type": "subslide"
    }
   },
   "source": [
    "### **Location Attack**"
   ]
  },
  {
   "cell_type": "code",
   "execution_count": 11,
   "metadata": {
    "pycharm": {},
    "slideshow": {
     "slide_type": "fragment"
    }
   },
   "outputs": [
    {
     "data": {
      "text/html": [
       "<div>\n",
       "<style scoped>\n",
       "    .dataframe tbody tr th:only-of-type {\n",
       "        vertical-align: middle;\n",
       "    }\n",
       "\n",
       "    .dataframe tbody tr th {\n",
       "        vertical-align: top;\n",
       "    }\n",
       "\n",
       "    .dataframe thead th {\n",
       "        text-align: right;\n",
       "    }\n",
       "</style>\n",
       "<table border=\"1\" class=\"dataframe\">\n",
       "  <thead>\n",
       "    <tr style=\"text-align: right;\">\n",
       "      <th></th>\n",
       "      <th>instance</th>\n",
       "      <th>reid_prob</th>\n",
       "    </tr>\n",
       "    <tr>\n",
       "      <th>uid</th>\n",
       "      <th></th>\n",
       "      <th></th>\n",
       "    </tr>\n",
       "  </thead>\n",
       "  <tbody>\n",
       "    <tr>\n",
       "      <th>1</th>\n",
       "      <td>([43.843013899999995, 10.507994, 2011-02-03 08...</td>\n",
       "      <td>0.250000</td>\n",
       "    </tr>\n",
       "    <tr>\n",
       "      <th>1</th>\n",
       "      <td>([43.843013899999995, 10.507994, 2011-02-03 08...</td>\n",
       "      <td>0.250000</td>\n",
       "    </tr>\n",
       "    <tr>\n",
       "      <th>1</th>\n",
       "      <td>([43.843013899999995, 10.507994, 2011-02-03 08...</td>\n",
       "      <td>0.250000</td>\n",
       "    </tr>\n",
       "    <tr>\n",
       "      <th>1</th>\n",
       "      <td>([43.544270000000004, 10.32615, 2011-02-03 09:...</td>\n",
       "      <td>0.250000</td>\n",
       "    </tr>\n",
       "    <tr>\n",
       "      <th>1</th>\n",
       "      <td>([43.544270000000004, 10.32615, 2011-02-03 09:...</td>\n",
       "      <td>0.333333</td>\n",
       "    </tr>\n",
       "    <tr>\n",
       "      <th>1</th>\n",
       "      <td>([43.708529999999996, 10.4036, 2011-02-03 10:3...</td>\n",
       "      <td>0.250000</td>\n",
       "    </tr>\n",
       "  </tbody>\n",
       "</table>\n",
       "</div>"
      ],
      "text/plain": [
       "                                              instance  reid_prob\n",
       "uid                                                              \n",
       "1    ([43.843013899999995, 10.507994, 2011-02-03 08...   0.250000\n",
       "1    ([43.843013899999995, 10.507994, 2011-02-03 08...   0.250000\n",
       "1    ([43.843013899999995, 10.507994, 2011-02-03 08...   0.250000\n",
       "1    ([43.544270000000004, 10.32615, 2011-02-03 09:...   0.250000\n",
       "1    ([43.544270000000004, 10.32615, 2011-02-03 09:...   0.333333\n",
       "1    ([43.708529999999996, 10.4036, 2011-02-03 10:3...   0.250000"
      ]
     },
     "execution_count": 11,
     "metadata": {},
     "output_type": "execute_result"
    }
   ],
   "source": [
    "at = attacks.LocationAttack(k=2)\n",
    "r = at.assess_risk(trjdat, targets=[1], instance_analysis=True)\n",
    "r"
   ]
  },
  {
   "cell_type": "markdown",
   "metadata": {
    "pycharm": {},
    "slideshow": {
     "slide_type": "fragment"
    }
   },
   "source": [
    "#### Background knowledge consists of locations, with no information about the order of visit. So from the example above, from the first instance the following information is used:"
   ]
  },
  {
   "cell_type": "code",
   "execution_count": 12,
   "metadata": {
    "pycharm": {},
    "slideshow": {
     "slide_type": "fragment"
    }
   },
   "outputs": [
    {
     "data": {
      "text/html": [
       "<div>\n",
       "<style scoped>\n",
       "    .dataframe tbody tr th:only-of-type {\n",
       "        vertical-align: middle;\n",
       "    }\n",
       "\n",
       "    .dataframe tbody tr th {\n",
       "        vertical-align: top;\n",
       "    }\n",
       "\n",
       "    .dataframe thead th {\n",
       "        text-align: right;\n",
       "    }\n",
       "</style>\n",
       "<table border=\"1\" class=\"dataframe\">\n",
       "  <thead>\n",
       "    <tr style=\"text-align: right;\">\n",
       "      <th></th>\n",
       "      <th>lat</th>\n",
       "      <th>lng</th>\n",
       "    </tr>\n",
       "  </thead>\n",
       "  <tbody>\n",
       "    <tr>\n",
       "      <th>0</th>\n",
       "      <td>43.843014</td>\n",
       "      <td>10.507994</td>\n",
       "    </tr>\n",
       "    <tr>\n",
       "      <th>1</th>\n",
       "      <td>43.544270</td>\n",
       "      <td>10.326150</td>\n",
       "    </tr>\n",
       "  </tbody>\n",
       "</table>\n",
       "</div>"
      ],
      "text/plain": [
       "         lat        lng\n",
       "0  43.843014  10.507994\n",
       "1  43.544270  10.326150"
      ]
     },
     "execution_count": 12,
     "metadata": {},
     "output_type": "execute_result"
    }
   ],
   "source": [
    "trjdat[trjdat[constants.UID] == 1][[constants.LATITUDE,constants.LONGITUDE]].iloc[0:2]"
   ]
  },
  {
   "cell_type": "markdown",
   "metadata": {
    "pycharm": {},
    "slideshow": {
     "slide_type": "fragment"
    }
   },
   "source": [
    "#### Which matches with:"
   ]
  },
  {
   "cell_type": "code",
   "execution_count": 13,
   "metadata": {
    "pycharm": {},
    "slideshow": {
     "slide_type": "fragment"
    }
   },
   "outputs": [
    {
     "data": {
      "text/html": [
       "<div>\n",
       "<style scoped>\n",
       "    .dataframe tbody tr th:only-of-type {\n",
       "        vertical-align: middle;\n",
       "    }\n",
       "\n",
       "    .dataframe tbody tr th {\n",
       "        vertical-align: top;\n",
       "    }\n",
       "\n",
       "    .dataframe thead th {\n",
       "        text-align: right;\n",
       "    }\n",
       "</style>\n",
       "<table border=\"1\" class=\"dataframe\">\n",
       "  <thead>\n",
       "    <tr style=\"text-align: right;\">\n",
       "      <th></th>\n",
       "      <th>lat</th>\n",
       "      <th>lng</th>\n",
       "      <th>datetime</th>\n",
       "      <th>uid</th>\n",
       "    </tr>\n",
       "  </thead>\n",
       "  <tbody>\n",
       "    <tr>\n",
       "      <th>0</th>\n",
       "      <td>43.843014</td>\n",
       "      <td>10.507994</td>\n",
       "      <td>2011-02-03 08:34:04</td>\n",
       "      <td>1</td>\n",
       "    </tr>\n",
       "    <tr>\n",
       "      <th>1</th>\n",
       "      <td>43.544270</td>\n",
       "      <td>10.326150</td>\n",
       "      <td>2011-02-03 09:34:04</td>\n",
       "      <td>1</td>\n",
       "    </tr>\n",
       "    <tr>\n",
       "      <th>2</th>\n",
       "      <td>43.708530</td>\n",
       "      <td>10.403600</td>\n",
       "      <td>2011-02-03 10:34:04</td>\n",
       "      <td>1</td>\n",
       "    </tr>\n",
       "    <tr>\n",
       "      <th>3</th>\n",
       "      <td>43.779250</td>\n",
       "      <td>11.246260</td>\n",
       "      <td>2011-02-04 10:34:04</td>\n",
       "      <td>1</td>\n",
       "    </tr>\n",
       "    <tr>\n",
       "      <th>4</th>\n",
       "      <td>43.843014</td>\n",
       "      <td>10.507994</td>\n",
       "      <td>2011-02-03 08:34:04</td>\n",
       "      <td>2</td>\n",
       "    </tr>\n",
       "    <tr>\n",
       "      <th>5</th>\n",
       "      <td>43.708530</td>\n",
       "      <td>10.403600</td>\n",
       "      <td>2011-02-03 09:34:04</td>\n",
       "      <td>2</td>\n",
       "    </tr>\n",
       "    <tr>\n",
       "      <th>6</th>\n",
       "      <td>43.843014</td>\n",
       "      <td>10.507994</td>\n",
       "      <td>2011-02-04 10:34:04</td>\n",
       "      <td>2</td>\n",
       "    </tr>\n",
       "    <tr>\n",
       "      <th>7</th>\n",
       "      <td>43.544270</td>\n",
       "      <td>10.326150</td>\n",
       "      <td>2011-02-04 11:34:04</td>\n",
       "      <td>2</td>\n",
       "    </tr>\n",
       "    <tr>\n",
       "      <th>8</th>\n",
       "      <td>43.544270</td>\n",
       "      <td>10.326150</td>\n",
       "      <td>2011-02-03 08:34:04</td>\n",
       "      <td>3</td>\n",
       "    </tr>\n",
       "    <tr>\n",
       "      <th>9</th>\n",
       "      <td>43.708530</td>\n",
       "      <td>10.403600</td>\n",
       "      <td>2011-02-03 09:34:04</td>\n",
       "      <td>3</td>\n",
       "    </tr>\n",
       "    <tr>\n",
       "      <th>10</th>\n",
       "      <td>43.843014</td>\n",
       "      <td>10.507994</td>\n",
       "      <td>2011-02-04 10:34:04</td>\n",
       "      <td>3</td>\n",
       "    </tr>\n",
       "    <tr>\n",
       "      <th>11</th>\n",
       "      <td>43.779250</td>\n",
       "      <td>11.246260</td>\n",
       "      <td>2011-02-04 11:34:04</td>\n",
       "      <td>3</td>\n",
       "    </tr>\n",
       "    <tr>\n",
       "      <th>18</th>\n",
       "      <td>43.843014</td>\n",
       "      <td>10.507994</td>\n",
       "      <td>2011-02-04 10:34:04</td>\n",
       "      <td>6</td>\n",
       "    </tr>\n",
       "    <tr>\n",
       "      <th>19</th>\n",
       "      <td>43.544270</td>\n",
       "      <td>10.326150</td>\n",
       "      <td>2011-02-04 11:34:04</td>\n",
       "      <td>6</td>\n",
       "    </tr>\n",
       "  </tbody>\n",
       "</table>\n",
       "</div>"
      ],
      "text/plain": [
       "          lat        lng            datetime  uid\n",
       "0   43.843014  10.507994 2011-02-03 08:34:04    1\n",
       "1   43.544270  10.326150 2011-02-03 09:34:04    1\n",
       "2   43.708530  10.403600 2011-02-03 10:34:04    1\n",
       "3   43.779250  11.246260 2011-02-04 10:34:04    1\n",
       "4   43.843014  10.507994 2011-02-03 08:34:04    2\n",
       "5   43.708530  10.403600 2011-02-03 09:34:04    2\n",
       "6   43.843014  10.507994 2011-02-04 10:34:04    2\n",
       "7   43.544270  10.326150 2011-02-04 11:34:04    2\n",
       "8   43.544270  10.326150 2011-02-03 08:34:04    3\n",
       "9   43.708530  10.403600 2011-02-03 09:34:04    3\n",
       "10  43.843014  10.507994 2011-02-04 10:34:04    3\n",
       "11  43.779250  11.246260 2011-02-04 11:34:04    3\n",
       "18  43.843014  10.507994 2011-02-04 10:34:04    6\n",
       "19  43.544270  10.326150 2011-02-04 11:34:04    6"
      ]
     },
     "execution_count": 13,
     "metadata": {},
     "output_type": "execute_result"
    }
   ],
   "source": [
    "trjdat[trjdat[constants.UID].isin([1,2,3,6])]"
   ]
  },
  {
   "cell_type": "markdown",
   "metadata": {
    "pycharm": {},
    "slideshow": {
     "slide_type": "subslide"
    }
   },
   "source": [
    "### **Location Sequence Attack**"
   ]
  },
  {
   "cell_type": "code",
   "execution_count": 14,
   "metadata": {
    "pycharm": {},
    "slideshow": {
     "slide_type": "fragment"
    }
   },
   "outputs": [
    {
     "data": {
      "text/html": [
       "<div>\n",
       "<style scoped>\n",
       "    .dataframe tbody tr th:only-of-type {\n",
       "        vertical-align: middle;\n",
       "    }\n",
       "\n",
       "    .dataframe tbody tr th {\n",
       "        vertical-align: top;\n",
       "    }\n",
       "\n",
       "    .dataframe thead th {\n",
       "        text-align: right;\n",
       "    }\n",
       "</style>\n",
       "<table border=\"1\" class=\"dataframe\">\n",
       "  <thead>\n",
       "    <tr style=\"text-align: right;\">\n",
       "      <th></th>\n",
       "      <th>instance</th>\n",
       "      <th>reid_prob</th>\n",
       "    </tr>\n",
       "    <tr>\n",
       "      <th>uid</th>\n",
       "      <th></th>\n",
       "      <th></th>\n",
       "    </tr>\n",
       "  </thead>\n",
       "  <tbody>\n",
       "    <tr>\n",
       "      <th>1</th>\n",
       "      <td>([43.843013899999995, 10.507994, 2011-02-03 08...</td>\n",
       "      <td>0.333333</td>\n",
       "    </tr>\n",
       "    <tr>\n",
       "      <th>1</th>\n",
       "      <td>([43.843013899999995, 10.507994, 2011-02-03 08...</td>\n",
       "      <td>0.500000</td>\n",
       "    </tr>\n",
       "    <tr>\n",
       "      <th>1</th>\n",
       "      <td>([43.843013899999995, 10.507994, 2011-02-03 08...</td>\n",
       "      <td>0.333333</td>\n",
       "    </tr>\n",
       "    <tr>\n",
       "      <th>1</th>\n",
       "      <td>([43.544270000000004, 10.32615, 2011-02-03 09:...</td>\n",
       "      <td>0.500000</td>\n",
       "    </tr>\n",
       "    <tr>\n",
       "      <th>1</th>\n",
       "      <td>([43.544270000000004, 10.32615, 2011-02-03 09:...</td>\n",
       "      <td>0.333333</td>\n",
       "    </tr>\n",
       "    <tr>\n",
       "      <th>1</th>\n",
       "      <td>([43.708529999999996, 10.4036, 2011-02-03 10:3...</td>\n",
       "      <td>0.250000</td>\n",
       "    </tr>\n",
       "  </tbody>\n",
       "</table>\n",
       "</div>"
      ],
      "text/plain": [
       "                                              instance  reid_prob\n",
       "uid                                                              \n",
       "1    ([43.843013899999995, 10.507994, 2011-02-03 08...   0.333333\n",
       "1    ([43.843013899999995, 10.507994, 2011-02-03 08...   0.500000\n",
       "1    ([43.843013899999995, 10.507994, 2011-02-03 08...   0.333333\n",
       "1    ([43.544270000000004, 10.32615, 2011-02-03 09:...   0.500000\n",
       "1    ([43.544270000000004, 10.32615, 2011-02-03 09:...   0.333333\n",
       "1    ([43.708529999999996, 10.4036, 2011-02-03 10:3...   0.250000"
      ]
     },
     "execution_count": 14,
     "metadata": {},
     "output_type": "execute_result"
    }
   ],
   "source": [
    "at = attacks.LocationSequenceAttack(k=2)\n",
    "r = at.assess_risk(trjdat, targets=[1], instance_analysis=True)\n",
    "r"
   ]
  },
  {
   "cell_type": "markdown",
   "metadata": {
    "pycharm": {},
    "slideshow": {
     "slide_type": "fragment"
    }
   },
   "source": [
    "#### Background knowledge consists of locations and the information about the order of visit. So from the example above, from the first instance the following information is used, considering also the order the locations appear:"
   ]
  },
  {
   "cell_type": "code",
   "execution_count": 15,
   "metadata": {
    "pycharm": {},
    "slideshow": {
     "slide_type": "fragment"
    }
   },
   "outputs": [
    {
     "data": {
      "text/html": [
       "<div>\n",
       "<style scoped>\n",
       "    .dataframe tbody tr th:only-of-type {\n",
       "        vertical-align: middle;\n",
       "    }\n",
       "\n",
       "    .dataframe tbody tr th {\n",
       "        vertical-align: top;\n",
       "    }\n",
       "\n",
       "    .dataframe thead th {\n",
       "        text-align: right;\n",
       "    }\n",
       "</style>\n",
       "<table border=\"1\" class=\"dataframe\">\n",
       "  <thead>\n",
       "    <tr style=\"text-align: right;\">\n",
       "      <th></th>\n",
       "      <th>lat</th>\n",
       "      <th>lng</th>\n",
       "    </tr>\n",
       "  </thead>\n",
       "  <tbody>\n",
       "    <tr>\n",
       "      <th>0</th>\n",
       "      <td>43.843014</td>\n",
       "      <td>10.507994</td>\n",
       "    </tr>\n",
       "    <tr>\n",
       "      <th>1</th>\n",
       "      <td>43.544270</td>\n",
       "      <td>10.326150</td>\n",
       "    </tr>\n",
       "  </tbody>\n",
       "</table>\n",
       "</div>"
      ],
      "text/plain": [
       "         lat        lng\n",
       "0  43.843014  10.507994\n",
       "1  43.544270  10.326150"
      ]
     },
     "execution_count": 15,
     "metadata": {},
     "output_type": "execute_result"
    }
   ],
   "source": [
    "trjdat[trjdat[constants.UID] == 1][[constants.LATITUDE,constants.LONGITUDE]].iloc[0:2]"
   ]
  },
  {
   "cell_type": "markdown",
   "metadata": {
    "pycharm": {},
    "slideshow": {
     "slide_type": "fragment"
    }
   },
   "source": [
    "#### Which matches with:"
   ]
  },
  {
   "cell_type": "code",
   "execution_count": 16,
   "metadata": {
    "pycharm": {},
    "slideshow": {
     "slide_type": "fragment"
    }
   },
   "outputs": [
    {
     "data": {
      "text/html": [
       "<div>\n",
       "<style scoped>\n",
       "    .dataframe tbody tr th:only-of-type {\n",
       "        vertical-align: middle;\n",
       "    }\n",
       "\n",
       "    .dataframe tbody tr th {\n",
       "        vertical-align: top;\n",
       "    }\n",
       "\n",
       "    .dataframe thead th {\n",
       "        text-align: right;\n",
       "    }\n",
       "</style>\n",
       "<table border=\"1\" class=\"dataframe\">\n",
       "  <thead>\n",
       "    <tr style=\"text-align: right;\">\n",
       "      <th></th>\n",
       "      <th>lat</th>\n",
       "      <th>lng</th>\n",
       "      <th>datetime</th>\n",
       "      <th>uid</th>\n",
       "    </tr>\n",
       "  </thead>\n",
       "  <tbody>\n",
       "    <tr>\n",
       "      <th>0</th>\n",
       "      <td>43.843014</td>\n",
       "      <td>10.507994</td>\n",
       "      <td>2011-02-03 08:34:04</td>\n",
       "      <td>1</td>\n",
       "    </tr>\n",
       "    <tr>\n",
       "      <th>1</th>\n",
       "      <td>43.544270</td>\n",
       "      <td>10.326150</td>\n",
       "      <td>2011-02-03 09:34:04</td>\n",
       "      <td>1</td>\n",
       "    </tr>\n",
       "    <tr>\n",
       "      <th>2</th>\n",
       "      <td>43.708530</td>\n",
       "      <td>10.403600</td>\n",
       "      <td>2011-02-03 10:34:04</td>\n",
       "      <td>1</td>\n",
       "    </tr>\n",
       "    <tr>\n",
       "      <th>3</th>\n",
       "      <td>43.779250</td>\n",
       "      <td>11.246260</td>\n",
       "      <td>2011-02-04 10:34:04</td>\n",
       "      <td>1</td>\n",
       "    </tr>\n",
       "    <tr>\n",
       "      <th>4</th>\n",
       "      <td>43.843014</td>\n",
       "      <td>10.507994</td>\n",
       "      <td>2011-02-03 08:34:04</td>\n",
       "      <td>2</td>\n",
       "    </tr>\n",
       "    <tr>\n",
       "      <th>5</th>\n",
       "      <td>43.708530</td>\n",
       "      <td>10.403600</td>\n",
       "      <td>2011-02-03 09:34:04</td>\n",
       "      <td>2</td>\n",
       "    </tr>\n",
       "    <tr>\n",
       "      <th>6</th>\n",
       "      <td>43.843014</td>\n",
       "      <td>10.507994</td>\n",
       "      <td>2011-02-04 10:34:04</td>\n",
       "      <td>2</td>\n",
       "    </tr>\n",
       "    <tr>\n",
       "      <th>7</th>\n",
       "      <td>43.544270</td>\n",
       "      <td>10.326150</td>\n",
       "      <td>2011-02-04 11:34:04</td>\n",
       "      <td>2</td>\n",
       "    </tr>\n",
       "    <tr>\n",
       "      <th>18</th>\n",
       "      <td>43.843014</td>\n",
       "      <td>10.507994</td>\n",
       "      <td>2011-02-04 10:34:04</td>\n",
       "      <td>6</td>\n",
       "    </tr>\n",
       "    <tr>\n",
       "      <th>19</th>\n",
       "      <td>43.544270</td>\n",
       "      <td>10.326150</td>\n",
       "      <td>2011-02-04 11:34:04</td>\n",
       "      <td>6</td>\n",
       "    </tr>\n",
       "  </tbody>\n",
       "</table>\n",
       "</div>"
      ],
      "text/plain": [
       "          lat        lng            datetime  uid\n",
       "0   43.843014  10.507994 2011-02-03 08:34:04    1\n",
       "1   43.544270  10.326150 2011-02-03 09:34:04    1\n",
       "2   43.708530  10.403600 2011-02-03 10:34:04    1\n",
       "3   43.779250  11.246260 2011-02-04 10:34:04    1\n",
       "4   43.843014  10.507994 2011-02-03 08:34:04    2\n",
       "5   43.708530  10.403600 2011-02-03 09:34:04    2\n",
       "6   43.843014  10.507994 2011-02-04 10:34:04    2\n",
       "7   43.544270  10.326150 2011-02-04 11:34:04    2\n",
       "18  43.843014  10.507994 2011-02-04 10:34:04    6\n",
       "19  43.544270  10.326150 2011-02-04 11:34:04    6"
      ]
     },
     "execution_count": 16,
     "metadata": {},
     "output_type": "execute_result"
    }
   ],
   "source": [
    "trjdat[trjdat[constants.UID].isin([1,2,6])]"
   ]
  },
  {
   "cell_type": "markdown",
   "metadata": {
    "pycharm": {},
    "slideshow": {
     "slide_type": "fragment"
    }
   },
   "source": [
    "#### Depending on the attack, risk changes according to the different matching criteria."
   ]
  },
  {
   "cell_type": "markdown",
   "metadata": {
    "pycharm": {},
    "slideshow": {
     "slide_type": "slide"
    }
   },
   "source": [
    "### **What are frequency and probability vectors?**\n",
    "#### Two supporting data structures derived from trajectories. They are used for certain attacks and can be useful for observing certain aspects of the dataframe"
   ]
  },
  {
   "cell_type": "code",
   "execution_count": 17,
   "metadata": {
    "pycharm": {},
    "slideshow": {
     "slide_type": "fragment"
    }
   },
   "outputs": [],
   "source": [
    "from skmob.utils.utils import frequency_vector, probability_vector"
   ]
  },
  {
   "cell_type": "code",
   "execution_count": 18,
   "metadata": {
    "pycharm": {},
    "slideshow": {
     "slide_type": "fragment"
    }
   },
   "outputs": [
    {
     "data": {
      "text/html": [
       "<div>\n",
       "<style scoped>\n",
       "    .dataframe tbody tr th:only-of-type {\n",
       "        vertical-align: middle;\n",
       "    }\n",
       "\n",
       "    .dataframe tbody tr th {\n",
       "        vertical-align: top;\n",
       "    }\n",
       "\n",
       "    .dataframe thead th {\n",
       "        text-align: right;\n",
       "    }\n",
       "</style>\n",
       "<table border=\"1\" class=\"dataframe\">\n",
       "  <thead>\n",
       "    <tr style=\"text-align: right;\">\n",
       "      <th></th>\n",
       "      <th>uid</th>\n",
       "      <th>lat</th>\n",
       "      <th>lng</th>\n",
       "      <th>freq</th>\n",
       "    </tr>\n",
       "  </thead>\n",
       "  <tbody>\n",
       "    <tr>\n",
       "      <th>0</th>\n",
       "      <td>1</td>\n",
       "      <td>43.544270</td>\n",
       "      <td>10.326150</td>\n",
       "      <td>1</td>\n",
       "    </tr>\n",
       "    <tr>\n",
       "      <th>1</th>\n",
       "      <td>1</td>\n",
       "      <td>43.708530</td>\n",
       "      <td>10.403600</td>\n",
       "      <td>1</td>\n",
       "    </tr>\n",
       "    <tr>\n",
       "      <th>2</th>\n",
       "      <td>1</td>\n",
       "      <td>43.779250</td>\n",
       "      <td>11.246260</td>\n",
       "      <td>1</td>\n",
       "    </tr>\n",
       "    <tr>\n",
       "      <th>3</th>\n",
       "      <td>1</td>\n",
       "      <td>43.843014</td>\n",
       "      <td>10.507994</td>\n",
       "      <td>1</td>\n",
       "    </tr>\n",
       "    <tr>\n",
       "      <th>4</th>\n",
       "      <td>2</td>\n",
       "      <td>43.544270</td>\n",
       "      <td>10.326150</td>\n",
       "      <td>1</td>\n",
       "    </tr>\n",
       "    <tr>\n",
       "      <th>5</th>\n",
       "      <td>2</td>\n",
       "      <td>43.708530</td>\n",
       "      <td>10.403600</td>\n",
       "      <td>1</td>\n",
       "    </tr>\n",
       "    <tr>\n",
       "      <th>6</th>\n",
       "      <td>2</td>\n",
       "      <td>43.843014</td>\n",
       "      <td>10.507994</td>\n",
       "      <td>2</td>\n",
       "    </tr>\n",
       "    <tr>\n",
       "      <th>7</th>\n",
       "      <td>3</td>\n",
       "      <td>43.544270</td>\n",
       "      <td>10.326150</td>\n",
       "      <td>1</td>\n",
       "    </tr>\n",
       "    <tr>\n",
       "      <th>8</th>\n",
       "      <td>3</td>\n",
       "      <td>43.708530</td>\n",
       "      <td>10.403600</td>\n",
       "      <td>1</td>\n",
       "    </tr>\n",
       "    <tr>\n",
       "      <th>9</th>\n",
       "      <td>3</td>\n",
       "      <td>43.779250</td>\n",
       "      <td>11.246260</td>\n",
       "      <td>1</td>\n",
       "    </tr>\n",
       "    <tr>\n",
       "      <th>10</th>\n",
       "      <td>3</td>\n",
       "      <td>43.843014</td>\n",
       "      <td>10.507994</td>\n",
       "      <td>1</td>\n",
       "    </tr>\n",
       "    <tr>\n",
       "      <th>11</th>\n",
       "      <td>4</td>\n",
       "      <td>43.544270</td>\n",
       "      <td>10.326150</td>\n",
       "      <td>1</td>\n",
       "    </tr>\n",
       "    <tr>\n",
       "      <th>12</th>\n",
       "      <td>4</td>\n",
       "      <td>43.708530</td>\n",
       "      <td>10.403600</td>\n",
       "      <td>1</td>\n",
       "    </tr>\n",
       "    <tr>\n",
       "      <th>13</th>\n",
       "      <td>4</td>\n",
       "      <td>43.779250</td>\n",
       "      <td>11.246260</td>\n",
       "      <td>1</td>\n",
       "    </tr>\n",
       "    <tr>\n",
       "      <th>14</th>\n",
       "      <td>5</td>\n",
       "      <td>43.708530</td>\n",
       "      <td>10.403600</td>\n",
       "      <td>1</td>\n",
       "    </tr>\n",
       "    <tr>\n",
       "      <th>15</th>\n",
       "      <td>5</td>\n",
       "      <td>43.779250</td>\n",
       "      <td>11.246260</td>\n",
       "      <td>1</td>\n",
       "    </tr>\n",
       "    <tr>\n",
       "      <th>16</th>\n",
       "      <td>5</td>\n",
       "      <td>43.843014</td>\n",
       "      <td>10.507994</td>\n",
       "      <td>1</td>\n",
       "    </tr>\n",
       "    <tr>\n",
       "      <th>17</th>\n",
       "      <td>6</td>\n",
       "      <td>43.544270</td>\n",
       "      <td>10.326150</td>\n",
       "      <td>1</td>\n",
       "    </tr>\n",
       "    <tr>\n",
       "      <th>18</th>\n",
       "      <td>6</td>\n",
       "      <td>43.843014</td>\n",
       "      <td>10.507994</td>\n",
       "      <td>1</td>\n",
       "    </tr>\n",
       "    <tr>\n",
       "      <th>19</th>\n",
       "      <td>7</td>\n",
       "      <td>43.779250</td>\n",
       "      <td>11.246260</td>\n",
       "      <td>1</td>\n",
       "    </tr>\n",
       "    <tr>\n",
       "      <th>20</th>\n",
       "      <td>7</td>\n",
       "      <td>43.843014</td>\n",
       "      <td>10.507994</td>\n",
       "      <td>2</td>\n",
       "    </tr>\n",
       "  </tbody>\n",
       "</table>\n",
       "</div>"
      ],
      "text/plain": [
       "    uid        lat        lng  freq\n",
       "0     1  43.544270  10.326150     1\n",
       "1     1  43.708530  10.403600     1\n",
       "2     1  43.779250  11.246260     1\n",
       "3     1  43.843014  10.507994     1\n",
       "4     2  43.544270  10.326150     1\n",
       "5     2  43.708530  10.403600     1\n",
       "6     2  43.843014  10.507994     2\n",
       "7     3  43.544270  10.326150     1\n",
       "8     3  43.708530  10.403600     1\n",
       "9     3  43.779250  11.246260     1\n",
       "10    3  43.843014  10.507994     1\n",
       "11    4  43.544270  10.326150     1\n",
       "12    4  43.708530  10.403600     1\n",
       "13    4  43.779250  11.246260     1\n",
       "14    5  43.708530  10.403600     1\n",
       "15    5  43.779250  11.246260     1\n",
       "16    5  43.843014  10.507994     1\n",
       "17    6  43.544270  10.326150     1\n",
       "18    6  43.843014  10.507994     1\n",
       "19    7  43.779250  11.246260     1\n",
       "20    7  43.843014  10.507994     2"
      ]
     },
     "execution_count": 18,
     "metadata": {},
     "output_type": "execute_result"
    }
   ],
   "source": [
    "frequency_vector(trjdat)"
   ]
  },
  {
   "cell_type": "code",
   "execution_count": 19,
   "metadata": {
    "pycharm": {},
    "slideshow": {
     "slide_type": "fragment"
    }
   },
   "outputs": [
    {
     "data": {
      "text/html": [
       "<div>\n",
       "<style scoped>\n",
       "    .dataframe tbody tr th:only-of-type {\n",
       "        vertical-align: middle;\n",
       "    }\n",
       "\n",
       "    .dataframe tbody tr th {\n",
       "        vertical-align: top;\n",
       "    }\n",
       "\n",
       "    .dataframe thead th {\n",
       "        text-align: right;\n",
       "    }\n",
       "</style>\n",
       "<table border=\"1\" class=\"dataframe\">\n",
       "  <thead>\n",
       "    <tr style=\"text-align: right;\">\n",
       "      <th></th>\n",
       "      <th>uid</th>\n",
       "      <th>lat</th>\n",
       "      <th>lng</th>\n",
       "      <th>prob</th>\n",
       "    </tr>\n",
       "  </thead>\n",
       "  <tbody>\n",
       "    <tr>\n",
       "      <th>0</th>\n",
       "      <td>1</td>\n",
       "      <td>43.544270</td>\n",
       "      <td>10.326150</td>\n",
       "      <td>0.250000</td>\n",
       "    </tr>\n",
       "    <tr>\n",
       "      <th>1</th>\n",
       "      <td>1</td>\n",
       "      <td>43.708530</td>\n",
       "      <td>10.403600</td>\n",
       "      <td>0.250000</td>\n",
       "    </tr>\n",
       "    <tr>\n",
       "      <th>2</th>\n",
       "      <td>1</td>\n",
       "      <td>43.779250</td>\n",
       "      <td>11.246260</td>\n",
       "      <td>0.250000</td>\n",
       "    </tr>\n",
       "    <tr>\n",
       "      <th>3</th>\n",
       "      <td>1</td>\n",
       "      <td>43.843014</td>\n",
       "      <td>10.507994</td>\n",
       "      <td>0.250000</td>\n",
       "    </tr>\n",
       "    <tr>\n",
       "      <th>4</th>\n",
       "      <td>2</td>\n",
       "      <td>43.544270</td>\n",
       "      <td>10.326150</td>\n",
       "      <td>0.250000</td>\n",
       "    </tr>\n",
       "    <tr>\n",
       "      <th>5</th>\n",
       "      <td>2</td>\n",
       "      <td>43.708530</td>\n",
       "      <td>10.403600</td>\n",
       "      <td>0.250000</td>\n",
       "    </tr>\n",
       "    <tr>\n",
       "      <th>6</th>\n",
       "      <td>2</td>\n",
       "      <td>43.843014</td>\n",
       "      <td>10.507994</td>\n",
       "      <td>0.500000</td>\n",
       "    </tr>\n",
       "    <tr>\n",
       "      <th>7</th>\n",
       "      <td>3</td>\n",
       "      <td>43.544270</td>\n",
       "      <td>10.326150</td>\n",
       "      <td>0.250000</td>\n",
       "    </tr>\n",
       "    <tr>\n",
       "      <th>8</th>\n",
       "      <td>3</td>\n",
       "      <td>43.708530</td>\n",
       "      <td>10.403600</td>\n",
       "      <td>0.250000</td>\n",
       "    </tr>\n",
       "    <tr>\n",
       "      <th>9</th>\n",
       "      <td>3</td>\n",
       "      <td>43.779250</td>\n",
       "      <td>11.246260</td>\n",
       "      <td>0.250000</td>\n",
       "    </tr>\n",
       "    <tr>\n",
       "      <th>10</th>\n",
       "      <td>3</td>\n",
       "      <td>43.843014</td>\n",
       "      <td>10.507994</td>\n",
       "      <td>0.250000</td>\n",
       "    </tr>\n",
       "    <tr>\n",
       "      <th>11</th>\n",
       "      <td>4</td>\n",
       "      <td>43.544270</td>\n",
       "      <td>10.326150</td>\n",
       "      <td>0.333333</td>\n",
       "    </tr>\n",
       "    <tr>\n",
       "      <th>12</th>\n",
       "      <td>4</td>\n",
       "      <td>43.708530</td>\n",
       "      <td>10.403600</td>\n",
       "      <td>0.333333</td>\n",
       "    </tr>\n",
       "    <tr>\n",
       "      <th>13</th>\n",
       "      <td>4</td>\n",
       "      <td>43.779250</td>\n",
       "      <td>11.246260</td>\n",
       "      <td>0.333333</td>\n",
       "    </tr>\n",
       "    <tr>\n",
       "      <th>14</th>\n",
       "      <td>5</td>\n",
       "      <td>43.708530</td>\n",
       "      <td>10.403600</td>\n",
       "      <td>0.333333</td>\n",
       "    </tr>\n",
       "    <tr>\n",
       "      <th>15</th>\n",
       "      <td>5</td>\n",
       "      <td>43.779250</td>\n",
       "      <td>11.246260</td>\n",
       "      <td>0.333333</td>\n",
       "    </tr>\n",
       "    <tr>\n",
       "      <th>16</th>\n",
       "      <td>5</td>\n",
       "      <td>43.843014</td>\n",
       "      <td>10.507994</td>\n",
       "      <td>0.333333</td>\n",
       "    </tr>\n",
       "    <tr>\n",
       "      <th>17</th>\n",
       "      <td>6</td>\n",
       "      <td>43.544270</td>\n",
       "      <td>10.326150</td>\n",
       "      <td>0.500000</td>\n",
       "    </tr>\n",
       "    <tr>\n",
       "      <th>18</th>\n",
       "      <td>6</td>\n",
       "      <td>43.843014</td>\n",
       "      <td>10.507994</td>\n",
       "      <td>0.500000</td>\n",
       "    </tr>\n",
       "    <tr>\n",
       "      <th>19</th>\n",
       "      <td>7</td>\n",
       "      <td>43.779250</td>\n",
       "      <td>11.246260</td>\n",
       "      <td>0.333333</td>\n",
       "    </tr>\n",
       "    <tr>\n",
       "      <th>20</th>\n",
       "      <td>7</td>\n",
       "      <td>43.843014</td>\n",
       "      <td>10.507994</td>\n",
       "      <td>0.666667</td>\n",
       "    </tr>\n",
       "  </tbody>\n",
       "</table>\n",
       "</div>"
      ],
      "text/plain": [
       "    uid        lat        lng      prob\n",
       "0     1  43.544270  10.326150  0.250000\n",
       "1     1  43.708530  10.403600  0.250000\n",
       "2     1  43.779250  11.246260  0.250000\n",
       "3     1  43.843014  10.507994  0.250000\n",
       "4     2  43.544270  10.326150  0.250000\n",
       "5     2  43.708530  10.403600  0.250000\n",
       "6     2  43.843014  10.507994  0.500000\n",
       "7     3  43.544270  10.326150  0.250000\n",
       "8     3  43.708530  10.403600  0.250000\n",
       "9     3  43.779250  11.246260  0.250000\n",
       "10    3  43.843014  10.507994  0.250000\n",
       "11    4  43.544270  10.326150  0.333333\n",
       "12    4  43.708530  10.403600  0.333333\n",
       "13    4  43.779250  11.246260  0.333333\n",
       "14    5  43.708530  10.403600  0.333333\n",
       "15    5  43.779250  11.246260  0.333333\n",
       "16    5  43.843014  10.507994  0.333333\n",
       "17    6  43.544270  10.326150  0.500000\n",
       "18    6  43.843014  10.507994  0.500000\n",
       "19    7  43.779250  11.246260  0.333333\n",
       "20    7  43.843014  10.507994  0.666667"
      ]
     },
     "execution_count": 19,
     "metadata": {},
     "output_type": "execute_result"
    }
   ],
   "source": [
    "probability_vector(trjdat)"
   ]
  },
  {
   "cell_type": "markdown",
   "metadata": {
    "pycharm": {},
    "slideshow": {
     "slide_type": "slide"
    }
   },
   "source": [
    "### **Special parameters**\n",
    "\n",
    "#### Some attacks may be given some parameters during initialization which are unique to their own matching criteria, for example the **Location Time Attack**"
   ]
  },
  {
   "cell_type": "markdown",
   "metadata": {
    "pycharm": {},
    "slideshow": {
     "slide_type": "fragment"
    }
   },
   "source": [
    "#### A Location Time Attack uses the informaton of the time of visit. It is possible, to specify different precisions for the time of visit. "
   ]
  },
  {
   "cell_type": "code",
   "execution_count": 20,
   "metadata": {
    "pycharm": {},
    "slideshow": {
     "slide_type": "fragment"
    }
   },
   "outputs": [
    {
     "data": {
      "text/html": [
       "<div>\n",
       "<style scoped>\n",
       "    .dataframe tbody tr th:only-of-type {\n",
       "        vertical-align: middle;\n",
       "    }\n",
       "\n",
       "    .dataframe tbody tr th {\n",
       "        vertical-align: top;\n",
       "    }\n",
       "\n",
       "    .dataframe thead th {\n",
       "        text-align: right;\n",
       "    }\n",
       "</style>\n",
       "<table border=\"1\" class=\"dataframe\">\n",
       "  <thead>\n",
       "    <tr style=\"text-align: right;\">\n",
       "      <th></th>\n",
       "      <th>instance</th>\n",
       "      <th>reid_prob</th>\n",
       "    </tr>\n",
       "    <tr>\n",
       "      <th>uid</th>\n",
       "      <th></th>\n",
       "      <th></th>\n",
       "    </tr>\n",
       "  </thead>\n",
       "  <tbody>\n",
       "    <tr>\n",
       "      <th>1</th>\n",
       "      <td>([43.843013899999995, 10.507994, 2011-02-03 08...</td>\n",
       "      <td>1.0</td>\n",
       "    </tr>\n",
       "    <tr>\n",
       "      <th>1</th>\n",
       "      <td>([43.843013899999995, 10.507994, 2011-02-03 08...</td>\n",
       "      <td>0.5</td>\n",
       "    </tr>\n",
       "    <tr>\n",
       "      <th>1</th>\n",
       "      <td>([43.843013899999995, 10.507994, 2011-02-03 08...</td>\n",
       "      <td>1.0</td>\n",
       "    </tr>\n",
       "    <tr>\n",
       "      <th>1</th>\n",
       "      <td>([43.544270000000004, 10.32615, 2011-02-03 09:...</td>\n",
       "      <td>0.5</td>\n",
       "    </tr>\n",
       "    <tr>\n",
       "      <th>1</th>\n",
       "      <td>([43.544270000000004, 10.32615, 2011-02-03 09:...</td>\n",
       "      <td>0.5</td>\n",
       "    </tr>\n",
       "    <tr>\n",
       "      <th>1</th>\n",
       "      <td>([43.708529999999996, 10.4036, 2011-02-03 10:3...</td>\n",
       "      <td>0.5</td>\n",
       "    </tr>\n",
       "  </tbody>\n",
       "</table>\n",
       "</div>"
      ],
      "text/plain": [
       "                                              instance  reid_prob\n",
       "uid                                                              \n",
       "1    ([43.843013899999995, 10.507994, 2011-02-03 08...        1.0\n",
       "1    ([43.843013899999995, 10.507994, 2011-02-03 08...        0.5\n",
       "1    ([43.843013899999995, 10.507994, 2011-02-03 08...        1.0\n",
       "1    ([43.544270000000004, 10.32615, 2011-02-03 09:...        0.5\n",
       "1    ([43.544270000000004, 10.32615, 2011-02-03 09:...        0.5\n",
       "1    ([43.708529999999996, 10.4036, 2011-02-03 10:3...        0.5"
      ]
     },
     "execution_count": 20,
     "metadata": {},
     "output_type": "execute_result"
    }
   ],
   "source": [
    "at = attacks.LocationTimeAttack(k=2, time_precision=\"Day\")\n",
    "r = at.assess_risk(trjdat, targets=[1], instance_analysis=True)\n",
    "r"
   ]
  },
  {
   "cell_type": "code",
   "execution_count": 21,
   "metadata": {
    "pycharm": {},
    "slideshow": {
     "slide_type": "fragment"
    }
   },
   "outputs": [
    {
     "data": {
      "text/html": [
       "<div>\n",
       "<style scoped>\n",
       "    .dataframe tbody tr th:only-of-type {\n",
       "        vertical-align: middle;\n",
       "    }\n",
       "\n",
       "    .dataframe tbody tr th {\n",
       "        vertical-align: top;\n",
       "    }\n",
       "\n",
       "    .dataframe thead th {\n",
       "        text-align: right;\n",
       "    }\n",
       "</style>\n",
       "<table border=\"1\" class=\"dataframe\">\n",
       "  <thead>\n",
       "    <tr style=\"text-align: right;\">\n",
       "      <th></th>\n",
       "      <th>instance</th>\n",
       "      <th>reid_prob</th>\n",
       "    </tr>\n",
       "    <tr>\n",
       "      <th>uid</th>\n",
       "      <th></th>\n",
       "      <th></th>\n",
       "    </tr>\n",
       "  </thead>\n",
       "  <tbody>\n",
       "    <tr>\n",
       "      <th>1</th>\n",
       "      <td>([43.843013899999995, 10.507994, 2011-02-03 08...</td>\n",
       "      <td>0.250000</td>\n",
       "    </tr>\n",
       "    <tr>\n",
       "      <th>1</th>\n",
       "      <td>([43.843013899999995, 10.507994, 2011-02-03 08...</td>\n",
       "      <td>0.250000</td>\n",
       "    </tr>\n",
       "    <tr>\n",
       "      <th>1</th>\n",
       "      <td>([43.843013899999995, 10.507994, 2011-02-03 08...</td>\n",
       "      <td>0.250000</td>\n",
       "    </tr>\n",
       "    <tr>\n",
       "      <th>1</th>\n",
       "      <td>([43.544270000000004, 10.32615, 2011-02-03 09:...</td>\n",
       "      <td>0.250000</td>\n",
       "    </tr>\n",
       "    <tr>\n",
       "      <th>1</th>\n",
       "      <td>([43.544270000000004, 10.32615, 2011-02-03 09:...</td>\n",
       "      <td>0.333333</td>\n",
       "    </tr>\n",
       "    <tr>\n",
       "      <th>1</th>\n",
       "      <td>([43.708529999999996, 10.4036, 2011-02-03 10:3...</td>\n",
       "      <td>0.250000</td>\n",
       "    </tr>\n",
       "  </tbody>\n",
       "</table>\n",
       "</div>"
      ],
      "text/plain": [
       "                                              instance  reid_prob\n",
       "uid                                                              \n",
       "1    ([43.843013899999995, 10.507994, 2011-02-03 08...   0.250000\n",
       "1    ([43.843013899999995, 10.507994, 2011-02-03 08...   0.250000\n",
       "1    ([43.843013899999995, 10.507994, 2011-02-03 08...   0.250000\n",
       "1    ([43.544270000000004, 10.32615, 2011-02-03 09:...   0.250000\n",
       "1    ([43.544270000000004, 10.32615, 2011-02-03 09:...   0.333333\n",
       "1    ([43.708529999999996, 10.4036, 2011-02-03 10:3...   0.250000"
      ]
     },
     "execution_count": 21,
     "metadata": {},
     "output_type": "execute_result"
    }
   ],
   "source": [
    "at = attacks.LocationTimeAttack(k=2, time_precision=\"Month\")\n",
    "r = at.assess_risk(trjdat, targets=[1], instance_analysis=True)\n",
    "r"
   ]
  },
  {
   "cell_type": "markdown",
   "metadata": {
    "pycharm": {},
    "slideshow": {
     "slide_type": "fragment"
    }
   },
   "source": [
    "#### In the second case, the precision is lowered, and the risk changes accordingly"
   ]
  },
  {
   "cell_type": "markdown",
   "metadata": {
    "pycharm": {},
    "slideshow": {
     "slide_type": "subslide"
    }
   },
   "source": [
    "#### For Location Frequency, Location Probability and Location Proportion Attack a tolerance level can be specified for the matching of the frequency, probability and proportion of the visits, respectively"
   ]
  },
  {
   "cell_type": "code",
   "execution_count": 22,
   "metadata": {
    "pycharm": {},
    "slideshow": {
     "slide_type": "fragment"
    }
   },
   "outputs": [
    {
     "data": {
      "text/html": [
       "<div>\n",
       "<style scoped>\n",
       "    .dataframe tbody tr th:only-of-type {\n",
       "        vertical-align: middle;\n",
       "    }\n",
       "\n",
       "    .dataframe tbody tr th {\n",
       "        vertical-align: top;\n",
       "    }\n",
       "\n",
       "    .dataframe thead th {\n",
       "        text-align: right;\n",
       "    }\n",
       "</style>\n",
       "<table border=\"1\" class=\"dataframe\">\n",
       "  <thead>\n",
       "    <tr style=\"text-align: right;\">\n",
       "      <th></th>\n",
       "      <th>instance</th>\n",
       "      <th>reid_prob</th>\n",
       "    </tr>\n",
       "    <tr>\n",
       "      <th>uid</th>\n",
       "      <th></th>\n",
       "      <th></th>\n",
       "    </tr>\n",
       "  </thead>\n",
       "  <tbody>\n",
       "    <tr>\n",
       "      <th>1</th>\n",
       "      <td>([1.0, 43.544270000000004, 10.32615, 1.0], [1....</td>\n",
       "      <td>0.250000</td>\n",
       "    </tr>\n",
       "    <tr>\n",
       "      <th>1</th>\n",
       "      <td>([1.0, 43.544270000000004, 10.32615, 1.0], [1....</td>\n",
       "      <td>0.333333</td>\n",
       "    </tr>\n",
       "    <tr>\n",
       "      <th>1</th>\n",
       "      <td>([1.0, 43.544270000000004, 10.32615, 1.0], [1....</td>\n",
       "      <td>0.333333</td>\n",
       "    </tr>\n",
       "    <tr>\n",
       "      <th>1</th>\n",
       "      <td>([1.0, 43.708529999999996, 10.4036, 1.0], [1.0...</td>\n",
       "      <td>0.250000</td>\n",
       "    </tr>\n",
       "    <tr>\n",
       "      <th>1</th>\n",
       "      <td>([1.0, 43.708529999999996, 10.4036, 1.0], [1.0...</td>\n",
       "      <td>0.333333</td>\n",
       "    </tr>\n",
       "    <tr>\n",
       "      <th>1</th>\n",
       "      <td>([1.0, 43.77925, 11.246260000000001, 1.0], [1....</td>\n",
       "      <td>0.333333</td>\n",
       "    </tr>\n",
       "  </tbody>\n",
       "</table>\n",
       "</div>"
      ],
      "text/plain": [
       "                                              instance  reid_prob\n",
       "uid                                                              \n",
       "1    ([1.0, 43.544270000000004, 10.32615, 1.0], [1....   0.250000\n",
       "1    ([1.0, 43.544270000000004, 10.32615, 1.0], [1....   0.333333\n",
       "1    ([1.0, 43.544270000000004, 10.32615, 1.0], [1....   0.333333\n",
       "1    ([1.0, 43.708529999999996, 10.4036, 1.0], [1.0...   0.250000\n",
       "1    ([1.0, 43.708529999999996, 10.4036, 1.0], [1.0...   0.333333\n",
       "1    ([1.0, 43.77925, 11.246260000000001, 1.0], [1....   0.333333"
      ]
     },
     "execution_count": 22,
     "metadata": {},
     "output_type": "execute_result"
    }
   ],
   "source": [
    "at = attacks.LocationFrequencyAttack(k=2, tolerance=0.1)\n",
    "r = at.assess_risk(trjdat, targets=[1], instance_analysis=True)\n",
    "r"
   ]
  },
  {
   "cell_type": "code",
   "execution_count": 23,
   "metadata": {
    "pycharm": {},
    "slideshow": {
     "slide_type": "fragment"
    }
   },
   "outputs": [
    {
     "data": {
      "text/html": [
       "<div>\n",
       "<style scoped>\n",
       "    .dataframe tbody tr th:only-of-type {\n",
       "        vertical-align: middle;\n",
       "    }\n",
       "\n",
       "    .dataframe tbody tr th {\n",
       "        vertical-align: top;\n",
       "    }\n",
       "\n",
       "    .dataframe thead th {\n",
       "        text-align: right;\n",
       "    }\n",
       "</style>\n",
       "<table border=\"1\" class=\"dataframe\">\n",
       "  <thead>\n",
       "    <tr style=\"text-align: right;\">\n",
       "      <th></th>\n",
       "      <th>instance</th>\n",
       "      <th>reid_prob</th>\n",
       "    </tr>\n",
       "    <tr>\n",
       "      <th>uid</th>\n",
       "      <th></th>\n",
       "      <th></th>\n",
       "    </tr>\n",
       "  </thead>\n",
       "  <tbody>\n",
       "    <tr>\n",
       "      <th>1</th>\n",
       "      <td>([1.0, 43.544270000000004, 10.32615, 1.0], [1....</td>\n",
       "      <td>0.250000</td>\n",
       "    </tr>\n",
       "    <tr>\n",
       "      <th>1</th>\n",
       "      <td>([1.0, 43.544270000000004, 10.32615, 1.0], [1....</td>\n",
       "      <td>0.333333</td>\n",
       "    </tr>\n",
       "    <tr>\n",
       "      <th>1</th>\n",
       "      <td>([1.0, 43.544270000000004, 10.32615, 1.0], [1....</td>\n",
       "      <td>0.250000</td>\n",
       "    </tr>\n",
       "    <tr>\n",
       "      <th>1</th>\n",
       "      <td>([1.0, 43.708529999999996, 10.4036, 1.0], [1.0...</td>\n",
       "      <td>0.250000</td>\n",
       "    </tr>\n",
       "    <tr>\n",
       "      <th>1</th>\n",
       "      <td>([1.0, 43.708529999999996, 10.4036, 1.0], [1.0...</td>\n",
       "      <td>0.250000</td>\n",
       "    </tr>\n",
       "    <tr>\n",
       "      <th>1</th>\n",
       "      <td>([1.0, 43.77925, 11.246260000000001, 1.0], [1....</td>\n",
       "      <td>0.250000</td>\n",
       "    </tr>\n",
       "  </tbody>\n",
       "</table>\n",
       "</div>"
      ],
      "text/plain": [
       "                                              instance  reid_prob\n",
       "uid                                                              \n",
       "1    ([1.0, 43.544270000000004, 10.32615, 1.0], [1....   0.250000\n",
       "1    ([1.0, 43.544270000000004, 10.32615, 1.0], [1....   0.333333\n",
       "1    ([1.0, 43.544270000000004, 10.32615, 1.0], [1....   0.250000\n",
       "1    ([1.0, 43.708529999999996, 10.4036, 1.0], [1.0...   0.250000\n",
       "1    ([1.0, 43.708529999999996, 10.4036, 1.0], [1.0...   0.250000\n",
       "1    ([1.0, 43.77925, 11.246260000000001, 1.0], [1....   0.250000"
      ]
     },
     "execution_count": 23,
     "metadata": {},
     "output_type": "execute_result"
    }
   ],
   "source": [
    "at = attacks.LocationFrequencyAttack(k=2, tolerance=0.8)\n",
    "r = at.assess_risk(trjdat, targets=[1], instance_analysis=True)\n",
    "r"
   ]
  },
  {
   "cell_type": "markdown",
   "metadata": {
    "pycharm": {},
    "slideshow": {
     "slide_type": "slide"
    }
   },
   "source": [
    "#### Risk may be visualized in many different ways. A very simple and intuitive way is a cumulative distribution function."
   ]
  },
  {
   "cell_type": "code",
   "execution_count": 24,
   "metadata": {
    "pycharm": {},
    "slideshow": {
     "slide_type": "fragment"
    }
   },
   "outputs": [
    {
     "data": {
      "image/png": "[encoded data removed]",
      "text/plain": [
       "<Figure size 432x432 with 1 Axes>"
      ]
     },
     "metadata": {
      "needs_background": "light"
     },
     "output_type": "display_data"
    }
   ],
   "source": [
    "import numpy as np\n",
    "import matplotlib.pyplot as plt\n",
    "results = dict()\n",
    "for my_k in [2,3]:\n",
    "    at = attacks.LocationAttack(k=my_k)\n",
    "    r = at.assess_risk(trjdat)\n",
    "    results[my_k] = r\n",
    "colors = {2:\"blue\",3:\"red\"}\n",
    "styles = {2:\"-\",3:\":\"}\n",
    "plt.figure(figsize=(6, 6))\n",
    "plt.xlabel(\"risk\",size=18)\n",
    "plt.ylabel(\"p(risk)\", size=18)\n",
    "for k,r in results.items():\n",
    "    data = r[\"risk\"].tolist()\n",
    "    values, base = np.histogram(data, bins=100)\n",
    "    cumulative = np.cumsum(values)\n",
    "    plt.plot(base[:-1],cumulative/len(data), c=colors[k], label=\"k=\"+str(k), linestyle=styles[k])\n",
    "plt.legend()\n",
    "plt.show()"
   ]
  },
  {
   "cell_type": "markdown",
   "metadata": {
    "pycharm": {},
    "slideshow": {
     "slide_type": "fragment"
    }
   },
   "source": [
    "#### On real data results should look like this\n",
    "<img src=\"./data/image18.png\" width=\"400\">"
   ]
  }
 ],
 "metadata": {
  "kernelspec": {
   "display_name": "Python 3",
   "language": "python",
   "name": "python3"
  },
  "language_info": {
   "codemirror_mode": {
    "name": "ipython",
    "version": 3
   },
   "file_extension": ".py",
   "mimetype": "text/x-python",
   "name": "python",
   "nbconvert_exporter": "python",
   "pygments_lexer": "ipython3",
   "version": "3.7.3"
  }
 },
 "nbformat": 4,
 "nbformat_minor": 2
}
