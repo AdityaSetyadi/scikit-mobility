{
 "cells": [
  {
   "cell_type": "markdown",
   "metadata": {
    "slideshow": {
     "slide_type": "slide"
    }
   },
   "source": [
    "<img src=\"../logo_skmob.png\" align=\"left\" width=\"250\">"
   ]
  },
  {
   "cell_type": "markdown",
   "metadata": {
    "pycharm": {},
    "slideshow": {
     "slide_type": "fragment"
    }
   },
   "source": [
    "# **Privacy Risk Assessment**\n",
    "\n",
    "- Simulate privacy attacks and assess risk with a worst-case scenario framework"
   ]
  },
  {
   "cell_type": "markdown",
   "metadata": {
    "slideshow": {
     "slide_type": "slide"
    }
   },
   "source": [
    "-  First, we import the necessary modules"
   ]
  },
  {
   "cell_type": "code",
   "execution_count": 1,
   "metadata": {
    "pycharm": {},
    "slideshow": {
     "slide_type": "fragment"
    }
   },
   "outputs": [],
   "source": [
    "from skmob.privacy import attacks\n",
    "from skmob.core.trajectorydataframe import TrajDataFrame\n",
    "from skmob.utils import constants"
   ]
  },
  {
   "cell_type": "markdown",
   "metadata": {
    "pycharm": {},
    "slideshow": {
     "slide_type": "fragment"
    }
   },
   "source": [
    "Let's use a dummy dataset to visualize how risk is computed"
   ]
  },
  {
   "cell_type": "code",
   "execution_count": 2,
   "metadata": {
    "pycharm": {},
    "slideshow": {
     "slide_type": "fragment"
    }
   },
   "outputs": [],
   "source": [
    "trjdat = TrajDataFrame.from_file(filename=\"./data/privacy_toy.csv\")"
   ]
  },
  {
   "cell_type": "code",
   "execution_count": 3,
   "metadata": {
    "pycharm": {},
    "scrolled": true,
    "slideshow": {
     "slide_type": "slide"
    }
   },
   "outputs": [
    {
     "data": {
      "text/html": [
       "<div>\n",
       "<style scoped>\n",
       "    .dataframe tbody tr th:only-of-type {\n",
       "        vertical-align: middle;\n",
       "    }\n",
       "\n",
       "    .dataframe tbody tr th {\n",
       "        vertical-align: top;\n",
       "    }\n",
       "\n",
       "    .dataframe thead th {\n",
       "        text-align: right;\n",
       "    }\n",
       "</style>\n",
       "<table border=\"1\" class=\"dataframe\">\n",
       "  <thead>\n",
       "    <tr style=\"text-align: right;\">\n",
       "      <th></th>\n",
       "      <th>lat</th>\n",
       "      <th>lng</th>\n",
       "      <th>datetime</th>\n",
       "      <th>uid</th>\n",
       "    </tr>\n",
       "  </thead>\n",
       "  <tbody>\n",
       "    <tr>\n",
       "      <th>0</th>\n",
       "      <td>43.843014</td>\n",
       "      <td>10.507994</td>\n",
       "      <td>2011-02-03 08:34:04</td>\n",
       "      <td>1</td>\n",
       "    </tr>\n",
       "    <tr>\n",
       "      <th>1</th>\n",
       "      <td>43.544270</td>\n",
       "      <td>10.326150</td>\n",
       "      <td>2011-02-03 09:34:04</td>\n",
       "      <td>1</td>\n",
       "    </tr>\n",
       "    <tr>\n",
       "      <th>2</th>\n",
       "      <td>43.708530</td>\n",
       "      <td>10.403600</td>\n",
       "      <td>2011-02-03 10:34:04</td>\n",
       "      <td>1</td>\n",
       "    </tr>\n",
       "    <tr>\n",
       "      <th>3</th>\n",
       "      <td>43.779250</td>\n",
       "      <td>11.246260</td>\n",
       "      <td>2011-02-04 10:34:04</td>\n",
       "      <td>1</td>\n",
       "    </tr>\n",
       "    <tr>\n",
       "      <th>4</th>\n",
       "      <td>43.843014</td>\n",
       "      <td>10.507994</td>\n",
       "      <td>2011-02-03 08:34:04</td>\n",
       "      <td>2</td>\n",
       "    </tr>\n",
       "    <tr>\n",
       "      <th>5</th>\n",
       "      <td>43.708530</td>\n",
       "      <td>10.403600</td>\n",
       "      <td>2011-02-03 09:34:04</td>\n",
       "      <td>2</td>\n",
       "    </tr>\n",
       "    <tr>\n",
       "      <th>6</th>\n",
       "      <td>43.843014</td>\n",
       "      <td>10.507994</td>\n",
       "      <td>2011-02-04 10:34:04</td>\n",
       "      <td>2</td>\n",
       "    </tr>\n",
       "    <tr>\n",
       "      <th>7</th>\n",
       "      <td>43.544270</td>\n",
       "      <td>10.326150</td>\n",
       "      <td>2011-02-04 11:34:04</td>\n",
       "      <td>2</td>\n",
       "    </tr>\n",
       "    <tr>\n",
       "      <th>8</th>\n",
       "      <td>43.544270</td>\n",
       "      <td>10.326150</td>\n",
       "      <td>2011-02-03 08:34:04</td>\n",
       "      <td>3</td>\n",
       "    </tr>\n",
       "    <tr>\n",
       "      <th>9</th>\n",
       "      <td>43.708530</td>\n",
       "      <td>10.403600</td>\n",
       "      <td>2011-02-03 09:34:04</td>\n",
       "      <td>3</td>\n",
       "    </tr>\n",
       "    <tr>\n",
       "      <th>10</th>\n",
       "      <td>43.843014</td>\n",
       "      <td>10.507994</td>\n",
       "      <td>2011-02-04 10:34:04</td>\n",
       "      <td>3</td>\n",
       "    </tr>\n",
       "    <tr>\n",
       "      <th>11</th>\n",
       "      <td>43.779250</td>\n",
       "      <td>11.246260</td>\n",
       "      <td>2011-02-04 11:34:04</td>\n",
       "      <td>3</td>\n",
       "    </tr>\n",
       "    <tr>\n",
       "      <th>12</th>\n",
       "      <td>43.708530</td>\n",
       "      <td>10.403600</td>\n",
       "      <td>2011-02-04 10:34:04</td>\n",
       "      <td>4</td>\n",
       "    </tr>\n",
       "    <tr>\n",
       "      <th>13</th>\n",
       "      <td>43.544270</td>\n",
       "      <td>10.326150</td>\n",
       "      <td>2011-02-04 11:34:04</td>\n",
       "      <td>4</td>\n",
       "    </tr>\n",
       "    <tr>\n",
       "      <th>14</th>\n",
       "      <td>43.779250</td>\n",
       "      <td>11.246260</td>\n",
       "      <td>2011-02-04 12:34:04</td>\n",
       "      <td>4</td>\n",
       "    </tr>\n",
       "    <tr>\n",
       "      <th>15</th>\n",
       "      <td>43.708530</td>\n",
       "      <td>10.403600</td>\n",
       "      <td>2011-02-04 10:34:04</td>\n",
       "      <td>5</td>\n",
       "    </tr>\n",
       "    <tr>\n",
       "      <th>16</th>\n",
       "      <td>43.779250</td>\n",
       "      <td>11.246260</td>\n",
       "      <td>2011-02-04 11:34:04</td>\n",
       "      <td>5</td>\n",
       "    </tr>\n",
       "    <tr>\n",
       "      <th>17</th>\n",
       "      <td>43.843014</td>\n",
       "      <td>10.507994</td>\n",
       "      <td>2011-02-05 12:34:04</td>\n",
       "      <td>5</td>\n",
       "    </tr>\n",
       "    <tr>\n",
       "      <th>18</th>\n",
       "      <td>43.843014</td>\n",
       "      <td>10.507994</td>\n",
       "      <td>2011-02-04 10:34:04</td>\n",
       "      <td>6</td>\n",
       "    </tr>\n",
       "    <tr>\n",
       "      <th>19</th>\n",
       "      <td>43.544270</td>\n",
       "      <td>10.326150</td>\n",
       "      <td>2011-02-04 11:34:04</td>\n",
       "      <td>6</td>\n",
       "    </tr>\n",
       "    <tr>\n",
       "      <th>20</th>\n",
       "      <td>43.843014</td>\n",
       "      <td>10.507994</td>\n",
       "      <td>2011-02-04 10:34:04</td>\n",
       "      <td>7</td>\n",
       "    </tr>\n",
       "    <tr>\n",
       "      <th>21</th>\n",
       "      <td>43.843014</td>\n",
       "      <td>10.507994</td>\n",
       "      <td>2011-02-04 11:34:04</td>\n",
       "      <td>7</td>\n",
       "    </tr>\n",
       "    <tr>\n",
       "      <th>22</th>\n",
       "      <td>43.779250</td>\n",
       "      <td>11.246260</td>\n",
       "      <td>2011-02-05 12:34:04</td>\n",
       "      <td>7</td>\n",
       "    </tr>\n",
       "  </tbody>\n",
       "</table>\n",
       "</div>"
      ],
      "text/plain": [
       "          lat        lng            datetime  uid\n",
       "0   43.843014  10.507994 2011-02-03 08:34:04    1\n",
       "1   43.544270  10.326150 2011-02-03 09:34:04    1\n",
       "2   43.708530  10.403600 2011-02-03 10:34:04    1\n",
       "3   43.779250  11.246260 2011-02-04 10:34:04    1\n",
       "4   43.843014  10.507994 2011-02-03 08:34:04    2\n",
       "5   43.708530  10.403600 2011-02-03 09:34:04    2\n",
       "6   43.843014  10.507994 2011-02-04 10:34:04    2\n",
       "7   43.544270  10.326150 2011-02-04 11:34:04    2\n",
       "8   43.544270  10.326150 2011-02-03 08:34:04    3\n",
       "9   43.708530  10.403600 2011-02-03 09:34:04    3\n",
       "10  43.843014  10.507994 2011-02-04 10:34:04    3\n",
       "11  43.779250  11.246260 2011-02-04 11:34:04    3\n",
       "12  43.708530  10.403600 2011-02-04 10:34:04    4\n",
       "13  43.544270  10.326150 2011-02-04 11:34:04    4\n",
       "14  43.779250  11.246260 2011-02-04 12:34:04    4\n",
       "15  43.708530  10.403600 2011-02-04 10:34:04    5\n",
       "16  43.779250  11.246260 2011-02-04 11:34:04    5\n",
       "17  43.843014  10.507994 2011-02-05 12:34:04    5\n",
       "18  43.843014  10.507994 2011-02-04 10:34:04    6\n",
       "19  43.544270  10.326150 2011-02-04 11:34:04    6\n",
       "20  43.843014  10.507994 2011-02-04 10:34:04    7\n",
       "21  43.843014  10.507994 2011-02-04 11:34:04    7\n",
       "22  43.779250  11.246260 2011-02-05 12:34:04    7"
      ]
     },
     "execution_count": 3,
     "metadata": {},
     "output_type": "execute_result"
    }
   ],
   "source": [
    "trjdat"
   ]
  },
  {
   "cell_type": "markdown",
   "metadata": {
    "pycharm": {},
    "slideshow": {
     "slide_type": "slide"
    }
   },
   "source": [
    "- Each type of attack is a separate class inheriting from a generic `Attack` class. \n",
    "- We can instatiante an attack model by specifying the length `k` of the background knowledge that we want to simulate."
   ]
  },
  {
   "cell_type": "code",
   "execution_count": 4,
   "metadata": {
    "pycharm": {},
    "slideshow": {
     "slide_type": "fragment"
    }
   },
   "outputs": [],
   "source": [
    "at = attacks.LocationAttack(k=2)"
   ]
  },
  {
   "cell_type": "markdown",
   "metadata": {
    "pycharm": {},
    "slideshow": {
     "slide_type": "subslide"
    }
   },
   "source": [
    "- To compute privacy risk for all users, simply call the `assess_risk` function on the trajectory dataframe"
   ]
  },
  {
   "cell_type": "code",
   "execution_count": 5,
   "metadata": {
    "pycharm": {},
    "scrolled": true,
    "slideshow": {
     "slide_type": "fragment"
    }
   },
   "outputs": [
    {
     "data": {
      "text/html": [
       "<div>\n",
       "<style scoped>\n",
       "    .dataframe tbody tr th:only-of-type {\n",
       "        vertical-align: middle;\n",
       "    }\n",
       "\n",
       "    .dataframe tbody tr th {\n",
       "        vertical-align: top;\n",
       "    }\n",
       "\n",
       "    .dataframe thead th {\n",
       "        text-align: right;\n",
       "    }\n",
       "</style>\n",
       "<table border=\"1\" class=\"dataframe\">\n",
       "  <thead>\n",
       "    <tr style=\"text-align: right;\">\n",
       "      <th></th>\n",
       "      <th>uid</th>\n",
       "      <th>risk</th>\n",
       "    </tr>\n",
       "  </thead>\n",
       "  <tbody>\n",
       "    <tr>\n",
       "      <th>0</th>\n",
       "      <td>1</td>\n",
       "      <td>0.333333</td>\n",
       "    </tr>\n",
       "    <tr>\n",
       "      <th>1</th>\n",
       "      <td>2</td>\n",
       "      <td>0.500000</td>\n",
       "    </tr>\n",
       "    <tr>\n",
       "      <th>2</th>\n",
       "      <td>3</td>\n",
       "      <td>0.333333</td>\n",
       "    </tr>\n",
       "    <tr>\n",
       "      <th>3</th>\n",
       "      <td>4</td>\n",
       "      <td>0.333333</td>\n",
       "    </tr>\n",
       "    <tr>\n",
       "      <th>4</th>\n",
       "      <td>5</td>\n",
       "      <td>0.250000</td>\n",
       "    </tr>\n",
       "    <tr>\n",
       "      <th>5</th>\n",
       "      <td>6</td>\n",
       "      <td>0.250000</td>\n",
       "    </tr>\n",
       "    <tr>\n",
       "      <th>6</th>\n",
       "      <td>7</td>\n",
       "      <td>0.500000</td>\n",
       "    </tr>\n",
       "  </tbody>\n",
       "</table>\n",
       "</div>"
      ],
      "text/plain": [
       "   uid      risk\n",
       "0    1  0.333333\n",
       "1    2  0.500000\n",
       "2    3  0.333333\n",
       "3    4  0.333333\n",
       "4    5  0.250000\n",
       "5    6  0.250000\n",
       "6    7  0.500000"
      ]
     },
     "execution_count": 5,
     "metadata": {},
     "output_type": "execute_result"
    }
   ],
   "source": [
    "at.assess_risk(trjdat)"
   ]
  },
  {
   "cell_type": "markdown",
   "metadata": {
    "pycharm": {},
    "slideshow": {
     "slide_type": "slide"
    }
   },
   "source": [
    "### **Assessment options**"
   ]
  },
  {
   "cell_type": "markdown",
   "metadata": {
    "pycharm": {},
    "slideshow": {
     "slide_type": "fragment"
    }
   },
   "source": [
    "- To change the size of the background knowledge, we can either change the `k` parameter with the `set_k` function, or instantiate a new attack model"
   ]
  },
  {
   "cell_type": "code",
   "execution_count": 6,
   "metadata": {
    "pycharm": {},
    "slideshow": {
     "slide_type": "fragment"
    }
   },
   "outputs": [
    {
     "data": {
      "text/html": [
       "<div>\n",
       "<style scoped>\n",
       "    .dataframe tbody tr th:only-of-type {\n",
       "        vertical-align: middle;\n",
       "    }\n",
       "\n",
       "    .dataframe tbody tr th {\n",
       "        vertical-align: top;\n",
       "    }\n",
       "\n",
       "    .dataframe thead th {\n",
       "        text-align: right;\n",
       "    }\n",
       "</style>\n",
       "<table border=\"1\" class=\"dataframe\">\n",
       "  <thead>\n",
       "    <tr style=\"text-align: right;\">\n",
       "      <th></th>\n",
       "      <th>uid</th>\n",
       "      <th>risk</th>\n",
       "    </tr>\n",
       "  </thead>\n",
       "  <tbody>\n",
       "    <tr>\n",
       "      <th>0</th>\n",
       "      <td>1</td>\n",
       "      <td>0.500000</td>\n",
       "    </tr>\n",
       "    <tr>\n",
       "      <th>1</th>\n",
       "      <td>2</td>\n",
       "      <td>1.000000</td>\n",
       "    </tr>\n",
       "    <tr>\n",
       "      <th>2</th>\n",
       "      <td>3</td>\n",
       "      <td>0.500000</td>\n",
       "    </tr>\n",
       "    <tr>\n",
       "      <th>3</th>\n",
       "      <td>4</td>\n",
       "      <td>0.333333</td>\n",
       "    </tr>\n",
       "    <tr>\n",
       "      <th>4</th>\n",
       "      <td>5</td>\n",
       "      <td>0.333333</td>\n",
       "    </tr>\n",
       "    <tr>\n",
       "      <th>5</th>\n",
       "      <td>6</td>\n",
       "      <td>0.250000</td>\n",
       "    </tr>\n",
       "    <tr>\n",
       "      <th>6</th>\n",
       "      <td>7</td>\n",
       "      <td>1.000000</td>\n",
       "    </tr>\n",
       "  </tbody>\n",
       "</table>\n",
       "</div>"
      ],
      "text/plain": [
       "   uid      risk\n",
       "0    1  0.500000\n",
       "1    2  1.000000\n",
       "2    3  0.500000\n",
       "3    4  0.333333\n",
       "4    5  0.333333\n",
       "5    6  0.250000\n",
       "6    7  1.000000"
      ]
     },
     "execution_count": 6,
     "metadata": {},
     "output_type": "execute_result"
    }
   ],
   "source": [
    "at.set_k(3)\n",
    "at.assess_risk(trjdat)"
   ]
  },
  {
   "cell_type": "markdown",
   "metadata": {
    "pycharm": {},
    "slideshow": {
     "slide_type": "subslide"
    }
   },
   "source": [
    "- Not all combinations may be evaluated during the assessment: if an instance has risk equal to 1.0, the following combinations are discarded\n",
    "- If you want to show all possible combinations, use the `instance_analysis` parameter\n",
    "- As all combinations are computed, this may require long times and high memory usage"
   ]
  },
  {
   "cell_type": "code",
   "execution_count": 10,
   "metadata": {
    "pycharm": {},
    "slideshow": {
     "slide_type": "slide"
    }
   },
   "outputs": [],
   "source": [
    "combs = at.assess_risk(trjdat, force_instances=True)"
   ]
  },
  {
   "cell_type": "code",
   "execution_count": 18,
   "metadata": {},
   "outputs": [
    {
     "data": {
      "text/html": [
       "<div>\n",
       "<style scoped>\n",
       "    .dataframe tbody tr th:only-of-type {\n",
       "        vertical-align: middle;\n",
       "    }\n",
       "\n",
       "    .dataframe tbody tr th {\n",
       "        vertical-align: top;\n",
       "    }\n",
       "\n",
       "    .dataframe thead th {\n",
       "        text-align: right;\n",
       "    }\n",
       "</style>\n",
       "<table border=\"1\" class=\"dataframe\">\n",
       "  <thead>\n",
       "    <tr style=\"text-align: right;\">\n",
       "      <th></th>\n",
       "      <th>lat</th>\n",
       "      <th>lng</th>\n",
       "      <th>datetime</th>\n",
       "      <th>uid</th>\n",
       "      <th>instance</th>\n",
       "      <th>instance_elem</th>\n",
       "      <th>prob</th>\n",
       "    </tr>\n",
       "  </thead>\n",
       "  <tbody>\n",
       "    <tr>\n",
       "      <th>0</th>\n",
       "      <td>43.843014</td>\n",
       "      <td>10.507994</td>\n",
       "      <td>2011-02-03 08:34:04</td>\n",
       "      <td>1</td>\n",
       "      <td>1</td>\n",
       "      <td>1</td>\n",
       "      <td>0.333333</td>\n",
       "    </tr>\n",
       "    <tr>\n",
       "      <th>1</th>\n",
       "      <td>43.544270</td>\n",
       "      <td>10.326150</td>\n",
       "      <td>2011-02-03 09:34:04</td>\n",
       "      <td>1</td>\n",
       "      <td>1</td>\n",
       "      <td>2</td>\n",
       "      <td>0.333333</td>\n",
       "    </tr>\n",
       "    <tr>\n",
       "      <th>2</th>\n",
       "      <td>43.708530</td>\n",
       "      <td>10.403600</td>\n",
       "      <td>2011-02-03 10:34:04</td>\n",
       "      <td>1</td>\n",
       "      <td>1</td>\n",
       "      <td>3</td>\n",
       "      <td>0.333333</td>\n",
       "    </tr>\n",
       "    <tr>\n",
       "      <th>3</th>\n",
       "      <td>43.843014</td>\n",
       "      <td>10.507994</td>\n",
       "      <td>2011-02-03 08:34:04</td>\n",
       "      <td>1</td>\n",
       "      <td>2</td>\n",
       "      <td>1</td>\n",
       "      <td>0.500000</td>\n",
       "    </tr>\n",
       "    <tr>\n",
       "      <th>4</th>\n",
       "      <td>43.544270</td>\n",
       "      <td>10.326150</td>\n",
       "      <td>2011-02-03 09:34:04</td>\n",
       "      <td>1</td>\n",
       "      <td>2</td>\n",
       "      <td>2</td>\n",
       "      <td>0.500000</td>\n",
       "    </tr>\n",
       "    <tr>\n",
       "      <th>5</th>\n",
       "      <td>43.779250</td>\n",
       "      <td>11.246260</td>\n",
       "      <td>2011-02-04 10:34:04</td>\n",
       "      <td>1</td>\n",
       "      <td>2</td>\n",
       "      <td>3</td>\n",
       "      <td>0.500000</td>\n",
       "    </tr>\n",
       "    <tr>\n",
       "      <th>6</th>\n",
       "      <td>43.843014</td>\n",
       "      <td>10.507994</td>\n",
       "      <td>2011-02-03 08:34:04</td>\n",
       "      <td>1</td>\n",
       "      <td>3</td>\n",
       "      <td>1</td>\n",
       "      <td>0.333333</td>\n",
       "    </tr>\n",
       "    <tr>\n",
       "      <th>7</th>\n",
       "      <td>43.708530</td>\n",
       "      <td>10.403600</td>\n",
       "      <td>2011-02-03 10:34:04</td>\n",
       "      <td>1</td>\n",
       "      <td>3</td>\n",
       "      <td>2</td>\n",
       "      <td>0.333333</td>\n",
       "    </tr>\n",
       "    <tr>\n",
       "      <th>8</th>\n",
       "      <td>43.779250</td>\n",
       "      <td>11.246260</td>\n",
       "      <td>2011-02-04 10:34:04</td>\n",
       "      <td>1</td>\n",
       "      <td>3</td>\n",
       "      <td>3</td>\n",
       "      <td>0.333333</td>\n",
       "    </tr>\n",
       "    <tr>\n",
       "      <th>9</th>\n",
       "      <td>43.544270</td>\n",
       "      <td>10.326150</td>\n",
       "      <td>2011-02-03 09:34:04</td>\n",
       "      <td>1</td>\n",
       "      <td>4</td>\n",
       "      <td>1</td>\n",
       "      <td>0.333333</td>\n",
       "    </tr>\n",
       "    <tr>\n",
       "      <th>10</th>\n",
       "      <td>43.708530</td>\n",
       "      <td>10.403600</td>\n",
       "      <td>2011-02-03 10:34:04</td>\n",
       "      <td>1</td>\n",
       "      <td>4</td>\n",
       "      <td>2</td>\n",
       "      <td>0.333333</td>\n",
       "    </tr>\n",
       "    <tr>\n",
       "      <th>11</th>\n",
       "      <td>43.779250</td>\n",
       "      <td>11.246260</td>\n",
       "      <td>2011-02-04 10:34:04</td>\n",
       "      <td>1</td>\n",
       "      <td>4</td>\n",
       "      <td>3</td>\n",
       "      <td>0.333333</td>\n",
       "    </tr>\n",
       "    <tr>\n",
       "      <th>12</th>\n",
       "      <td>43.843014</td>\n",
       "      <td>10.507994</td>\n",
       "      <td>2011-02-03 08:34:04</td>\n",
       "      <td>2</td>\n",
       "      <td>1</td>\n",
       "      <td>1</td>\n",
       "      <td>1.000000</td>\n",
       "    </tr>\n",
       "    <tr>\n",
       "      <th>13</th>\n",
       "      <td>43.708530</td>\n",
       "      <td>10.403600</td>\n",
       "      <td>2011-02-03 09:34:04</td>\n",
       "      <td>2</td>\n",
       "      <td>1</td>\n",
       "      <td>2</td>\n",
       "      <td>1.000000</td>\n",
       "    </tr>\n",
       "    <tr>\n",
       "      <th>14</th>\n",
       "      <td>43.843014</td>\n",
       "      <td>10.507994</td>\n",
       "      <td>2011-02-04 10:34:04</td>\n",
       "      <td>2</td>\n",
       "      <td>1</td>\n",
       "      <td>3</td>\n",
       "      <td>1.000000</td>\n",
       "    </tr>\n",
       "    <tr>\n",
       "      <th>15</th>\n",
       "      <td>43.843014</td>\n",
       "      <td>10.507994</td>\n",
       "      <td>2011-02-03 08:34:04</td>\n",
       "      <td>2</td>\n",
       "      <td>2</td>\n",
       "      <td>1</td>\n",
       "      <td>0.333333</td>\n",
       "    </tr>\n",
       "    <tr>\n",
       "      <th>16</th>\n",
       "      <td>43.708530</td>\n",
       "      <td>10.403600</td>\n",
       "      <td>2011-02-03 09:34:04</td>\n",
       "      <td>2</td>\n",
       "      <td>2</td>\n",
       "      <td>2</td>\n",
       "      <td>0.333333</td>\n",
       "    </tr>\n",
       "    <tr>\n",
       "      <th>17</th>\n",
       "      <td>43.544270</td>\n",
       "      <td>10.326150</td>\n",
       "      <td>2011-02-04 11:34:04</td>\n",
       "      <td>2</td>\n",
       "      <td>2</td>\n",
       "      <td>3</td>\n",
       "      <td>0.333333</td>\n",
       "    </tr>\n",
       "    <tr>\n",
       "      <th>18</th>\n",
       "      <td>43.843014</td>\n",
       "      <td>10.507994</td>\n",
       "      <td>2011-02-03 08:34:04</td>\n",
       "      <td>2</td>\n",
       "      <td>3</td>\n",
       "      <td>1</td>\n",
       "      <td>1.000000</td>\n",
       "    </tr>\n",
       "    <tr>\n",
       "      <th>19</th>\n",
       "      <td>43.843014</td>\n",
       "      <td>10.507994</td>\n",
       "      <td>2011-02-04 10:34:04</td>\n",
       "      <td>2</td>\n",
       "      <td>3</td>\n",
       "      <td>2</td>\n",
       "      <td>1.000000</td>\n",
       "    </tr>\n",
       "    <tr>\n",
       "      <th>20</th>\n",
       "      <td>43.544270</td>\n",
       "      <td>10.326150</td>\n",
       "      <td>2011-02-04 11:34:04</td>\n",
       "      <td>2</td>\n",
       "      <td>3</td>\n",
       "      <td>3</td>\n",
       "      <td>1.000000</td>\n",
       "    </tr>\n",
       "    <tr>\n",
       "      <th>21</th>\n",
       "      <td>43.708530</td>\n",
       "      <td>10.403600</td>\n",
       "      <td>2011-02-03 09:34:04</td>\n",
       "      <td>2</td>\n",
       "      <td>4</td>\n",
       "      <td>1</td>\n",
       "      <td>0.333333</td>\n",
       "    </tr>\n",
       "    <tr>\n",
       "      <th>22</th>\n",
       "      <td>43.843014</td>\n",
       "      <td>10.507994</td>\n",
       "      <td>2011-02-04 10:34:04</td>\n",
       "      <td>2</td>\n",
       "      <td>4</td>\n",
       "      <td>2</td>\n",
       "      <td>0.333333</td>\n",
       "    </tr>\n",
       "    <tr>\n",
       "      <th>23</th>\n",
       "      <td>43.544270</td>\n",
       "      <td>10.326150</td>\n",
       "      <td>2011-02-04 11:34:04</td>\n",
       "      <td>2</td>\n",
       "      <td>4</td>\n",
       "      <td>3</td>\n",
       "      <td>0.333333</td>\n",
       "    </tr>\n",
       "    <tr>\n",
       "      <th>24</th>\n",
       "      <td>43.544270</td>\n",
       "      <td>10.326150</td>\n",
       "      <td>2011-02-03 08:34:04</td>\n",
       "      <td>3</td>\n",
       "      <td>1</td>\n",
       "      <td>1</td>\n",
       "      <td>0.333333</td>\n",
       "    </tr>\n",
       "    <tr>\n",
       "      <th>25</th>\n",
       "      <td>43.708530</td>\n",
       "      <td>10.403600</td>\n",
       "      <td>2011-02-03 09:34:04</td>\n",
       "      <td>3</td>\n",
       "      <td>1</td>\n",
       "      <td>2</td>\n",
       "      <td>0.333333</td>\n",
       "    </tr>\n",
       "    <tr>\n",
       "      <th>26</th>\n",
       "      <td>43.843014</td>\n",
       "      <td>10.507994</td>\n",
       "      <td>2011-02-04 10:34:04</td>\n",
       "      <td>3</td>\n",
       "      <td>1</td>\n",
       "      <td>3</td>\n",
       "      <td>0.333333</td>\n",
       "    </tr>\n",
       "    <tr>\n",
       "      <th>27</th>\n",
       "      <td>43.544270</td>\n",
       "      <td>10.326150</td>\n",
       "      <td>2011-02-03 08:34:04</td>\n",
       "      <td>3</td>\n",
       "      <td>2</td>\n",
       "      <td>1</td>\n",
       "      <td>0.333333</td>\n",
       "    </tr>\n",
       "    <tr>\n",
       "      <th>28</th>\n",
       "      <td>43.708530</td>\n",
       "      <td>10.403600</td>\n",
       "      <td>2011-02-03 09:34:04</td>\n",
       "      <td>3</td>\n",
       "      <td>2</td>\n",
       "      <td>2</td>\n",
       "      <td>0.333333</td>\n",
       "    </tr>\n",
       "    <tr>\n",
       "      <th>29</th>\n",
       "      <td>43.779250</td>\n",
       "      <td>11.246260</td>\n",
       "      <td>2011-02-04 11:34:04</td>\n",
       "      <td>3</td>\n",
       "      <td>2</td>\n",
       "      <td>3</td>\n",
       "      <td>0.333333</td>\n",
       "    </tr>\n",
       "    <tr>\n",
       "      <th>30</th>\n",
       "      <td>43.544270</td>\n",
       "      <td>10.326150</td>\n",
       "      <td>2011-02-03 08:34:04</td>\n",
       "      <td>3</td>\n",
       "      <td>3</td>\n",
       "      <td>1</td>\n",
       "      <td>0.500000</td>\n",
       "    </tr>\n",
       "    <tr>\n",
       "      <th>31</th>\n",
       "      <td>43.843014</td>\n",
       "      <td>10.507994</td>\n",
       "      <td>2011-02-04 10:34:04</td>\n",
       "      <td>3</td>\n",
       "      <td>3</td>\n",
       "      <td>2</td>\n",
       "      <td>0.500000</td>\n",
       "    </tr>\n",
       "    <tr>\n",
       "      <th>32</th>\n",
       "      <td>43.779250</td>\n",
       "      <td>11.246260</td>\n",
       "      <td>2011-02-04 11:34:04</td>\n",
       "      <td>3</td>\n",
       "      <td>3</td>\n",
       "      <td>3</td>\n",
       "      <td>0.500000</td>\n",
       "    </tr>\n",
       "    <tr>\n",
       "      <th>33</th>\n",
       "      <td>43.708530</td>\n",
       "      <td>10.403600</td>\n",
       "      <td>2011-02-03 09:34:04</td>\n",
       "      <td>3</td>\n",
       "      <td>4</td>\n",
       "      <td>1</td>\n",
       "      <td>0.333333</td>\n",
       "    </tr>\n",
       "    <tr>\n",
       "      <th>34</th>\n",
       "      <td>43.843014</td>\n",
       "      <td>10.507994</td>\n",
       "      <td>2011-02-04 10:34:04</td>\n",
       "      <td>3</td>\n",
       "      <td>4</td>\n",
       "      <td>2</td>\n",
       "      <td>0.333333</td>\n",
       "    </tr>\n",
       "    <tr>\n",
       "      <th>35</th>\n",
       "      <td>43.779250</td>\n",
       "      <td>11.246260</td>\n",
       "      <td>2011-02-04 11:34:04</td>\n",
       "      <td>3</td>\n",
       "      <td>4</td>\n",
       "      <td>3</td>\n",
       "      <td>0.333333</td>\n",
       "    </tr>\n",
       "    <tr>\n",
       "      <th>36</th>\n",
       "      <td>43.708530</td>\n",
       "      <td>10.403600</td>\n",
       "      <td>2011-02-04 10:34:04</td>\n",
       "      <td>4</td>\n",
       "      <td>1</td>\n",
       "      <td>1</td>\n",
       "      <td>0.333333</td>\n",
       "    </tr>\n",
       "    <tr>\n",
       "      <th>37</th>\n",
       "      <td>43.544270</td>\n",
       "      <td>10.326150</td>\n",
       "      <td>2011-02-04 11:34:04</td>\n",
       "      <td>4</td>\n",
       "      <td>1</td>\n",
       "      <td>2</td>\n",
       "      <td>0.333333</td>\n",
       "    </tr>\n",
       "    <tr>\n",
       "      <th>38</th>\n",
       "      <td>43.779250</td>\n",
       "      <td>11.246260</td>\n",
       "      <td>2011-02-04 12:34:04</td>\n",
       "      <td>4</td>\n",
       "      <td>1</td>\n",
       "      <td>3</td>\n",
       "      <td>0.333333</td>\n",
       "    </tr>\n",
       "    <tr>\n",
       "      <th>39</th>\n",
       "      <td>43.708530</td>\n",
       "      <td>10.403600</td>\n",
       "      <td>2011-02-04 10:34:04</td>\n",
       "      <td>5</td>\n",
       "      <td>1</td>\n",
       "      <td>1</td>\n",
       "      <td>0.333333</td>\n",
       "    </tr>\n",
       "    <tr>\n",
       "      <th>40</th>\n",
       "      <td>43.779250</td>\n",
       "      <td>11.246260</td>\n",
       "      <td>2011-02-04 11:34:04</td>\n",
       "      <td>5</td>\n",
       "      <td>1</td>\n",
       "      <td>2</td>\n",
       "      <td>0.333333</td>\n",
       "    </tr>\n",
       "    <tr>\n",
       "      <th>41</th>\n",
       "      <td>43.843014</td>\n",
       "      <td>10.507994</td>\n",
       "      <td>2011-02-05 12:34:04</td>\n",
       "      <td>5</td>\n",
       "      <td>1</td>\n",
       "      <td>3</td>\n",
       "      <td>0.333333</td>\n",
       "    </tr>\n",
       "    <tr>\n",
       "      <th>42</th>\n",
       "      <td>43.843014</td>\n",
       "      <td>10.507994</td>\n",
       "      <td>2011-02-04 10:34:04</td>\n",
       "      <td>6</td>\n",
       "      <td>1</td>\n",
       "      <td>1</td>\n",
       "      <td>0.250000</td>\n",
       "    </tr>\n",
       "    <tr>\n",
       "      <th>43</th>\n",
       "      <td>43.544270</td>\n",
       "      <td>10.326150</td>\n",
       "      <td>2011-02-04 11:34:04</td>\n",
       "      <td>6</td>\n",
       "      <td>1</td>\n",
       "      <td>2</td>\n",
       "      <td>0.250000</td>\n",
       "    </tr>\n",
       "    <tr>\n",
       "      <th>44</th>\n",
       "      <td>43.843014</td>\n",
       "      <td>10.507994</td>\n",
       "      <td>2011-02-04 10:34:04</td>\n",
       "      <td>7</td>\n",
       "      <td>1</td>\n",
       "      <td>1</td>\n",
       "      <td>1.000000</td>\n",
       "    </tr>\n",
       "    <tr>\n",
       "      <th>45</th>\n",
       "      <td>43.843014</td>\n",
       "      <td>10.507994</td>\n",
       "      <td>2011-02-04 11:34:04</td>\n",
       "      <td>7</td>\n",
       "      <td>1</td>\n",
       "      <td>2</td>\n",
       "      <td>1.000000</td>\n",
       "    </tr>\n",
       "    <tr>\n",
       "      <th>46</th>\n",
       "      <td>43.779250</td>\n",
       "      <td>11.246260</td>\n",
       "      <td>2011-02-05 12:34:04</td>\n",
       "      <td>7</td>\n",
       "      <td>1</td>\n",
       "      <td>3</td>\n",
       "      <td>1.000000</td>\n",
       "    </tr>\n",
       "  </tbody>\n",
       "</table>\n",
       "</div>"
      ],
      "text/plain": [
       "          lat        lng            datetime  uid  instance  instance_elem  \\\n",
       "0   43.843014  10.507994 2011-02-03 08:34:04    1         1              1   \n",
       "1   43.544270  10.326150 2011-02-03 09:34:04    1         1              2   \n",
       "2   43.708530  10.403600 2011-02-03 10:34:04    1         1              3   \n",
       "3   43.843014  10.507994 2011-02-03 08:34:04    1         2              1   \n",
       "4   43.544270  10.326150 2011-02-03 09:34:04    1         2              2   \n",
       "5   43.779250  11.246260 2011-02-04 10:34:04    1         2              3   \n",
       "6   43.843014  10.507994 2011-02-03 08:34:04    1         3              1   \n",
       "7   43.708530  10.403600 2011-02-03 10:34:04    1         3              2   \n",
       "8   43.779250  11.246260 2011-02-04 10:34:04    1         3              3   \n",
       "9   43.544270  10.326150 2011-02-03 09:34:04    1         4              1   \n",
       "10  43.708530  10.403600 2011-02-03 10:34:04    1         4              2   \n",
       "11  43.779250  11.246260 2011-02-04 10:34:04    1         4              3   \n",
       "12  43.843014  10.507994 2011-02-03 08:34:04    2         1              1   \n",
       "13  43.708530  10.403600 2011-02-03 09:34:04    2         1              2   \n",
       "14  43.843014  10.507994 2011-02-04 10:34:04    2         1              3   \n",
       "15  43.843014  10.507994 2011-02-03 08:34:04    2         2              1   \n",
       "16  43.708530  10.403600 2011-02-03 09:34:04    2         2              2   \n",
       "17  43.544270  10.326150 2011-02-04 11:34:04    2         2              3   \n",
       "18  43.843014  10.507994 2011-02-03 08:34:04    2         3              1   \n",
       "19  43.843014  10.507994 2011-02-04 10:34:04    2         3              2   \n",
       "20  43.544270  10.326150 2011-02-04 11:34:04    2         3              3   \n",
       "21  43.708530  10.403600 2011-02-03 09:34:04    2         4              1   \n",
       "22  43.843014  10.507994 2011-02-04 10:34:04    2         4              2   \n",
       "23  43.544270  10.326150 2011-02-04 11:34:04    2         4              3   \n",
       "24  43.544270  10.326150 2011-02-03 08:34:04    3         1              1   \n",
       "25  43.708530  10.403600 2011-02-03 09:34:04    3         1              2   \n",
       "26  43.843014  10.507994 2011-02-04 10:34:04    3         1              3   \n",
       "27  43.544270  10.326150 2011-02-03 08:34:04    3         2              1   \n",
       "28  43.708530  10.403600 2011-02-03 09:34:04    3         2              2   \n",
       "29  43.779250  11.246260 2011-02-04 11:34:04    3         2              3   \n",
       "30  43.544270  10.326150 2011-02-03 08:34:04    3         3              1   \n",
       "31  43.843014  10.507994 2011-02-04 10:34:04    3         3              2   \n",
       "32  43.779250  11.246260 2011-02-04 11:34:04    3         3              3   \n",
       "33  43.708530  10.403600 2011-02-03 09:34:04    3         4              1   \n",
       "34  43.843014  10.507994 2011-02-04 10:34:04    3         4              2   \n",
       "35  43.779250  11.246260 2011-02-04 11:34:04    3         4              3   \n",
       "36  43.708530  10.403600 2011-02-04 10:34:04    4         1              1   \n",
       "37  43.544270  10.326150 2011-02-04 11:34:04    4         1              2   \n",
       "38  43.779250  11.246260 2011-02-04 12:34:04    4         1              3   \n",
       "39  43.708530  10.403600 2011-02-04 10:34:04    5         1              1   \n",
       "40  43.779250  11.246260 2011-02-04 11:34:04    5         1              2   \n",
       "41  43.843014  10.507994 2011-02-05 12:34:04    5         1              3   \n",
       "42  43.843014  10.507994 2011-02-04 10:34:04    6         1              1   \n",
       "43  43.544270  10.326150 2011-02-04 11:34:04    6         1              2   \n",
       "44  43.843014  10.507994 2011-02-04 10:34:04    7         1              1   \n",
       "45  43.843014  10.507994 2011-02-04 11:34:04    7         1              2   \n",
       "46  43.779250  11.246260 2011-02-05 12:34:04    7         1              3   \n",
       "\n",
       "        prob  \n",
       "0   0.333333  \n",
       "1   0.333333  \n",
       "2   0.333333  \n",
       "3   0.500000  \n",
       "4   0.500000  \n",
       "5   0.500000  \n",
       "6   0.333333  \n",
       "7   0.333333  \n",
       "8   0.333333  \n",
       "9   0.333333  \n",
       "10  0.333333  \n",
       "11  0.333333  \n",
       "12  1.000000  \n",
       "13  1.000000  \n",
       "14  1.000000  \n",
       "15  0.333333  \n",
       "16  0.333333  \n",
       "17  0.333333  \n",
       "18  1.000000  \n",
       "19  1.000000  \n",
       "20  1.000000  \n",
       "21  0.333333  \n",
       "22  0.333333  \n",
       "23  0.333333  \n",
       "24  0.333333  \n",
       "25  0.333333  \n",
       "26  0.333333  \n",
       "27  0.333333  \n",
       "28  0.333333  \n",
       "29  0.333333  \n",
       "30  0.500000  \n",
       "31  0.500000  \n",
       "32  0.500000  \n",
       "33  0.333333  \n",
       "34  0.333333  \n",
       "35  0.333333  \n",
       "36  0.333333  \n",
       "37  0.333333  \n",
       "38  0.333333  \n",
       "39  0.333333  \n",
       "40  0.333333  \n",
       "41  0.333333  \n",
       "42  0.250000  \n",
       "43  0.250000  \n",
       "44  1.000000  \n",
       "45  1.000000  \n",
       "46  1.000000  "
      ]
     },
     "execution_count": 18,
     "metadata": {},
     "output_type": "execute_result"
    }
   ],
   "source": [
    "combs = combs.reset_index(drop=True)"
   ]
  },
  {
   "cell_type": "code",
   "execution_count": 20,
   "metadata": {},
   "outputs": [
    {
     "ename": "ValueError",
     "evalue": "'uid' is both an index level and a column label, which is ambiguous.",
     "output_type": "error",
     "traceback": [
      "\u001b[0;31m---------------------------------------------------------------------------\u001b[0m",
      "\u001b[0;31mValueError\u001b[0m                                Traceback (most recent call last)",
      "\u001b[0;32m<ipython-input-20-6c98b8681347>\u001b[0m in \u001b[0;36m<module>\u001b[0;34m\u001b[0m\n\u001b[0;32m----> 1\u001b[0;31m \u001b[0mcombs\u001b[0m\u001b[0;34m.\u001b[0m\u001b[0mgroupby\u001b[0m\u001b[0;34m(\u001b[0m\u001b[0;34m[\u001b[0m\u001b[0;34m\"uid\"\u001b[0m\u001b[0;34m,\u001b[0m\u001b[0;34m\"instance\"\u001b[0m\u001b[0;34m,\u001b[0m\u001b[0;34m\"prob\"\u001b[0m\u001b[0;34m]\u001b[0m\u001b[0;34m)\u001b[0m\u001b[0;34m.\u001b[0m\u001b[0mreset_index\u001b[0m\u001b[0;34m(\u001b[0m\u001b[0;34m)\u001b[0m\u001b[0;34m\u001b[0m\u001b[0;34m\u001b[0m\u001b[0m\n\u001b[0m",
      "\u001b[0;32m~/anaconda3/envs/newscikit/lib/python3.7/site-packages/pandas-0.24.2-py3.7-macosx-10.7-x86_64.egg/pandas/core/generic.py\u001b[0m in \u001b[0;36mgroupby\u001b[0;34m(self, by, axis, level, as_index, sort, group_keys, squeeze, observed, **kwargs)\u001b[0m\n\u001b[1;32m   7630\u001b[0m         return groupby(self, by=by, axis=axis, level=level, as_index=as_index,\n\u001b[1;32m   7631\u001b[0m                        \u001b[0msort\u001b[0m\u001b[0;34m=\u001b[0m\u001b[0msort\u001b[0m\u001b[0;34m,\u001b[0m \u001b[0mgroup_keys\u001b[0m\u001b[0;34m=\u001b[0m\u001b[0mgroup_keys\u001b[0m\u001b[0;34m,\u001b[0m \u001b[0msqueeze\u001b[0m\u001b[0;34m=\u001b[0m\u001b[0msqueeze\u001b[0m\u001b[0;34m,\u001b[0m\u001b[0;34m\u001b[0m\u001b[0;34m\u001b[0m\u001b[0m\n\u001b[0;32m-> 7632\u001b[0;31m                        observed=observed, **kwargs)\n\u001b[0m\u001b[1;32m   7633\u001b[0m \u001b[0;34m\u001b[0m\u001b[0m\n\u001b[1;32m   7634\u001b[0m     def asfreq(self, freq, method=None, how=None, normalize=False,\n",
      "\u001b[0;32m~/anaconda3/envs/newscikit/lib/python3.7/site-packages/pandas-0.24.2-py3.7-macosx-10.7-x86_64.egg/pandas/core/groupby/groupby.py\u001b[0m in \u001b[0;36mgroupby\u001b[0;34m(obj, by, **kwds)\u001b[0m\n\u001b[1;32m   2108\u001b[0m         \u001b[0;32mraise\u001b[0m \u001b[0mTypeError\u001b[0m\u001b[0;34m(\u001b[0m\u001b[0;34m'invalid type: {}'\u001b[0m\u001b[0;34m.\u001b[0m\u001b[0mformat\u001b[0m\u001b[0;34m(\u001b[0m\u001b[0mobj\u001b[0m\u001b[0;34m)\u001b[0m\u001b[0;34m)\u001b[0m\u001b[0;34m\u001b[0m\u001b[0;34m\u001b[0m\u001b[0m\n\u001b[1;32m   2109\u001b[0m \u001b[0;34m\u001b[0m\u001b[0m\n\u001b[0;32m-> 2110\u001b[0;31m     \u001b[0;32mreturn\u001b[0m \u001b[0mklass\u001b[0m\u001b[0;34m(\u001b[0m\u001b[0mobj\u001b[0m\u001b[0;34m,\u001b[0m \u001b[0mby\u001b[0m\u001b[0;34m,\u001b[0m \u001b[0;34m**\u001b[0m\u001b[0mkwds\u001b[0m\u001b[0;34m)\u001b[0m\u001b[0;34m\u001b[0m\u001b[0;34m\u001b[0m\u001b[0m\n\u001b[0m",
      "\u001b[0;32m~/anaconda3/envs/newscikit/lib/python3.7/site-packages/pandas-0.24.2-py3.7-macosx-10.7-x86_64.egg/pandas/core/groupby/groupby.py\u001b[0m in \u001b[0;36m__init__\u001b[0;34m(self, obj, keys, axis, level, grouper, exclusions, selection, as_index, sort, group_keys, squeeze, observed, **kwargs)\u001b[0m\n\u001b[1;32m    358\u001b[0m                                                     \u001b[0msort\u001b[0m\u001b[0;34m=\u001b[0m\u001b[0msort\u001b[0m\u001b[0;34m,\u001b[0m\u001b[0;34m\u001b[0m\u001b[0;34m\u001b[0m\u001b[0m\n\u001b[1;32m    359\u001b[0m                                                     \u001b[0mobserved\u001b[0m\u001b[0;34m=\u001b[0m\u001b[0mobserved\u001b[0m\u001b[0;34m,\u001b[0m\u001b[0;34m\u001b[0m\u001b[0;34m\u001b[0m\u001b[0m\n\u001b[0;32m--> 360\u001b[0;31m                                                     mutated=self.mutated)\n\u001b[0m\u001b[1;32m    361\u001b[0m \u001b[0;34m\u001b[0m\u001b[0m\n\u001b[1;32m    362\u001b[0m         \u001b[0mself\u001b[0m\u001b[0;34m.\u001b[0m\u001b[0mobj\u001b[0m \u001b[0;34m=\u001b[0m \u001b[0mobj\u001b[0m\u001b[0;34m\u001b[0m\u001b[0;34m\u001b[0m\u001b[0m\n",
      "\u001b[0;32m~/anaconda3/envs/newscikit/lib/python3.7/site-packages/pandas-0.24.2-py3.7-macosx-10.7-x86_64.egg/pandas/core/groupby/grouper.py\u001b[0m in \u001b[0;36m_get_grouper\u001b[0;34m(obj, key, axis, level, sort, observed, mutated, validate)\u001b[0m\n\u001b[1;32m    570\u001b[0m             \u001b[0;32mif\u001b[0m \u001b[0mgpr\u001b[0m \u001b[0;32min\u001b[0m \u001b[0mobj\u001b[0m\u001b[0;34m:\u001b[0m\u001b[0;34m\u001b[0m\u001b[0;34m\u001b[0m\u001b[0m\n\u001b[1;32m    571\u001b[0m                 \u001b[0;32mif\u001b[0m \u001b[0mvalidate\u001b[0m\u001b[0;34m:\u001b[0m\u001b[0;34m\u001b[0m\u001b[0;34m\u001b[0m\u001b[0m\n\u001b[0;32m--> 572\u001b[0;31m                     \u001b[0mobj\u001b[0m\u001b[0;34m.\u001b[0m\u001b[0m_check_label_or_level_ambiguity\u001b[0m\u001b[0;34m(\u001b[0m\u001b[0mgpr\u001b[0m\u001b[0;34m)\u001b[0m\u001b[0;34m\u001b[0m\u001b[0;34m\u001b[0m\u001b[0m\n\u001b[0m\u001b[1;32m    573\u001b[0m                 \u001b[0min_axis\u001b[0m\u001b[0;34m,\u001b[0m \u001b[0mname\u001b[0m\u001b[0;34m,\u001b[0m \u001b[0mgpr\u001b[0m \u001b[0;34m=\u001b[0m \u001b[0;32mTrue\u001b[0m\u001b[0;34m,\u001b[0m \u001b[0mgpr\u001b[0m\u001b[0;34m,\u001b[0m \u001b[0mobj\u001b[0m\u001b[0;34m[\u001b[0m\u001b[0mgpr\u001b[0m\u001b[0;34m]\u001b[0m\u001b[0;34m\u001b[0m\u001b[0;34m\u001b[0m\u001b[0m\n\u001b[1;32m    574\u001b[0m                 \u001b[0mexclusions\u001b[0m\u001b[0;34m.\u001b[0m\u001b[0mappend\u001b[0m\u001b[0;34m(\u001b[0m\u001b[0mname\u001b[0m\u001b[0;34m)\u001b[0m\u001b[0;34m\u001b[0m\u001b[0;34m\u001b[0m\u001b[0m\n",
      "\u001b[0;32m~/anaconda3/envs/newscikit/lib/python3.7/site-packages/pandas-0.24.2-py3.7-macosx-10.7-x86_64.egg/pandas/core/generic.py\u001b[0m in \u001b[0;36m_check_label_or_level_ambiguity\u001b[0;34m(self, key, axis)\u001b[0m\n\u001b[1;32m   1653\u001b[0m                             \u001b[0mlabel_article\u001b[0m\u001b[0;34m=\u001b[0m\u001b[0mlabel_article\u001b[0m\u001b[0;34m,\u001b[0m\u001b[0;34m\u001b[0m\u001b[0;34m\u001b[0m\u001b[0m\n\u001b[1;32m   1654\u001b[0m                             label_type=label_type)\n\u001b[0;32m-> 1655\u001b[0;31m             \u001b[0;32mraise\u001b[0m \u001b[0mValueError\u001b[0m\u001b[0;34m(\u001b[0m\u001b[0mmsg\u001b[0m\u001b[0;34m)\u001b[0m\u001b[0;34m\u001b[0m\u001b[0;34m\u001b[0m\u001b[0m\n\u001b[0m\u001b[1;32m   1656\u001b[0m \u001b[0;34m\u001b[0m\u001b[0m\n\u001b[1;32m   1657\u001b[0m     \u001b[0;32mdef\u001b[0m \u001b[0m_get_label_or_level_values\u001b[0m\u001b[0;34m(\u001b[0m\u001b[0mself\u001b[0m\u001b[0;34m,\u001b[0m \u001b[0mkey\u001b[0m\u001b[0;34m,\u001b[0m \u001b[0maxis\u001b[0m\u001b[0;34m=\u001b[0m\u001b[0;36m0\u001b[0m\u001b[0;34m)\u001b[0m\u001b[0;34m:\u001b[0m\u001b[0;34m\u001b[0m\u001b[0;34m\u001b[0m\u001b[0m\n",
      "\u001b[0;31mValueError\u001b[0m: 'uid' is both an index level and a column label, which is ambiguous."
     ]
    }
   ],
   "source": [
    "combs.groupby([\"uid\",\"instance\",\"prob\"])"
   ]
  },
  {
   "cell_type": "markdown",
   "metadata": {
    "pycharm": {},
    "slideshow": {
     "slide_type": "slide"
    }
   },
   "source": [
    "- Complexity is dominated by the number of combinations\n",
    "- The number of combinations generated depends on:\n",
    "    1. length of the background knowledge\n",
    "    2. the average length of each user's trajectory. "
   ]
  },
  {
   "cell_type": "markdown",
   "metadata": {
    "pycharm": {},
    "slideshow": {
     "slide_type": "subslide"
    }
   },
   "source": [
    "\\begin{equation*}\n",
    "\\mathcal{O} \\Bigl(  \\binom{l}{k} |T|  matching \\Bigr)\n",
    "\\end{equation*}\n",
    "\n",
    "- $l$ is the length of the current trajectory considered\n",
    "- $k$ is the background knowledge length\n",
    "- $T$ is the set of all target trajectories\n",
    "- $matching$ stands for the cost of the matching operation between each combination and the data."
   ]
  },
  {
   "cell_type": "markdown",
   "metadata": {
    "pycharm": {},
    "slideshow": {
     "slide_type": "slide"
    }
   },
   "source": [
    "- A subset of the users can be specified with the parameter `targets`\n",
    "- Probability of reidentification is still computed against the entire dataset \n",
    "- `targets` can be used in combination with `instance_analysis` to isolate specific individuals"
   ]
  },
  {
   "cell_type": "code",
   "execution_count": 8,
   "metadata": {
    "pycharm": {},
    "slideshow": {
     "slide_type": "slide"
    }
   },
   "outputs": [
    {
     "data": {
      "text/html": [
       "<div>\n",
       "<style scoped>\n",
       "    .dataframe tbody tr th:only-of-type {\n",
       "        vertical-align: middle;\n",
       "    }\n",
       "\n",
       "    .dataframe tbody tr th {\n",
       "        vertical-align: top;\n",
       "    }\n",
       "\n",
       "    .dataframe thead th {\n",
       "        text-align: right;\n",
       "    }\n",
       "</style>\n",
       "<table border=\"1\" class=\"dataframe\">\n",
       "  <thead>\n",
       "    <tr style=\"text-align: right;\">\n",
       "      <th></th>\n",
       "      <th>instance</th>\n",
       "      <th>reid_prob</th>\n",
       "    </tr>\n",
       "    <tr>\n",
       "      <th>uid</th>\n",
       "      <th></th>\n",
       "      <th></th>\n",
       "    </tr>\n",
       "  </thead>\n",
       "  <tbody>\n",
       "    <tr>\n",
       "      <th>1</th>\n",
       "      <td>([43.843013899999995, 10.507994, 2011-02-03 08...</td>\n",
       "      <td>0.333333</td>\n",
       "    </tr>\n",
       "    <tr>\n",
       "      <th>1</th>\n",
       "      <td>([43.843013899999995, 10.507994, 2011-02-03 08...</td>\n",
       "      <td>0.500000</td>\n",
       "    </tr>\n",
       "    <tr>\n",
       "      <th>1</th>\n",
       "      <td>([43.843013899999995, 10.507994, 2011-02-03 08...</td>\n",
       "      <td>0.333333</td>\n",
       "    </tr>\n",
       "    <tr>\n",
       "      <th>1</th>\n",
       "      <td>([43.544270000000004, 10.32615, 2011-02-03 09:...</td>\n",
       "      <td>0.333333</td>\n",
       "    </tr>\n",
       "    <tr>\n",
       "      <th>2</th>\n",
       "      <td>([43.843013899999995, 10.507994, 2011-02-03 08...</td>\n",
       "      <td>1.000000</td>\n",
       "    </tr>\n",
       "    <tr>\n",
       "      <th>2</th>\n",
       "      <td>([43.843013899999995, 10.507994, 2011-02-03 08...</td>\n",
       "      <td>0.333333</td>\n",
       "    </tr>\n",
       "    <tr>\n",
       "      <th>2</th>\n",
       "      <td>([43.843013899999995, 10.507994, 2011-02-03 08...</td>\n",
       "      <td>1.000000</td>\n",
       "    </tr>\n",
       "    <tr>\n",
       "      <th>2</th>\n",
       "      <td>([43.708529999999996, 10.4036, 2011-02-03 09:3...</td>\n",
       "      <td>0.333333</td>\n",
       "    </tr>\n",
       "  </tbody>\n",
       "</table>\n",
       "</div>"
      ],
      "text/plain": [
       "                                              instance  reid_prob\n",
       "uid                                                              \n",
       "1    ([43.843013899999995, 10.507994, 2011-02-03 08...   0.333333\n",
       "1    ([43.843013899999995, 10.507994, 2011-02-03 08...   0.500000\n",
       "1    ([43.843013899999995, 10.507994, 2011-02-03 08...   0.333333\n",
       "1    ([43.544270000000004, 10.32615, 2011-02-03 09:...   0.333333\n",
       "2    ([43.843013899999995, 10.507994, 2011-02-03 08...   1.000000\n",
       "2    ([43.843013899999995, 10.507994, 2011-02-03 08...   0.333333\n",
       "2    ([43.843013899999995, 10.507994, 2011-02-03 08...   1.000000\n",
       "2    ([43.708529999999996, 10.4036, 2011-02-03 09:3...   0.333333"
      ]
     },
     "execution_count": 8,
     "metadata": {},
     "output_type": "execute_result"
    }
   ],
   "source": [
    "t = [1,2]\n",
    "at.assess_risk(trjdat, targets=t, instance_analysis=True)"
   ]
  },
  {
   "cell_type": "markdown",
   "metadata": {
    "pycharm": {},
    "slideshow": {
     "slide_type": "slide"
    }
   },
   "source": [
    "- Risk computation is time consuming\n",
    "- To check on the progress, we can use the `show_progress` attribute"
   ]
  },
  {
   "cell_type": "code",
   "execution_count": 9,
   "metadata": {
    "pycharm": {},
    "slideshow": {
     "slide_type": "fragment"
    }
   },
   "outputs": [
    {
     "name": "stderr",
     "output_type": "stream",
     "text": [
      "computing risk: 100%|██████████| 7/7 [00:01<00:00,  5.36it/s]\n"
     ]
    },
    {
     "data": {
      "text/html": [
       "<div>\n",
       "<style scoped>\n",
       "    .dataframe tbody tr th:only-of-type {\n",
       "        vertical-align: middle;\n",
       "    }\n",
       "\n",
       "    .dataframe tbody tr th {\n",
       "        vertical-align: top;\n",
       "    }\n",
       "\n",
       "    .dataframe thead th {\n",
       "        text-align: right;\n",
       "    }\n",
       "</style>\n",
       "<table border=\"1\" class=\"dataframe\">\n",
       "  <thead>\n",
       "    <tr style=\"text-align: right;\">\n",
       "      <th></th>\n",
       "      <th>uid</th>\n",
       "      <th>risk</th>\n",
       "    </tr>\n",
       "  </thead>\n",
       "  <tbody>\n",
       "    <tr>\n",
       "      <th>0</th>\n",
       "      <td>1</td>\n",
       "      <td>0.500000</td>\n",
       "    </tr>\n",
       "    <tr>\n",
       "      <th>1</th>\n",
       "      <td>2</td>\n",
       "      <td>1.000000</td>\n",
       "    </tr>\n",
       "    <tr>\n",
       "      <th>2</th>\n",
       "      <td>3</td>\n",
       "      <td>0.500000</td>\n",
       "    </tr>\n",
       "    <tr>\n",
       "      <th>3</th>\n",
       "      <td>4</td>\n",
       "      <td>0.333333</td>\n",
       "    </tr>\n",
       "    <tr>\n",
       "      <th>4</th>\n",
       "      <td>5</td>\n",
       "      <td>0.333333</td>\n",
       "    </tr>\n",
       "    <tr>\n",
       "      <th>5</th>\n",
       "      <td>6</td>\n",
       "      <td>0.250000</td>\n",
       "    </tr>\n",
       "    <tr>\n",
       "      <th>6</th>\n",
       "      <td>7</td>\n",
       "      <td>1.000000</td>\n",
       "    </tr>\n",
       "  </tbody>\n",
       "</table>\n",
       "</div>"
      ],
      "text/plain": [
       "   uid      risk\n",
       "0    1  0.500000\n",
       "1    2  1.000000\n",
       "2    3  0.500000\n",
       "3    4  0.333333\n",
       "4    5  0.333333\n",
       "5    6  0.250000\n",
       "6    7  1.000000"
      ]
     },
     "execution_count": 9,
     "metadata": {},
     "output_type": "execute_result"
    }
   ],
   "source": [
    "r = at.assess_risk(trjdat, show_progress=True)\n",
    "r"
   ]
  },
  {
   "cell_type": "markdown",
   "metadata": {
    "pycharm": {},
    "slideshow": {
     "slide_type": "slide"
    }
   },
   "source": [
    "## **Attack Models**\n",
    "The library provides eight attack models, each with a different background knowledge:\n",
    " - `LocationAttack`: uses the locations visited.\n",
    " - `LocationSequenceAttack`: uses the locations visited with information about the order of visit\n",
    " - `LocationTimeAttack`: uses the locations visited and the time of visit. A precision for the time can be specified"
   ]
  },
  {
   "cell_type": "markdown",
   "metadata": {
    "pycharm": {},
    "slideshow": {
     "slide_type": "subslide"
    }
   },
   "source": [
    "- `UniqueLocationAttack`: uses the unique locations visited, i.e., disregarding repeated visits to a same location. It operates on frequency vectors\n",
    "- `LocationFrequencyAttack`: uses the unique locations visited and the frequency with which they were visited. It operates on frequency vectors\n",
    "- `LocationProbabilityAttack`: uses the unique locations visited and the probability with which they were visited. It operates on probability vectors"
   ]
  },
  {
   "cell_type": "markdown",
   "metadata": {
    "slideshow": {
     "slide_type": "subslide"
    }
   },
   "source": [
    " - `LocationProportionAttack`: uses the unique locations visited and the relative proportion of the frequencies of visit. It operates on frequency vectors\n",
    " - `HomeWorkAttack`: uses the two most visited locations\n",
    "\n",
    "Here are a couple examples to better understand how the matching of instances and data works."
   ]
  },
  {
   "cell_type": "markdown",
   "metadata": {
    "pycharm": {},
    "slideshow": {
     "slide_type": "subslide"
    }
   },
   "source": [
    "### **Location Attack**"
   ]
  },
  {
   "cell_type": "code",
   "execution_count": 10,
   "metadata": {
    "pycharm": {},
    "slideshow": {
     "slide_type": "fragment"
    }
   },
   "outputs": [
    {
     "data": {
      "text/html": [
       "<div>\n",
       "<style scoped>\n",
       "    .dataframe tbody tr th:only-of-type {\n",
       "        vertical-align: middle;\n",
       "    }\n",
       "\n",
       "    .dataframe tbody tr th {\n",
       "        vertical-align: top;\n",
       "    }\n",
       "\n",
       "    .dataframe thead th {\n",
       "        text-align: right;\n",
       "    }\n",
       "</style>\n",
       "<table border=\"1\" class=\"dataframe\">\n",
       "  <thead>\n",
       "    <tr style=\"text-align: right;\">\n",
       "      <th></th>\n",
       "      <th>instance</th>\n",
       "      <th>reid_prob</th>\n",
       "    </tr>\n",
       "    <tr>\n",
       "      <th>uid</th>\n",
       "      <th></th>\n",
       "      <th></th>\n",
       "    </tr>\n",
       "  </thead>\n",
       "  <tbody>\n",
       "    <tr>\n",
       "      <th>1</th>\n",
       "      <td>([43.843013899999995, 10.507994, 2011-02-03 08...</td>\n",
       "      <td>0.250000</td>\n",
       "    </tr>\n",
       "    <tr>\n",
       "      <th>1</th>\n",
       "      <td>([43.843013899999995, 10.507994, 2011-02-03 08...</td>\n",
       "      <td>0.250000</td>\n",
       "    </tr>\n",
       "    <tr>\n",
       "      <th>1</th>\n",
       "      <td>([43.843013899999995, 10.507994, 2011-02-03 08...</td>\n",
       "      <td>0.250000</td>\n",
       "    </tr>\n",
       "    <tr>\n",
       "      <th>1</th>\n",
       "      <td>([43.544270000000004, 10.32615, 2011-02-03 09:...</td>\n",
       "      <td>0.250000</td>\n",
       "    </tr>\n",
       "    <tr>\n",
       "      <th>1</th>\n",
       "      <td>([43.544270000000004, 10.32615, 2011-02-03 09:...</td>\n",
       "      <td>0.333333</td>\n",
       "    </tr>\n",
       "    <tr>\n",
       "      <th>1</th>\n",
       "      <td>([43.708529999999996, 10.4036, 2011-02-03 10:3...</td>\n",
       "      <td>0.250000</td>\n",
       "    </tr>\n",
       "  </tbody>\n",
       "</table>\n",
       "</div>"
      ],
      "text/plain": [
       "                                              instance  reid_prob\n",
       "uid                                                              \n",
       "1    ([43.843013899999995, 10.507994, 2011-02-03 08...   0.250000\n",
       "1    ([43.843013899999995, 10.507994, 2011-02-03 08...   0.250000\n",
       "1    ([43.843013899999995, 10.507994, 2011-02-03 08...   0.250000\n",
       "1    ([43.544270000000004, 10.32615, 2011-02-03 09:...   0.250000\n",
       "1    ([43.544270000000004, 10.32615, 2011-02-03 09:...   0.333333\n",
       "1    ([43.708529999999996, 10.4036, 2011-02-03 10:3...   0.250000"
      ]
     },
     "execution_count": 10,
     "metadata": {},
     "output_type": "execute_result"
    }
   ],
   "source": [
    "at = attacks.LocationAttack(k=2)\n",
    "r = at.assess_risk(trjdat, targets=[1], instance_analysis=True)\n",
    "r"
   ]
  },
  {
   "cell_type": "markdown",
   "metadata": {
    "pycharm": {},
    "slideshow": {
     "slide_type": "slide"
    }
   },
   "source": [
    "- The *background knowledge* consists of locations, with no information about the order of visits to it. \n",
    "- From the example above, from the first instance the following information is used:"
   ]
  },
  {
   "cell_type": "code",
   "execution_count": 11,
   "metadata": {
    "pycharm": {},
    "slideshow": {
     "slide_type": "fragment"
    }
   },
   "outputs": [
    {
     "data": {
      "text/html": [
       "<div>\n",
       "<style scoped>\n",
       "    .dataframe tbody tr th:only-of-type {\n",
       "        vertical-align: middle;\n",
       "    }\n",
       "\n",
       "    .dataframe tbody tr th {\n",
       "        vertical-align: top;\n",
       "    }\n",
       "\n",
       "    .dataframe thead th {\n",
       "        text-align: right;\n",
       "    }\n",
       "</style>\n",
       "<table border=\"1\" class=\"dataframe\">\n",
       "  <thead>\n",
       "    <tr style=\"text-align: right;\">\n",
       "      <th></th>\n",
       "      <th>lat</th>\n",
       "      <th>lng</th>\n",
       "    </tr>\n",
       "  </thead>\n",
       "  <tbody>\n",
       "    <tr>\n",
       "      <th>0</th>\n",
       "      <td>43.843014</td>\n",
       "      <td>10.507994</td>\n",
       "    </tr>\n",
       "    <tr>\n",
       "      <th>1</th>\n",
       "      <td>43.544270</td>\n",
       "      <td>10.326150</td>\n",
       "    </tr>\n",
       "  </tbody>\n",
       "</table>\n",
       "</div>"
      ],
      "text/plain": [
       "         lat        lng\n",
       "0  43.843014  10.507994\n",
       "1  43.544270  10.326150"
      ]
     },
     "execution_count": 11,
     "metadata": {},
     "output_type": "execute_result"
    }
   ],
   "source": [
    "trjdat[trjdat[constants.UID] == 1][[constants.LATITUDE, \n",
    "                                    constants.LONGITUDE]].iloc[0:2]"
   ]
  },
  {
   "cell_type": "markdown",
   "metadata": {
    "pycharm": {},
    "slideshow": {
     "slide_type": "subslide"
    }
   },
   "source": [
    "#### Which matches with:"
   ]
  },
  {
   "cell_type": "code",
   "execution_count": 12,
   "metadata": {
    "pycharm": {},
    "slideshow": {
     "slide_type": "fragment"
    }
   },
   "outputs": [
    {
     "data": {
      "text/html": [
       "<div>\n",
       "<style scoped>\n",
       "    .dataframe tbody tr th:only-of-type {\n",
       "        vertical-align: middle;\n",
       "    }\n",
       "\n",
       "    .dataframe tbody tr th {\n",
       "        vertical-align: top;\n",
       "    }\n",
       "\n",
       "    .dataframe thead th {\n",
       "        text-align: right;\n",
       "    }\n",
       "</style>\n",
       "<table border=\"1\" class=\"dataframe\">\n",
       "  <thead>\n",
       "    <tr style=\"text-align: right;\">\n",
       "      <th></th>\n",
       "      <th>lat</th>\n",
       "      <th>lng</th>\n",
       "      <th>datetime</th>\n",
       "      <th>uid</th>\n",
       "    </tr>\n",
       "  </thead>\n",
       "  <tbody>\n",
       "    <tr>\n",
       "      <th>0</th>\n",
       "      <td>43.843014</td>\n",
       "      <td>10.507994</td>\n",
       "      <td>2011-02-03 08:34:04</td>\n",
       "      <td>1</td>\n",
       "    </tr>\n",
       "    <tr>\n",
       "      <th>1</th>\n",
       "      <td>43.544270</td>\n",
       "      <td>10.326150</td>\n",
       "      <td>2011-02-03 09:34:04</td>\n",
       "      <td>1</td>\n",
       "    </tr>\n",
       "    <tr>\n",
       "      <th>2</th>\n",
       "      <td>43.708530</td>\n",
       "      <td>10.403600</td>\n",
       "      <td>2011-02-03 10:34:04</td>\n",
       "      <td>1</td>\n",
       "    </tr>\n",
       "    <tr>\n",
       "      <th>3</th>\n",
       "      <td>43.779250</td>\n",
       "      <td>11.246260</td>\n",
       "      <td>2011-02-04 10:34:04</td>\n",
       "      <td>1</td>\n",
       "    </tr>\n",
       "    <tr>\n",
       "      <th>4</th>\n",
       "      <td>43.843014</td>\n",
       "      <td>10.507994</td>\n",
       "      <td>2011-02-03 08:34:04</td>\n",
       "      <td>2</td>\n",
       "    </tr>\n",
       "    <tr>\n",
       "      <th>5</th>\n",
       "      <td>43.708530</td>\n",
       "      <td>10.403600</td>\n",
       "      <td>2011-02-03 09:34:04</td>\n",
       "      <td>2</td>\n",
       "    </tr>\n",
       "    <tr>\n",
       "      <th>6</th>\n",
       "      <td>43.843014</td>\n",
       "      <td>10.507994</td>\n",
       "      <td>2011-02-04 10:34:04</td>\n",
       "      <td>2</td>\n",
       "    </tr>\n",
       "    <tr>\n",
       "      <th>7</th>\n",
       "      <td>43.544270</td>\n",
       "      <td>10.326150</td>\n",
       "      <td>2011-02-04 11:34:04</td>\n",
       "      <td>2</td>\n",
       "    </tr>\n",
       "    <tr>\n",
       "      <th>8</th>\n",
       "      <td>43.544270</td>\n",
       "      <td>10.326150</td>\n",
       "      <td>2011-02-03 08:34:04</td>\n",
       "      <td>3</td>\n",
       "    </tr>\n",
       "    <tr>\n",
       "      <th>9</th>\n",
       "      <td>43.708530</td>\n",
       "      <td>10.403600</td>\n",
       "      <td>2011-02-03 09:34:04</td>\n",
       "      <td>3</td>\n",
       "    </tr>\n",
       "    <tr>\n",
       "      <th>10</th>\n",
       "      <td>43.843014</td>\n",
       "      <td>10.507994</td>\n",
       "      <td>2011-02-04 10:34:04</td>\n",
       "      <td>3</td>\n",
       "    </tr>\n",
       "    <tr>\n",
       "      <th>11</th>\n",
       "      <td>43.779250</td>\n",
       "      <td>11.246260</td>\n",
       "      <td>2011-02-04 11:34:04</td>\n",
       "      <td>3</td>\n",
       "    </tr>\n",
       "    <tr>\n",
       "      <th>18</th>\n",
       "      <td>43.843014</td>\n",
       "      <td>10.507994</td>\n",
       "      <td>2011-02-04 10:34:04</td>\n",
       "      <td>6</td>\n",
       "    </tr>\n",
       "    <tr>\n",
       "      <th>19</th>\n",
       "      <td>43.544270</td>\n",
       "      <td>10.326150</td>\n",
       "      <td>2011-02-04 11:34:04</td>\n",
       "      <td>6</td>\n",
       "    </tr>\n",
       "  </tbody>\n",
       "</table>\n",
       "</div>"
      ],
      "text/plain": [
       "          lat        lng            datetime  uid\n",
       "0   43.843014  10.507994 2011-02-03 08:34:04    1\n",
       "1   43.544270  10.326150 2011-02-03 09:34:04    1\n",
       "2   43.708530  10.403600 2011-02-03 10:34:04    1\n",
       "3   43.779250  11.246260 2011-02-04 10:34:04    1\n",
       "4   43.843014  10.507994 2011-02-03 08:34:04    2\n",
       "5   43.708530  10.403600 2011-02-03 09:34:04    2\n",
       "6   43.843014  10.507994 2011-02-04 10:34:04    2\n",
       "7   43.544270  10.326150 2011-02-04 11:34:04    2\n",
       "8   43.544270  10.326150 2011-02-03 08:34:04    3\n",
       "9   43.708530  10.403600 2011-02-03 09:34:04    3\n",
       "10  43.843014  10.507994 2011-02-04 10:34:04    3\n",
       "11  43.779250  11.246260 2011-02-04 11:34:04    3\n",
       "18  43.843014  10.507994 2011-02-04 10:34:04    6\n",
       "19  43.544270  10.326150 2011-02-04 11:34:04    6"
      ]
     },
     "execution_count": 12,
     "metadata": {},
     "output_type": "execute_result"
    }
   ],
   "source": [
    "trjdat[trjdat[constants.UID].isin([1,2,3,6])]"
   ]
  },
  {
   "cell_type": "markdown",
   "metadata": {
    "pycharm": {},
    "slideshow": {
     "slide_type": "subslide"
    }
   },
   "source": [
    "### **Location Sequence Attack**"
   ]
  },
  {
   "cell_type": "code",
   "execution_count": 13,
   "metadata": {
    "pycharm": {},
    "slideshow": {
     "slide_type": "fragment"
    }
   },
   "outputs": [
    {
     "data": {
      "text/html": [
       "<div>\n",
       "<style scoped>\n",
       "    .dataframe tbody tr th:only-of-type {\n",
       "        vertical-align: middle;\n",
       "    }\n",
       "\n",
       "    .dataframe tbody tr th {\n",
       "        vertical-align: top;\n",
       "    }\n",
       "\n",
       "    .dataframe thead th {\n",
       "        text-align: right;\n",
       "    }\n",
       "</style>\n",
       "<table border=\"1\" class=\"dataframe\">\n",
       "  <thead>\n",
       "    <tr style=\"text-align: right;\">\n",
       "      <th></th>\n",
       "      <th>instance</th>\n",
       "      <th>reid_prob</th>\n",
       "    </tr>\n",
       "    <tr>\n",
       "      <th>uid</th>\n",
       "      <th></th>\n",
       "      <th></th>\n",
       "    </tr>\n",
       "  </thead>\n",
       "  <tbody>\n",
       "    <tr>\n",
       "      <th>1</th>\n",
       "      <td>([43.843013899999995, 10.507994, 2011-02-03 08...</td>\n",
       "      <td>0.333333</td>\n",
       "    </tr>\n",
       "    <tr>\n",
       "      <th>1</th>\n",
       "      <td>([43.843013899999995, 10.507994, 2011-02-03 08...</td>\n",
       "      <td>0.500000</td>\n",
       "    </tr>\n",
       "    <tr>\n",
       "      <th>1</th>\n",
       "      <td>([43.843013899999995, 10.507994, 2011-02-03 08...</td>\n",
       "      <td>0.333333</td>\n",
       "    </tr>\n",
       "    <tr>\n",
       "      <th>1</th>\n",
       "      <td>([43.544270000000004, 10.32615, 2011-02-03 09:...</td>\n",
       "      <td>0.500000</td>\n",
       "    </tr>\n",
       "    <tr>\n",
       "      <th>1</th>\n",
       "      <td>([43.544270000000004, 10.32615, 2011-02-03 09:...</td>\n",
       "      <td>0.333333</td>\n",
       "    </tr>\n",
       "    <tr>\n",
       "      <th>1</th>\n",
       "      <td>([43.708529999999996, 10.4036, 2011-02-03 10:3...</td>\n",
       "      <td>0.250000</td>\n",
       "    </tr>\n",
       "  </tbody>\n",
       "</table>\n",
       "</div>"
      ],
      "text/plain": [
       "                                              instance  reid_prob\n",
       "uid                                                              \n",
       "1    ([43.843013899999995, 10.507994, 2011-02-03 08...   0.333333\n",
       "1    ([43.843013899999995, 10.507994, 2011-02-03 08...   0.500000\n",
       "1    ([43.843013899999995, 10.507994, 2011-02-03 08...   0.333333\n",
       "1    ([43.544270000000004, 10.32615, 2011-02-03 09:...   0.500000\n",
       "1    ([43.544270000000004, 10.32615, 2011-02-03 09:...   0.333333\n",
       "1    ([43.708529999999996, 10.4036, 2011-02-03 10:3...   0.250000"
      ]
     },
     "execution_count": 13,
     "metadata": {},
     "output_type": "execute_result"
    }
   ],
   "source": [
    "at = attacks.LocationSequenceAttack(k=2)\n",
    "r = at.assess_risk(trjdat, targets=[1], instance_analysis=True)\n",
    "r"
   ]
  },
  {
   "cell_type": "markdown",
   "metadata": {
    "pycharm": {},
    "slideshow": {
     "slide_type": "fragment"
    }
   },
   "source": [
    "- The *background knowledge* consists of locations and the order of visit"
   ]
  },
  {
   "cell_type": "code",
   "execution_count": 14,
   "metadata": {
    "pycharm": {},
    "slideshow": {
     "slide_type": "slide"
    }
   },
   "outputs": [
    {
     "data": {
      "text/html": [
       "<div>\n",
       "<style scoped>\n",
       "    .dataframe tbody tr th:only-of-type {\n",
       "        vertical-align: middle;\n",
       "    }\n",
       "\n",
       "    .dataframe tbody tr th {\n",
       "        vertical-align: top;\n",
       "    }\n",
       "\n",
       "    .dataframe thead th {\n",
       "        text-align: right;\n",
       "    }\n",
       "</style>\n",
       "<table border=\"1\" class=\"dataframe\">\n",
       "  <thead>\n",
       "    <tr style=\"text-align: right;\">\n",
       "      <th></th>\n",
       "      <th>lat</th>\n",
       "      <th>lng</th>\n",
       "    </tr>\n",
       "  </thead>\n",
       "  <tbody>\n",
       "    <tr>\n",
       "      <th>0</th>\n",
       "      <td>43.843014</td>\n",
       "      <td>10.507994</td>\n",
       "    </tr>\n",
       "    <tr>\n",
       "      <th>1</th>\n",
       "      <td>43.544270</td>\n",
       "      <td>10.326150</td>\n",
       "    </tr>\n",
       "  </tbody>\n",
       "</table>\n",
       "</div>"
      ],
      "text/plain": [
       "         lat        lng\n",
       "0  43.843014  10.507994\n",
       "1  43.544270  10.326150"
      ]
     },
     "execution_count": 14,
     "metadata": {},
     "output_type": "execute_result"
    }
   ],
   "source": [
    "trjdat[trjdat[constants.UID] == 1][[constants.LATITUDE, \n",
    "                                    constants.LONGITUDE]].iloc[0:2]"
   ]
  },
  {
   "cell_type": "markdown",
   "metadata": {
    "pycharm": {},
    "slideshow": {
     "slide_type": "slide"
    }
   },
   "source": [
    "#### Which matches with:"
   ]
  },
  {
   "cell_type": "code",
   "execution_count": 15,
   "metadata": {
    "pycharm": {},
    "slideshow": {
     "slide_type": "fragment"
    }
   },
   "outputs": [
    {
     "data": {
      "text/html": [
       "<div>\n",
       "<style scoped>\n",
       "    .dataframe tbody tr th:only-of-type {\n",
       "        vertical-align: middle;\n",
       "    }\n",
       "\n",
       "    .dataframe tbody tr th {\n",
       "        vertical-align: top;\n",
       "    }\n",
       "\n",
       "    .dataframe thead th {\n",
       "        text-align: right;\n",
       "    }\n",
       "</style>\n",
       "<table border=\"1\" class=\"dataframe\">\n",
       "  <thead>\n",
       "    <tr style=\"text-align: right;\">\n",
       "      <th></th>\n",
       "      <th>lat</th>\n",
       "      <th>lng</th>\n",
       "      <th>datetime</th>\n",
       "      <th>uid</th>\n",
       "    </tr>\n",
       "  </thead>\n",
       "  <tbody>\n",
       "    <tr>\n",
       "      <th>0</th>\n",
       "      <td>43.843014</td>\n",
       "      <td>10.507994</td>\n",
       "      <td>2011-02-03 08:34:04</td>\n",
       "      <td>1</td>\n",
       "    </tr>\n",
       "    <tr>\n",
       "      <th>1</th>\n",
       "      <td>43.544270</td>\n",
       "      <td>10.326150</td>\n",
       "      <td>2011-02-03 09:34:04</td>\n",
       "      <td>1</td>\n",
       "    </tr>\n",
       "    <tr>\n",
       "      <th>2</th>\n",
       "      <td>43.708530</td>\n",
       "      <td>10.403600</td>\n",
       "      <td>2011-02-03 10:34:04</td>\n",
       "      <td>1</td>\n",
       "    </tr>\n",
       "    <tr>\n",
       "      <th>3</th>\n",
       "      <td>43.779250</td>\n",
       "      <td>11.246260</td>\n",
       "      <td>2011-02-04 10:34:04</td>\n",
       "      <td>1</td>\n",
       "    </tr>\n",
       "    <tr>\n",
       "      <th>4</th>\n",
       "      <td>43.843014</td>\n",
       "      <td>10.507994</td>\n",
       "      <td>2011-02-03 08:34:04</td>\n",
       "      <td>2</td>\n",
       "    </tr>\n",
       "    <tr>\n",
       "      <th>5</th>\n",
       "      <td>43.708530</td>\n",
       "      <td>10.403600</td>\n",
       "      <td>2011-02-03 09:34:04</td>\n",
       "      <td>2</td>\n",
       "    </tr>\n",
       "    <tr>\n",
       "      <th>6</th>\n",
       "      <td>43.843014</td>\n",
       "      <td>10.507994</td>\n",
       "      <td>2011-02-04 10:34:04</td>\n",
       "      <td>2</td>\n",
       "    </tr>\n",
       "    <tr>\n",
       "      <th>7</th>\n",
       "      <td>43.544270</td>\n",
       "      <td>10.326150</td>\n",
       "      <td>2011-02-04 11:34:04</td>\n",
       "      <td>2</td>\n",
       "    </tr>\n",
       "    <tr>\n",
       "      <th>18</th>\n",
       "      <td>43.843014</td>\n",
       "      <td>10.507994</td>\n",
       "      <td>2011-02-04 10:34:04</td>\n",
       "      <td>6</td>\n",
       "    </tr>\n",
       "    <tr>\n",
       "      <th>19</th>\n",
       "      <td>43.544270</td>\n",
       "      <td>10.326150</td>\n",
       "      <td>2011-02-04 11:34:04</td>\n",
       "      <td>6</td>\n",
       "    </tr>\n",
       "  </tbody>\n",
       "</table>\n",
       "</div>"
      ],
      "text/plain": [
       "          lat        lng            datetime  uid\n",
       "0   43.843014  10.507994 2011-02-03 08:34:04    1\n",
       "1   43.544270  10.326150 2011-02-03 09:34:04    1\n",
       "2   43.708530  10.403600 2011-02-03 10:34:04    1\n",
       "3   43.779250  11.246260 2011-02-04 10:34:04    1\n",
       "4   43.843014  10.507994 2011-02-03 08:34:04    2\n",
       "5   43.708530  10.403600 2011-02-03 09:34:04    2\n",
       "6   43.843014  10.507994 2011-02-04 10:34:04    2\n",
       "7   43.544270  10.326150 2011-02-04 11:34:04    2\n",
       "18  43.843014  10.507994 2011-02-04 10:34:04    6\n",
       "19  43.544270  10.326150 2011-02-04 11:34:04    6"
      ]
     },
     "execution_count": 15,
     "metadata": {},
     "output_type": "execute_result"
    }
   ],
   "source": [
    "trjdat[trjdat[constants.UID].isin([1,2,6])]"
   ]
  },
  {
   "cell_type": "markdown",
   "metadata": {
    "pycharm": {},
    "slideshow": {
     "slide_type": "fragment"
    }
   },
   "source": [
    "- Depending on the attack, risk changes according to the different matching criteria."
   ]
  },
  {
   "cell_type": "markdown",
   "metadata": {
    "pycharm": {},
    "slideshow": {
     "slide_type": "slide"
    }
   },
   "source": [
    "### **What are frequency and probability vectors?**\n",
    "- Two functions that create dataframes derived from `TrajDataFrame`"
   ]
  },
  {
   "cell_type": "code",
   "execution_count": 16,
   "metadata": {
    "pycharm": {},
    "slideshow": {
     "slide_type": "fragment"
    }
   },
   "outputs": [],
   "source": [
    "from skmob.utils.utils import frequency_vector, probability_vector"
   ]
  },
  {
   "cell_type": "code",
   "execution_count": 17,
   "metadata": {
    "pycharm": {},
    "slideshow": {
     "slide_type": "fragment"
    }
   },
   "outputs": [
    {
     "data": {
      "text/html": [
       "<div>\n",
       "<style scoped>\n",
       "    .dataframe tbody tr th:only-of-type {\n",
       "        vertical-align: middle;\n",
       "    }\n",
       "\n",
       "    .dataframe tbody tr th {\n",
       "        vertical-align: top;\n",
       "    }\n",
       "\n",
       "    .dataframe thead th {\n",
       "        text-align: right;\n",
       "    }\n",
       "</style>\n",
       "<table border=\"1\" class=\"dataframe\">\n",
       "  <thead>\n",
       "    <tr style=\"text-align: right;\">\n",
       "      <th></th>\n",
       "      <th>uid</th>\n",
       "      <th>lat</th>\n",
       "      <th>lng</th>\n",
       "      <th>freq</th>\n",
       "    </tr>\n",
       "  </thead>\n",
       "  <tbody>\n",
       "    <tr>\n",
       "      <th>0</th>\n",
       "      <td>1</td>\n",
       "      <td>43.544270</td>\n",
       "      <td>10.326150</td>\n",
       "      <td>1</td>\n",
       "    </tr>\n",
       "    <tr>\n",
       "      <th>1</th>\n",
       "      <td>1</td>\n",
       "      <td>43.708530</td>\n",
       "      <td>10.403600</td>\n",
       "      <td>1</td>\n",
       "    </tr>\n",
       "    <tr>\n",
       "      <th>2</th>\n",
       "      <td>1</td>\n",
       "      <td>43.779250</td>\n",
       "      <td>11.246260</td>\n",
       "      <td>1</td>\n",
       "    </tr>\n",
       "    <tr>\n",
       "      <th>3</th>\n",
       "      <td>1</td>\n",
       "      <td>43.843014</td>\n",
       "      <td>10.507994</td>\n",
       "      <td>1</td>\n",
       "    </tr>\n",
       "    <tr>\n",
       "      <th>4</th>\n",
       "      <td>2</td>\n",
       "      <td>43.544270</td>\n",
       "      <td>10.326150</td>\n",
       "      <td>1</td>\n",
       "    </tr>\n",
       "    <tr>\n",
       "      <th>5</th>\n",
       "      <td>2</td>\n",
       "      <td>43.708530</td>\n",
       "      <td>10.403600</td>\n",
       "      <td>1</td>\n",
       "    </tr>\n",
       "    <tr>\n",
       "      <th>6</th>\n",
       "      <td>2</td>\n",
       "      <td>43.843014</td>\n",
       "      <td>10.507994</td>\n",
       "      <td>2</td>\n",
       "    </tr>\n",
       "    <tr>\n",
       "      <th>7</th>\n",
       "      <td>3</td>\n",
       "      <td>43.544270</td>\n",
       "      <td>10.326150</td>\n",
       "      <td>1</td>\n",
       "    </tr>\n",
       "    <tr>\n",
       "      <th>8</th>\n",
       "      <td>3</td>\n",
       "      <td>43.708530</td>\n",
       "      <td>10.403600</td>\n",
       "      <td>1</td>\n",
       "    </tr>\n",
       "    <tr>\n",
       "      <th>9</th>\n",
       "      <td>3</td>\n",
       "      <td>43.779250</td>\n",
       "      <td>11.246260</td>\n",
       "      <td>1</td>\n",
       "    </tr>\n",
       "  </tbody>\n",
       "</table>\n",
       "</div>"
      ],
      "text/plain": [
       "   uid        lat        lng  freq\n",
       "0    1  43.544270  10.326150     1\n",
       "1    1  43.708530  10.403600     1\n",
       "2    1  43.779250  11.246260     1\n",
       "3    1  43.843014  10.507994     1\n",
       "4    2  43.544270  10.326150     1\n",
       "5    2  43.708530  10.403600     1\n",
       "6    2  43.843014  10.507994     2\n",
       "7    3  43.544270  10.326150     1\n",
       "8    3  43.708530  10.403600     1\n",
       "9    3  43.779250  11.246260     1"
      ]
     },
     "execution_count": 17,
     "metadata": {},
     "output_type": "execute_result"
    }
   ],
   "source": [
    "frequency_vector(trjdat).head(10)"
   ]
  },
  {
   "cell_type": "code",
   "execution_count": 18,
   "metadata": {
    "pycharm": {},
    "slideshow": {
     "slide_type": "subslide"
    }
   },
   "outputs": [
    {
     "data": {
      "text/html": [
       "<div>\n",
       "<style scoped>\n",
       "    .dataframe tbody tr th:only-of-type {\n",
       "        vertical-align: middle;\n",
       "    }\n",
       "\n",
       "    .dataframe tbody tr th {\n",
       "        vertical-align: top;\n",
       "    }\n",
       "\n",
       "    .dataframe thead th {\n",
       "        text-align: right;\n",
       "    }\n",
       "</style>\n",
       "<table border=\"1\" class=\"dataframe\">\n",
       "  <thead>\n",
       "    <tr style=\"text-align: right;\">\n",
       "      <th></th>\n",
       "      <th>uid</th>\n",
       "      <th>lat</th>\n",
       "      <th>lng</th>\n",
       "      <th>prob</th>\n",
       "    </tr>\n",
       "  </thead>\n",
       "  <tbody>\n",
       "    <tr>\n",
       "      <th>0</th>\n",
       "      <td>1</td>\n",
       "      <td>43.544270</td>\n",
       "      <td>10.326150</td>\n",
       "      <td>0.25</td>\n",
       "    </tr>\n",
       "    <tr>\n",
       "      <th>1</th>\n",
       "      <td>1</td>\n",
       "      <td>43.708530</td>\n",
       "      <td>10.403600</td>\n",
       "      <td>0.25</td>\n",
       "    </tr>\n",
       "    <tr>\n",
       "      <th>2</th>\n",
       "      <td>1</td>\n",
       "      <td>43.779250</td>\n",
       "      <td>11.246260</td>\n",
       "      <td>0.25</td>\n",
       "    </tr>\n",
       "    <tr>\n",
       "      <th>3</th>\n",
       "      <td>1</td>\n",
       "      <td>43.843014</td>\n",
       "      <td>10.507994</td>\n",
       "      <td>0.25</td>\n",
       "    </tr>\n",
       "    <tr>\n",
       "      <th>4</th>\n",
       "      <td>2</td>\n",
       "      <td>43.544270</td>\n",
       "      <td>10.326150</td>\n",
       "      <td>0.25</td>\n",
       "    </tr>\n",
       "    <tr>\n",
       "      <th>5</th>\n",
       "      <td>2</td>\n",
       "      <td>43.708530</td>\n",
       "      <td>10.403600</td>\n",
       "      <td>0.25</td>\n",
       "    </tr>\n",
       "    <tr>\n",
       "      <th>6</th>\n",
       "      <td>2</td>\n",
       "      <td>43.843014</td>\n",
       "      <td>10.507994</td>\n",
       "      <td>0.50</td>\n",
       "    </tr>\n",
       "    <tr>\n",
       "      <th>7</th>\n",
       "      <td>3</td>\n",
       "      <td>43.544270</td>\n",
       "      <td>10.326150</td>\n",
       "      <td>0.25</td>\n",
       "    </tr>\n",
       "    <tr>\n",
       "      <th>8</th>\n",
       "      <td>3</td>\n",
       "      <td>43.708530</td>\n",
       "      <td>10.403600</td>\n",
       "      <td>0.25</td>\n",
       "    </tr>\n",
       "    <tr>\n",
       "      <th>9</th>\n",
       "      <td>3</td>\n",
       "      <td>43.779250</td>\n",
       "      <td>11.246260</td>\n",
       "      <td>0.25</td>\n",
       "    </tr>\n",
       "  </tbody>\n",
       "</table>\n",
       "</div>"
      ],
      "text/plain": [
       "   uid        lat        lng  prob\n",
       "0    1  43.544270  10.326150  0.25\n",
       "1    1  43.708530  10.403600  0.25\n",
       "2    1  43.779250  11.246260  0.25\n",
       "3    1  43.843014  10.507994  0.25\n",
       "4    2  43.544270  10.326150  0.25\n",
       "5    2  43.708530  10.403600  0.25\n",
       "6    2  43.843014  10.507994  0.50\n",
       "7    3  43.544270  10.326150  0.25\n",
       "8    3  43.708530  10.403600  0.25\n",
       "9    3  43.779250  11.246260  0.25"
      ]
     },
     "execution_count": 18,
     "metadata": {},
     "output_type": "execute_result"
    }
   ],
   "source": [
    "probability_vector(trjdat).head(10)"
   ]
  },
  {
   "cell_type": "markdown",
   "metadata": {
    "pycharm": {},
    "slideshow": {
     "slide_type": "slide"
    }
   },
   "source": [
    "### **Special parameters**\n",
    "\n",
    "- some attacks, such as `LocationTimeAttack` need parameters for initialization\n",
    "- `LocationTimeAttack` uses the informaton of the time of visit"
   ]
  },
  {
   "cell_type": "code",
   "execution_count": 19,
   "metadata": {
    "pycharm": {},
    "slideshow": {
     "slide_type": "slide"
    }
   },
   "outputs": [
    {
     "data": {
      "text/html": [
       "<div>\n",
       "<style scoped>\n",
       "    .dataframe tbody tr th:only-of-type {\n",
       "        vertical-align: middle;\n",
       "    }\n",
       "\n",
       "    .dataframe tbody tr th {\n",
       "        vertical-align: top;\n",
       "    }\n",
       "\n",
       "    .dataframe thead th {\n",
       "        text-align: right;\n",
       "    }\n",
       "</style>\n",
       "<table border=\"1\" class=\"dataframe\">\n",
       "  <thead>\n",
       "    <tr style=\"text-align: right;\">\n",
       "      <th></th>\n",
       "      <th>instance</th>\n",
       "      <th>reid_prob</th>\n",
       "    </tr>\n",
       "    <tr>\n",
       "      <th>uid</th>\n",
       "      <th></th>\n",
       "      <th></th>\n",
       "    </tr>\n",
       "  </thead>\n",
       "  <tbody>\n",
       "    <tr>\n",
       "      <th>1</th>\n",
       "      <td>([43.843013899999995, 10.507994, 2011-02-03 08...</td>\n",
       "      <td>1.0</td>\n",
       "    </tr>\n",
       "    <tr>\n",
       "      <th>1</th>\n",
       "      <td>([43.843013899999995, 10.507994, 2011-02-03 08...</td>\n",
       "      <td>0.5</td>\n",
       "    </tr>\n",
       "    <tr>\n",
       "      <th>1</th>\n",
       "      <td>([43.843013899999995, 10.507994, 2011-02-03 08...</td>\n",
       "      <td>1.0</td>\n",
       "    </tr>\n",
       "    <tr>\n",
       "      <th>1</th>\n",
       "      <td>([43.544270000000004, 10.32615, 2011-02-03 09:...</td>\n",
       "      <td>0.5</td>\n",
       "    </tr>\n",
       "    <tr>\n",
       "      <th>1</th>\n",
       "      <td>([43.544270000000004, 10.32615, 2011-02-03 09:...</td>\n",
       "      <td>0.5</td>\n",
       "    </tr>\n",
       "    <tr>\n",
       "      <th>1</th>\n",
       "      <td>([43.708529999999996, 10.4036, 2011-02-03 10:3...</td>\n",
       "      <td>0.5</td>\n",
       "    </tr>\n",
       "  </tbody>\n",
       "</table>\n",
       "</div>"
      ],
      "text/plain": [
       "                                              instance  reid_prob\n",
       "uid                                                              \n",
       "1    ([43.843013899999995, 10.507994, 2011-02-03 08...        1.0\n",
       "1    ([43.843013899999995, 10.507994, 2011-02-03 08...        0.5\n",
       "1    ([43.843013899999995, 10.507994, 2011-02-03 08...        1.0\n",
       "1    ([43.544270000000004, 10.32615, 2011-02-03 09:...        0.5\n",
       "1    ([43.544270000000004, 10.32615, 2011-02-03 09:...        0.5\n",
       "1    ([43.708529999999996, 10.4036, 2011-02-03 10:3...        0.5"
      ]
     },
     "execution_count": 19,
     "metadata": {},
     "output_type": "execute_result"
    }
   ],
   "source": [
    "at = attacks.LocationTimeAttack(k=2, time_precision=\"Day\")\n",
    "r = at.assess_risk(trjdat, targets=[1], instance_analysis=True)\n",
    "r"
   ]
  },
  {
   "cell_type": "code",
   "execution_count": 20,
   "metadata": {
    "pycharm": {},
    "slideshow": {
     "slide_type": "subslide"
    }
   },
   "outputs": [
    {
     "data": {
      "text/html": [
       "<div>\n",
       "<style scoped>\n",
       "    .dataframe tbody tr th:only-of-type {\n",
       "        vertical-align: middle;\n",
       "    }\n",
       "\n",
       "    .dataframe tbody tr th {\n",
       "        vertical-align: top;\n",
       "    }\n",
       "\n",
       "    .dataframe thead th {\n",
       "        text-align: right;\n",
       "    }\n",
       "</style>\n",
       "<table border=\"1\" class=\"dataframe\">\n",
       "  <thead>\n",
       "    <tr style=\"text-align: right;\">\n",
       "      <th></th>\n",
       "      <th>instance</th>\n",
       "      <th>reid_prob</th>\n",
       "    </tr>\n",
       "    <tr>\n",
       "      <th>uid</th>\n",
       "      <th></th>\n",
       "      <th></th>\n",
       "    </tr>\n",
       "  </thead>\n",
       "  <tbody>\n",
       "    <tr>\n",
       "      <th>1</th>\n",
       "      <td>([43.843013899999995, 10.507994, 2011-02-03 08...</td>\n",
       "      <td>0.250000</td>\n",
       "    </tr>\n",
       "    <tr>\n",
       "      <th>1</th>\n",
       "      <td>([43.843013899999995, 10.507994, 2011-02-03 08...</td>\n",
       "      <td>0.250000</td>\n",
       "    </tr>\n",
       "    <tr>\n",
       "      <th>1</th>\n",
       "      <td>([43.843013899999995, 10.507994, 2011-02-03 08...</td>\n",
       "      <td>0.250000</td>\n",
       "    </tr>\n",
       "    <tr>\n",
       "      <th>1</th>\n",
       "      <td>([43.544270000000004, 10.32615, 2011-02-03 09:...</td>\n",
       "      <td>0.250000</td>\n",
       "    </tr>\n",
       "    <tr>\n",
       "      <th>1</th>\n",
       "      <td>([43.544270000000004, 10.32615, 2011-02-03 09:...</td>\n",
       "      <td>0.333333</td>\n",
       "    </tr>\n",
       "    <tr>\n",
       "      <th>1</th>\n",
       "      <td>([43.708529999999996, 10.4036, 2011-02-03 10:3...</td>\n",
       "      <td>0.250000</td>\n",
       "    </tr>\n",
       "  </tbody>\n",
       "</table>\n",
       "</div>"
      ],
      "text/plain": [
       "                                              instance  reid_prob\n",
       "uid                                                              \n",
       "1    ([43.843013899999995, 10.507994, 2011-02-03 08...   0.250000\n",
       "1    ([43.843013899999995, 10.507994, 2011-02-03 08...   0.250000\n",
       "1    ([43.843013899999995, 10.507994, 2011-02-03 08...   0.250000\n",
       "1    ([43.544270000000004, 10.32615, 2011-02-03 09:...   0.250000\n",
       "1    ([43.544270000000004, 10.32615, 2011-02-03 09:...   0.333333\n",
       "1    ([43.708529999999996, 10.4036, 2011-02-03 10:3...   0.250000"
      ]
     },
     "execution_count": 20,
     "metadata": {},
     "output_type": "execute_result"
    }
   ],
   "source": [
    "at = attacks.LocationTimeAttack(k=2, time_precision=\"Month\")\n",
    "r = at.assess_risk(trjdat, targets=[1], instance_analysis=True)\n",
    "r"
   ]
  },
  {
   "cell_type": "markdown",
   "metadata": {
    "pycharm": {},
    "slideshow": {
     "slide_type": "fragment"
    }
   },
   "source": [
    "- in the second case, the precision is lower, and the risk changes accordingly"
   ]
  },
  {
   "cell_type": "markdown",
   "metadata": {
    "pycharm": {},
    "slideshow": {
     "slide_type": "subslide"
    }
   },
   "source": [
    "- For `LocationFrequency`, `LocationProbability` and `LocationProportionAttack` a tolerance level can be specified for the matching of the frequency, probability and proportion of the visits, respectively"
   ]
  },
  {
   "cell_type": "code",
   "execution_count": 22,
   "metadata": {
    "pycharm": {},
    "slideshow": {
     "slide_type": "slide"
    }
   },
   "outputs": [
    {
     "data": {
      "text/html": [
       "<div>\n",
       "<style scoped>\n",
       "    .dataframe tbody tr th:only-of-type {\n",
       "        vertical-align: middle;\n",
       "    }\n",
       "\n",
       "    .dataframe tbody tr th {\n",
       "        vertical-align: top;\n",
       "    }\n",
       "\n",
       "    .dataframe thead th {\n",
       "        text-align: right;\n",
       "    }\n",
       "</style>\n",
       "<table border=\"1\" class=\"dataframe\">\n",
       "  <thead>\n",
       "    <tr style=\"text-align: right;\">\n",
       "      <th></th>\n",
       "      <th>instance</th>\n",
       "      <th>reid_prob</th>\n",
       "    </tr>\n",
       "    <tr>\n",
       "      <th>uid</th>\n",
       "      <th></th>\n",
       "      <th></th>\n",
       "    </tr>\n",
       "  </thead>\n",
       "  <tbody>\n",
       "    <tr>\n",
       "      <th>1</th>\n",
       "      <td>([1.0, 43.544270000000004, 10.32615, 1.0], [1....</td>\n",
       "      <td>0.250000</td>\n",
       "    </tr>\n",
       "    <tr>\n",
       "      <th>1</th>\n",
       "      <td>([1.0, 43.544270000000004, 10.32615, 1.0], [1....</td>\n",
       "      <td>0.333333</td>\n",
       "    </tr>\n",
       "    <tr>\n",
       "      <th>1</th>\n",
       "      <td>([1.0, 43.544270000000004, 10.32615, 1.0], [1....</td>\n",
       "      <td>0.333333</td>\n",
       "    </tr>\n",
       "    <tr>\n",
       "      <th>1</th>\n",
       "      <td>([1.0, 43.708529999999996, 10.4036, 1.0], [1.0...</td>\n",
       "      <td>0.250000</td>\n",
       "    </tr>\n",
       "    <tr>\n",
       "      <th>1</th>\n",
       "      <td>([1.0, 43.708529999999996, 10.4036, 1.0], [1.0...</td>\n",
       "      <td>0.333333</td>\n",
       "    </tr>\n",
       "    <tr>\n",
       "      <th>1</th>\n",
       "      <td>([1.0, 43.77925, 11.246260000000001, 1.0], [1....</td>\n",
       "      <td>0.333333</td>\n",
       "    </tr>\n",
       "  </tbody>\n",
       "</table>\n",
       "</div>"
      ],
      "text/plain": [
       "                                              instance  reid_prob\n",
       "uid                                                              \n",
       "1    ([1.0, 43.544270000000004, 10.32615, 1.0], [1....   0.250000\n",
       "1    ([1.0, 43.544270000000004, 10.32615, 1.0], [1....   0.333333\n",
       "1    ([1.0, 43.544270000000004, 10.32615, 1.0], [1....   0.333333\n",
       "1    ([1.0, 43.708529999999996, 10.4036, 1.0], [1.0...   0.250000\n",
       "1    ([1.0, 43.708529999999996, 10.4036, 1.0], [1.0...   0.333333\n",
       "1    ([1.0, 43.77925, 11.246260000000001, 1.0], [1....   0.333333"
      ]
     },
     "execution_count": 22,
     "metadata": {},
     "output_type": "execute_result"
    }
   ],
   "source": [
    "at = attacks.LocationFrequencyAttack(k=2, tolerance=0.1)\n",
    "r = at.assess_risk(trjdat, targets=[1], instance_analysis=True)\n",
    "r"
   ]
  },
  {
   "cell_type": "code",
   "execution_count": 23,
   "metadata": {
    "pycharm": {},
    "slideshow": {
     "slide_type": "fragment"
    }
   },
   "outputs": [
    {
     "data": {
      "text/html": [
       "<div>\n",
       "<style scoped>\n",
       "    .dataframe tbody tr th:only-of-type {\n",
       "        vertical-align: middle;\n",
       "    }\n",
       "\n",
       "    .dataframe tbody tr th {\n",
       "        vertical-align: top;\n",
       "    }\n",
       "\n",
       "    .dataframe thead th {\n",
       "        text-align: right;\n",
       "    }\n",
       "</style>\n",
       "<table border=\"1\" class=\"dataframe\">\n",
       "  <thead>\n",
       "    <tr style=\"text-align: right;\">\n",
       "      <th></th>\n",
       "      <th>instance</th>\n",
       "      <th>reid_prob</th>\n",
       "    </tr>\n",
       "    <tr>\n",
       "      <th>uid</th>\n",
       "      <th></th>\n",
       "      <th></th>\n",
       "    </tr>\n",
       "  </thead>\n",
       "  <tbody>\n",
       "    <tr>\n",
       "      <th>1</th>\n",
       "      <td>([1.0, 43.544270000000004, 10.32615, 1.0], [1....</td>\n",
       "      <td>0.250000</td>\n",
       "    </tr>\n",
       "    <tr>\n",
       "      <th>1</th>\n",
       "      <td>([1.0, 43.544270000000004, 10.32615, 1.0], [1....</td>\n",
       "      <td>0.333333</td>\n",
       "    </tr>\n",
       "    <tr>\n",
       "      <th>1</th>\n",
       "      <td>([1.0, 43.544270000000004, 10.32615, 1.0], [1....</td>\n",
       "      <td>0.250000</td>\n",
       "    </tr>\n",
       "    <tr>\n",
       "      <th>1</th>\n",
       "      <td>([1.0, 43.708529999999996, 10.4036, 1.0], [1.0...</td>\n",
       "      <td>0.250000</td>\n",
       "    </tr>\n",
       "    <tr>\n",
       "      <th>1</th>\n",
       "      <td>([1.0, 43.708529999999996, 10.4036, 1.0], [1.0...</td>\n",
       "      <td>0.250000</td>\n",
       "    </tr>\n",
       "    <tr>\n",
       "      <th>1</th>\n",
       "      <td>([1.0, 43.77925, 11.246260000000001, 1.0], [1....</td>\n",
       "      <td>0.250000</td>\n",
       "    </tr>\n",
       "  </tbody>\n",
       "</table>\n",
       "</div>"
      ],
      "text/plain": [
       "                                              instance  reid_prob\n",
       "uid                                                              \n",
       "1    ([1.0, 43.544270000000004, 10.32615, 1.0], [1....   0.250000\n",
       "1    ([1.0, 43.544270000000004, 10.32615, 1.0], [1....   0.333333\n",
       "1    ([1.0, 43.544270000000004, 10.32615, 1.0], [1....   0.250000\n",
       "1    ([1.0, 43.708529999999996, 10.4036, 1.0], [1.0...   0.250000\n",
       "1    ([1.0, 43.708529999999996, 10.4036, 1.0], [1.0...   0.250000\n",
       "1    ([1.0, 43.77925, 11.246260000000001, 1.0], [1....   0.250000"
      ]
     },
     "execution_count": 23,
     "metadata": {},
     "output_type": "execute_result"
    }
   ],
   "source": [
    "at = attacks.LocationFrequencyAttack(k=2, tolerance=0.8)\n",
    "r = at.assess_risk(trjdat, targets=[1], instance_analysis=True)\n",
    "r"
   ]
  },
  {
   "cell_type": "markdown",
   "metadata": {
    "pycharm": {},
    "slideshow": {
     "slide_type": "slide"
    }
   },
   "source": [
    "- Risk may be visualized in many different ways\n",
    "- A very simple and intuitive way is a cumulative distribution function."
   ]
  },
  {
   "cell_type": "code",
   "execution_count": 24,
   "metadata": {
    "pycharm": {},
    "slideshow": {
     "slide_type": "subslide"
    }
   },
   "outputs": [],
   "source": [
    "import numpy as np\n",
    "import matplotlib.pyplot as plt\n",
    "results = dict()\n",
    "for my_k in [2,3]:\n",
    "    at = attacks.LocationAttack(k=my_k)\n",
    "    r = at.assess_risk(trjdat)\n",
    "    results[my_k] = r\n",
    "colors = {2:\"blue\",3:\"red\"}\n",
    "styles = {2:\"-\",3:\":\"}"
   ]
  },
  {
   "cell_type": "code",
   "execution_count": 25,
   "metadata": {
    "code_folding": [
     3
    ],
    "scrolled": true,
    "slideshow": {
     "slide_type": "slide"
    }
   },
   "outputs": [
    {
     "data": {
      "image/png": "[encoded data removed]",
      "text/plain": [
       "<Figure size 432x288 with 1 Axes>"
      ]
     },
     "metadata": {
      "needs_background": "light"
     },
     "output_type": "display_data"
    }
   ],
   "source": [
    "plt.figure()\n",
    "plt.xlabel(\"risk\",size=18)\n",
    "plt.ylabel(\"p(risk)\", size=18)\n",
    "for k,r in results.items():\n",
    "    data = r[\"risk\"].tolist()\n",
    "    values, base = np.histogram(data, bins=200)\n",
    "    cumulative = np.cumsum(values)\n",
    "    plt.plot(base[:-1],cumulative/len(data), c=colors[k], label=\"k=\"+str(k), linestyle=styles[k])\n",
    "plt.legend()\n",
    "plt.show()"
   ]
  },
  {
   "cell_type": "markdown",
   "metadata": {
    "pycharm": {},
    "slideshow": {
     "slide_type": "subslide"
    }
   },
   "source": [
    "- On real (GPS) data results should look like this\n",
    "<img src=\"./data/image18.png\" width=\"400\">"
   ]
  },
  {
   "cell_type": "code",
   "execution_count": null,
   "metadata": {},
   "outputs": [],
   "source": []
  }
 ],
 "metadata": {
  "hide_input": false,
  "kernelspec": {
   "display_name": "Python 3",
   "language": "python",
   "name": "python3"
  },
  "language_info": {
   "codemirror_mode": {
    "name": "ipython",
    "version": 3
   },
   "file_extension": ".py",
   "mimetype": "text/x-python",
   "name": "python",
   "nbconvert_exporter": "python",
   "pygments_lexer": "ipython3",
   "version": "3.7.3"
  },
  "latex_envs": {
   "LaTeX_envs_menu_present": true,
   "autoclose": false,
   "autocomplete": true,
   "bibliofile": "biblio.bib",
   "cite_by": "apalike",
   "current_citInitial": 1,
   "eqLabelWithNumbers": true,
   "eqNumInitial": 1,
   "hotkeys": {
    "equation": "Ctrl-E",
    "itemize": "Ctrl-I"
   },
   "labels_anchors": false,
   "latex_user_defs": false,
   "report_style_numbering": true,
   "user_envs_cfg": false
  }
 },
 "nbformat": 4,
 "nbformat_minor": 2
}
