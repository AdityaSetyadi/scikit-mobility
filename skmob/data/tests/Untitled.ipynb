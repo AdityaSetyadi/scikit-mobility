{
 "cells": [
  {
   "cell_type": "code",
   "execution_count": 11,
   "id": "74c265fc",
   "metadata": {},
   "outputs": [],
   "source": [
    "import skmob\n",
    "import pytest\n",
    "import numpy as np"
   ]
  },
  {
   "cell_type": "code",
   "execution_count": null,
   "id": "b69d3f2f",
   "metadata": {},
   "outputs": [],
   "source": [
    "list_datasets()"
   ]
  },
  {
   "cell_type": "code",
   "execution_count": null,
   "id": "08acb67b",
   "metadata": {},
   "outputs": [],
   "source": [
    "# fix a random seed\n",
    "np.random.seed(2)\n",
    "\n",
    "# generate\n",
    "@pytest.mark.parametrize('dataset_names', ['flow_foursquare_nyc', 'foursquare_nyc', \n",
    "                                           'nyc_boundaries', 'parking_san_francisco', \n",
    "                                           'taxi_san_francisco'])\n",
    "@pytest.mark.parametrize('dataset_types', ['trajectory', 'flow', 'shape', 'auxiliar'])\n",
    "\n",
    "def foo(dataset_names, dataset_types):\n",
    "    print(dataset_names, dataset_types)\n",
    "    assert 1==1"
   ]
  },
  {
   "cell_type": "code",
   "execution_count": null,
   "id": "3fba9541",
   "metadata": {},
   "outputs": [],
   "source": []
  }
 ],
 "metadata": {
  "kernelspec": {
   "display_name": "Python 3 (ipykernel)",
   "language": "python",
   "name": "python3"
  },
  "language_info": {
   "codemirror_mode": {
    "name": "ipython",
    "version": 3
   },
   "file_extension": ".py",
   "mimetype": "text/x-python",
   "name": "python",
   "nbconvert_exporter": "python",
   "pygments_lexer": "ipython3",
   "version": "3.9.7"
  }
 },
 "nbformat": 4,
 "nbformat_minor": 5
}
