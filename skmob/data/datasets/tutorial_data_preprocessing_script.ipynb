{
 "cells": [
  {
   "cell_type": "markdown",
   "id": "3e72efa1",
   "metadata": {},
   "source": [
    "## How to include a dataset in scikit-mobility\n",
    "<br>\n",
    "<i>v 1.0</i>"
   ]
  },
  {
   "cell_type": "markdown",
   "id": "de72ac55",
   "metadata": {},
   "source": [
    "To add a dataset into `scikit-mobility`, create a dataset pre-processing script (DPS) and a JSON file that stores the information about the dataset.<br>\n",
    "The JSON sould contain information about the dataset, such as the license and the URL where the resource is available. <br>\n",
    "The DPS contains the instruction to load and pre-process the dataset, making it available to the user without any effort on their part."
   ]
  },
  {
   "cell_type": "markdown",
   "id": "48d36ac9",
   "metadata": {},
   "source": [
    "The types of mobility dataset that may be included in the library are:\n",
    " - <i>trajectories</i> $\\rightarrow$ `TrajDataFrame`\n",
    " - <i>flows</i> $\\rightarrow$ `FlowDataFrame`\n",
    " - <i>shapes</i> $\\rightarrow$ `GeoDataFrame`\n",
    " - <i>others</i> $\\rightarrow$ `DataFrame`"
   ]
  },
  {
   "cell_type": "markdown",
   "id": "18e7e07e",
   "metadata": {},
   "source": [
    "### A practical example: aliens moving in the G-24 galaxy"
   ]
  },
  {
   "cell_type": "markdown",
   "id": "e2672d65",
   "metadata": {},
   "source": [
    "Suppose we want to include in the `scikit-mobility` data collection the trajectories of aliens moving in a galaxy called G24.\n",
    "We first have to choose a name for the dataset (unique in the collection). The name must be in lowercase, starting with a letter and the only non alphanumerical symbol allowed is `_`.<br><br>\n",
    "<span style=\"color:green\">**Valid**</span> names are: `trajectories_g24`, `alien_movements_g24`, `alien_traces_g24`. <br><br>\n",
    "<span style=\"color:red\">**Invalid**</span> names are: `TrajAlien_G24`, `99_aliens_in_motion`, `traj-of: aliens`.\n",
    "<br><br> Assume we select as a name `alien_movements_g24`."
   ]
  },
  {
   "cell_type": "markdown",
   "id": "86cb9cf7",
   "metadata": {},
   "source": [
    "#### 1. Create the `JSON` file"
   ]
  },
  {
   "cell_type": "markdown",
   "id": "ae3b5cab",
   "metadata": {},
   "source": [
    "The first step is to create a `JSON` file with the same name of the dataset (in our case `alien_movements_g24.json`).<br>\n",
    "\n",
    "The `JSON` file should include the following **mandatory** information:\n",
    "\n",
    "- `name` (str): The name of the dataset. Must be unique inside the data collection.\n",
    "- `description` (str): A description of the dataset\n",
    "- `url` (str): The URL at which to download the dataset\n",
    "- `hash` (str): A known hash (checksum) of the file; it will be used to verify the correctness of the download or to check if an existing file needs to be updated.\n",
    "- `data_type` (str): the type of the dataset. It can be 'trajectory', 'flow', 'shape', or 'auxiliar'.\n",
    "- `auth` (str $\\in$ {yes, no}): specifies if an authentication is required to download the file at the specified URL\n",
    "- `processor`(str): if not `None`, denotes the compression method to apply at the downloaded dataset by the function `skmob_downloader`.\n",
    "- `license` (str): the license associated with the dataset\n",
    "- `reference` (str): the reference or references to cite if someone publishes material based on this dataset.\n",
    "- `tags` (str): a set of tags separated from a `;` for the dataset search engine.\n",
    "\n",
    "<br>\n",
    "An example of structure is the following (more keys can be added):\n",
    "\n",
    "```\n",
    "{\n",
    "'name':'trajectories_g24',\n",
    "'description': 'Trajectories of 99 aliens moving in the G24 Galaxy.',\n",
    "'url':'https://something.com',\n",
    "'hash':'s1162a19242KBGMAGC14Z',\n",
    "'data_type':'trajectory',\n",
    "'auth':'no',\n",
    "'processor':None,\n",
    "'license':'MIT LICENSE',\n",
    "'reference':'Extragalactic Mobility, DOI XXX'\n",
    "'tags':'mobility;trajectories;aliens;spaceships;galaxy'\n",
    "}\n",
    "```"
   ]
  },
  {
   "cell_type": "markdown",
   "id": "b95dcdf9",
   "metadata": {},
   "source": [
    "## 2. Create the Data pre-processing script"
   ]
  },
  {
   "cell_type": "markdown",
   "id": "40b5eaac",
   "metadata": {},
   "source": [
    "The second step is to create the data pre-processing script (DPS).\n",
    "The name of the DPS should be the same name of the dataset with, followed by `.py`; in our case the DPS name is `alien_movements_g24.py`.\n",
    "A template of the DPS can be found at `dps_example.py`.<br><br>\n",
    "\n",
    "The dataset class name (line 12 of `dps_example.py`) must be equal to same as the DPS name, in our case `alien_movements_g24`.\n",
    "<br><br>\n",
    "```\n",
    "line 12:\n",
    "class alien_movements_g24(DatasetBuilder):\n",
    "```\n",
    "<br><br>\n",
    "The final step is to implement the function `prepare` (line 31 of `dps_example.py`).\n",
    "\n",
    "To implement the function assume that the paths of the files downloaded at the URL specified in the JSON file are described by the argument `f_names` (represented as a list of strings) then:\n",
    "1. load the dataset\n",
    "2. pre-process it if necessary (e.g., adjust the timezone or delete/add some information)\n",
    "3. convert it in the correct skmob format:\n",
    " - trajectory $\\rightarrow$ `TrajDataFrame`\n",
    " - flow $\\rightarrow$ `FlowDataFrame`\n",
    " - shape $\\rightarrow$ `GeoDataFrame`\n",
    " - auxiliar $\\rightarrow$ `DataFrame`\n",
    "4. return the dataset in the skmob format\n",
    "\n",
    "<br>\n",
    "In our example (pseudocode) the `prepare` function can be the following:\n",
    "\n",
    "```\n",
    "def prepare(self, f_names):\n",
    "    \n",
    "    #step 1\n",
    "    file_path = f_names[0]\n",
    "    file = read(file_path)\n",
    "    \n",
    "    #step 2 \n",
    "    file_filtered = filter(file)\n",
    "    \n",
    "    #step 3\n",
    "    file_tdf = TrajDataFrame(file_filtered)\n",
    "    \n",
    "    #step 4\n",
    "    return file_tdf\n",
    "\n",
    "```\n"
   ]
  },
  {
   "cell_type": "markdown",
   "id": "de88e4cc",
   "metadata": {},
   "source": [
    "Finally, put the files `alien_movements_g24.json` and `alien_movements_g24.py` inside a folder with the same name as the dataset (`alien_movements_g24`).\n",
    "\n",
    "```\n",
    "Folder alien_movements_g24 contains:\n",
    "- alien_movements_g24.json\n",
    "- alien_movements_g24.py\n",
    "```\n"
   ]
  },
  {
   "cell_type": "markdown",
   "id": "7d15deb0",
   "metadata": {},
   "source": [
    "### DATA-PAPER"
   ]
  },
  {
   "cell_type": "markdown",
   "id": "75ab4e65",
   "metadata": {},
   "source": [
    "https://docs.google.com/spreadsheets/d/1K2O8Zqp_F_TyHiVc3Ynp3DCJ30QHXUhTyJu1CS8HeB0/edit?usp=sharing"
   ]
  },
  {
   "cell_type": "code",
   "execution_count": null,
   "id": "913f0ac8",
   "metadata": {},
   "outputs": [],
   "source": []
  }
 ],
 "metadata": {
  "kernelspec": {
   "display_name": "Python 3 (ipykernel)",
   "language": "python",
   "name": "python3"
  },
  "language_info": {
   "codemirror_mode": {
    "name": "ipython",
    "version": 3
   },
   "file_extension": ".py",
   "mimetype": "text/x-python",
   "name": "python",
   "nbconvert_exporter": "python",
   "pygments_lexer": "ipython3",
   "version": "3.9.7"
  }
 },
 "nbformat": 4,
 "nbformat_minor": 5
}
