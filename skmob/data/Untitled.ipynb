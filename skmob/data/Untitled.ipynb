{
 "cells": [
  {
   "cell_type": "code",
   "execution_count": 1,
   "id": "74c265fc",
   "metadata": {},
   "outputs": [],
   "source": [
    "import skmob\n",
    "import pytest\n",
    "import numpy as np\n",
    "from skmob.core.trajectorydataframe import TrajDataFrame\n",
    "from skmob.core.flowdataframe import FlowDataFrame\n",
    "from geopandas import GeoDataFrame\n",
    "from pandas import DataFrame"
   ]
  },
  {
   "cell_type": "code",
   "execution_count": 8,
   "id": "7aca4794",
   "metadata": {},
   "outputs": [],
   "source": [
    "from pooch import HTTPDownloader"
   ]
  },
  {
   "cell_type": "code",
   "execution_count": 2,
   "id": "5690753f",
   "metadata": {},
   "outputs": [
    {
     "data": {
      "text/plain": [
       "True"
      ]
     },
     "execution_count": 2,
     "metadata": {},
     "output_type": "execute_result"
    }
   ],
   "source": [
    "DataFrame in [TrajDataFrame, FlowDataFrame, GeoDataFrame, DataFrame]"
   ]
  },
  {
   "cell_type": "code",
   "execution_count": 3,
   "id": "c3bfe85c",
   "metadata": {},
   "outputs": [],
   "source": [
    "from pooch import Unzip"
   ]
  },
  {
   "cell_type": "code",
   "execution_count": 6,
   "id": "bfe8f49b",
   "metadata": {},
   "outputs": [
    {
     "data": {
      "text/plain": [
       "<pooch.processors.Unzip at 0x1a7c6820400>"
      ]
     },
     "execution_count": 6,
     "metadata": {},
     "output_type": "execute_result"
    }
   ],
   "source": [
    "Unzip()"
   ]
  },
  {
   "cell_type": "code",
   "execution_count": 2,
   "id": "ed389ffe",
   "metadata": {},
   "outputs": [],
   "source": [
    "from skmob.data.load import load_dataset, list_datasets"
   ]
  },
  {
   "cell_type": "code",
   "execution_count": 6,
   "id": "b69d3f2f",
   "metadata": {},
   "outputs": [
    {
     "data": {
      "text/plain": [
       "['flow_foursquare_nyc',\n",
       " 'foursquare_nyc',\n",
       " 'nyc_boundaries',\n",
       " 'parking_san_francisco',\n",
       " 'taxi_san_francisco']"
      ]
     },
     "execution_count": 6,
     "metadata": {},
     "output_type": "execute_result"
    }
   ],
   "source": [
    "list_datasets(details=False, data_types=None)"
   ]
  },
  {
   "cell_type": "code",
   "execution_count": null,
   "id": "441e07ce",
   "metadata": {},
   "outputs": [],
   "source": [
    "@pytest.mark.parametrize('details', ['flow_foursquare_nyc', 'foursquare_nyc', \n",
    "                                           'nyc_boundaries', 'parking_san_francisco', \n",
    "                                           'taxi_san_francisco'])"
   ]
  },
  {
   "cell_type": "code",
   "execution_count": null,
   "id": "3ed0a8fa",
   "metadata": {},
   "outputs": [],
   "source": []
  },
  {
   "cell_type": "code",
   "execution_count": null,
   "id": "08acb67b",
   "metadata": {},
   "outputs": [],
   "source": [
    "# fix a random seed\n",
    "np.random.seed(2)\n",
    "\n",
    "# generate\n",
    "@pytest.mark.parametrize('dataset_names', ['flow_foursquare_nyc', 'foursquare_nyc', \n",
    "                                           'nyc_boundaries', 'parking_san_francisco', \n",
    "                                           'taxi_san_francisco'])\n",
    "@pytest.mark.parametrize('dataset_types', ['trajectory', 'flow', 'shape', 'auxiliar'])\n",
    "\n",
    "def foo(dataset_names, dataset_types):\n",
    "    print(dataset_names, dataset_types)\n",
    "    assert 1==1"
   ]
  },
  {
   "cell_type": "code",
   "execution_count": null,
   "id": "3fba9541",
   "metadata": {},
   "outputs": [],
   "source": []
  },
  {
   "cell_type": "markdown",
   "id": "021ba5b6",
   "metadata": {},
   "source": [
    "#### Test list_dataset"
   ]
  },
  {
   "cell_type": "code",
   "execution_count": null,
   "id": "ad72995e",
   "metadata": {},
   "outputs": [],
   "source": [
    "# First test set: CORRECT arguments, no ERRORS expected (#test: 4)\n",
    "\n",
    "\n",
    "\n",
    "assert type(list_datasets())\n"
   ]
  },
  {
   "cell_type": "code",
   "execution_count": null,
   "id": "32b4fc38",
   "metadata": {},
   "outputs": [],
   "source": [
    "type(list_datasets()) == list"
   ]
  },
  {
   "cell_type": "code",
   "execution_count": null,
   "id": "9dcd2160",
   "metadata": {},
   "outputs": [],
   "source": []
  }
 ],
 "metadata": {
  "kernelspec": {
   "display_name": "Python 3 (ipykernel)",
   "language": "python",
   "name": "python3"
  },
  "language_info": {
   "codemirror_mode": {
    "name": "ipython",
    "version": 3
   },
   "file_extension": ".py",
   "mimetype": "text/x-python",
   "name": "python",
   "nbconvert_exporter": "python",
   "pygments_lexer": "ipython3",
   "version": "3.9.7"
  }
 },
 "nbformat": 4,
 "nbformat_minor": 5
}
