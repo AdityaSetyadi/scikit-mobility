{
 "cells": [
  {
   "cell_type": "code",
   "execution_count": 1,
   "id": "b385cf51",
   "metadata": {},
   "outputs": [],
   "source": [
    "import skmob\n",
    "import importlib\n",
    "from datetime import timedelta\n",
    "from datetime import datetime\n",
    "from skmob.data.load import load_dataset, list_datasets"
   ]
  },
  {
   "cell_type": "markdown",
   "id": "d4310cae",
   "metadata": {},
   "source": [
    "### Features\n",
    "\n",
    "- list_datasets()\n",
    "- load_dataset()\n"
   ]
  },
  {
   "cell_type": "markdown",
   "id": "fc18d307",
   "metadata": {},
   "source": [
    "### list_datasets()\n",
    "\n",
    "List all the names of the datasets available in the data module of scikit-mobility.\n",
    " \n",
    "The optional boolean argument ``details`` specify whether or not to return the full details on the datasets instead of only the short name."
   ]
  },
  {
   "cell_type": "code",
   "execution_count": 2,
   "id": "f8f9faef",
   "metadata": {},
   "outputs": [
    {
     "name": "stdout",
     "output_type": "stream",
     "text": [
      "['flow_foursquare_nyc', 'foursquare_nyc', 'nyc_boundaries', 'parking_san_francisco', 'taxi_san_francisco']\n"
     ]
    }
   ],
   "source": [
    "#list all the datasets without details\n",
    "print(list_datasets())"
   ]
  },
  {
   "cell_type": "code",
   "execution_count": 3,
   "id": "b8f29b56",
   "metadata": {},
   "outputs": [
    {
     "name": "stdout",
     "output_type": "stream",
     "text": [
      "{'flow_foursquare_nyc': {'name': 'Flow_nyc', 'description': 'FlowDataFrame describing the movements of individual (from FourSquare) between tiles of size 4km in New York City.', 'url': 'http://www-public.it-sudparis.eu/~zhang_da/pub/dataset_tsmc2014.zip', 'hash': '', 'data_type': 'flow', 'auth': 'no', 'download_format': 'zip', 'sep': '\\t', 'encoding': 'ISO-8859-1'}, 'foursquare_nyc': {'name': 'Foursquare_NYC', 'description': 'Dataset containing the Foursquare checkins of individuals moving in the urban Area of New York City', 'url': 'http://www-public.it-sudparis.eu/~zhang_da/pub/dataset_tsmc2014.zip', 'hash': 'cbe3fdab373d24b09b5fc53509c8958c77ff72b6c1a68589ce337d4f9a80235b', 'auth': 'no', 'data_type': 'trajectory', 'download_format': 'zip', 'sep': '\\t', 'encoding': 'ISO-8859-1'}, 'nyc_boundaries': {'name': 'NewYorkCity_boundaries', 'description': 'This Shapefile containts the Borough Boundaries of NYC (Water Areas Included)', 'url': 'https://www1.nyc.gov/assets/planning/download/zip/data-maps/open-data/nybbwi_22a.zip', 'hash': '', 'data_type': 'shape', 'auth': 'no', 'download_format': 'zip', 'sep': ' ', 'encoding': 'ISO-8859-1'}, 'parking_san_francisco': {'name': 'ParkingMeteres_SanFrancisco', 'description': 'Parking meters in San Francisco.', 'url': 'https://data.sfgov.org/api/views/8vzz-qzz9/rows.csv?accessType=DOWNLOAD', 'hash': '', 'data_type': 'auxiliar', 'auth': 'no', 'download_format': '', 'sep': ',', 'encoding': 'ISO-8859-1'}, 'taxi_san_francisco': {'name': 'Taxi_SanFrancisco', 'description': 'This traceset contains mobility traces of taxi cabs in San Francisco, USA. It contains GPS coordinates of approximately 500 taxis collected over 30 days in the San Francisco Bay Area.', 'url': 'https://crawdad.org//download/epfl/mobility/cabspottingdata.tar.gz', 'hash': '', 'data_type': 'trajectory', 'auth': 'yes', 'download_format': 'tar', 'sep': ' ', 'encoding': 'ISO-8859-1'}}\n"
     ]
    }
   ],
   "source": [
    "#list all the datasets with details\n",
    "print(list_datasets(details=True))"
   ]
  },
  {
   "cell_type": "code",
   "execution_count": 5,
   "id": "c952adc3",
   "metadata": {},
   "outputs": [
    {
     "name": "stdout",
     "output_type": "stream",
     "text": [
      "{'flow_foursquare_nyc': {'name': 'Flow_nyc', 'description': 'FlowDataFrame describing the movements of individual (from FourSquare) between tiles of size 4km in New York City.', 'url': 'http://www-public.it-sudparis.eu/~zhang_da/pub/dataset_tsmc2014.zip', 'hash': '', 'data_type': 'flow', 'auth': 'no', 'download_format': 'zip', 'sep': '\\t', 'encoding': 'ISO-8859-1'}}\n"
     ]
    }
   ],
   "source": [
    "#list all the datasets of type shape with details\n",
    "print(list_datasets(data_types='flow', details=True))"
   ]
  },
  {
   "cell_type": "code",
   "execution_count": 6,
   "id": "2ebb47c8",
   "metadata": {},
   "outputs": [
    {
     "name": "stdout",
     "output_type": "stream",
     "text": [
      "{'foursquare_nyc': {'name': 'Foursquare_NYC', 'description': 'Dataset containing the Foursquare checkins of individuals moving in the urban Area of New York City', 'url': 'http://www-public.it-sudparis.eu/~zhang_da/pub/dataset_tsmc2014.zip', 'hash': 'cbe3fdab373d24b09b5fc53509c8958c77ff72b6c1a68589ce337d4f9a80235b', 'auth': 'no', 'data_type': 'trajectory', 'download_format': 'zip', 'sep': '\\t', 'encoding': 'ISO-8859-1'}, 'nyc_boundaries': {'name': 'NewYorkCity_boundaries', 'description': 'This Shapefile containts the Borough Boundaries of NYC (Water Areas Included)', 'url': 'https://www1.nyc.gov/assets/planning/download/zip/data-maps/open-data/nybbwi_22a.zip', 'hash': '', 'data_type': 'shape', 'auth': 'no', 'download_format': 'zip', 'sep': ' ', 'encoding': 'ISO-8859-1'}, 'taxi_san_francisco': {'name': 'Taxi_SanFrancisco', 'description': 'This traceset contains mobility traces of taxi cabs in San Francisco, USA. It contains GPS coordinates of approximately 500 taxis collected over 30 days in the San Francisco Bay Area.', 'url': 'https://crawdad.org//download/epfl/mobility/cabspottingdata.tar.gz', 'hash': '', 'data_type': 'trajectory', 'auth': 'yes', 'download_format': 'tar', 'sep': ' ', 'encoding': 'ISO-8859-1'}}\n"
     ]
    }
   ],
   "source": [
    "#list all the datasets of type trajectory OR shape with details\n",
    "print(list_datasets(data_types=['trajectory', 'shape'], details=True))"
   ]
  },
  {
   "cell_type": "markdown",
   "id": "c72c3653",
   "metadata": {},
   "source": [
    "### load_dataset()"
   ]
  },
  {
   "cell_type": "markdown",
   "id": "32e8008c",
   "metadata": {},
   "source": [
    "#### TrajDataFrame"
   ]
  },
  {
   "cell_type": "code",
   "execution_count": 7,
   "id": "764591eb",
   "metadata": {},
   "outputs": [
    {
     "name": "stderr",
     "output_type": "stream",
     "text": [
      "Downloading data from 'http://www-public.it-sudparis.eu/~zhang_da/pub/dataset_tsmc2014.zip' to file 'C:\\Users\\giuli\\AppData\\Local\\skmob_data\\skmob_data\\Cache\\55d9132fcc6ebd6a1269944a3b851bb0-dataset_tsmc2014.zip'.\n",
      "Unzipping contents of 'C:\\Users\\giuli\\AppData\\Local\\skmob_data\\skmob_data\\Cache\\55d9132fcc6ebd6a1269944a3b851bb0-dataset_tsmc2014.zip' to 'C:\\Users\\giuli\\AppData\\Local\\skmob_data\\skmob_data\\Cache\\55d9132fcc6ebd6a1269944a3b851bb0-dataset_tsmc2014.zip.unzip'\n"
     ]
    },
    {
     "name": "stdout",
     "output_type": "stream",
     "text": [
      "{'name': 'Foursquare_NYC', 'description': 'Dataset containing the Foursquare checkins of individuals moving in the urban Area of New York City', 'url': 'http://www-public.it-sudparis.eu/~zhang_da/pub/dataset_tsmc2014.zip', 'hash': 'cbe3fdab373d24b09b5fc53509c8958c77ff72b6c1a68589ce337d4f9a80235b', 'auth': 'no', 'data_type': 'trajectory', 'download_format': 'zip', 'sep': '\\t', 'encoding': 'ISO-8859-1'}\n",
      "\n",
      "\n",
      "<class 'skmob.core.trajectorydataframe.TrajDataFrame'>\n"
     ]
    },
    {
     "name": "stderr",
     "output_type": "stream",
     "text": [
      "C:\\Users\\giuli\\Documents\\GitHub\\forks\\skmob\\data\\load.py:111: UserWarning: Pandas doesn't allow columns to be created via a new attribute name - see https://pandas.pydata.org/pandas-docs/stable/indexing.html#attribute-access\n",
      "  dataset._info = dataset_info\n"
     ]
    },
    {
     "data": {
      "text/html": [
       "<div>\n",
       "<style scoped>\n",
       "    .dataframe tbody tr th:only-of-type {\n",
       "        vertical-align: middle;\n",
       "    }\n",
       "\n",
       "    .dataframe tbody tr th {\n",
       "        vertical-align: top;\n",
       "    }\n",
       "\n",
       "    .dataframe thead th {\n",
       "        text-align: right;\n",
       "    }\n",
       "</style>\n",
       "<table border=\"1\" class=\"dataframe\">\n",
       "  <thead>\n",
       "    <tr style=\"text-align: right;\">\n",
       "      <th></th>\n",
       "      <th>uid</th>\n",
       "      <th>1</th>\n",
       "      <th>2</th>\n",
       "      <th>3</th>\n",
       "      <th>lat</th>\n",
       "      <th>lng</th>\n",
       "      <th>6</th>\n",
       "      <th>datetime</th>\n",
       "    </tr>\n",
       "  </thead>\n",
       "  <tbody>\n",
       "    <tr>\n",
       "      <th>0</th>\n",
       "      <td>470</td>\n",
       "      <td>49bbd6c0f964a520f4531fe3</td>\n",
       "      <td>4bf58dd8d48988d127951735</td>\n",
       "      <td>Arts &amp; Crafts Store</td>\n",
       "      <td>40.719810</td>\n",
       "      <td>-74.002581</td>\n",
       "      <td>-240</td>\n",
       "      <td>2012-04-03 18:00:09+00:00</td>\n",
       "    </tr>\n",
       "    <tr>\n",
       "      <th>1</th>\n",
       "      <td>979</td>\n",
       "      <td>4a43c0aef964a520c6a61fe3</td>\n",
       "      <td>4bf58dd8d48988d1df941735</td>\n",
       "      <td>Bridge</td>\n",
       "      <td>40.606800</td>\n",
       "      <td>-74.044170</td>\n",
       "      <td>-240</td>\n",
       "      <td>2012-04-03 18:00:25+00:00</td>\n",
       "    </tr>\n",
       "    <tr>\n",
       "      <th>2</th>\n",
       "      <td>69</td>\n",
       "      <td>4c5cc7b485a1e21e00d35711</td>\n",
       "      <td>4bf58dd8d48988d103941735</td>\n",
       "      <td>Home (private)</td>\n",
       "      <td>40.716162</td>\n",
       "      <td>-73.883070</td>\n",
       "      <td>-240</td>\n",
       "      <td>2012-04-03 18:02:24+00:00</td>\n",
       "    </tr>\n",
       "    <tr>\n",
       "      <th>3</th>\n",
       "      <td>395</td>\n",
       "      <td>4bc7086715a7ef3bef9878da</td>\n",
       "      <td>4bf58dd8d48988d104941735</td>\n",
       "      <td>Medical Center</td>\n",
       "      <td>40.745164</td>\n",
       "      <td>-73.982519</td>\n",
       "      <td>-240</td>\n",
       "      <td>2012-04-03 18:02:41+00:00</td>\n",
       "    </tr>\n",
       "  </tbody>\n",
       "</table>\n",
       "</div>"
      ],
      "text/plain": [
       "   uid                         1                         2  \\\n",
       "0  470  49bbd6c0f964a520f4531fe3  4bf58dd8d48988d127951735   \n",
       "1  979  4a43c0aef964a520c6a61fe3  4bf58dd8d48988d1df941735   \n",
       "2   69  4c5cc7b485a1e21e00d35711  4bf58dd8d48988d103941735   \n",
       "3  395  4bc7086715a7ef3bef9878da  4bf58dd8d48988d104941735   \n",
       "\n",
       "                     3        lat        lng    6                  datetime  \n",
       "0  Arts & Crafts Store  40.719810 -74.002581 -240 2012-04-03 18:00:09+00:00  \n",
       "1               Bridge  40.606800 -74.044170 -240 2012-04-03 18:00:25+00:00  \n",
       "2       Home (private)  40.716162 -73.883070 -240 2012-04-03 18:02:24+00:00  \n",
       "3       Medical Center  40.745164 -73.982519 -240 2012-04-03 18:02:41+00:00  "
      ]
     },
     "execution_count": 7,
     "metadata": {},
     "output_type": "execute_result"
    }
   ],
   "source": [
    "# standard loading\n",
    "tdf_nyc = load_dataset(\"foursquare_nyc\")\n",
    "print(tdf_nyc._info)\n",
    "print(\"\\n\")\n",
    "print(type(tdf_nyc))\n",
    "tdf_nyc[:4]"
   ]
  },
  {
   "cell_type": "markdown",
   "id": "f8a172ab",
   "metadata": {},
   "source": [
    "#### Shape"
   ]
  },
  {
   "cell_type": "code",
   "execution_count": 9,
   "id": "7d252ae7",
   "metadata": {},
   "outputs": [
    {
     "name": "stderr",
     "output_type": "stream",
     "text": [
      "Downloading data from 'https://www1.nyc.gov/assets/planning/download/zip/data-maps/open-data/nybbwi_22a.zip' to file 'C:\\Users\\giuli\\AppData\\Local\\skmob_data\\skmob_data\\Cache\\1e711308a23cfba405f2e8858c7ffed0-nybbwi_22a.zip'.\n",
      "SHA256 hash of downloaded file: 0658159f371b2e5b34404881c6524d3a427c3cb84955a8a1472bd646af4d44b4\n",
      "Use this value as the 'known_hash' argument of 'pooch.retrieve' to ensure that the file hasn't changed if it is downloaded again in the future.\n",
      "Unzipping contents of 'C:\\Users\\giuli\\AppData\\Local\\skmob_data\\skmob_data\\Cache\\1e711308a23cfba405f2e8858c7ffed0-nybbwi_22a.zip' to 'C:\\Users\\giuli\\AppData\\Local\\skmob_data\\skmob_data\\Cache\\1e711308a23cfba405f2e8858c7ffed0-nybbwi_22a.zip.unzip'\n"
     ]
    },
    {
     "name": "stdout",
     "output_type": "stream",
     "text": [
      "{'name': 'NewYorkCity_boundaries', 'description': 'This Shapefile containts the Borough Boundaries of NYC (Water Areas Included)', 'url': 'https://www1.nyc.gov/assets/planning/download/zip/data-maps/open-data/nybbwi_22a.zip', 'hash': '', 'data_type': 'shape', 'auth': 'no', 'download_format': 'zip', 'sep': ' ', 'encoding': 'ISO-8859-1'}\n",
      "\n",
      "\n",
      "<class 'geopandas.geodataframe.GeoDataFrame'>\n"
     ]
    },
    {
     "name": "stderr",
     "output_type": "stream",
     "text": [
      "C:\\Users\\giuli\\Anaconda3\\envs\\sk_dev\\lib\\site-packages\\geopandas\\geodataframe.py:182: UserWarning: Pandas doesn't allow columns to be created via a new attribute name - see https://pandas.pydata.org/pandas-docs/stable/indexing.html#attribute-access\n",
      "  super(GeoDataFrame, self).__setattr__(attr, val)\n"
     ]
    },
    {
     "data": {
      "text/html": [
       "<div>\n",
       "<style scoped>\n",
       "    .dataframe tbody tr th:only-of-type {\n",
       "        vertical-align: middle;\n",
       "    }\n",
       "\n",
       "    .dataframe tbody tr th {\n",
       "        vertical-align: top;\n",
       "    }\n",
       "\n",
       "    .dataframe thead th {\n",
       "        text-align: right;\n",
       "    }\n",
       "</style>\n",
       "<table border=\"1\" class=\"dataframe\">\n",
       "  <thead>\n",
       "    <tr style=\"text-align: right;\">\n",
       "      <th></th>\n",
       "      <th>BoroCode</th>\n",
       "      <th>BoroName</th>\n",
       "      <th>Shape_Leng</th>\n",
       "      <th>Shape_Area</th>\n",
       "      <th>geometry</th>\n",
       "    </tr>\n",
       "  </thead>\n",
       "  <tbody>\n",
       "    <tr>\n",
       "      <th>0</th>\n",
       "      <td>4</td>\n",
       "      <td>Queens</td>\n",
       "      <td>459288.088863</td>\n",
       "      <td>4.962978e+09</td>\n",
       "      <td>POLYGON ((1045438.075 235083.296, 1049675.845 ...</td>\n",
       "    </tr>\n",
       "    <tr>\n",
       "      <th>1</th>\n",
       "      <td>3</td>\n",
       "      <td>Brooklyn</td>\n",
       "      <td>236463.384375</td>\n",
       "      <td>2.697625e+09</td>\n",
       "      <td>POLYGON ((1004421.481 203543.225, 1004612.108 ...</td>\n",
       "    </tr>\n",
       "    <tr>\n",
       "      <th>2</th>\n",
       "      <td>5</td>\n",
       "      <td>Staten Island</td>\n",
       "      <td>220559.462653</td>\n",
       "      <td>2.851606e+09</td>\n",
       "      <td>POLYGON ((968762.067 175987.749, 968654.251 17...</td>\n",
       "    </tr>\n",
       "    <tr>\n",
       "      <th>3</th>\n",
       "      <td>1</td>\n",
       "      <td>Manhattan</td>\n",
       "      <td>203743.107953</td>\n",
       "      <td>9.443058e+08</td>\n",
       "      <td>MULTIPOLYGON (((972081.788 190733.467, 972184....</td>\n",
       "    </tr>\n",
       "  </tbody>\n",
       "</table>\n",
       "</div>"
      ],
      "text/plain": [
       "   BoroCode       BoroName     Shape_Leng    Shape_Area  \\\n",
       "0         4         Queens  459288.088863  4.962978e+09   \n",
       "1         3       Brooklyn  236463.384375  2.697625e+09   \n",
       "2         5  Staten Island  220559.462653  2.851606e+09   \n",
       "3         1      Manhattan  203743.107953  9.443058e+08   \n",
       "\n",
       "                                            geometry  \n",
       "0  POLYGON ((1045438.075 235083.296, 1049675.845 ...  \n",
       "1  POLYGON ((1004421.481 203543.225, 1004612.108 ...  \n",
       "2  POLYGON ((968762.067 175987.749, 968654.251 17...  \n",
       "3  MULTIPOLYGON (((972081.788 190733.467, 972184....  "
      ]
     },
     "execution_count": 9,
     "metadata": {},
     "output_type": "execute_result"
    }
   ],
   "source": [
    "# standard loading\n",
    "shape_nyc = load_dataset(\"nyc_boundaries\")\n",
    "print(shape_nyc._info)\n",
    "print(\"\\n\")\n",
    "print(type(shape_nyc))\n",
    "shape_nyc[:4]"
   ]
  },
  {
   "cell_type": "markdown",
   "id": "4df46af4",
   "metadata": {},
   "source": [
    "#### Auxiliar dataset"
   ]
  },
  {
   "cell_type": "code",
   "execution_count": 10,
   "id": "ad5635be",
   "metadata": {},
   "outputs": [
    {
     "name": "stderr",
     "output_type": "stream",
     "text": [
      "Downloading data from 'https://data.sfgov.org/api/views/8vzz-qzz9/rows.csv?accessType=DOWNLOAD' to file 'C:\\Users\\giuli\\AppData\\Local\\skmob_data\\skmob_data\\Cache\\4691058e2f6e9f43cf0c984e75e317d6-rows.csv'.\n",
      "SHA256 hash of downloaded file: c794437e48074e86b16e8ddca51a8490313d44d29365160343161f77e86eb273\n",
      "Use this value as the 'known_hash' argument of 'pooch.retrieve' to ensure that the file hasn't changed if it is downloaded again in the future.\n"
     ]
    },
    {
     "name": "stdout",
     "output_type": "stream",
     "text": [
      "{'name': 'ParkingMeteres_SanFrancisco', 'description': 'Parking meters in San Francisco.', 'url': 'https://data.sfgov.org/api/views/8vzz-qzz9/rows.csv?accessType=DOWNLOAD', 'hash': '', 'data_type': 'auxiliar', 'auth': 'no', 'download_format': '', 'sep': ',', 'encoding': 'ISO-8859-1'}\n",
      "\n",
      "\n",
      "<class 'pandas.core.frame.DataFrame'>\n"
     ]
    },
    {
     "name": "stderr",
     "output_type": "stream",
     "text": [
      "C:\\Users\\giuli\\Documents\\GitHub\\forks\\skmob\\data\\load.py:115: UserWarning: Pandas doesn't allow columns to be created via a new attribute name - see https://pandas.pydata.org/pandas-docs/stable/indexing.html#attribute-access\n",
      "  dataset._info = dataset_info\n"
     ]
    },
    {
     "data": {
      "text/html": [
       "<div>\n",
       "<style scoped>\n",
       "    .dataframe tbody tr th:only-of-type {\n",
       "        vertical-align: middle;\n",
       "    }\n",
       "\n",
       "    .dataframe tbody tr th {\n",
       "        vertical-align: top;\n",
       "    }\n",
       "\n",
       "    .dataframe thead th {\n",
       "        text-align: right;\n",
       "    }\n",
       "</style>\n",
       "<table border=\"1\" class=\"dataframe\">\n",
       "  <thead>\n",
       "    <tr style=\"text-align: right;\">\n",
       "      <th></th>\n",
       "      <th>OBJECTID</th>\n",
       "      <th>PARKING_SPACE_ID</th>\n",
       "      <th>POST_ID</th>\n",
       "      <th>MS_PAY_STATION_ID</th>\n",
       "      <th>MS_SPACE_NUM</th>\n",
       "      <th>SENSOR_FLAG</th>\n",
       "      <th>ON_OFFSTREET_TYPE</th>\n",
       "      <th>OSP_ID</th>\n",
       "      <th>JURISDICTION</th>\n",
       "      <th>PM_DISTRICT_ID</th>\n",
       "      <th>...</th>\n",
       "      <th>NFC_KEY</th>\n",
       "      <th>SPT_CODE</th>\n",
       "      <th>COLLECTION_ROUTE_DESC</th>\n",
       "      <th>COLLECTION_SUBROUTE_DESC</th>\n",
       "      <th>shape</th>\n",
       "      <th>Neighborhoods</th>\n",
       "      <th>SF Find Neighborhoods</th>\n",
       "      <th>Current Police Districts</th>\n",
       "      <th>Current Supervisor Districts</th>\n",
       "      <th>Analysis Neighborhoods</th>\n",
       "    </tr>\n",
       "  </thead>\n",
       "  <tbody>\n",
       "    <tr>\n",
       "      <th>0</th>\n",
       "      <td>5228201</td>\n",
       "      <td>101400</td>\n",
       "      <td>500-08020</td>\n",
       "      <td>-</td>\n",
       "      <td>0</td>\n",
       "      <td>N</td>\n",
       "      <td>ON</td>\n",
       "      <td>0.0</td>\n",
       "      <td>SFMTA</td>\n",
       "      <td>12.0</td>\n",
       "      <td>...</td>\n",
       "      <td>6325</td>\n",
       "      <td>NaN</td>\n",
       "      <td>NaN</td>\n",
       "      <td>NaN</td>\n",
       "      <td>POINT (-122.408394 37.79584)</td>\n",
       "      <td>104</td>\n",
       "      <td>104</td>\n",
       "      <td>6</td>\n",
       "      <td>3</td>\n",
       "      <td>6</td>\n",
       "    </tr>\n",
       "    <tr>\n",
       "      <th>1</th>\n",
       "      <td>5228280</td>\n",
       "      <td>102036</td>\n",
       "      <td>419-13290</td>\n",
       "      <td>-</td>\n",
       "      <td>0</td>\n",
       "      <td>N</td>\n",
       "      <td>ON</td>\n",
       "      <td>0.0</td>\n",
       "      <td>SFMTA</td>\n",
       "      <td>15.0</td>\n",
       "      <td>...</td>\n",
       "      <td>9EPC</td>\n",
       "      <td>NaN</td>\n",
       "      <td>Franklin St: Unit - 900</td>\n",
       "      <td>Franklin 1200-1500</td>\n",
       "      <td>POINT (-122.423454 37.7872)</td>\n",
       "      <td>100</td>\n",
       "      <td>100</td>\n",
       "      <td>4</td>\n",
       "      <td>6</td>\n",
       "      <td>39</td>\n",
       "    </tr>\n",
       "    <tr>\n",
       "      <th>2</th>\n",
       "      <td>5229090</td>\n",
       "      <td>109966</td>\n",
       "      <td>671-01050</td>\n",
       "      <td>671-01001</td>\n",
       "      <td>5</td>\n",
       "      <td>Y</td>\n",
       "      <td>ON</td>\n",
       "      <td>0.0</td>\n",
       "      <td>SFMTA</td>\n",
       "      <td>2.0</td>\n",
       "      <td>...</td>\n",
       "      <td>8JGP</td>\n",
       "      <td>NaN</td>\n",
       "      <td>NaN</td>\n",
       "      <td>NaN</td>\n",
       "      <td>POINT (-122.39461 37.780937)</td>\n",
       "      <td>31</td>\n",
       "      <td>31</td>\n",
       "      <td>1</td>\n",
       "      <td>10</td>\n",
       "      <td>8</td>\n",
       "    </tr>\n",
       "    <tr>\n",
       "      <th>3</th>\n",
       "      <td>5229183</td>\n",
       "      <td>104916</td>\n",
       "      <td>606-15400</td>\n",
       "      <td>-</td>\n",
       "      <td>0</td>\n",
       "      <td>N</td>\n",
       "      <td>ON</td>\n",
       "      <td>0.0</td>\n",
       "      <td>SFMTA</td>\n",
       "      <td>15.0</td>\n",
       "      <td>...</td>\n",
       "      <td>6X57</td>\n",
       "      <td>NaN</td>\n",
       "      <td>NaN</td>\n",
       "      <td>NaN</td>\n",
       "      <td>POINT (-122.42171 37.789528)</td>\n",
       "      <td>105</td>\n",
       "      <td>105</td>\n",
       "      <td>4</td>\n",
       "      <td>3</td>\n",
       "      <td>21</td>\n",
       "    </tr>\n",
       "  </tbody>\n",
       "</table>\n",
       "<p>4 rows × 45 columns</p>\n",
       "</div>"
      ],
      "text/plain": [
       "   OBJECTID  PARKING_SPACE_ID    POST_ID MS_PAY_STATION_ID  MS_SPACE_NUM  \\\n",
       "0   5228201            101400  500-08020                 -             0   \n",
       "1   5228280            102036  419-13290                 -             0   \n",
       "2   5229090            109966  671-01050         671-01001             5   \n",
       "3   5229183            104916  606-15400                 -             0   \n",
       "\n",
       "  SENSOR_FLAG ON_OFFSTREET_TYPE  OSP_ID JURISDICTION  PM_DISTRICT_ID  ...  \\\n",
       "0           N                ON     0.0        SFMTA            12.0  ...   \n",
       "1           N                ON     0.0        SFMTA            15.0  ...   \n",
       "2           Y                ON     0.0        SFMTA             2.0  ...   \n",
       "3           N                ON     0.0        SFMTA            15.0  ...   \n",
       "\n",
       "   NFC_KEY SPT_CODE    COLLECTION_ROUTE_DESC COLLECTION_SUBROUTE_DESC  \\\n",
       "0     6325      NaN                      NaN                      NaN   \n",
       "1     9EPC      NaN  Franklin St: Unit - 900       Franklin 1200-1500   \n",
       "2     8JGP      NaN                      NaN                      NaN   \n",
       "3     6X57      NaN                      NaN                      NaN   \n",
       "\n",
       "                          shape Neighborhoods SF Find Neighborhoods  \\\n",
       "0  POINT (-122.408394 37.79584)           104                   104   \n",
       "1   POINT (-122.423454 37.7872)           100                   100   \n",
       "2  POINT (-122.39461 37.780937)            31                    31   \n",
       "3  POINT (-122.42171 37.789528)           105                   105   \n",
       "\n",
       "  Current Police Districts Current Supervisor Districts Analysis Neighborhoods  \n",
       "0                        6                            3                      6  \n",
       "1                        4                            6                     39  \n",
       "2                        1                           10                      8  \n",
       "3                        4                            3                     21  \n",
       "\n",
       "[4 rows x 45 columns]"
      ]
     },
     "execution_count": 10,
     "metadata": {},
     "output_type": "execute_result"
    }
   ],
   "source": [
    "parking_sf = load_dataset(\"parking_san_francisco\")\n",
    "print(parking_sf._info)\n",
    "print(\"\\n\")\n",
    "print(type(parking_sf))\n",
    "parking_sf[:4]"
   ]
  },
  {
   "cell_type": "markdown",
   "id": "69ca395d",
   "metadata": {},
   "source": [
    "#### FlowDataFrame"
   ]
  },
  {
   "cell_type": "code",
   "execution_count": 11,
   "id": "10b01e0f",
   "metadata": {},
   "outputs": [
    {
     "name": "stderr",
     "output_type": "stream",
     "text": [
      "C:\\Users\\giuli\\Anaconda3\\envs\\sk_dev\\lib\\site-packages\\geopandas\\array.py:275: ShapelyDeprecationWarning: The array interface is deprecated and will no longer work in Shapely 2.0. Convert the '.coords' to a numpy array instead.\n",
      "  return GeometryArray(vectorized.points_from_xy(x, y, z), crs=crs)\n",
      "C:\\Users\\giuli\\Anaconda3\\envs\\sk_dev\\lib\\site-packages\\pyproj\\crs\\crs.py:131: FutureWarning: '+init=<authority>:<code>' syntax is deprecated. '<authority>:<code>' is the preferred initialization method. When making the change, be mindful of axis order changes: https://pyproj4.github.io/pyproj/stable/gotchas.html#axis-order-changes-in-proj-6\n",
      "  in_crs_string = _prepare_from_proj_string(in_crs_string)\n",
      "C:\\Users\\giuli\\Documents\\GitHub\\forks\\skmob\\core\\trajectorydataframe.py:322: UserWarning: CRS mismatch between the CRS of left geometries and the CRS of right geometries.\n",
      "Use `to_crs()` to reproject one of the input geometries to match the CRS of the other.\n",
      "\n",
      "Left CRS: +init=epsg:4326 +type=crs\n",
      "Right CRS: EPSG:4326\n",
      "\n",
      "  tile_ids = gpd.sjoin(gdf, tessellation, how=how, op='within')[[constants.TILE_ID]]\n"
     ]
    },
    {
     "name": "stdout",
     "output_type": "stream",
     "text": [
      "{'name': 'Flow_nyc', 'description': 'FlowDataFrame describing the movements of individual (from FourSquare) between tiles of size 4km in New York City.', 'url': 'http://www-public.it-sudparis.eu/~zhang_da/pub/dataset_tsmc2014.zip', 'hash': '', 'data_type': 'flow', 'auth': 'no', 'download_format': 'zip', 'sep': '\\t', 'encoding': 'ISO-8859-1'}\n",
      "\n",
      "\n",
      "<class 'skmob.core.flowdataframe.FlowDataFrame'>\n"
     ]
    },
    {
     "name": "stderr",
     "output_type": "stream",
     "text": [
      "C:\\Users\\giuli\\Documents\\GitHub\\forks\\skmob\\data\\load.py:117: UserWarning: Pandas doesn't allow columns to be created via a new attribute name - see https://pandas.pydata.org/pandas-docs/stable/indexing.html#attribute-access\n",
      "  dataset._info = dataset_info\n"
     ]
    },
    {
     "data": {
      "text/html": [
       "<div>\n",
       "<style scoped>\n",
       "    .dataframe tbody tr th:only-of-type {\n",
       "        vertical-align: middle;\n",
       "    }\n",
       "\n",
       "    .dataframe tbody tr th {\n",
       "        vertical-align: top;\n",
       "    }\n",
       "\n",
       "    .dataframe thead th {\n",
       "        text-align: right;\n",
       "    }\n",
       "</style>\n",
       "<table border=\"1\" class=\"dataframe\">\n",
       "  <thead>\n",
       "    <tr style=\"text-align: right;\">\n",
       "      <th></th>\n",
       "      <th>origin</th>\n",
       "      <th>destination</th>\n",
       "      <th>flow</th>\n",
       "    </tr>\n",
       "  </thead>\n",
       "  <tbody>\n",
       "    <tr>\n",
       "      <th>0</th>\n",
       "      <td>100</td>\n",
       "      <td>100</td>\n",
       "      <td>1648</td>\n",
       "    </tr>\n",
       "    <tr>\n",
       "      <th>1</th>\n",
       "      <td>100</td>\n",
       "      <td>101</td>\n",
       "      <td>8</td>\n",
       "    </tr>\n",
       "    <tr>\n",
       "      <th>2</th>\n",
       "      <td>100</td>\n",
       "      <td>102</td>\n",
       "      <td>5</td>\n",
       "    </tr>\n",
       "    <tr>\n",
       "      <th>3</th>\n",
       "      <td>100</td>\n",
       "      <td>103</td>\n",
       "      <td>2</td>\n",
       "    </tr>\n",
       "  </tbody>\n",
       "</table>\n",
       "</div>"
      ],
      "text/plain": [
       "  origin destination  flow\n",
       "0    100         100  1648\n",
       "1    100         101     8\n",
       "2    100         102     5\n",
       "3    100         103     2"
      ]
     },
     "execution_count": 11,
     "metadata": {},
     "output_type": "execute_result"
    }
   ],
   "source": [
    "fdf_nyc = load_dataset(\"flow_foursquare_nyc\")\n",
    "print(fdf_nyc._info)\n",
    "print(\"\\n\")\n",
    "print(type(fdf_nyc))\n",
    "fdf_nyc[:4]"
   ]
  },
  {
   "cell_type": "markdown",
   "id": "a794980d",
   "metadata": {},
   "source": [
    "### Authentication"
   ]
  },
  {
   "cell_type": "markdown",
   "id": "1c00ad0d",
   "metadata": {},
   "source": [
    "Now the datamodule supports the download of datasets from services that require an authenitcation"
   ]
  },
  {
   "cell_type": "code",
   "execution_count": 12,
   "id": "89bfd33a",
   "metadata": {},
   "outputs": [
    {
     "name": "stderr",
     "output_type": "stream",
     "text": [
      "Downloading data from 'https://crawdad.org//download/epfl/mobility/cabspottingdata.tar.gz' to file 'C:\\Users\\giuli\\AppData\\Local\\skmob_data\\skmob_data\\Cache\\086f6264ef6f417061ba11619a2d188a-cabspottingdata.tar.gz'.\n",
      "SHA256 hash of downloaded file: bfbb8e11c9ba3b02c561ce3b50336a27d665ecbbcf8a778c2bc08d1ace1c5fc2\n",
      "Use this value as the 'known_hash' argument of 'pooch.retrieve' to ensure that the file hasn't changed if it is downloaded again in the future.\n",
      "Untarring contents of 'C:\\Users\\giuli\\AppData\\Local\\skmob_data\\skmob_data\\Cache\\086f6264ef6f417061ba11619a2d188a-cabspottingdata.tar.gz' to 'C:\\Users\\giuli\\AppData\\Local\\skmob_data\\skmob_data\\Cache\\086f6264ef6f417061ba11619a2d188a-cabspottingdata.tar.gz.untar'\n",
      "C:\\Users\\giuli\\Documents\\GitHub\\forks\\skmob\\data\\load.py:111: UserWarning: Pandas doesn't allow columns to be created via a new attribute name - see https://pandas.pydata.org/pandas-docs/stable/indexing.html#attribute-access\n",
      "  dataset._info = dataset_info\n"
     ]
    },
    {
     "data": {
      "text/html": [
       "<div>\n",
       "<style scoped>\n",
       "    .dataframe tbody tr th:only-of-type {\n",
       "        vertical-align: middle;\n",
       "    }\n",
       "\n",
       "    .dataframe tbody tr th {\n",
       "        vertical-align: top;\n",
       "    }\n",
       "\n",
       "    .dataframe thead th {\n",
       "        text-align: right;\n",
       "    }\n",
       "</style>\n",
       "<table border=\"1\" class=\"dataframe\">\n",
       "  <thead>\n",
       "    <tr style=\"text-align: right;\">\n",
       "      <th></th>\n",
       "      <th>lat</th>\n",
       "      <th>lng</th>\n",
       "      <th>occupancy</th>\n",
       "      <th>datetime</th>\n",
       "      <th>uid</th>\n",
       "    </tr>\n",
       "  </thead>\n",
       "  <tbody>\n",
       "    <tr>\n",
       "      <th>0</th>\n",
       "      <td>37.75134</td>\n",
       "      <td>-122.39488</td>\n",
       "      <td>0</td>\n",
       "      <td>2008-06-10 00:58:07</td>\n",
       "      <td>abboip</td>\n",
       "    </tr>\n",
       "    <tr>\n",
       "      <th>1</th>\n",
       "      <td>37.75136</td>\n",
       "      <td>-122.39527</td>\n",
       "      <td>0</td>\n",
       "      <td>2008-06-10 00:57:39</td>\n",
       "      <td>abboip</td>\n",
       "    </tr>\n",
       "    <tr>\n",
       "      <th>2</th>\n",
       "      <td>37.75199</td>\n",
       "      <td>-122.39460</td>\n",
       "      <td>0</td>\n",
       "      <td>2008-06-10 00:55:40</td>\n",
       "      <td>abboip</td>\n",
       "    </tr>\n",
       "    <tr>\n",
       "      <th>3</th>\n",
       "      <td>37.75080</td>\n",
       "      <td>-122.39346</td>\n",
       "      <td>0</td>\n",
       "      <td>2008-06-10 00:54:49</td>\n",
       "      <td>abboip</td>\n",
       "    </tr>\n",
       "  </tbody>\n",
       "</table>\n",
       "</div>"
      ],
      "text/plain": [
       "        lat        lng  occupancy            datetime     uid\n",
       "0  37.75134 -122.39488          0 2008-06-10 00:58:07  abboip\n",
       "1  37.75136 -122.39527          0 2008-06-10 00:57:39  abboip\n",
       "2  37.75199 -122.39460          0 2008-06-10 00:55:40  abboip\n",
       "3  37.75080 -122.39346          0 2008-06-10 00:54:49  abboip"
      ]
     },
     "execution_count": 12,
     "metadata": {},
     "output_type": "execute_result"
    }
   ],
   "source": [
    "tdf_sf = load_dataset(\"taxi_san_francisco\", auth=('cornacchia4843','E483Ts99VLJGGhU'))\n",
    "tdf_sf[:4]"
   ]
  },
  {
   "cell_type": "code",
   "execution_count": 6,
   "id": "be6fe03a",
   "metadata": {},
   "outputs": [
    {
     "ename": "NameError",
     "evalue": "name 'tdf_sf' is not defined",
     "output_type": "error",
     "traceback": [
      "\u001b[1;31m---------------------------------------------------------------------------\u001b[0m",
      "\u001b[1;31mNameError\u001b[0m                                 Traceback (most recent call last)",
      "\u001b[1;32m~\\AppData\\Local\\Temp/ipykernel_23960/311465193.py\u001b[0m in \u001b[0;36m<module>\u001b[1;34m\u001b[0m\n\u001b[1;32m----> 1\u001b[1;33m \u001b[0mtdf_sf\u001b[0m\u001b[1;33m.\u001b[0m\u001b[0m_info\u001b[0m\u001b[1;33m\u001b[0m\u001b[1;33m\u001b[0m\u001b[0m\n\u001b[0m",
      "\u001b[1;31mNameError\u001b[0m: name 'tdf_sf' is not defined"
     ]
    }
   ],
   "source": [
    "tdf_sf._info"
   ]
  },
  {
   "cell_type": "code",
   "execution_count": 4,
   "id": "8c979074",
   "metadata": {},
   "outputs": [
    {
     "ename": "NameError",
     "evalue": "name 'get_dataset_info' is not defined",
     "output_type": "error",
     "traceback": [
      "\u001b[1;31m---------------------------------------------------------------------------\u001b[0m",
      "\u001b[1;31mNameError\u001b[0m                                 Traceback (most recent call last)",
      "\u001b[1;32m~\\AppData\\Local\\Temp/ipykernel_23960/985414634.py\u001b[0m in \u001b[0;36m<module>\u001b[1;34m\u001b[0m\n\u001b[1;32m----> 1\u001b[1;33m \u001b[0mget_dataset_info\u001b[0m\u001b[1;33m(\u001b[0m\u001b[1;34m\"Taxi_SanFrancisco\"\u001b[0m\u001b[1;33m)\u001b[0m\u001b[1;33m\u001b[0m\u001b[1;33m\u001b[0m\u001b[0m\n\u001b[0m",
      "\u001b[1;31mNameError\u001b[0m: name 'get_dataset_info' is not defined"
     ]
    }
   ],
   "source": [
    "get_dataset_info(\"Taxi_SanFrancisco\")"
   ]
  },
  {
   "cell_type": "code",
   "execution_count": null,
   "id": "204743d5",
   "metadata": {},
   "outputs": [],
   "source": []
  }
 ],
 "metadata": {
  "kernelspec": {
   "display_name": "Python 3 (ipykernel)",
   "language": "python",
   "name": "python3"
  },
  "language_info": {
   "codemirror_mode": {
    "name": "ipython",
    "version": 3
   },
   "file_extension": ".py",
   "mimetype": "text/x-python",
   "name": "python",
   "nbconvert_exporter": "python",
   "pygments_lexer": "ipython3",
   "version": "3.9.7"
  }
 },
 "nbformat": 4,
 "nbformat_minor": 5
}
