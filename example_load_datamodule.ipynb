{
 "cells": [
  {
   "cell_type": "code",
   "execution_count": 1,
   "id": "b385cf51",
   "metadata": {},
   "outputs": [],
   "source": [
    "import skmob\n",
    "import importlib\n",
    "from datetime import timedelta\n",
    "from datetime import datetime\n",
    "from skmob.data.load import load_dataset, list_datasets"
   ]
  },
  {
   "cell_type": "markdown",
   "id": "d4310cae",
   "metadata": {},
   "source": [
    "### Features\n",
    "\n",
    "- list_datasets()\n",
    "- load_dataset()\n"
   ]
  },
  {
   "cell_type": "markdown",
   "id": "fc18d307",
   "metadata": {},
   "source": [
    "### list_datasets()\n",
    "\n",
    "List all the names of the datasets available in the data module of scikit-mobility.\n",
    " \n",
    "The optional boolean argument ``details`` specify whether or not to return the full details on the datasets instead of only the short name."
   ]
  },
  {
   "cell_type": "code",
   "execution_count": null,
   "id": "f8f9faef",
   "metadata": {},
   "outputs": [],
   "source": [
    "#list all the datasets without details\n",
    "print(list_datasets())"
   ]
  },
  {
   "cell_type": "code",
   "execution_count": null,
   "id": "b8f29b56",
   "metadata": {},
   "outputs": [],
   "source": [
    "#list all the datasets with details\n",
    "print(list_datasets(details=True))"
   ]
  },
  {
   "cell_type": "code",
   "execution_count": null,
   "id": "c952adc3",
   "metadata": {},
   "outputs": [],
   "source": [
    "#list all the datasets of type shape with details\n",
    "print(list_datasets(data_types='flow', details=True))"
   ]
  },
  {
   "cell_type": "code",
   "execution_count": null,
   "id": "2ebb47c8",
   "metadata": {},
   "outputs": [],
   "source": [
    "#list all the datasets of type trajectory AND shape with details\n",
    "print(list_datasets(data_types=['trajectory', 'shape'], details=True))"
   ]
  },
  {
   "cell_type": "markdown",
   "id": "c72c3653",
   "metadata": {},
   "source": [
    "### load_dataset()"
   ]
  },
  {
   "cell_type": "markdown",
   "id": "32e8008c",
   "metadata": {},
   "source": [
    "#### TrajDataFrame"
   ]
  },
  {
   "cell_type": "code",
   "execution_count": null,
   "id": "764591eb",
   "metadata": {},
   "outputs": [],
   "source": [
    "# standard loading\n",
    "tdf_nyc = load_dataset(\"foursquare_nyc\")\n",
    "print(tdf_nyc._info)\n",
    "print(\"\\n\")\n",
    "print(type(tdf_nyc))\n",
    "tdf_nyc[:4]"
   ]
  },
  {
   "cell_type": "markdown",
   "id": "f8a172ab",
   "metadata": {},
   "source": [
    "#### Shape"
   ]
  },
  {
   "cell_type": "code",
   "execution_count": null,
   "id": "7d252ae7",
   "metadata": {},
   "outputs": [],
   "source": [
    "# standard loading\n",
    "shape_nyc = load_dataset(\"nyc_boundaries\")\n",
    "print(shape_nyc._info)\n",
    "print(\"\\n\")\n",
    "print(type(shape_nyc))\n",
    "shape_nyc[:4]"
   ]
  },
  {
   "cell_type": "markdown",
   "id": "4df46af4",
   "metadata": {},
   "source": [
    "#### Auxiliar dataset"
   ]
  },
  {
   "cell_type": "code",
   "execution_count": null,
   "id": "ad5635be",
   "metadata": {},
   "outputs": [],
   "source": [
    "parking_sf = load_dataset(\"parking_san_francisco\")\n",
    "print(parking_sf._info)\n",
    "print(\"\\n\")\n",
    "print(type(parking_sf))\n",
    "parking_sf[:4]"
   ]
  },
  {
   "cell_type": "markdown",
   "id": "69ca395d",
   "metadata": {},
   "source": [
    "#### FlowDataFrame"
   ]
  },
  {
   "cell_type": "code",
   "execution_count": null,
   "id": "10b01e0f",
   "metadata": {},
   "outputs": [],
   "source": [
    "fdf_nyc = load_dataset(\"flow_foursquare_nyc\")\n",
    "print(fdf_nyc.info)\n",
    "print(\"\\n\")\n",
    "print(type(fdf_nyc))\n",
    "fdf_nyc[:4]"
   ]
  },
  {
   "cell_type": "code",
   "execution_count": null,
   "id": "6bd55fde",
   "metadata": {},
   "outputs": [],
   "source": [
    "fdf_nyc._info"
   ]
  },
  {
   "cell_type": "markdown",
   "id": "a794980d",
   "metadata": {},
   "source": [
    "### Authentication"
   ]
  },
  {
   "cell_type": "markdown",
   "id": "1c00ad0d",
   "metadata": {},
   "source": [
    "Now the datamodule supports the download of datasets from services that require an authenitcation"
   ]
  },
  {
   "cell_type": "code",
   "execution_count": null,
   "id": "89bfd33a",
   "metadata": {},
   "outputs": [],
   "source": [
    "tdf_sf = load_dataset(\"taxi_san_francisco\", auth=('',''))\n",
    "tdf_sf[:4]"
   ]
  },
  {
   "cell_type": "code",
   "execution_count": null,
   "id": "be6fe03a",
   "metadata": {},
   "outputs": [],
   "source": [
    "tdf_sf._info"
   ]
  },
  {
   "cell_type": "code",
   "execution_count": null,
   "id": "95a55ed8",
   "metadata": {},
   "outputs": [],
   "source": []
  }
 ],
 "metadata": {
  "kernelspec": {
   "display_name": "Python 3 (ipykernel)",
   "language": "python",
   "name": "python3"
  },
  "language_info": {
   "codemirror_mode": {
    "name": "ipython",
    "version": 3
   },
   "file_extension": ".py",
   "mimetype": "text/x-python",
   "name": "python",
   "nbconvert_exporter": "python",
   "pygments_lexer": "ipython3",
   "version": "3.9.7"
  }
 },
 "nbformat": 4,
 "nbformat_minor": 5
}
