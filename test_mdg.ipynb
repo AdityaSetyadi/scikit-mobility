{
 "cells": [
  {
   "cell_type": "code",
   "execution_count": 1,
   "metadata": {},
   "outputs": [],
   "source": [
    "import skmob\n",
    "from skmob.models.sts_epr import STS_epr\n",
    "from skmob.models.epr import Ditras\n",
    "import pandas as pd\n",
    "import dill\n",
    "import pickle\n",
    "from skmob.preprocessing import clustering\n",
    "from skmob.models.epr import Ditras\n",
    "from skmob.models.markov_diary_generator import MarkovDiaryGenerator"
   ]
  },
  {
   "cell_type": "code",
   "execution_count": 2,
   "metadata": {},
   "outputs": [],
   "source": [
    "df_real = pd.read_csv(\"./NewYork_trajectories_final.csv\", sep=\"\\t\")\n",
    "\n",
    "tdf_real = skmob.TrajDataFrame(df_real, latitude='lat', longitude='lon',\n",
    "                                               user_id='uid', datetime='datetime')\n",
    "\n",
    "tdf_real[:5]\n",
    "\n",
    "ctdf_real = clustering.cluster(tdf_real)\n",
    "\n",
    "start_time = pd.to_datetime('2019/01/01 08:00:00')"
   ]
  },
  {
   "cell_type": "code",
   "execution_count": 3,
   "metadata": {},
   "outputs": [
    {
     "name": "stderr",
     "output_type": "stream",
     "text": [
      "100%|██████████████████████████████████████████████████████████████████████████████████| 10/10 [00:01<00:00,  9.58it/s]\n"
     ]
    }
   ],
   "source": [
    "mdg = MarkovDiaryGenerator()\n",
    "mdg.fit(ctdf_real, 10, lid='cluster')"
   ]
  },
  {
   "cell_type": "markdown",
   "metadata": {},
   "source": [
    "### TEST with SEED"
   ]
  },
  {
   "cell_type": "code",
   "execution_count": 4,
   "metadata": {},
   "outputs": [],
   "source": [
    "x = mdg.generate(100, start_time, random_state=42)\n",
    "\n",
    "for i in range(1999):\n",
    "    y = mdg.generate(100, start_time, random_state=42)\n",
    "    assert x.equals(y)"
   ]
  },
  {
   "cell_type": "markdown",
   "metadata": {},
   "source": [
    "### FIX THE REPRODUCIBILITY of the models"
   ]
  },
  {
   "cell_type": "code",
   "execution_count": 5,
   "metadata": {},
   "outputs": [],
   "source": [
    "start = pd.to_datetime('2012/04/10 00:00:00')\n",
    "end = pd.to_datetime('2012/04/20 00:00:00')\n",
    "\n",
    "social_graph_filename = './NewYork_social_graph_final.csv'\n",
    "diary_filename = './diary_NewYork.pickle'\n",
    "\n",
    "#load the social graph and build an edge list representation\n",
    "edges = []\n",
    "social_graph_real = pd.read_csv(social_graph_filename, sep='\\t')\n",
    "social_graph_real.apply(lambda row: edges.append((row['Source'],row['Target'])),axis=1);\n",
    "social_graph = edges\n",
    "\n",
    "#load the Mobility Diary Generator\n",
    "diary = dill.load(open(diary_filename, 'rb'))\n",
    "\n",
    "tex = pickle.load(open('./tex_NewYork_sq_300.pickle','rb'))\n",
    "tex = tex[:50]"
   ]
  },
  {
   "cell_type": "markdown",
   "metadata": {},
   "source": [
    "### STS-EPR"
   ]
  },
  {
   "cell_type": "markdown",
   "metadata": {},
   "source": [
    "#### seed correction"
   ]
  },
  {
   "cell_type": "code",
   "execution_count": 6,
   "metadata": {},
   "outputs": [
    {
     "name": "stderr",
     "output_type": "stream",
     "text": [
      "100%|████████████████████████████████████████████████████████████████████████████████| 240/240 [00:07<00:00, 31.53it/s]\n"
     ]
    }
   ],
   "source": [
    "sts_epr = STS_epr()\n",
    "rand_seed = 42\n",
    "no_seed_1 = sts_epr.generate(start, end, social_graph=social_graph,\n",
    "                                        spatial_tessellation=tex, rsl = True, \n",
    "                            diary_generator=diary,  relevance_column='relevance',\n",
    "                                        random_state=rand_seed, show_progress=True)"
   ]
  },
  {
   "cell_type": "code",
   "execution_count": 7,
   "metadata": {},
   "outputs": [
    {
     "name": "stderr",
     "output_type": "stream",
     "text": [
      "100%|████████████████████████████████████████████████████████████████████████████████| 240/240 [00:07<00:00, 32.82it/s]\n"
     ]
    }
   ],
   "source": [
    "sts_epr = STS_epr()\n",
    "rand_seed = 42\n",
    "no_seed_2 = sts_epr.generate(start, end, social_graph=social_graph,\n",
    "                                        spatial_tessellation=tex, rsl = True, \n",
    "                            diary_generator=diary,  relevance_column='relevance',\n",
    "                                        random_state=rand_seed, show_progress=True)"
   ]
  },
  {
   "cell_type": "code",
   "execution_count": 8,
   "metadata": {},
   "outputs": [
    {
     "data": {
      "text/plain": [
       "True"
      ]
     },
     "execution_count": 8,
     "metadata": {},
     "output_type": "execute_result"
    }
   ],
   "source": [
    "no_seed_1.equals(no_seed_2)"
   ]
  },
  {
   "cell_type": "markdown",
   "metadata": {},
   "source": [
    "### DITRAS"
   ]
  },
  {
   "cell_type": "code",
   "execution_count": 9,
   "metadata": {},
   "outputs": [
    {
     "name": "stderr",
     "output_type": "stream",
     "text": [
      "  0%|                                                                                          | 0/100 [00:00<?, ?it/s]C:\\Users\\giuli\\Documents\\GitHub\\scikit-mobility\\skmob\\models\\gravity.py:43: RuntimeWarning: divide by zero encountered in power\n",
      "  return np.power(x, exponent)\n",
      "100%|███████████████████████████████████████████████████████████████████████████████| 100/100 [00:00<00:00, 206.02it/s]\n"
     ]
    }
   ],
   "source": [
    "ditras = Ditras(diary)\n",
    "ditras_no_seed_1 = ditras.generate(start, end, tex, n_agents=100, show_progress=True,\n",
    "                         relevance_column='relevance',random_state=rand_seed)"
   ]
  },
  {
   "cell_type": "code",
   "execution_count": 10,
   "metadata": {},
   "outputs": [
    {
     "name": "stderr",
     "output_type": "stream",
     "text": [
      "  0%|                                                                                          | 0/100 [00:00<?, ?it/s]C:\\Users\\giuli\\Documents\\GitHub\\scikit-mobility\\skmob\\models\\gravity.py:43: RuntimeWarning: divide by zero encountered in power\n",
      "  return np.power(x, exponent)\n",
      "100%|███████████████████████████████████████████████████████████████████████████████| 100/100 [00:00<00:00, 201.83it/s]\n"
     ]
    }
   ],
   "source": [
    "ditras = Ditras(diary)\n",
    "ditras_no_seed_2 = ditras.generate(start, end, tex, n_agents=100, show_progress=True,\n",
    "                         relevance_column='relevance',random_state=rand_seed)"
   ]
  },
  {
   "cell_type": "code",
   "execution_count": 11,
   "metadata": {},
   "outputs": [
    {
     "data": {
      "text/plain": [
       "True"
      ]
     },
     "execution_count": 11,
     "metadata": {},
     "output_type": "execute_result"
    }
   ],
   "source": [
    "ditras_no_seed_1.equals(ditras_no_seed_2)"
   ]
  },
  {
   "cell_type": "code",
   "execution_count": null,
   "metadata": {},
   "outputs": [],
   "source": []
  }
 ],
 "metadata": {
  "kernelspec": {
   "display_name": "Python 3",
   "language": "python",
   "name": "python3"
  },
  "language_info": {
   "codemirror_mode": {
    "name": "ipython",
    "version": 3
   },
   "file_extension": ".py",
   "mimetype": "text/x-python",
   "name": "python",
   "nbconvert_exporter": "python",
   "pygments_lexer": "ipython3",
   "version": "3.7.9"
  }
 },
 "nbformat": 4,
 "nbformat_minor": 4
}
